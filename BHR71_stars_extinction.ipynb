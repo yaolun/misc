{
 "cells": [
  {
   "cell_type": "code",
   "execution_count": 1,
   "metadata": {
    "collapsed": false
   },
   "outputs": [
    {
     "name": "stderr",
     "output_type": "stream",
     "text": [
      "/Users/yaolun/anaconda/lib/python2.7/site-packages/matplotlib/font_manager.py:273: UserWarning: Matplotlib is building the font cache using fc-list. This may take a moment.\n",
      "  warnings.warn('Matplotlib is building the font cache using fc-list. This may take a moment.')\n"
     ]
    }
   ],
   "source": [
    "%matplotlib inline\n",
    "import numpy as np\n",
    "import matplotlib.pyplot as plt\n",
    "import matplotlib as mpl\n",
    "import seaborn as sns\n",
    "from astropy.io import ascii"
   ]
  },
  {
   "cell_type": "code",
   "execution_count": 4,
   "metadata": {
    "collapsed": true
   },
   "outputs": [],
   "source": [
    "data = ascii.read('/Users/yaolun/bhr71/data/BHR71_queue_SEIP.tbl')"
   ]
  },
  {
   "cell_type": "code",
   "execution_count": 6,
   "metadata": {
    "collapsed": false
   },
   "outputs": [
    {
     "name": "stdout",
     "output_type": "stream",
     "text": [
      "['objid', 'crowded', 'badbkgmatch', 'ra', 'dec', 'l', 'b', 'nmatches', 'nreject', 'nbands', 'i1_fluxtype', 'i2_fluxtype', 'i3_fluxtype', 'i4_fluxtype', 'm1_fluxtype', 'i1_fluxflag', 'i2_fluxflag', 'i3_fluxflag', 'i4_fluxflag', 'm1_fluxflag', 'i1_softsatflag', 'i2_softsatflag', 'i3_softsatflag', 'i4_softsatflag', 'i1_f_ap1', 'i1_df_ap1', 'i1_f_ap2', 'i1_df_ap2', 'i1_f_ap1_bf', 'i1_df_ap1_bf', 'i1_f_ap2_bf', 'i1_df_ap2_bf', 'i1_f_ap1_3siglim', 'i1_f_ap2_3siglim', 'i2_f_ap1', 'i2_df_ap1', 'i2_f_ap2', 'i2_df_ap2', 'i2_f_ap1_bf', 'i2_df_ap1_bf', 'i2_f_ap2_bf', 'i2_df_ap2_bf', 'i2_f_ap1_3siglim', 'i2_f_ap2_3siglim', 'i3_f_ap1', 'i3_df_ap1', 'i3_f_ap2', 'i3_df_ap2', 'i3_f_ap1_bf', 'i3_df_ap1_bf', 'i3_f_ap2_bf', 'i3_df_ap2_bf', 'i3_f_ap1_3siglim', 'i3_f_ap2_3siglim', 'i4_f_ap1', 'i4_df_ap1', 'i4_f_ap2', 'i4_df_ap2', 'i4_f_ap1_bf', 'i4_df_ap1_bf', 'i4_f_ap2_bf', 'i4_df_ap2_bf', 'i4_f_ap1_3siglim', 'i4_f_ap2_3siglim', 'm1_f_psf', 'm1_df_psf', 'm1_f_ap', 'm1_df_ap', 'm1_f_psf_bf', 'm1_df_psf_bf', 'm1_f_ap_bf', 'm1_df_ap_bf', 'm1_f_psf_3siglim', 'm1_f_ap_3siglim', 'i1_extfrac', 'i2_extfrac', 'i3_extfrac', 'i4_extfrac', 'm1_extfrac', 'i1_brtfrac', 'i2_brtfrac', 'i3_brtfrac', 'i4_brtfrac', 'm1_brtfrac', 'i1_snr', 'i2_snr', 'i3_snr', 'i4_snr', 'm1_snr', 'i1_seflags', 'i2_seflags', 'i3_seflags', 'i4_seflags', 'm1_dflag', 'm1_sflag', 'i1_meannoise', 'i2_meannoise', 'i3_meannoise', 'i4_meannoise', 'm1_meannoise', 'smid', 'regid', 'irac_obstype', 'mips_obstype', 'i1_coverage', 'i2_coverage', 'i3_coverage', 'i4_coverage', 'm1_coverage', 'twomass_key', 'twomass_assoc', 'twomass_ra', 'twomass_dec', 'j', 'dj', 'h', 'dh', 'k', 'dk', 'wise_ra', 'wise_dec', 'wise1', 'dwise1', 'wise2', 'dwise2', 'wise3', 'dwise3', 'wise4', 'dwise4', 'wise_cc_flags', 'wise_ext_flg', 'wise_var_flg', 'wise_ph_qual', 'wise_det_bit', 'wise1rchi2', 'wise1m', 'wise1nm', 'wise2rchi2', 'wise2m', 'wise2nm', 'wise3rchi2', 'wise3m', 'wise3nm', 'wise4rchi2', 'wise4m', 'wise4nm']\n"
     ]
    }
   ],
   "source": [
    "print data.colnames"
   ]
  },
  {
   "cell_type": "markdown",
   "metadata": {},
   "source": [
    "## Location around BHR71"
   ]
  },
  {
   "cell_type": "code",
   "execution_count": 13,
   "metadata": {
    "collapsed": false
   },
   "outputs": [
    {
     "data": {
      "text/plain": [
       "[<matplotlib.lines.Line2D at 0x115e9a6d0>]"
      ]
     },
     "execution_count": 5,
     "metadata": {},
     "output_type": "execute_result"
    },
    {
     "data": {
      "image/png": "[encoded data removed]",
      "text/plain": [
       "<matplotlib.figure.Figure at 0x115e9a710>"
      ]
     },
     "metadata": {},
     "output_type": "display_data"
    }
   ],
   "source": [
    "# Coordinates of BHR71:\n",
    "ra_cen  = 180.403375\n",
    "dec_cen = -65.14700556\n",
    "plt.plot(data['ra'], data['dec'],'o',mec='None', color='b')\n",
    "plt.plot(ra_cen, dec_cen, 's', mec='None', color='r')"
   ]
  },
  {
   "cell_type": "markdown",
   "metadata": {},
   "source": [
    "To retain only the most robust flux densities, apply the following cuts:\n",
    "1. Make a SNR cut. Each source has 5 columns ending in “fluxtype”, four for each of the IRAC\n",
    "channels and one for MIPS-24. Flux densities with SNR>=3 for IRAC and >=10 for MIPS1 have\n",
    "*fluxtype=1.\n",
    "2. Eliminate IRAC flux densities that may be affected by a nearby saturated source or a nearby\n",
    "extended source. There are four “fluxflag” columns, one for each IRAC channel. Choose\n",
    "*fluxflag=0.\n",
    "3. Eliminate MIPS flux densities that may be affected by a nearby saturated source or a nearby\n",
    "extended source by choosing m1_brtfrac<0.5 and m1_extfrac<0.5.\n",
    "4. Remove IRAC flux densities affected by soft saturation. There are four *softsatflag columns,\n",
    "one for each IRAC channel. Choose *softsatflag=0.\n",
    "5. As long as you have filtered by *fluxtype = 1 (item #1 above), then you can use the following\n",
    "rules. For IRAC, use the 3.8 arcsec diameter aperture flux densities and the associated\n",
    "uncertainties (columns *f_ap1). For MIPS, use the PSF flux density and the associated\n",
    "uncertainties (m1_f_psf)."
   ]
  },
  {
   "cell_type": "markdown",
   "metadata": {},
   "source": [
    "## Color analysis"
   ]
  },
  {
   "cell_type": "code",
   "execution_count": 42,
   "metadata": {
    "collapsed": false
   },
   "outputs": [
    {
     "data": {
      "image/png": "[encoded data removed]",
      "text/plain": [
       "<matplotlib.figure.Figure at 0x119662790>"
      ]
     },
     "metadata": {},
     "output_type": "display_data"
    }
   ],
   "source": [
    "# source selection\n",
    "# fluxflag doesn't work here.  If applied, only two/zero sources would be selected.\n",
    "selector = (data['i1_fluxtype'] == 1) & (data['i1_softsatflag'] == 0) & \\\n",
    "           (data['i2_fluxtype'] == 1) & (data['i2_softsatflag'] == 0)\n",
    "# IRAC1 - IRAC2\n",
    "irac_color = data['i1_f_ap1'][selector] - data['i2_f_ap2'][selector]\n",
    "\n",
    "cmap = plt.cm.cool\n",
    "norm = mpl.colors.Normalize(vmin=irac_color.min(),vmax=irac_color.max())\n",
    "\n",
    "# Coordinates of BHR71:\n",
    "ra_cen  = 180.403375\n",
    "dec_cen = -65.14700556\n",
    "plt.plot(ra_cen, dec_cen, 's', mec='None', color='r')\n",
    "\n",
    "sc = plt.scatter(data['ra'][selector], data['dec'][selector], c=irac_color,\n",
    "            marker='o', s=20, edgecolor='None', vmin=irac_color.min(), vmax=irac_color.max(),\n",
    "            cmap=plt.cm.cool)\n",
    "plt.colorbar(sc)\n",
    "plt.xlim([180.36,180.44])\n",
    "plt.ylim([-65.15,-65.14])\n",
    "plt.axes().set_aspect('equal', 'datalim')"
   ]
  },
  {
   "cell_type": "code",
   "execution_count": null,
   "metadata": {
    "collapsed": true
   },
   "outputs": [],
   "source": [
    "# source selection\n",
    "# fluxflag doesn't work here.  If applied, only two/zero sources would be selected.\n",
    "selector = (data['i1_fluxtype'] == 1) & (data['i1_softsatflag'] == 0) & \\\n",
    "           (data['i2_fluxtype'] == 1) & (data['i2_softsatflag'] == 0)"
   ]
  }
 ],
 "metadata": {
  "anaconda-cloud": {},
  "kernelspec": {
   "display_name": "Python 2",
   "language": "python",
   "name": "python2"
  },
  "language_info": {
   "codemirror_mode": {
    "name": "ipython",
    "version": 2
   },
   "file_extension": ".py",
   "mimetype": "text/x-python",
   "name": "python",
   "nbconvert_exporter": "python",
   "pygments_lexer": "ipython2",
   "version": "2.7.11"
  }
 },
 "nbformat": 4,
 "nbformat_minor": 2
}
