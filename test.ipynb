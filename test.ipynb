{
 "metadata": {
  "name": "",
  "signature": "sha256:70c9e9e412c1f18a55505d91aeb40dad89c67530c14e3b326009583a3218f2ee"
 },
 "nbformat": 3,
 "nbformat_minor": 0,
 "worksheets": [
  {
   "cells": [
    {
     "cell_type": "code",
     "collapsed": false,
     "input": [],
     "language": "python",
     "metadata": {},
     "outputs": []
    }
   ],
   "metadata": {}
  }
 ]
}