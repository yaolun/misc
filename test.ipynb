{
 "cells": [
  {
   "cell_type": "code",
   "execution_count": 2,
   "metadata": {
    "collapsed": true
   },
   "outputs": [],
   "source": [
    "%matplotlib inline"
   ]
  },
  {
   "cell_type": "code",
   "execution_count": 14,
   "metadata": {
    "collapsed": false
   },
   "outputs": [],
   "source": [
    "import sys\n",
    "sys.path.append('/Users/yaolun/programs/misc/hyperion/')\n",
    "sys.path.append('/Users/yaolun/programs/spectra_analysis/')\n",
    "from phot_filter import phot_filter\n",
    "from get_bhr71_obs import get_bhr71_obs\n",
    "from scipy.interpolate import interp1d\n",
    "import numpy as np\n",
    "import matplotlib.pyplot as plt\n",
    "import astropy.constants as const\n",
    "\n",
    "# constants setup\n",
    "c = const.c.cgs.value"
   ]
  },
  {
   "cell_type": "code",
   "execution_count": 15,
   "metadata": {
    "collapsed": true
   },
   "outputs": [],
   "source": [
    "wl_aper = [70., 100., 160., 250., 350., 500.]"
   ]
  },
  {
   "cell_type": "code",
   "execution_count": 21,
   "metadata": {
    "collapsed": false
   },
   "outputs": [],
   "source": [
    "obs = '/Users/yaolun/bhr71/obs_for_radmc/'\n",
    "bhr71 = get_bhr71_obs(obs)\n",
    "wave_obs, flux_obs, sed_obs_noise = bhr71['spec']\n",
    "\n",
    "# add IRAC1 and IRAC2 photometry data\n",
    "wave_obs = np.hstack((wave_obs, bhr71['phot'][0][0:2]))\n",
    "flux_obs = np.hstack((flux_obs, bhr71['phot'][1][0:2]))\n",
    "sed_obs_noise = np.hstack((sed_obs_noise, bhr71['phot'][2][0:2]))\n",
    "# wave_obs = wave_obs[wave_obs > 50]\n",
    "# flux_obs = flux_obs[wave_obs > 50]\n",
    "sed_obs = c/(wave_obs*1e-4)*flux_obs*1e-23\n",
    "sed_obs_noise = c/(wave_obs*1e-4)*sed_obs_noise*1e-23\n",
    "# print sed_obs_noise\n",
    "obs_aper_sed = np.empty_like(wl_aper)\n",
    "obs_aper_sed_noise = np.empty_like(wl_aper)\n",
    "\n",
    "# sort the wavelength\n",
    "sed_obs = sed_obs[np.argsort(wave_obs)]\n",
    "sed_obs_noise = sed_obs_noise[np.argsort(wave_obs)]\n",
    "wave_obs = wave_obs[np.argsort(wave_obs)]\n",
    "\n",
    "# calculate the spectrophotometry\n",
    "for i in range(0, len(wl_aper)):\n",
    "    # apply the filter function\n",
    "    # decide the filter name\n",
    "    if wl_aper[i] == 70:\n",
    "        fil_name = 'Herschel PACS 70um'\n",
    "    elif wl_aper[i] == 100:\n",
    "        fil_name = 'Herschel PACS 100um'\n",
    "    elif wl_aper[i] == 160:\n",
    "        fil_name = 'Herschel PACS 160um'\n",
    "    elif wl_aper[i] == 250:\n",
    "        fil_name = 'Herschel SPIRE 250um'\n",
    "    elif wl_aper[i] == 350:\n",
    "        fil_name = 'Herschel SPIRE 350um'\n",
    "    elif wl_aper[i] == 500:\n",
    "        fil_name = 'Herschel SPIRE 500um'\n",
    "    elif wl_aper[i] == 3.6:\n",
    "        fil_name = 'IRAC Channel 1'\n",
    "    elif wl_aper[i] == 4.5:\n",
    "        fil_name = 'IRAC Channel 2'\n",
    "    elif wl_aper[i] == 5.8:\n",
    "        fil_name = 'IRAC Channel 3'\n",
    "    elif wl_aper[i] == 8.0:\n",
    "        fil_name = 'IRAC Channel 4'\n",
    "    elif wl_aper[i] == 24:\n",
    "        fil_name = 'MIPS 24um'\n",
    "    # elif wl_aper[i] == 850:\n",
    "    #     fil_name = 'SCUBA 850WB'\n",
    "    # do not have SCUBA spectra\n",
    "    else:\n",
    "        fil_name = None\n",
    "\n",
    "    if fil_name != None:\n",
    "        filter_func = phot_filter(fil_name)\n",
    "        # Observed SED needs to be trimmed before applying photometry filters\n",
    "        filter_func = filter_func[(filter_func['wave']/1e4 >= min(wave_obs))*\\\n",
    "                                  ((filter_func['wave']/1e4 >= 54.8)+(filter_func['wave']/1e4 <= 36.0853))*\\\n",
    "                                  ((filter_func['wave']/1e4 <= 95.05)+(filter_func['wave']/1e4 >=103))*\\\n",
    "                                  ((filter_func['wave']/1e4 <= 190.31)+(filter_func['wave']/1e4 >= 195))*\\\n",
    "                                  (filter_func['wave']/1e4 <= max(wave_obs))]\n",
    "        f = interp1d(wave_obs, sed_obs)\n",
    "        f_unc = interp1d(wave_obs, sed_obs_noise)\n",
    "        obs_aper_sed[i] = np.trapz(filter_func['wave']/1e4, f(filter_func['wave']/1e4)*filter_func['transmission'])/np.trapz(filter_func['wave']/1e4, filter_func['transmission'])\n",
    "        obs_aper_sed_noise[i] = abs(np.trapz((filter_func['wave']/1e4)**2, (f_unc(filter_func['wave']/1e4)*filter_func['transmission'])**2))**0.5 / abs(np.trapz(filter_func['wave']/1e4, filter_func['transmission']))\n",
    "    else:\n",
    "        # use a rectangle function the average the simulated SED\n",
    "        # apply the spectral resolution\n",
    "        if (wl_aper[i] < 50.) & (wl_aper[i] >= 5):\n",
    "            res = 60.\n",
    "        elif wl_aper[i] < 5:\n",
    "            res = 10.\n",
    "        else:\n",
    "            res = 1000.\n",
    "        ind = np.where((wave_obs < wl_aper[i]*(1+1./res)) & (wave_obs > wl_aper[i]*(1-1./res)))\n",
    "        if len(ind[0]) != 0:\n",
    "            obs_aper_sed[i] = np.mean(sed_obs[ind])\n",
    "            obs_aper_sed_noise[i] = np.mean(sed_obs_noise[ind])\n",
    "        else:\n",
    "            f = interp1d(wave_obs, sed_obs)\n",
    "            f_unc = interp1d(wave_obs, sed_obs_noise)\n",
    "            obs_aper_sed[i] = f(wl_aper[i])\n",
    "            obs_aper_sed_noise[i] = f_unc(wl_aper[i])"
   ]
  },
  {
   "cell_type": "code",
   "execution_count": 26,
   "metadata": {
    "collapsed": false
   },
   "outputs": [],
   "source": [
    "# convert Jy to erg/s/cm2 (photometry)\n",
    "sed_phot = c/(bhr71['phot'][0]*1e-4)*bhr71['phot'][1]*1e-23\n",
    "sed_phot_noise = c/(bhr71['phot'][0]*1e-4)*bhr71['phot'][2]*1e-23"
   ]
  },
  {
   "cell_type": "code",
   "execution_count": 38,
   "metadata": {
    "collapsed": false
   },
   "outputs": [
    {
     "name": "stdout",
     "output_type": "stream",
     "text": [
      "(6,)\n",
      "(15,)\n"
     ]
    }
   ],
   "source": [
    "print np.shape(bhr71['phot'][0][-6:])\n",
    "print np.shape(sed_phot)"
   ]
  },
  {
   "cell_type": "code",
   "execution_count": 62,
   "metadata": {
    "collapsed": false
   },
   "outputs": [
    {
     "name": "stdout",
     "output_type": "stream",
     "text": [
      "5.4262434898e-09 1.19979885803e-10 3.13201373335e-10\n",
      "7.19801691658e-09 1.18167837863e-10 4.12036508434e-10\n",
      "4.92409112265e-09 6.59061990266e-11 2.92444780391e-10\n",
      "2.9379660884e-09 2.32396969896e-11 1.57114005884e-10\n",
      "9.9616751044e-10 1.00841571018e-11 5.12099633271e-11\n",
      "2.51226079804e-10 2.45603560812e-12 1.50841947423e-11\n"
     ]
    },
    {
     "data": {
      "image/png": "[encoded data removed]",
      "text/plain": [
       "<matplotlib.figure.Figure at 0x10a6cf790>"
      ]
     },
     "metadata": {},
     "output_type": "display_data"
    }
   ],
   "source": [
    "fig = plt.figure(figsize=(8,6))\n",
    "ax = fig.add_subplot(111)\n",
    "\n",
    "ax.errorbar(wl_aper, obs_aper_sed, yerr=obs_aper_sed_noise, fmt='o', mfc='None', markersize=5)\n",
    "yerr = ( (obs_aper_sed*0.05)**2 + obs_aper_sed_noise**2 )**0.5\n",
    "for i in range(0,6):\n",
    "    print sed_phot[-6:][i], obs_aper_sed_noise[i], yerr[i]\n",
    "ax.errorbar(bhr71['phot'][0][-6:], sed_phot[-6:], yerr=yerr, fmt='o', mfc='None', markersize=5)\n",
    "ax.plot(bhr71['spec'][0], c/(bhr71['spec'][0]*1e-4)*bhr71['spec'][1]*1e-23)\n",
    "ax.set_xlim([50,600])\n",
    "\n",
    "[ax.spines[axis].set_linewidth(1.5) for axis in ['top','bottom','left','right']]\n",
    "ax.minorticks_on() \n",
    "ax.tick_params('both',labelsize=18,width=1.5,which='major',pad=15,length=5)\n",
    "ax.tick_params('both',labelsize=18,width=1.5,which='minor',pad=15,length=2.5)\n",
    "ax.set_xlabel(r'$\\rm{wavelength\\,[\\mu m]}$', fontsize=18)\n",
    "ax.set_ylabel(r'$\\rm{\\nu S_{\\nu}\\,[erg,s^{-1}\\,cm^{-2}]}$', fontsize=18)\n",
    "\n",
    "fig.savefig('/Users/yaolun/test/bhr71_herschel.pdf', format='pdf', dpi=300, bbox_inches='tight')"
   ]
  },
  {
   "cell_type": "code",
   "execution_count": 1,
   "metadata": {
    "collapsed": true
   },
   "outputs": [],
   "source": [
    "filename = '/Users/yaolun/test/rhoenv.dat'\n",
    "import numpy as np\n",
    "import matplotlib.pyplot as plt\n",
    "rhoenv = np.genfromtxt(filename).T"
   ]
  },
  {
   "cell_type": "code",
   "execution_count": 5,
   "metadata": {
    "collapsed": false
   },
   "outputs": [
    {
     "name": "stdout",
     "output_type": "stream",
     "text": [
      "(79, 400)\n"
     ]
    }
   ],
   "source": [
    "print np.shape(rhoenv)"
   ]
  },
  {
   "cell_type": "code",
   "execution_count": 12,
   "metadata": {
    "collapsed": false
   },
   "outputs": [
    {
     "data": {
      "text/plain": [
       "(1e-15, 1e-11)"
      ]
     },
     "execution_count": 12,
     "metadata": {},
     "output_type": "execute_result"
    },
    {
     "data": {
      "image/png": "[encoded data removed]",
      "text/plain": [
       "<matplotlib.figure.Figure at 0x10778fb10>"
      ]
     },
     "metadata": {},
     "output_type": "display_data"
    }
   ],
   "source": [
    "fig = plt.figure(figsize=(10,8))\n",
    "ax = fig.add_subplot(111)\n",
    "for i in [149,199, 249]:\n",
    "    ax.plot(rhoenv[:,i])\n",
    "ax.set_yscale('log')\n",
    "ax.set_ylim([1e-15, 1e-11])"
   ]
  },
  {
   "cell_type": "code",
   "execution_count": 16,
   "metadata": {
    "collapsed": false
   },
   "outputs": [],
   "source": [
    "ny = 400\n",
    "thetai = np.pi*np.arange(ny+1).astype(dtype='float')/float(ny)\n",
    "thetac = 0.5*(thetai[0:ny]+thetai[1:ny+1])"
   ]
  },
  {
   "cell_type": "code",
   "execution_count": 19,
   "metadata": {
    "collapsed": false
   },
   "outputs": [
    {
     "name": "stdout",
     "output_type": "stream",
     "text": [
      "0.49875\n",
      "-0.999992289381\n"
     ]
    }
   ],
   "source": [
    "print thetac[199]/np.pi\n",
    "print min(np.sin(np.pi/2-thetac))"
   ]
  },
  {
   "cell_type": "code",
   "execution_count": 12,
   "metadata": {
    "collapsed": true
   },
   "outputs": [],
   "source": [
    "filename = '/Users/yaolun/bhr71/data/bhr71_APEX_continuum/2007-12-20T16-25-34.755-10973-APEX-48830-2007-11-24-E-080.C-0722A-2007.fits'\n",
    "filename = '/Users/yaolun/bhr71/data/bhr71_APEX_continuum/2007-12-20T15-47-22.243-10526-APEX-47543-2007-11-16-E-080.C-0722A-2007.fits'\n",
    "from astropy.io import fits\n",
    "data = fits.open(filename)\n",
    "import numpy as np"
   ]
  },
  {
   "cell_type": "code",
   "execution_count": 13,
   "metadata": {
    "collapsed": false
   },
   "outputs": [
    {
     "data": {
      "text/plain": [
       "SIMPLE  =                    T / file does conform to FITS standard             \n",
       "BITPIX  =                   32 / number of bits per data pixel                  \n",
       "NAXIS   =                    0 / number of data axes                            \n",
       "EXTEND  =                    T / FITS dataset may contain extensions            \n",
       "COMMENT     FITS (Flexible Image Transport System) format is defined in 'Astrono\n",
       "COMMENT = '        '           /   FITS (Flexible Image Transport System) format\n",
       "TELESCOP= 'APEX-12m'           / Telescope Name                                 \n",
       "ORIGIN  = 'APEX    '           / Organisation or Institution                    \n",
       "CREATOR = 'FW v1.401'          / Software (including version)                   \n",
       "MBFTSVER= '1.62    '           / MBFITS version                                 \n",
       "HIERARCH ESO DPR CATG = 'SCIENCE ' / Scan category                              \n",
       "HIERARCH ESO DPR TYPE = 'OBJECT  ' / Scan type                                  \n",
       "HIERARCH ESO DPR TECH = 'CONTINUUM' / Scan technique                            \n",
       "HIERARCH ESO OBS PROG ID = '080.C-0722(A)' / ESO program ID, where available. Fo\n",
       "HIERARCH ESO OBS ID =     -999 / Observation block ID, where available          \n",
       "HIERARCH ESO TEL AIRM START = 1.35250535193409 / Airmass at start               \n",
       "HIERARCH ESO TEL AIRM END = 1.37154226046349 / Airmass at end                   \n",
       "HIERARCH ESO TEL ALT = 47.6776584420094 / [deg] Altitude at start,              \n",
       "HIERARCH ESO TEL AZ = -177.005391775039 / [deg] Azimuth at start.               \n",
       "INSTRUME= 'APEXBOL '           / Instrument type                                \n",
       "FEBE1   = 'ARTEMIS450-ARTBE'   / FeBe 1: name                                   \n",
       "FREQ1   =        666200000000. / [Hz] FeBe 1: frequency                         \n",
       "LINE1   = 'None    '           / FeBe 1: line name                              \n",
       "BWID1   =         50000000000. / [Hz] FeBe 1: bandwidth                         \n",
       "OBJECT  = 'BHR71-MM'           / Source name                                    \n",
       "TIMESYS = 'TAI     '           / Time system for MJD and DATE-OBS               \n",
       "MJD-OBS =     54420.5763078704 / MJD start in TIMESYS system                    \n",
       "DATE-OBS= '2007-11-16T13:49:53' / Date of observation in TIMESYS system         \n",
       "RA      =            180.40125 / [deg] Derived from native frame configuration  \n",
       "DEC     =    -65.1455555555556 / [deg] Derived from native frame configuration  \n",
       "RADECSYS= 'FK5     '           / Coordinate reference frame                     \n",
       "EQUINOX =                2000. / [Julian years] Equinox                         \n",
       "EXPTIME =                1365. / [s] Total integration time                     \n",
       "ORIGFILE= 'APEX-47543-2007-11-16-E-080.C-0722A-2007' / Original file name       \n",
       "PROJID  = 'E-080.C-0722A-2007' / Project ID                                     \n",
       "COMMENT This file was taken with the APEX telescope.                            \n",
       "CHECKSUM= '0C4b3A3Z0A3a0A3Y'   / HDU checksum updated 2007-12-20T14:47:51       \n",
       "DATASUM = '         0'         / data unit checksum updated 2007-11-16T13:12:15 \n",
       "ARCFILE = 'APEXBOL.2007-11-16T13:49:53.000.fits' / Archive File Name            "
      ]
     },
     "execution_count": 13,
     "metadata": {},
     "output_type": "execute_result"
    }
   ],
   "source": [
    "data[0].header"
   ]
  },
  {
   "cell_type": "code",
   "execution_count": 9,
   "metadata": {
    "collapsed": false
   },
   "outputs": [
    {
     "name": "stdout",
     "output_type": "stream",
     "text": [
      "48830\n",
      "48830\n",
      "48830\n",
      "48830\n",
      "48830\n",
      "48830\n",
      "48830\n",
      "48830\n",
      "48830\n",
      "48830\n",
      "48830\n",
      "48830\n",
      "48830\n",
      "48830\n",
      "48830\n",
      "48830\n",
      "48830\n",
      "48830\n",
      "48830\n",
      "48830\n",
      "48830\n",
      "48830\n",
      "48830\n",
      "48830\n",
      "48830\n",
      "48830\n",
      "48830\n",
      "48830\n",
      "48830\n",
      "48830\n",
      "48830\n",
      "48830\n",
      "48830\n",
      "48830\n",
      "48830\n",
      "48830\n",
      "48830\n",
      "48830\n",
      "48830\n",
      "48830\n",
      "48830\n",
      "48830\n",
      "48830\n",
      "48830\n",
      "48830\n",
      "48830\n",
      "48830\n",
      "48830\n",
      "48830\n",
      "48830\n",
      "48830\n",
      "48830\n",
      "48830\n",
      "48830\n",
      "48830\n",
      "48830\n",
      "48830\n",
      "48830\n",
      "48830\n",
      "48830\n",
      "48830\n",
      "48830\n",
      "48830\n",
      "48830\n",
      "48830\n",
      "48830\n",
      "48830\n",
      "48830\n",
      "48830\n",
      "48830\n",
      "48830\n",
      "48830\n",
      "48830\n",
      "48830\n",
      "48830\n",
      "48830\n",
      "48830\n",
      "48830\n",
      "48830\n",
      "48830\n",
      "48830\n",
      "48830\n",
      "48830\n",
      "48830\n",
      "48830\n",
      "48830\n",
      "48830\n",
      "48830\n",
      "48830\n",
      "48830\n",
      "48830\n",
      "48830\n",
      "48830\n",
      "48830\n",
      "48830\n",
      "48830\n",
      "48830\n",
      "48830\n",
      "48830\n",
      "48830\n",
      "48830\n",
      "48830\n",
      "48830\n",
      "48830\n",
      "48830\n",
      "48830\n",
      "48830\n",
      "48830\n",
      "48830\n",
      "48830\n",
      "48830\n",
      "48830\n",
      "48830\n",
      "48830\n",
      "48830\n",
      "48830\n",
      "48830\n",
      "48830\n",
      "48830\n",
      "48830\n",
      "48830\n",
      "48830\n",
      "48830\n",
      "48830\n",
      "48830\n",
      "48830\n",
      "48830\n",
      "48830\n",
      "48830\n",
      "48830\n",
      "48830\n",
      "48830\n",
      "48830\n",
      "48830\n",
      "48830\n",
      "48830\n",
      "48830\n",
      "48830\n",
      "48830\n",
      "48830\n",
      "48830\n",
      "48830\n",
      "48830\n",
      "48830\n",
      "48830\n",
      "48830\n",
      "48830\n",
      "48830\n",
      "48830\n",
      "48830\n",
      "48830\n",
      "48830\n",
      "48830\n",
      "48830\n",
      "48830\n",
      "48830\n",
      "48830\n",
      "48830\n",
      "48830\n",
      "48830\n",
      "48830\n",
      "48830\n",
      "48830\n",
      "48830\n",
      "48830\n",
      "48830\n",
      "48830\n",
      "48830\n",
      "48830\n",
      "48830\n",
      "48830\n",
      "48830\n",
      "48830\n",
      "48830\n",
      "48830\n",
      "48830\n",
      "48830\n",
      "48830\n",
      "48830\n",
      "48830\n",
      "48830\n",
      "48830\n",
      "48830\n",
      "48830\n",
      "48830\n"
     ]
    }
   ],
   "source": [
    "for i in range(1,186):\n",
    "    print data[i].header['SCANNUM']"
   ]
  },
  {
   "cell_type": "code",
   "execution_count": null,
   "metadata": {
    "collapsed": true
   },
   "outputs": [],
   "source": [
    "\n"
   ]
  }
 ],
 "metadata": {
  "kernelspec": {
   "display_name": "Python 2",
   "language": "python",
   "name": "python2"
  },
  "language_info": {
   "codemirror_mode": {
    "name": "ipython",
    "version": 2
   },
   "file_extension": ".py",
   "mimetype": "text/x-python",
   "name": "python",
   "nbconvert_exporter": "python",
   "pygments_lexer": "ipython2",
   "version": "2.7.11"
  }
 },
 "nbformat": 4,
 "nbformat_minor": 0
}
