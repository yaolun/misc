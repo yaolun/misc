{
 "metadata": {
  "name": "",
  "signature": "sha256:284d40dea3ffa339eb18c6b49aa438d8516920540f30bcbeaecce3637632779e"
 },
 "nbformat": 3,
 "nbformat_minor": 0,
 "worksheets": [
  {
   "cells": [
    {
     "cell_type": "markdown",
     "metadata": {},
     "source": [
      "# The Monty Hall Problem"
     ]
    },
    {
     "cell_type": "markdown",
     "metadata": {},
     "source": [
      "This is a classic and counter-intuitive problem in statistics. Here is the setup: \n",
      "  - You are presented with three doors. One door has a car in it, and the other two have goats. The goal is to pick the door with the car.\n",
      "  \n",
      "  - Pick one of the doors.\n",
      "  - The host opens one of the doors that you did not pick, and reveals a goat.\n",
      "  - You can either stay with the door you originally picked, or switch to the other remaining door.\n",
      "\n",
      "What is the best strategy for this problem? Should you always switch? Always stay? Or doesn't it matter? For most people, the \"gut instinct\" is that it doesn't matter. You have two doors left, one with a goat and one with a car and so you have a 50/50 chance of getting the car. However, this is not actually the case! The problem with this thinking is that you are ignoring the prior information you have: The host ALWAYS opens a door with a goat. Here is another way to look at the probabilities:\n",
      "\n",
      "  - You have a 1/3 chance of picking the car on the first chance. This means there is a 2/3 chance that the car is behind on of the doors you didn't choose.\n",
      "  - After the host opens the door and reveals a goat, there is still a 2/3 chance that the car is behind one of the doors you didn't choose. \n",
      "  - Since there is now only one door left that you didn't choose, you should switch to that one.\n",
      "  \n",
      "But enough with words, lets just try it out. We will simulate the game show a bunch of times with both switching and not switching, and see what happens"
     ]
    },
    {
     "cell_type": "code",
     "collapsed": false,
     "input": [
      "import numpy as np\n",
      "import pandas as pd\n",
      "%pylab inline"
     ],
     "language": "python",
     "metadata": {},
     "outputs": [
      {
       "output_type": "stream",
       "stream": "stdout",
       "text": [
        "Populating the interactive namespace from numpy and matplotlib\n"
       ]
      }
     ],
     "prompt_number": 2
    },
    {
     "cell_type": "code",
     "collapsed": false,
     "input": [
      "def trials(Niter=10000, style='switch'):\n",
      "    num_wins = 0.0\n",
      "    for i in range(Niter):\n",
      "        # Make the doors. The car is in the one labeled with 1 instead of 0\n",
      "        doors = np.zeros(3)\n",
      "        car = np.random.choice((0,1,2))\n",
      "        doors[car] = 1\n",
      "        \n",
      "        # Convert to a pandas DataFrame for convenience\n",
      "        doors = pd.DataFrame(data={'Door': ['A', 'B', 'C'], 'Car': doors})\n",
      "        \n",
      "        # Your first choice\n",
      "        choice = np.random.choice((0,1,2))\n",
      "        \n",
      "        # Open a door that you did not pick and which does not contain the car\n",
      "        idx = doors.loc[(doors.index != choice) & (doors.Car == 0)].index\n",
      "        to_open = np.random.choice(idx)\n",
      "        \n",
      "        # Now, switch doors\n",
      "        if style == 'switch':\n",
      "            new_door = doors.loc[(doors.index != choice) & (doors.index != to_open)]\n",
      "            num_wins += new_door.Car.item()\n",
      "        else:\n",
      "            num_wins += doors.ix[choice].Car.item()\n",
      "        \n",
      "    print('With the {} strategy, you won {}/{} times, or {}% of the time'.format(style, num_wins, Niter, 100.0*num_wins/float(Niter)))"
     ],
     "language": "python",
     "metadata": {},
     "outputs": [],
     "prompt_number": 3
    },
    {
     "cell_type": "code",
     "collapsed": false,
     "input": [
      "trials(style='switch')\n",
      "trials(style='stay')"
     ],
     "language": "python",
     "metadata": {},
     "outputs": [
      {
       "output_type": "stream",
       "stream": "stdout",
       "text": [
        "With the switch strategy, you won 6696.0/10000 times, or 66.96% of the time\n",
        "With the stay strategy, you won 3312.0/10000 times, or 33.12% of the time"
       ]
      },
      {
       "output_type": "stream",
       "stream": "stdout",
       "text": [
        "\n"
       ]
      }
     ],
     "prompt_number": 4
    },
    {
     "cell_type": "markdown",
     "metadata": {},
     "source": [
      "Indeed, if you switch, you have about a 66% chance of winning. As we do even more trials, the chance of winning will converge to 2/3. Now, I said before that the key to this is that the host always opens a door with a goat. What if he just picked one at random, and there was a chance he could pick the car? Well in that case, you can lose after the first round. If he reveals a goat, it is still to your advantage to switch, but that cancels out with the probability of the host revealing the car and so your strategy at the beginning of the game doesn't really matter. Lets's prove it:"
     ]
    },
    {
     "cell_type": "code",
     "collapsed": false,
     "input": [
      "def trials_modified(Niter=10000, style='switch'):\n",
      "    num_wins = 0.0\n",
      "    for i in range(Niter):\n",
      "        # Make the doors. The car is in the one labeled with 1 instead of 0\n",
      "        doors = np.zeros(3)\n",
      "        car = np.random.choice((0,1,2))\n",
      "        doors[car] = 1\n",
      "        \n",
      "        # Convert to a pandas DataFrame for convenience\n",
      "        doors = pd.DataFrame(data={'Door': ['A', 'B', 'C'], 'Car': doors})\n",
      "        \n",
      "        # Your first choice\n",
      "        choice = np.random.choice((0,1,2))\n",
      "        \n",
      "        # Open a door that you did not pick. IT CAN NOW CONTAIN THE CAR\n",
      "        idx = doors.loc[(doors.index != choice)].index\n",
      "        to_open = np.random.choice(idx)\n",
      "        \n",
      "        # Now, switch door\n",
      "        if style == 'switch':\n",
      "            new_door = doors.loc[(doors.index != choice) & (doors.index != to_open)]\n",
      "        else:\n",
      "            new_door = doors.ix[choice]\n",
      "            \n",
      "        num_wins += new_door.Car.item()\n",
      "        \n",
      "    print('With the {} strategy, you won {}/{} times, or {}% of the time'.format(style, num_wins, Niter, 100.0*num_wins/float(Niter)))"
     ],
     "language": "python",
     "metadata": {},
     "outputs": [],
     "prompt_number": 5
    },
    {
     "cell_type": "code",
     "collapsed": false,
     "input": [
      "trials_modified(style='switch')\n",
      "trials_modified(style='stay')"
     ],
     "language": "python",
     "metadata": {},
     "outputs": [
      {
       "output_type": "stream",
       "stream": "stdout",
       "text": [
        "With the switch strategy, you won 3447.0/10000 times, or 34.47% of the time\n",
        "With the stay strategy, you won 3317.0/10000 times, or 33.17% of the time"
       ]
      },
      {
       "output_type": "stream",
       "stream": "stdout",
       "text": [
        "\n"
       ]
      }
     ],
     "prompt_number": 6
    },
    {
     "cell_type": "markdown",
     "metadata": {},
     "source": [
      "Yep, both strategies result in a 1/3 chance of winning the car. It is the same as if there was not even a second round! "
     ]
    }
   ],
   "metadata": {}
  }
 ]
}