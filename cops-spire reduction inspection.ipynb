{
 "cells": [
  {
   "cell_type": "code",
   "execution_count": 41,
   "metadata": {
    "collapsed": true
   },
   "outputs": [],
   "source": [
    "%matplotlib inline"
   ]
  },
  {
   "cell_type": "markdown",
   "metadata": {},
   "source": [
    "☐ re-visit sources - B1-a, DK Cha, TMC1, WL12, L1455-IRS, L1014, and IRAS03301.\n",
    "    - aperture failed to converage - TMC1, WL12, L1014, and IRAS03301.\n",
    "    - aperture too big - B1-a (61.8)\n",
    "        - increasing the aperture from 31.8\" to 61.8\" does increase the noise seen in the shorter wavelength, but not very significant.  The auto-match routine matches the PACS and SPIRE spectrum at the longest wavelength of PACS, but increasing the aperture size only slightly increase the flux at the shorter wavelength.\n",
    "    - unknown reason - DKCha (31.8), L1455-IRS3 (24.8)\n",
    "        - DKCha solved.  The problem is that there are wavelength points that appear to be NaN but were set to be zero as part of the 1D reduction.  It results in missing flux at certain wavelength points.  The solution is to flag any wavelength point that has NaN value.\n",
    "        - L1455-IRS3: Nothing seems wrong in the 1D extraction.  The same noisy feature is also found in the raw Herschel product.  Maybe it is the reduction pipeline that causes the difference."
   ]
  },
  {
   "cell_type": "code",
   "execution_count": 33,
   "metadata": {
    "collapsed": true
   },
   "outputs": [],
   "source": [
    "# Source info\n",
    "obj_list = [['TMC1','1342225803','1342225804','1342250512'],\n",
    "            ['WL12','1342228187','1342228188','1342251290'],\n",
    "            ['L1014','1342208911','1342208912','1342245857'],\n",
    "            ['IRAS03301','1342215668','1342216181','1342249477'],\n",
    "            ['B1-a','1342216182','1342216183','1342249475'],\n",
    "            ['DKCha','1342188039','1342188040','1342254037'],\n",
    "            ['L1455-IRS3','1342204122','1342204123','1342249474']]\n",
    "pacsdatadir = '/scratch/CDF_PACS_HSA/'\n",
    "# pacsdatadir = '/Users/yaolun/test/'\n",
    "outdir = '/home/bettyjo/yaolun/test/'\n",
    "# outdir = '/Users/yaolun/test/'"
   ]
  },
  {
   "cell_type": "code",
   "execution_count": 73,
   "metadata": {
    "collapsed": true
   },
   "outputs": [],
   "source": [
    "def cdfPacs1d(obsid, datadir, outdir, objname, aper_size=31.8, suffix='hsa',\n",
    "              auto_match=False, threshold=0.05, aper_step=10, max_iter=20, print_all_path=0, idl=False, fitting=False):\n",
    "    \"\"\"\n",
    "    obsid  = [obsid1, obsid2]\n",
    "    outdir: The output directory for the source.  e.g. /CDF_archive/BHR71/\n",
    "    suffix: 'hsa' for data directly acquired from HSA.  Should probably get rid of it in the end.\n",
    "            But now it distinguishes the recent results from old CDF reduction.\n",
    "    \"\"\"\n",
    "    import numpy as np\n",
    "    # to avoid X server error\n",
    "    import matplotlib as mpl\n",
    "    mpl.use('Agg')\n",
    "    from astropy.io import ascii, fits\n",
    "    import matplotlib.pyplot as plt\n",
    "    import sys\n",
    "    import os\n",
    "    sys.path.append(os.path.expanduser('~')+'/programs/spectra_analysis/')\n",
    "    sys.path.append(os.path.expanduser('~')+'/programs/misc/')\n",
    "#     from pacs_weight import pacs_weight\n",
    "#     from PacsSpire_SpecMatch import PacsSpire_SpecMatch\n",
    "\n",
    "    def pacs_weight(cubedir, obj, aper_size, outdir, fits_for_header,\n",
    "                    suffix='', plot=None, wavelimit=None):\n",
    "        \"\"\"\n",
    "        cubedir: The directory contains the flux and coordinates of each spaxel in ASCII files\n",
    "        plot: If a path is given, then it will make a plot of an overview of aperture_masked\n",
    "              spaxel configuration.\n",
    "        fits_for_header: The FITS file contains the required keywords -\n",
    "                         CROTA2, CDELT1 or CDELT2\n",
    "        \"\"\"\n",
    "        from astropy.io import ascii, fits\n",
    "        import numpy as np\n",
    "\n",
    "        def CircularAperture(x, y, r, pix=10000.):\n",
    "\n",
    "            grid_x, grid_y = np.meshgrid(np.linspace(0,pix-1,pix), np.linspace(0,pix-1,pix))\n",
    "            grid_x = grid_x - (pix-1)/2.\n",
    "            grid_y = grid_y - (pix-1)/2.\n",
    "            grid_dist = ((grid_x-x)**2+(grid_y-y)**2)**0.5\n",
    "            aperture = np.where(grid_dist <= r, np.full((int(pix), int(pix)), 1, dtype=int), 0)\n",
    "\n",
    "            return aperture\n",
    "\n",
    "        def Total_MaskedAperture(aperture, mask):\n",
    "\n",
    "            aperture_masked = np.where(mask != 0, aperture, 0)\n",
    "\n",
    "            return aperture_masked, np.sum(aperture_masked)\n",
    "\n",
    "        def Mask(x, y, edge, rot, pix=10000.):\n",
    "            from scipy.ndimage.interpolation import rotate\n",
    "\n",
    "            init_arr = np.full((int(pix), int(pix)), 1, dtype=int)\n",
    "            grid_x, grid_y = np.meshgrid(np.linspace(0,pix-1,pix), np.linspace(0,pix-1,pix))\n",
    "\n",
    "            # RA offset (x) and Dec offset (y) need to be rotated, because the spaxels are rotated.\n",
    "            rotMatrix = np.array([[np.cos(np.radians(rot)), -np.sin(np.radians(rot))],\n",
    "                                  [np.sin(np.radians(rot)),  np.cos(np.radians(rot))]])\n",
    "            coord_rot = np.squeeze(np.dot(rotMatrix, np.array([x,y]).reshape(2,1)))\n",
    "\n",
    "            dist_x = abs(grid_x - (pix-1)/2. - coord_rot[0])\n",
    "            dist_y = abs(grid_y - (pix-1)/2. - coord_rot[1])\n",
    "\n",
    "            aper_trim = np.where((dist_x <= edge/2.) & (dist_y <= edge/2.), init_arr, 0)\n",
    "\n",
    "            return aper_trim\n",
    "\n",
    "        mean_coord = {'RA':[], 'Dec':[]}\n",
    "        coord = {'RA':[], 'Dec':[]}\n",
    "        foo_cen = ascii.read(cubedir+obj+'_pacs_pixel13_'+suffix+'_coord.txt')\n",
    "        cen_ra, cen_dec = foo_cen['RA(deg)'][0], foo_cen['Dec(deg)'][0]\n",
    "        mean_cen_ra, mean_cen_dec = np.mean(foo_cen['RA(deg)']), np.mean(foo_cen['Dec(deg)'])\n",
    "\n",
    "        for i in range(1,26):\n",
    "            foo = ascii.read(cubedir+obj+'_pacs_pixel'+str(i)+'_'+suffix+'_coord.txt')\n",
    "            mean_coord['RA'].append((np.mean(foo['RA(deg)']) - mean_cen_ra)*np.cos(np.radians(mean_cen_dec))*3600.)\n",
    "            mean_coord['Dec'].append((np.mean(foo['Dec(deg)']) - mean_cen_dec)*3600.)\n",
    "\n",
    "            coord['RA'].append((foo['RA(deg)'][0]-cen_ra)*np.cos(np.radians(cen_dec))*3600.)\n",
    "            coord['Dec'].append((foo['Dec(deg)'][0]-cen_dec)*3600.)\n",
    "\n",
    "        # do 60\" x 60\"\n",
    "        pix = 1000.\n",
    "        factor = pix/60.\n",
    "        weight = []\n",
    "        aperture = CircularAperture(0, 0, aper_size/2.*factor, pix=pix)\n",
    "        pix_size = abs(fits.open(fits_for_header)[1].header['CDELT1']*3600)\n",
    "        ideal = (pix_size*factor)**2\n",
    "\n",
    "        rot_angle = fits.open(fits_for_header)[1].header['CROTA2']\n",
    "\n",
    "        a = np.full((int(pix), int(pix)), 0)\n",
    "        for i in range(0,25):\n",
    "            ra = coord['RA'][i]\n",
    "            dec = coord['Dec'][i]\n",
    "            masked_arr, arr_sum = Total_MaskedAperture(aperture, Mask(ra*factor, dec*factor, pix_size*factor, rot_angle, pix=pix))\n",
    "            a = a + masked_arr\n",
    "            weight.append(arr_sum)\n",
    "\n",
    "        # somehow there is about 1% error even if the whole spaxel should be within the circular aperture\n",
    "        for i in range(len(weight)):\n",
    "            if np.abs(weight[i]/ideal) >= 0.99:\n",
    "                weight[i] = 1\n",
    "            else:\n",
    "                weight[i] = weight[i]/ideal\n",
    "\n",
    "        # plot\n",
    "        if plot != None:\n",
    "            import matplotlib.pyplot as plt\n",
    "            from scipy.ndimage.interpolation import rotate\n",
    "\n",
    "            fig = plt.figure(figsize=(8,8))\n",
    "            ax = fig.add_subplot(111)\n",
    "            factor_rot = len(rotate(a, -rot_angle)[:,0])/pix\n",
    "\n",
    "            ax.imshow(rotate(a, -rot_angle), extent=[-30*factor_rot,30*factor_rot,-30*factor_rot,30*factor_rot],\n",
    "                      cmap='viridis', vmax=2)\n",
    "\n",
    "            [ax.spines[axis].set_linewidth(1.5) for axis in ['top','bottom','left','right']]\n",
    "            ax.minorticks_on()\n",
    "            ax.tick_params('both',labelsize=18,width=1.5,which='major',pad=10,length=5)\n",
    "            ax.tick_params('both',labelsize=18,width=1.5,which='minor',pad=10,length=2.5)\n",
    "            ax.set_xlabel('RA offset [arcsec]', fontsize=18)\n",
    "            ax.set_ylabel('Dec offset [arcsec]', fontsize=18)\n",
    "\n",
    "            fig.savefig(plot+'pacs_masked.pdf', format='pdf', dpo=300, bbox_inches='tight')\n",
    "\n",
    "#         # visualize the weight\n",
    "#         fig = plt.figure()\n",
    "#         ax = fig.add_subplot(111)\n",
    "        \n",
    "#         ax.imshow(np.reshape(weight, (5,5)))\n",
    "\n",
    "        # get the flux of each spaxel and apply the weighting\n",
    "        foo_cen = ascii.read(cubedir+obj+'_pacs_pixel13_'+suffix+'.txt')\n",
    "        if wavelimit == None:\n",
    "            trimmer = np.ones_like(foo_cen['Wavelength(um)'], dtype=bool)\n",
    "        else:\n",
    "            trimmer = (foo_cen['Wavelength(um)'] > wavelimit[0]) & (foo_cen['Wavelength(um)'] < wavelimit[1])\n",
    "\n",
    "        wl = foo_cen['Wavelength(um)'][trimmer]\n",
    "        flux = np.zeros_like(foo_cen['Flux_Density(Jy)'][trimmer])\n",
    "\n",
    "        for i in range(1,26):\n",
    "            foo = ascii.read(cubedir+obj+'_pacs_pixel'+str(i)+'_'+suffix+'.txt')\n",
    "            # set NaN values to zero\n",
    "#             foo['Flux_Density(Jy)'][np.isnan(foo['Flux_Density(Jy)'])] = 0\n",
    "\n",
    "            flux = flux + foo['Flux_Density(Jy)'][trimmer]*weight[i-1]\n",
    "            \n",
    "#             fig = plt.figure()\n",
    "#             ax = fig.add_subplot(111)\n",
    "#             ax.plot(foo['Wavelength(um)'][(trimmer) & (foo['Flux_Density(Jy)'] != 0)], foo['Flux_Density(Jy)'][(trimmer) & (foo['Flux_Density(Jy)'] != 0)])\n",
    "\n",
    "        # write the weighted spectrum into a file\n",
    "        foo = open(outdir+obj+'_pacs_weighted_'+suffix+'.txt','w')\n",
    "        foo.write('{} \\t {}\\n'.format('Wavelength(um)', 'Flux_Density(Jy)'))\n",
    "        for i in range(len(wl)):\n",
    "            if flux[i] != 0:\n",
    "                foo.write('{} \\t {}\\n'.format(wl[i], flux[i]))\n",
    "        foo.close()\n",
    "\n",
    "        print 'Weighted spectrum saved at ', outdir+obj+'_pacs_weighted_'+suffix+'.txt'\n",
    "\n",
    "        return wl, flux\n",
    "    \n",
    "    def PacsSpire_SpecMatch(pacs, spire, threshold):\n",
    "        \"\"\"\n",
    "        Compare the median flux at the last/first 5 um of PACS and SPIRE spectra.\n",
    "        If both of them agree with each other within a certain threshold, return 0.\n",
    "        Threshold is specified in percentage.\n",
    "        If PACS flux is lower, return -1; if PACS flux is higher, return 1.\n",
    "        Use the spectrum that has lower flux level as the base for threshold calculation.\n",
    "        \"\"\"\n",
    "        import numpy as np\n",
    "\n",
    "        pacs_level = np.nanmedian(pacs['Flux_Density(Jy)'][pacs['Wavelength(um)'] >= (pacs['Wavelength(um)'].max()-5)])\n",
    "        spire_level = np.nanmedian(spire['Flux_Density(Jy)'][spire['Wavelength(um)'] <= (spire['Wavelength(um)'].min()+5)])\n",
    "\n",
    "        base = min(pacs_level, spire_level)\n",
    "        print abs(spire_level-pacs_level)/base\n",
    "        if abs(spire_level-pacs_level) <= threshold*base:\n",
    "            return 0\n",
    "        else:\n",
    "            if spire_level > pacs_level:\n",
    "                return 1\n",
    "            else:\n",
    "                return -1\n",
    "    \n",
    "    # get the cubefiles\n",
    "    cubefile = [datadir+obsid[0]+'/herschel.pacs.signal.PacsRebinnedCube/hpacs'+obsid[0]+'_20hps3drbs_00.fits',\n",
    "                datadir+obsid[0]+'/herschel.pacs.signal.PacsRebinnedCube/hpacs'+obsid[0]+'_20hps3drrs_00.fits',\n",
    "                datadir+obsid[1]+'/herschel.pacs.signal.PacsRebinnedCube/hpacs'+obsid[1]+'_20hps3drbs_00.fits',\n",
    "                datadir+obsid[1]+'/herschel.pacs.signal.PacsRebinnedCube/hpacs'+obsid[1]+'_20hps3drrs_00.fits']\n",
    "\n",
    "    if idl:\n",
    "        # extract the cube file\n",
    "        # the main purpose is getting the coordinates, which can be done in python as well\n",
    "        import pidly\n",
    "        # grad13yy\n",
    "        # idl = pidly.IDL('/Applications/exelis/idl83/bin/idl')\n",
    "        # bettyjo\n",
    "        idl = pidly.IDL('/opt/local/exelis/idl83/bin/idl')\n",
    "        idl('.r '+os.path.expanduser('~')+'/programs/line_fitting/get_pacs.pro')\n",
    "        idl.pro('get_pacs', outdir=outdir+'pacs/data/', objname=objname, filename=cubefile,\n",
    "                suffix=suffix, separate=1)\n",
    "\n",
    "    wl = np.array([])\n",
    "    flux = np.array([])\n",
    "    for cube in cubefile:\n",
    "        hdu_dum = fits.open(cube)\n",
    "        wl_min = hdu_dum[8].data.min()\n",
    "        if wl_min < 60.:\n",
    "            band = 'b2a'\n",
    "        elif (wl_min > 60.) & (wl_min < 100):\n",
    "            band = 'b2b'\n",
    "        elif (wl_min > 100) & (wl_min < 130):\n",
    "            band = 'r1s'\n",
    "        elif wl_min > 130.:\n",
    "            band = 'r1l'\n",
    "        wl_dum, flux_dum = pacs_weight(outdir+'pacs/data/cube/', objname, aper_size,\n",
    "                                       outdir+'pacs/data/', cube, suffix=suffix+'_'+band)\n",
    "\n",
    "        if band == 'b2a':\n",
    "            trimmer = (wl_dum >= 54.8) & (wl_dum < 72.3)\n",
    "        elif band == 'b2b':\n",
    "            trimmer = (wl_dum >= 72.3) & (wl_dum < 95.05)\n",
    "        elif band == 'r1s':\n",
    "            trimmer = (wl_dum >= 103) & (wl_dum < 143)\n",
    "        elif band == 'r1l':\n",
    "            trimmer = (wl_dum >= 143) & (wl_dum < 190.31)\n",
    "\n",
    "        wl = np.hstack((wl, wl_dum[trimmer]))\n",
    "        flux = np.hstack((flux, flux_dum[trimmer]))\n",
    "    sorter = np.argsort(wl)\n",
    "    wl = wl[sorter]\n",
    "    flux = flux[sorter]\n",
    "\n",
    "    # write out\n",
    "    foo = open(outdir+'pacs/data/'+objname+'_pacs_weighted.txt','w')\n",
    "    foo.write('{} \\t {}\\n'.format('Wavelength(um)', 'Flux_Density(Jy)'))\n",
    "    for i in range(len(wl)):\n",
    "        if flux[i] != 0:\n",
    "            foo.write('{} \\t {}\\n'.format(wl[i], flux[i]))\n",
    "    foo.close()\n",
    "\n",
    "    # compare the mismatch between PACS and SPIRE\n",
    "    if auto_match:\n",
    "        if not os.path.exists(outdir+'/spire/data/'+objname+'_spire_corrected.txt'):\n",
    "            spire_path = raw_input('Where does the spire corrected spectrum located?')\n",
    "        else:\n",
    "            spire_path = outdir+'spire/data/'+objname+'_spire_corrected.txt'\n",
    "        spire = ascii.read(spire_path)\n",
    "        pacs = ascii.read(outdir+'pacs/data/'+objname+'_pacs_weighted.txt')\n",
    "        current_status = PacsSpire_SpecMatch(pacs, spire, threshold)\n",
    "        print current_status\n",
    "\n",
    "        used_aperture = [aper_size]\n",
    "\n",
    "        iter_num = 0\n",
    "        while current_status != 0:\n",
    "            print 'iteration ', iter_num\n",
    "            # check if it is a u-turn in aperture size\n",
    "            if len(used_aperture) > 1:\n",
    "                if previous_status*current_status < 0:\n",
    "                    aper_step = aper_step/2\n",
    "            # store the comparison result for next iteration\n",
    "            previous_status = PacsSpire_SpecMatch(pacs, spire, threshold)\n",
    "\n",
    "            aper_size = aper_size + previous_status*aper_step\n",
    "            used_aperture.append(aper_size)\n",
    "\n",
    "            # routine for calculating weighted spectrum\n",
    "            wl = np.array([])\n",
    "            flux = np.array([])\n",
    "            for cube in cubefile:\n",
    "                hdu_dum = fits.open(cube)\n",
    "                wl_min = hdu_dum[8].data.min()\n",
    "                if wl_min < 60.:\n",
    "                    band = 'b2a'\n",
    "                elif (wl_min > 60.) & (wl_min < 100):\n",
    "                    band = 'b2b'\n",
    "                elif (wl_min > 100) & (wl_min < 130):\n",
    "                    band = 'r1s'\n",
    "                elif wl_min > 130.:\n",
    "                    band = 'r1l'\n",
    "                wl_dum, flux_dum = pacs_weight(outdir+'pacs/data/cube/', objname, aper_size,\n",
    "                                               outdir+'pacs/data/', cube, suffix=suffix+'_'+band)\n",
    "\n",
    "                if band == 'b2a':\n",
    "                    trimmer = (wl_dum >= 54.8) & (wl_dum < 72.3)\n",
    "                elif band == 'b2b':\n",
    "                    trimmer = (wl_dum >= 72.3) & (wl_dum < 95.05)\n",
    "                elif band == 'r1s':\n",
    "                    trimmer = (wl_dum >= 103) & (wl_dum < 143)\n",
    "                elif band == 'r1l':\n",
    "                    trimmer = (wl_dum >= 143) & (wl_dum < 190.31)\n",
    "\n",
    "                wl = np.hstack((wl, wl_dum[trimmer]))\n",
    "                flux = np.hstack((flux, flux_dum[trimmer]))\n",
    "            sorter = np.argsort(wl)\n",
    "            wl = wl[sorter]\n",
    "            flux = flux[sorter]\n",
    "\n",
    "            # write out\n",
    "            foo = open(outdir+'pacs/data/'+objname+'_pacs_weighted.txt','w')\n",
    "            foo.write('{} \\t {}\\n'.format('Wavelength(um)', 'Flux_Density(Jy)'))\n",
    "            for i in range(len(wl)):\n",
    "                if flux[i] != 0:\n",
    "                    foo.write('{} \\t {}\\n'.format(wl[i], flux[i]))\n",
    "            foo.close()\n",
    "\n",
    "            spire = ascii.read(spire_path)\n",
    "            pacs = ascii.read(outdir+'pacs/data/'+objname+'_pacs_weighted.txt')\n",
    "            current_status = PacsSpire_SpecMatch(pacs, spire, threshold)\n",
    "            iter_num += 1\n",
    "            if iter_num == max_iter:\n",
    "                print 'Maximum iterations reached.'\n",
    "                break\n",
    "\n",
    "        print used_aperture\n",
    "\n",
    "    # make an overall plot of spectrum\n",
    "    # need to incorporate with photometry in the near future\n",
    "    wl = wl[flux != 0]\n",
    "    flux = flux[flux != 0]\n",
    "\n",
    "    fig = plt.figure(figsize=(8,6))\n",
    "    ax = fig.add_subplot(111)\n",
    "\n",
    "    e1 = (wl < 72.3)\n",
    "    e2 = ((wl >= 72.3) & (wl < 95.05))\n",
    "    e3 = ((wl >= 103) & (wl < 143))\n",
    "    e4 = ((wl >= 143) & (wl < 190.31))\n",
    "\n",
    "    spec, = ax.plot(wl[e1], flux[e1], color='b')\n",
    "    ax.plot(wl[e2], flux[e2], color='b')\n",
    "    ax.plot(wl[e3], flux[e3], color='b')\n",
    "    ax.plot(wl[e4], flux[e4], color='b')\n",
    "\n",
    "    ax.set_xlabel(r'$\\rm{Wavelength\\,[\\mu m]}$', fontsize=18)\n",
    "    ax.set_ylabel(r'$\\rm{Flux\\,Density\\,[Jy]}$', fontsize=18)\n",
    "    [ax.spines[axis].set_linewidth(1.5) for axis in ['top','bottom','left','right']]\n",
    "    ax.minorticks_on()\n",
    "    ax.tick_params('both',labelsize=18,width=1.5,which='major',pad=10,length=5)\n",
    "    ax.tick_params('both',labelsize=18,width=1.5,which='minor',pad=10,length=2.5)\n",
    "\n",
    "    # fix the tick label font\n",
    "    ticks_font = mpl.font_manager.FontProperties(family='STIXGeneral',size=18)\n",
    "    for label in ax.get_xticklabels():\n",
    "        label.set_fontproperties(ticks_font)\n",
    "    for label in ax.get_yticklabels():\n",
    "        label.set_fontproperties(ticks_font)\n",
    "\n",
    "    fig.savefig(outdir+'pacs/data/'+objname+'_pacs_weighted.pdf', format='pdf', dpi=300, bbox_inches='tight')\n",
    "    fig.clf()\n",
    "\n",
    "    \n",
    "    if fitting:\n",
    "        # line fitting\n",
    "        idl('.r '+os.path.expanduser('~')+'/programs/line_fitting/extract_pacs.pro')\n",
    "        idl('.r '+os.path.expanduser('~')+'/programs/line_fitting/gauss.pro')\n",
    "        # fit the cube\n",
    "        # first, load the coordinate file\n",
    "        for i in range(1,26):\n",
    "            coord_dum = ascii.read(outdir+'pacs/data/cube/'+objname+'_pacs_pixel'+str(i)+'_'+suffix+'_coord.txt')\n",
    "            ra_dum = np.mean(coord_dum['RA(deg)'])\n",
    "            dec_dum = np.mean(coord_dum['Dec(deg)'])\n",
    "            idl.pro('extract_pacs', indir=outdir+'pacs/data/cube/', filename=objname+'_pacs_pixel'+str(i)+'_'+suffix,\n",
    "                    outdir=outdir+'pacs/advanced_products/cube/', plotdir=outdir+'pacs/advanced_products/cube/plots/',\n",
    "                    noiselevel=3, ra=ra_dum, dec=dec_dum, global_noise=20, localbaseline=10, opt_width=1, current_pix=str(i),\n",
    "                    continuum=1, flat=1, object=objname, double_gauss=1, fixed_width=1, print_all=print_all_path)\n",
    "\n",
    "        # make contour plots\n",
    "        idl.pro('plot_contour', noise=3, indir=outdir+'/pacs/advanced_products/cube/',\n",
    "                plotdir=outdir+'/pacs/advanced_products/contours/', objname=objname,\n",
    "                pacs=1, brightness=1)\n",
    "\n",
    "\n",
    "        # fit the 1-D weighted spectrum\n",
    "        coord = ascii.read(outdir+'pacs/data/cube/'+objname+'_pacs_pixel13_'+suffix+'_coord.txt')\n",
    "        ra_cen = np.mean(coord['RA(deg)'])\n",
    "        dec_cen = np.mean(coord['Dec(deg)'])\n",
    "        idl.pro('extract_pacs', indir=outdir+'pacs/data/', filename=objname+'_pacs_weighted',\n",
    "                outdir=outdir+'pacs/advanced_products/', plotdir=outdir+'pacs/advanced_products/plots/',\n",
    "                noiselevel=3, ra=ra_cen, dec=dec_cen, global_noise=20, localbaseline=10, opt_width=1, current_pix='c',\n",
    "                continuum=1, flat=1, object=objname, double_gauss=1, fixed_width=1, print_all=print_all_path)\n",
    "    return aper_size"
   ]
  },
  {
   "cell_type": "code",
   "execution_count": 91,
   "metadata": {
    "collapsed": false
   },
   "outputs": [
    {
     "name": "stdout",
     "output_type": "stream",
     "text": [
      "TMC1\n",
      "% Compiled module: GET_PACS.\n",
      "% Compiled module: GET_PACS_1D.\n",
      "% Compiled module: GET_PACS_LINESCAN.\n",
      "% Compiled module: READFITS.\n",
      "% Compiled module: SXPAR.\n",
      "% Compiled module: GETTOK.\n",
      "% Compiled module: VALID_NUM.\n",
      "% Compiled module: MRD_SKIP.\n",
      "% Compiled module: HEADFITS.\n",
      "% Compiled module: FXPOSIT.\n",
      "% Compiled module: MRD_HREAD.\n",
      "% Compiled module: AL_LEGEND."
     ]
    },
    {
     "name": "stderr",
     "output_type": "stream",
     "text": [
      "/home/bettyjo/yaolun/anaconda/lib/python2.7/site-packages/ipykernel/__main__.py:36: DeprecationWarning: object of type <type 'float'> cannot be safely interpreted as an integer.\n",
      "/home/bettyjo/yaolun/anaconda/lib/python2.7/site-packages/ipykernel/__main__.py:54: DeprecationWarning: object of type <type 'float'> cannot be safely interpreted as an integer.\n"
     ]
    },
    {
     "name": "stdout",
     "output_type": "stream",
     "text": [
      "\n",
      "% Compiled module: CGCHECKFORSYMBOLS.\n",
      "% Compiled module: SETDEFAULTVALUE.\n",
      "% Compiled module: CGTEXT.\n",
      "% Compiled module: CGDEFCHARSIZE.\n",
      "% Compiled module: SETDECOMPOSEDSTATE.\n",
      "% Compiled module: DECOMPOSEDCOLOR.\n",
      "% Compiled module: CGDEFAULTCOLOR.\n",
      "% Compiled module: GETDECOMPOSEDSTATE.\n",
      "% Compiled module: CGCOLOR24.\n",
      "% Compiled module: CGPLOTS.\n",
      "% Compiled module: CGCOLOR.\n",
      "Weighted spectrum saved at  /home/bettyjo/yaolun/test/TMC1/pacs/data/TMC1_pacs_weighted_hsa_b2a.txt\n",
      "Weighted spectrum saved at  /home/bettyjo/yaolun/test/TMC1/pacs/data/TMC1_pacs_weighted_hsa_r1s.txt\n",
      "Weighted spectrum saved at  /home/bettyjo/yaolun/test/TMC1/pacs/data/TMC1_pacs_weighted_hsa_b2b.txt\n",
      "Weighted spectrum saved at  /home/bettyjo/yaolun/test/TMC1/pacs/data/TMC1_pacs_weighted_hsa_r1l.txt\n"
     ]
    },
    {
     "data": {
      "text/plain": [
       "71.8"
      ]
     },
     "execution_count": 91,
     "metadata": {},
     "output_type": "execute_result"
    },
    {
     "data": {
      "text/plain": [
       "<matplotlib.figure.Figure at 0x2af80e8b2050>"
      ]
     },
     "metadata": {},
     "output_type": "display_data"
    }
   ],
   "source": [
    "import sys\n",
    "sys.path.append('/home/bettyjo/yaolun/programs/line_fitting/')\n",
    "# sys.path.append('/Users/yaolun/programs/line_fitting/')\n",
    "# from cdfPacs1d import cdfPacs1d\n",
    "# This is the version without line fitting\n",
    "o = obj_list[0]\n",
    "print o[0]\n",
    "cdfPacs1d(o[1:3], pacsdatadir, outdir+o[0]+'/', o[0], aper_size=71.8, idl=True)"
   ]
  },
  {
   "cell_type": "code",
   "execution_count": 92,
   "metadata": {
    "collapsed": false
   },
   "outputs": [
    {
     "name": "stdout",
     "output_type": "stream",
     "text": [
      "/home/bettyjo/yaolun/test/TMC1/pacs/data/TMC1_pacs_weighted.pdf\n"
     ]
    },
    {
     "data": {
      "image/png": "[encoded data removed]",
      "text/plain": [
       "<wand.image.Image: 1c51953 'PDF' (521x399)>"
      ]
     },
     "execution_count": 92,
     "metadata": {},
     "output_type": "execute_result"
    }
   ],
   "source": [
    "from wand.image import Image as WImage\n",
    "print outdir+o[0]+'/pacs/data/'+o[0]+'_pacs_weighted.pdf'\n",
    "img = WImage(filename=outdir+o[0]+'/pacs/data/'+o[0]+'_pacs_weighted.pdf')\n",
    "img"
   ]
  },
  {
   "cell_type": "code",
   "execution_count": 10,
   "metadata": {
    "collapsed": false
   },
   "outputs": [
    {
     "data": {
      "text/plain": [
       "[<matplotlib.lines.Line2D at 0x2ab2324b6e90>]"
      ]
     },
     "execution_count": 10,
     "metadata": {},
     "output_type": "execute_result"
    },
    {
     "data": {
      "image/png": "[encoded data removed]",
      "text/plain": [
       "<matplotlib.figure.Figure at 0x2ab2320ade50>"
      ]
     },
     "metadata": {},
     "output_type": "display_data"
    }
   ],
   "source": [
    "from astropy.io import ascii\n",
    "import numpy as np\n",
    "import matplotlib.pyplot as plt\n",
    "data = ascii.read('/home/bettyjo/yaolun/test/DKCha/pacs/data/DKCha_pacs_weighted.txt')\n",
    "plt.plot(data['Wavelength(um)'], data['Flux_Density(Jy)'])"
   ]
  },
  {
   "cell_type": "code",
   "execution_count": 86,
   "metadata": {
    "collapsed": false
   },
   "outputs": [],
   "source": [
    "# inspect the pacs cube\n",
    "o = obj_list[0]\n",
    "cubefile = [pacsdatadir+o[1]+'/herschel.pacs.signal.PacsRebinnedCube/hpacs'+o[1]+'_20hps3drbs_00.fits',\n",
    "            pacsdatadir+o[1]+'/herschel.pacs.signal.PacsRebinnedCube/hpacs'+o[1]+'_20hps3drrs_00.fits',\n",
    "            pacsdatadir+o[2]+'/herschel.pacs.signal.PacsRebinnedCube/hpacs'+o[2]+'_20hps3drbs_00.fits',\n",
    "            pacsdatadir+o[2]+'/herschel.pacs.signal.PacsRebinnedCube/hpacs'+o[2]+'_20hps3drrs_00.fits']\n",
    "\n",
    "from astropy.io import fits\n",
    "import numpy as np\n",
    "hdulist = fits.open(cubefile[0])"
   ]
  },
  {
   "cell_type": "code",
   "execution_count": 48,
   "metadata": {
    "collapsed": false
   },
   "outputs": [
    {
     "data": {
      "text/plain": [
       "XTENSION= 'IMAGE   '           / Java FITS: Mon Nov 14 16:43:49 CST 2016        \n",
       "BITPIX  =                  -64                                                  \n",
       "NAXIS   =                    3 / Dimensionality                                 \n",
       "NAXIS1  =                    5                                                  \n",
       "NAXIS2  =                    5                                                  \n",
       "NAXIS3  =                 1732                                                  \n",
       "PCOUNT  =                    0 / No extra parameters                            \n",
       "GCOUNT  =                    1 / One group                                      \n",
       "LONGSTRN= 'OGIP 1.0'           / The OGIP long string convention may be used.   \n",
       "COMMENT This FITS file may contain long string keyword values that are          \n",
       "COMMENT continued over multiple keywords.  This convention uses the  '&'        \n",
       "COMMENT character at the end of a string which is then continued                \n",
       "COMMENT on subsequent keywords whose name = 'CONTINUE'.                         \n",
       "          -------------- Herschel Structure Data--------------------            \n",
       "          Following fields are private to the structure of the                  \n",
       "          Java object this HDU is representing.                                 \n",
       "EXTNAME = 'image   '           / name of this HDU                               \n",
       "CLASS___= 'herschel.ia.dataset.ArrayDataset' / java representation              \n",
       "INFO____= 'Flux    '                                                            \n",
       "DATA____= 'herschel.ia.numeric.Double3d' / java Data                            \n",
       "QTTY____= 'Jy/pixel'           / Unit of the data                               \n",
       "BUNIT   = 'Jy/pixel'           / Unit of the data                               \n",
       "          -------------- Herschel Parameter Data--------------------            \n",
       "          All actual parameter names are converted to FITS compliant            \n",
       "          conventions. Note that the HIERARCH comments contain the              \n",
       "          appropriate key mapping                                               \n",
       "META_0  =                    T / Flip YX in Display                             \n",
       "CRPIX1  =                  1.0 / [] WCS: Reference pixel position axis 1        \n",
       "CRPIX2  =                  1.0 / [] WCS: Reference pixel position axis 2        \n",
       "CRVAL1  =                  0.0 / [] WCS: First coordinate of reference pixel    \n",
       "CRVAL2  =                  0.0 / [] WCS: Second coordinate of reference pixel   \n",
       "CTYPE1  = 'LINEAR  '           / WCS: Projection type axis 1, default=\"LINEAR\"  \n",
       "CTYPE2  = 'LINEAR  '           / WCS: Projection type axis 2, default=\"LINEAR\"  \n",
       "CUNIT1  = 'pixel   '           / WCS: Unit axis 1, default=\"\"                   \n",
       "CUNIT2  = 'pixel   '           / WCS: Unit axis 2, default=\"\"                   \n",
       "CROTA2  =    15.99072590346168 / [] The Rotation angle                          \n",
       "CDELT1  =    0.002490386266803 / [] WCS: Pixel scale axis 1, unit=Angle         \n",
       "CDELT2  =    0.002490386266803 / [] WCS: Pixel scale axis 2, unit=Angle         \n",
       "CUNIT3  = 'um      '           / WCS: Unit axis 3, default=\"\"                   \n",
       "META_1  = 'Wavelength'         / Description of the 3rd axis                    \n",
       "CTYPE3  = 'WAVE-TAB'           / WCS: Description of the 3rd axis               \n",
       "META_2  = 'wcs-tab '           / The name of the ImageIndex column              \n",
       "META_3  = 'wavelen '           / The wavelength column                          \n",
       "META_4  = 'layer   '           / The index column                               \n",
       "HIERARCH  key.META_0='flipyx'                                                   \n",
       "HIERARCH  key.CRPIX1='crpix1'                                                   \n",
       "HIERARCH  key.CRPIX2='crpix2'                                                   \n",
       "HIERARCH  key.CRVAL1='crval1'                                                   \n",
       "HIERARCH  key.CRVAL2='crval2'                                                   \n",
       "HIERARCH  key.CTYPE1='ctype1'                                                   \n",
       "HIERARCH  key.CTYPE2='ctype2'                                                   \n",
       "HIERARCH  key.CUNIT1='cunit1'                                                   \n",
       "HIERARCH  key.CUNIT2='cunit2'                                                   \n",
       "HIERARCH  key.CROTA2='crota2'                                                   \n",
       "HIERARCH  key.CDELT1='cdelt1'                                                   \n",
       "HIERARCH  key.CDELT2='cdelt2'                                                   \n",
       "HIERARCH  key.CUNIT3='cunit3'                                                   \n",
       "HIERARCH  key.META_1='cdesc3'                                                   \n",
       "HIERARCH  key.CTYPE3='ctype3'                                                   \n",
       "HIERARCH  key.META_2='ps3_0'                                                    \n",
       "HIERARCH  key.META_3='ps3_1'                                                    \n",
       "HIERARCH  key.META_4='ps3_2'                                                    "
      ]
     },
     "execution_count": 48,
     "metadata": {},
     "output_type": "execute_result"
    }
   ],
   "source": [
    "hdulist[1].header"
   ]
  },
  {
   "cell_type": "code",
   "execution_count": 49,
   "metadata": {
    "collapsed": false
   },
   "outputs": [
    {
     "data": {
      "text/plain": [
       "(1732, 5, 5)"
      ]
     },
     "execution_count": 49,
     "metadata": {},
     "output_type": "execute_result"
    }
   ],
   "source": [
    "np.shape(hdulist[1].data)"
   ]
  },
  {
   "cell_type": "code",
   "execution_count": 89,
   "metadata": {
    "collapsed": false
   },
   "outputs": [
    {
     "data": {
      "text/plain": [
       "[<matplotlib.lines.Line2D at 0x2af817c6ecd0>]"
      ]
     },
     "execution_count": 89,
     "metadata": {},
     "output_type": "execute_result"
    },
    {
     "data": {
      "image/png": "[encoded data removed]",
      "text/plain": [
       "<matplotlib.figure.Figure at 0x2af806873390>"
      ]
     },
     "metadata": {},
     "output_type": "display_data"
    }
   ],
   "source": [
    "import matplotlib.pyplot as plt\n",
    "spec = hdulist[1].data[:,2,2]*0\n",
    "for i in range(1,4):\n",
    "    for j in range(1,4):\n",
    "        spec = spec + hdulist[1].data[:,i,j]\n",
    "plt.plot(hdulist[8].data, spec)"
   ]
  },
  {
   "cell_type": "code",
   "execution_count": 93,
   "metadata": {
    "collapsed": false
   },
   "outputs": [
    {
     "data": {
      "text/plain": [
       "[<matplotlib.lines.Line2D at 0x2af806830bd0>]"
      ]
     },
     "execution_count": 93,
     "metadata": {},
     "output_type": "execute_result"
    },
    {
     "data": {
      "image/png": "[encoded data removed]",
      "text/plain": [
       "<matplotlib.figure.Figure at 0x2af80d6907d0>"
      ]
     },
     "metadata": {},
     "output_type": "display_data"
    }
   ],
   "source": [
    "from astropy.io import ascii\n",
    "data = ascii.read(outdir+o[0]+'/pacs/data/'+o[0]+'_pacs_weighted.txt')\n",
    "plt.plot(data['Wavelength(um)'][data['Wavelength(um)'] <= 72.5], data['Flux_Density(Jy)'][data['Wavelength(um)'] <= 72.5])"
   ]
  },
  {
   "cell_type": "code",
   "execution_count": null,
   "metadata": {
    "collapsed": true
   },
   "outputs": [],
   "source": []
  }
 ],
 "metadata": {
  "kernelspec": {
   "display_name": "Python 2",
   "language": "python",
   "name": "python2"
  },
  "language_info": {
   "codemirror_mode": {
    "name": "ipython",
    "version": 2
   },
   "file_extension": ".py",
   "mimetype": "text/x-python",
   "name": "python",
   "nbconvert_exporter": "python",
   "pygments_lexer": "ipython2",
   "version": "2.7.11"
  }
 },
 "nbformat": 4,
 "nbformat_minor": 0
}
