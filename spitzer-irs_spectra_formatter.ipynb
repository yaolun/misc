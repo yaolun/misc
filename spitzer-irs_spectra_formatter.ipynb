{
 "cells": [
  {
   "cell_type": "markdown",
   "metadata": {},
   "source": [
    "# Modify Spitzer-IRS SL spectra for fitting"
   ]
  },
  {
   "cell_type": "code",
   "execution_count": 33,
   "metadata": {
    "collapsed": false
   },
   "outputs": [
    {
     "name": "stdout",
     "output_type": "stream",
     "text": [
      "/Users/yaolun/data/hh168_texes/ggd37-yaolun/17857536/*TRIM.txt\n"
     ]
    }
   ],
   "source": [
    "indir = '/Users/yaolun/data/hh168_texes/ggd37-yaolun/'\n",
    "obsid = ['17856768', '17857536']\n",
    "\n",
    "import glob\n",
    "import os\n",
    "\n",
    "filelist = glob.glob(indir+obsid[1]+'/*TRIM.txt')\n",
    "print(indir+obsid[1]+'/*TRIM.txt')"
   ]
  },
  {
   "cell_type": "code",
   "execution_count": 34,
   "metadata": {
    "collapsed": false
   },
   "outputs": [
    {
     "name": "stdout",
     "output_type": "stream",
     "text": [
      "50\n",
      "100\n",
      "150\n",
      "200\n",
      "250\n",
      "300\n",
      "350\n",
      "400\n",
      "450\n",
      "500\n",
      "550\n",
      "600\n",
      "650\n",
      "700\n",
      "750\n",
      "800\n",
      "850\n",
      "900\n",
      "950\n",
      "1000\n",
      "1050\n",
      "1100\n",
      "1150\n",
      "1200\n",
      "1250\n",
      "1300\n",
      "1350\n",
      "1400\n",
      "1450\n",
      "1500\n",
      "1550\n",
      "1600\n",
      "1650\n",
      "1700\n",
      "1750\n",
      "1800\n",
      "1850\n",
      "1900\n",
      "1950\n",
      "2000\n",
      "2050\n",
      "2100\n",
      "2150\n",
      "2200\n",
      "2250\n",
      "2300\n",
      "2350\n",
      "2400\n",
      "2450\n",
      "2500\n",
      "2550\n",
      "2600\n",
      "2650\n",
      "2700\n",
      "2750\n",
      "2800\n",
      "2850\n",
      "2900\n",
      "2950\n",
      "3000\n",
      "3050\n",
      "3100\n",
      "3150\n",
      "3200\n",
      "3250\n",
      "3300\n",
      "3350\n",
      "3400\n",
      "3450\n",
      "3500\n",
      "3550\n",
      "3600\n",
      "3650\n",
      "3700\n",
      "3750\n",
      "3800\n",
      "3850\n",
      "3900\n",
      "3950\n"
     ]
    }
   ],
   "source": [
    "counter = 0\n",
    "for filename in filelist:\n",
    "    foo = open(filename, 'r').readlines()\n",
    "    if len(foo) != 423:\n",
    "        filename = os.path.dirname(filename)+'/'+os.path.basename(filename).split('.txt')[0]+'.txt'\n",
    "        foo = open(filename, 'r').readlines()\n",
    "#         continue\n",
    "    foo_new = open(os.path.dirname(filename)+'/'+os.path.basename(filename).split('.txt')[0]+'_TSA.txt','w')\n",
    "    for i, s in enumerate(foo):\n",
    "        if i >= 326:\n",
    "            foo_new.write(foo[i][:22]+'\\n')\n",
    "    foo_new.close()\n",
    "    counter += 1\n",
    "    \n",
    "    if counter%50 == 0:\n",
    "        print(counter)"
   ]
  },
  {
   "cell_type": "code",
   "execution_count": null,
   "metadata": {
    "collapsed": true
   },
   "outputs": [],
   "source": []
  }
 ],
 "metadata": {
  "kernelspec": {
   "display_name": "Python [conda root]",
   "language": "python",
   "name": "conda-root-py"
  },
  "language_info": {
   "codemirror_mode": {
    "name": "ipython",
    "version": 3
   },
   "file_extension": ".py",
   "mimetype": "text/x-python",
   "name": "python",
   "nbconvert_exporter": "python",
   "pygments_lexer": "ipython3",
   "version": "3.5.2"
  }
 },
 "nbformat": 4,
 "nbformat_minor": 2
}
