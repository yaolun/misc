{
 "cells": [
  {
   "cell_type": "code",
   "execution_count": 8,
   "metadata": {
    "collapsed": false
   },
   "outputs": [],
   "source": [
    "%matplotlib inline\n",
    "from astropy.io import fits\n",
    "import astropy.wcs as wcs\n",
    "import numpy as np\n",
    "import matplotlib.pyplot as plt"
   ]
  },
  {
   "cell_type": "code",
   "execution_count": 2,
   "metadata": {
    "collapsed": true
   },
   "outputs": [],
   "source": [
    "filename = '/Users/yaolun/test/hpacs1342224922_20hpppmapr_00_1431606963820.fits'\n",
    "rrange = [10, 200]\n",
    "annulus_width = 10"
   ]
  },
  {
   "cell_type": "code",
   "execution_count": 10,
   "metadata": {
    "collapsed": true
   },
   "outputs": [],
   "source": [
    "from astropy import units as u\n",
    "from astropy.coordinates import SkyCoord\n",
    "c = SkyCoord('12 01 36.81 -65 08 49.22', unit=(u.hourangle, u.deg))"
   ]
  },
  {
   "cell_type": "markdown",
   "metadata": {},
   "source": [
    "## Read in the image"
   ]
  },
  {
   "cell_type": "code",
   "execution_count": 52,
   "metadata": {
    "collapsed": false
   },
   "outputs": [],
   "source": [
    "hdu_im = fits.open(filename)\n",
    "im = hdu_im[1].data\n",
    "w = wcs.WCS(hdu_im[1].header)\n",
    "# get the pixel coordinates of the source\n",
    "pixcoord = w.wcs_world2pix(c.ra.degree, c.dec.degree, 1)\n",
    "pix2arcsec = abs(hdu_im[1].header['CDELT1'])*3600\n",
    "\n",
    "# number count array\n",
    "im_count = np.ones_like(im)"
   ]
  },
  {
   "cell_type": "code",
   "execution_count": 35,
   "metadata": {
    "collapsed": false
   },
   "outputs": [
    {
     "name": "stdout",
     "output_type": "stream",
     "text": [
      "Image unit is  Jy/pixel\n"
     ]
    }
   ],
   "source": [
    "# determine whether need to convert the unit\n",
    "factor = 1\n",
    "print 'Image unit is ', hdu_im[1].header['BUNIT']\n",
    "if hdu_im[1].header['BUNIT'] != 'Jy/pixel':\n",
    "    print 'Image unit is ', hdu_im[1].header['BUNIT']\n",
    "\n",
    "    if hdu_im[1].header['BUNIT'] == 'MJy/sr':\n",
    "        # convert intensity unit from MJy/sr to Jy/pixel\n",
    "        factor = 1e6/4.25e10*abs(hdu_im[1].header['CDELT1']*hdu_im[1].header['CDELT2'])*3600**2\n",
    "    else:\n",
    "        factor = raw_input('What is the conversion factor to Jy/pixel?')"
   ]
  },
  {
   "cell_type": "code",
   "execution_count": 45,
   "metadata": {
    "collapsed": false
   },
   "outputs": [
    {
     "name": "stdout",
     "output_type": "stream",
     "text": [
      "0.920406830303\n",
      "0.169085495528\n",
      "0.0252899564406\n",
      "0.0164453941391\n",
      "0.0107428722111\n",
      "0.00836495362988\n",
      "0.00701115426249\n",
      "0.0052473191903\n",
      "0.00420202627999\n",
      "0.00354440290677\n",
      "0.00258671690213\n",
      "0.00212275946589\n",
      "0.00215535338653\n",
      "0.00209375426536\n",
      "0.00164385943651\n",
      "0.00159477178125\n",
      "0.00188858381145\n",
      "0.00245210252662\n"
     ]
    }
   ],
   "source": [
    "r = np.arange(rrange[0], rrange[1], annulus_width, dtype=float)\n",
    "unc = np.empty_like(r)\n",
    "phot_buffer = []\n",
    "\n",
    "# construct the x- and y-matrix\n",
    "grid_x, grid_y = np.meshgrid(np.linspace(0,len(im[0,:])-1,len(im[0,:])), \n",
    "                             np.linspace(0,len(im[:,0])-1,len(im[:,0])))\n",
    "\n",
    "dist_x = abs(grid_x - (len(im[:,0]-1)/2.))\n",
    "dist_y = abs(grid_y - (len(im[0,:]-1)/2.))\n",
    "\n",
    "grid_dist = ((grid_x-pixcoord[0])**2+(grid_y-pixcoord[1])**2)**0.5\n",
    "\n",
    "for ir in range(len(r)-1):\n",
    "    im_dum = np.where((grid_dist < r[ir+1]/pix2arcsec) & (grid_dist >= r[ir]/pix2arcsec), im, np.nan)\n",
    "    im_count_dum = np.where((grid_dist < r[ir+1]/pix2arcsec) & (grid_dist >= r[ir]/pix2arcsec), im_count, np.nan)\n",
    "#     print np.nanstd(im_dum), np.nansum(im_count_dum)\n",
    "    print np.nanstd(im_dum)*factor/np.nansum(im_count_dum)"
   ]
  },
  {
   "cell_type": "code",
   "execution_count": 43,
   "metadata": {
    "collapsed": false
   },
   "outputs": [
    {
     "name": "stdout",
     "output_type": "stream",
     "text": [
      "92.0388472731\n",
      "153.398078789\n",
      "214.757310304\n",
      "276.116541819\n",
      "337.475773335\n",
      "398.83500485\n",
      "460.194236366\n",
      "521.553467881\n",
      "582.912699397\n",
      "644.271930912\n",
      "705.631162427\n",
      "766.990393943\n",
      "828.349625458\n",
      "889.708856974\n",
      "951.068088489\n",
      "1012.42732\n",
      "1073.78655152\n",
      "1135.14578304\n"
     ]
    }
   ],
   "source": [
    "from photutils import aperture_photometry as ap\n",
    "from photutils import CircularAperture, CircularAnnulus\n",
    "\n",
    "for ir in range(len(r)-1):\n",
    "    aperture = CircularAnnulus((pixcoord[0],pixcoord[1]), r_in=r[ir]/pix2arcsec, r_out=r[ir+1]/pix2arcsec)\n",
    "    phot = ap(im, aperture)\n",
    "    print aperture.area()\n",
    "#     I[ir] = phot['aperture_sum'].data * factor / aperture.area()\n",
    "#     I_err[ir] = phot['aperture_sum_err'].data * factor / aperture.area()"
   ]
  },
  {
   "cell_type": "markdown",
   "metadata": {
    "collapsed": false
   },
   "source": [
    "## Take a different approach"
   ]
  },
  {
   "cell_type": "markdown",
   "metadata": {
    "collapsed": true
   },
   "source": [
    "Vary the radius by a pixel to see how sensitive of the enclosed flux to the position"
   ]
  },
  {
   "cell_type": "code",
   "execution_count": 55,
   "metadata": {
    "collapsed": true
   },
   "outputs": [],
   "source": [
    "from photutils import aperture_photometry as ap\n",
    "from photutils import CircularAperture, CircularAnnulus"
   ]
  },
  {
   "cell_type": "code",
   "execution_count": 68,
   "metadata": {
    "collapsed": true
   },
   "outputs": [],
   "source": [
    "offset = 0\n",
    "r = np.arange(rrange[0], rrange[1], annulus_width, dtype=float) + offset*pix2arcsec\n",
    "I = np.empty_like(r[:-1])\n",
    "\n",
    "for ir in range(len(r1)-1):\n",
    "    aperture = CircularAnnulus((pixcoord[0],pixcoord[1]), r_in=r[ir]/pix2arcsec, r_out=r[ir+1]/pix2arcsec)\n",
    "    phot = ap(im, aperture)\n",
    "    I[ir] = phot['aperture_sum'].data * factor / aperture.area()"
   ]
  },
  {
   "cell_type": "code",
   "execution_count": 67,
   "metadata": {
    "collapsed": false
   },
   "outputs": [],
   "source": [
    "offset = -1\n",
    "r1 = np.arange(rrange[0], rrange[1], annulus_width, dtype=float) + offset*pix2arcsec\n",
    "I1 = np.empty_like(r[:-1])\n",
    "\n",
    "for ir in range(len(r1)-1):\n",
    "    aperture = CircularAnnulus((pixcoord[0],pixcoord[1]), r_in=r1[ir]/pix2arcsec, r_out=r1[ir+1]/pix2arcsec)\n",
    "    phot = ap(im, aperture)\n",
    "    I1[ir] = phot['aperture_sum'].data * factor / aperture.area()"
   ]
  },
  {
   "cell_type": "code",
   "execution_count": 66,
   "metadata": {
    "collapsed": true
   },
   "outputs": [],
   "source": [
    "offset = 1\n",
    "r2 = np.arange(rrange[0], rrange[1], annulus_width, dtype=float) + offset*pix2arcsec\n",
    "I2 = np.empty_like(r[:-1])\n",
    "\n",
    "for ir in range(len(r1)-1):\n",
    "    aperture = CircularAnnulus((pixcoord[0],pixcoord[1]), r_in=r2[ir]/pix2arcsec, r_out=r2[ir+1]/pix2arcsec)\n",
    "    phot = ap(im, aperture)\n",
    "    I2[ir] = phot['aperture_sum'].data * factor / aperture.area()"
   ]
  },
  {
   "cell_type": "code",
   "execution_count": 70,
   "metadata": {
    "collapsed": true
   },
   "outputs": [],
   "source": [
    "I_err = (abs(I1-I)**2 + abs(I2-I)**2)**0.5"
   ]
  },
  {
   "cell_type": "code",
   "execution_count": 74,
   "metadata": {
    "collapsed": false
   },
   "outputs": [
    {
     "data": {
      "image/png": "[encoded data removed]",
      "text/plain": [
       "<matplotlib.figure.Figure at 0x10b07e590>"
      ]
     },
     "metadata": {},
     "output_type": "display_data"
    }
   ],
   "source": [
    "plt.errorbar(r[:-1], I/I.max(), yerr=I_err/I.max())\n",
    "plt.yscale('log')\n",
    "plt.xscale('log')"
   ]
  },
  {
   "cell_type": "code",
   "execution_count": null,
   "metadata": {
    "collapsed": true
   },
   "outputs": [],
   "source": []
  }
 ],
 "metadata": {
  "kernelspec": {
   "display_name": "Python 2",
   "language": "python",
   "name": "python2"
  },
  "language_info": {
   "codemirror_mode": {
    "name": "ipython",
    "version": 2
   },
   "file_extension": ".py",
   "mimetype": "text/x-python",
   "name": "python",
   "nbconvert_exporter": "python",
   "pygments_lexer": "ipython2",
   "version": "2.7.11"
  }
 },
 "nbformat": 4,
 "nbformat_minor": 0
}
