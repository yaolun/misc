{
 "cells": [
  {
   "cell_type": "code",
   "execution_count": 2,
   "metadata": {
    "collapsed": true
   },
   "outputs": [],
   "source": [
    "%matplotlib inline\n",
    "import numpy as np\n",
    "import matplotlib.pyplot as plt"
   ]
  },
  {
   "cell_type": "markdown",
   "metadata": {},
   "source": [
    "## Create a 2-D Gaussian"
   ]
  },
  {
   "cell_type": "code",
   "execution_count": 77,
   "metadata": {
    "collapsed": false
   },
   "outputs": [],
   "source": [
    "def gaussRefBeamTest(GRBD):\n",
    "    A, mu, sigma = 1, 0, GRBD\n",
    "    source_size = 24.75\n",
    "#     x = np.linspace(-3*sigma, 3*sigma, sigma*12.+1).reshape(int(sigma*12)+1,1)\n",
    "#     y = np.linspace(-3*sigma, 3*sigma, sigma*12.+1).reshape(int(sigma*12)+1,1)\n",
    "    x = np.linspace(-150, 150, 601).reshape(601,1)\n",
    "    y = np.linspace(-150, 150, 601).reshape(601,1)\n",
    "#     gauss2d = A*np.dot(np.exp(-(x-mu)**2/(2.*sigma**2)), np.exp(-(y.T-mu)**2/(2.*sigma**2)))\n",
    "    tophat2d = np.dot(x, y.T)\n",
    "    tophat2d[tophat2d > source_size**2] = 0.0\n",
    "    tophat2d[tophat2d <= source_size**2] = 1.0\n",
    "    print tophat2d\n",
    "    tophat2d = np.empty_like(np.dot(x, y.T))\n",
    "    for i in range(len(x)):\n",
    "        for j in range(len(y)):\n",
    "            if x[i]**2+y[j]**2 > source_size**2:\n",
    "                tophat2d[i,j] = 0.0\n",
    "            else:\n",
    "                tophat2d[i,j] = 1.0\n",
    "\n",
    "    # create a tophat2d kernel\n",
    "    from astropy.convolution import convolve, Tophat2DKernel, Gaussian2DKernel\n",
    "    tophat_kernel = Tophat2DKernel(source_size)\n",
    "    gauss2d_kernel = Gaussian2DKernel(GRBD/0.5)\n",
    "\n",
    "    # convolve with gaussian reference beam\n",
    "#     result_beam = convolve(gauss2d, tophat_kernel)\n",
    "    result_beam = convolve(tophat2d, gauss2d_kernel)\n",
    "    \n",
    "    return result_beam"
   ]
  },
  {
   "cell_type": "code",
   "execution_count": null,
   "metadata": {
    "collapsed": true
   },
   "outputs": [],
   "source": [
    "gaussRefBeamTest(40.)"
   ]
  },
  {
   "cell_type": "code",
   "execution_count": 76,
   "metadata": {
    "collapsed": false
   },
   "outputs": [
    {
     "name": "stdout",
     "output_type": "stream",
     "text": [
      "0.97523645568\n"
     ]
    }
   ],
   "source": [
    "im_40 = gaussRefBeamTest(40.)\n",
    "im_31 = gaussRefBeamTest(31.)\n",
    "print np.sum(im_40)/np.sum(im_31)"
   ]
  },
  {
   "cell_type": "code",
   "execution_count": 58,
   "metadata": {
    "collapsed": true
   },
   "outputs": [],
   "source": [
    "def phot(im, aper):\n",
    "    # do aperture photometry as calculating the integral within a certain boundary\n",
    "    from photutils import aperture_photometry as ap\n",
    "    from photutils import CircularAperture\n",
    "    apertures = CircularAperture((len(im[:,0])/2.-0.5,len(im[0,:])/2.-0.5), r=aper/0.5)\n",
    "    phot = ap(im, apertures)\n",
    "    \n",
    "    return phot"
   ]
  },
  {
   "cell_type": "code",
   "execution_count": 63,
   "metadata": {
    "collapsed": false
   },
   "outputs": [
    {
     "name": "stdout",
     "output_type": "stream",
     "text": [
      "[ 10679.84054148] [ 15538.42091268]\n"
     ]
    }
   ],
   "source": [
    "print phot(result_beam, 31.8)['aperture_sum'].data, phot(result_beam, 40)['aperture_sum'].data"
   ]
  },
  {
   "cell_type": "code",
   "execution_count": null,
   "metadata": {
    "collapsed": true
   },
   "outputs": [],
   "source": []
  }
 ],
 "metadata": {
  "kernelspec": {
   "display_name": "Python 2",
   "language": "python",
   "name": "python2"
  },
  "language_info": {
   "codemirror_mode": {
    "name": "ipython",
    "version": 2
   },
   "file_extension": ".py",
   "mimetype": "text/x-python",
   "name": "python",
   "nbconvert_exporter": "python",
   "pygments_lexer": "ipython2",
   "version": "2.7.10"
  }
 },
 "nbformat": 4,
 "nbformat_minor": 0
}
