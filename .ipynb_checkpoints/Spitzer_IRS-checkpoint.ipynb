{
 "cells": [
  {
   "cell_type": "code",
   "execution_count": 1,
   "metadata": {
    "collapsed": false
   },
   "outputs": [
    {
     "name": "stderr",
     "output_type": "stream",
     "text": [
      "/Users/yaolun/anaconda/lib/python2.7/site-packages/matplotlib/font_manager.py:273: UserWarning: Matplotlib is building the font cache using fc-list. This may take a moment.\n",
      "  warnings.warn('Matplotlib is building the font cache using fc-list. This may take a moment.')\n"
     ]
    }
   ],
   "source": [
    "%matplotlib inline\n",
    "import numpy as np\n",
    "import matplotlib.pyplot as plt\n",
    "from astropy.io import ascii"
   ]
  },
  {
   "cell_type": "code",
   "execution_count": 3,
   "metadata": {
    "collapsed": true
   },
   "outputs": [],
   "source": [
    "filename = '/Users/yaolun/data/Spitzer/IRAS03301+3111.tbl'\n",
    "data = ascii.read(filename)"
   ]
  },
  {
   "cell_type": "code",
   "execution_count": 4,
   "metadata": {
    "collapsed": false
   },
   "outputs": [
    {
     "data": {
      "text/html": [
       "&lt;Table length=189&gt;\n",
       "<table id=\"table4488158928\">\n",
       "<thead><tr><th>order</th><th>wavelength</th><th>flux_density</th><th>error</th><th>bit-flag</th></tr></thead>\n",
       "<thead><tr><th></th><th>microns</th><th>Jy</th><th>Jy</th><th></th></tr></thead>\n",
       "<thead><tr><th>int64</th><th>float64</th><th>float64</th><th>float64</th><th>int64</th></tr></thead>\n",
       "<tr><td>1</td><td>5.21725</td><td>0.276745</td><td>0.003355</td><td>0</td></tr>\n",
       "<tr><td>1</td><td>5.24749</td><td>0.277015</td><td>0.003418</td><td>0</td></tr>\n",
       "<tr><td>1</td><td>5.27773</td><td>0.281713</td><td>0.003344</td><td>0</td></tr>\n",
       "<tr><td>1</td><td>5.30797</td><td>0.284438</td><td>0.003197</td><td>0</td></tr>\n",
       "<tr><td>1</td><td>5.33821</td><td>0.287679</td><td>0.003117</td><td>0</td></tr>\n",
       "<tr><td>1</td><td>5.36846</td><td>0.291589</td><td>0.003082</td><td>0</td></tr>\n",
       "<tr><td>1</td><td>5.3987</td><td>0.290087</td><td>0.003146</td><td>0</td></tr>\n",
       "<tr><td>1</td><td>5.42894</td><td>0.293731</td><td>0.003035</td><td>0</td></tr>\n",
       "<tr><td>1</td><td>5.45918</td><td>0.29747</td><td>0.003053</td><td>0</td></tr>\n",
       "<tr><td>...</td><td>...</td><td>...</td><td>...</td><td>...</td></tr>\n",
       "<tr><td>2</td><td>13.68497</td><td>2.078295</td><td>0.007205</td><td>0</td></tr>\n",
       "<tr><td>2</td><td>13.74545</td><td>2.104141</td><td>0.007421</td><td>0</td></tr>\n",
       "<tr><td>2</td><td>13.80593</td><td>2.136083</td><td>0.007292</td><td>0</td></tr>\n",
       "<tr><td>2</td><td>13.86642</td><td>2.149979</td><td>0.007416</td><td>0</td></tr>\n",
       "<tr><td>2</td><td>13.9269</td><td>2.170853</td><td>0.007505</td><td>0</td></tr>\n",
       "<tr><td>2</td><td>13.98738</td><td>2.197363</td><td>0.00783</td><td>0</td></tr>\n",
       "<tr><td>2</td><td>14.04787</td><td>2.220668</td><td>0.008177</td><td>0</td></tr>\n",
       "<tr><td>2</td><td>14.10835</td><td>2.244951</td><td>0.008029</td><td>0</td></tr>\n",
       "<tr><td>2</td><td>14.16884</td><td>2.250363</td><td>0.008189</td><td>0</td></tr>\n",
       "<tr><td>2</td><td>14.22932</td><td>2.211209</td><td>0.00828</td><td>128</td></tr>\n",
       "</table>"
      ],
      "text/plain": [
       "<Table length=189>\n",
       "order wavelength flux_density  error   bit-flag\n",
       "       microns        Jy         Jy            \n",
       "int64  float64     float64    float64   int64  \n",
       "----- ---------- ------------ -------- --------\n",
       "    1    5.21725     0.276745 0.003355        0\n",
       "    1    5.24749     0.277015 0.003418        0\n",
       "    1    5.27773     0.281713 0.003344        0\n",
       "    1    5.30797     0.284438 0.003197        0\n",
       "    1    5.33821     0.287679 0.003117        0\n",
       "    1    5.36846     0.291589 0.003082        0\n",
       "    1     5.3987     0.290087 0.003146        0\n",
       "    1    5.42894     0.293731 0.003035        0\n",
       "    1    5.45918      0.29747 0.003053        0\n",
       "  ...        ...          ...      ...      ...\n",
       "    2   13.68497     2.078295 0.007205        0\n",
       "    2   13.74545     2.104141 0.007421        0\n",
       "    2   13.80593     2.136083 0.007292        0\n",
       "    2   13.86642     2.149979 0.007416        0\n",
       "    2    13.9269     2.170853 0.007505        0\n",
       "    2   13.98738     2.197363  0.00783        0\n",
       "    2   14.04787     2.220668 0.008177        0\n",
       "    2   14.10835     2.244951 0.008029        0\n",
       "    2   14.16884     2.250363 0.008189        0\n",
       "    2   14.22932     2.211209  0.00828      128"
      ]
     },
     "execution_count": 4,
     "metadata": {},
     "output_type": "execute_result"
    }
   ],
   "source": [
    "data"
   ]
  },
  {
   "cell_type": "code",
   "execution_count": 5,
   "metadata": {
    "collapsed": false
   },
   "outputs": [
    {
     "data": {
      "text/plain": [
       "[<matplotlib.lines.Line2D at 0x10de76790>]"
      ]
     },
     "execution_count": 5,
     "metadata": {},
     "output_type": "execute_result"
    },
    {
     "data": {
      "image/png": "[encoded data removed]",
      "text/plain": [
       "<matplotlib.figure.Figure at 0x10b83d990>"
      ]
     },
     "metadata": {},
     "output_type": "display_data"
    }
   ],
   "source": [
    "\n",
    "plt.plot(data['wavelength'], data['flux_density'])\n",
    "plt."
   ]
  },
  {
   "cell_type": "code",
   "execution_count": null,
   "metadata": {
    "collapsed": true
   },
   "outputs": [],
   "source": []
  }
 ],
 "metadata": {
  "kernelspec": {
   "display_name": "Python 2",
   "language": "python",
   "name": "python2"
  },
  "language_info": {
   "codemirror_mode": {
    "name": "ipython",
    "version": 2
   },
   "file_extension": ".py",
   "mimetype": "text/x-python",
   "name": "python",
   "nbconvert_exporter": "python",
   "pygments_lexer": "ipython2",
   "version": "2.7.11"
  }
 },
 "nbformat": 4,
 "nbformat_minor": 0
}
