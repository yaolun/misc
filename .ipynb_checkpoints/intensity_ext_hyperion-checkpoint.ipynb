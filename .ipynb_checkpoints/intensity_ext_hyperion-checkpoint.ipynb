{
 "cells": [
  {
   "cell_type": "code",
   "execution_count": 2,
   "metadata": {
    "collapsed": false
   },
   "outputs": [
    {
     "name": "stderr",
     "output_type": "stream",
     "text": [
      "/Users/yaolun/anaconda/lib/python2.7/site-packages/matplotlib/font_manager.py:273: UserWarning: Matplotlib is building the font cache using fc-list. This may take a moment.\n",
      "  warnings.warn('Matplotlib is building the font cache using fc-list. This may take a moment.')\n"
     ]
    }
   ],
   "source": [
    "%matplotlib inline"
   ]
  },
  {
   "cell_type": "code",
   "execution_count": 1,
   "metadata": {
    "collapsed": false
   },
   "outputs": [],
   "source": [
    "def intensity_snapshot(filename, outdir, range_dict, log=True):\n",
    "    import numpy as np\n",
    "    import os\n",
    "    import matplotlib.pyplot as plt\n",
    "    from mpl_toolkits.axes_grid1 import make_axes_locatable\n",
    "    import astropy.constants as const\n",
    "    from hyperion.model import Model, ModelOutput\n",
    "    \n",
    "    if not os.path.exists(outdir):\n",
    "        os.makedirs(outdir)\n",
    "        \n",
    "    # constants setup\n",
    "    c = const.c.cgs.value\n",
    "    pc = const.pc.cgs.value\n",
    "    \n",
    "    # read in the hyperion output\n",
    "    m = ModelOutput(filename)\n",
    "    # read the image slice\n",
    "    image = m.get_image(group=22, inclination=0, distance=178.0 * pc, units='MJy/sr')\n",
    "    \n",
    "    # get wavelength range and number info from inputs\n",
    "    wave_min, wave_max = range_dict['range']\n",
    "    wave_num = range_dict['num']\n",
    "    \n",
    "    if log == False:\n",
    "        wave_array = np.linspace(wave_min, wave_max, wave_num)\n",
    "    else:\n",
    "        wave_array = wave_min * (wave_max/wave_min)**(np.arange(wave_num+1).astype(dtype='float')/float(wave_num))\n",
    "    i = 1\n",
    "    for wav in wave_array:\n",
    "        print 'plotting %4.1f um image' % wav\n",
    "        # Open figure and create axes\n",
    "        fig = plt.figure(figsize=(8,8))\n",
    "        ax = fig.add_subplot(111)\n",
    "\n",
    "        # Find the closest wavelength\n",
    "        iwav = np.argmin(np.abs(wav - image.wav))\n",
    "\n",
    "        # Calculate the image width in arcseconds given the distance used above\n",
    "        w = np.degrees((1.5 * pc) / image.distance) * 60.\n",
    "\n",
    "        # Image in the unit of MJy/sr\n",
    "        # Change it into erg/s/cm2/Hz/sr\n",
    "        factor = 1e-23*1e6\n",
    "        # avoid zero in log\n",
    "        val = image.val[::-1, :, iwav] * factor + 1e-30\n",
    "#         val[val < 1e-22] = np.nan\n",
    "        \n",
    "        # This is the command to show the image. The parameters vmin and vmax are\n",
    "        # the min and max levels for the colorscale (remove for default values).\n",
    "        im = ax.imshow(np.log10(val), vmin= -22, vmax= -12,\n",
    "                  cmap=plt.cm.jet, origin='lower', extent=[-w, w, -w, w], aspect=1)\n",
    "\n",
    "        # Colorbar setting\n",
    "        # create an axes on the right side of ax. The width of cax will be 5%\n",
    "        # of ax and the padding between cax and ax will be fixed at 0.05 inch.\n",
    "        divider = make_axes_locatable(ax)\n",
    "        cax = divider.append_axes(\"right\", size=\"5%\", pad=0.05)\n",
    "        cb = fig.colorbar(im, cax=cax)\n",
    "        cb.solids.set_edgecolor(\"face\")\n",
    "        cb.ax.minorticks_on()\n",
    "        cb.ax.set_ylabel(r'$\\mathrm{log(I_{\\nu})~[erg/s/cm^{2}/Hz/sr]}$',fontsize=12)\n",
    "        cb_obj = plt.getp(cb.ax.axes, 'yticklabels')\n",
    "        plt.setp(cb_obj,fontsize=12)\n",
    "        \n",
    "        ax.text(0.95, 0.92, r'$\\mathrm{%4.1f~\\mu m}$' % wav, color='w', fontsize=18, transform=ax.transAxes, horizontalalignment='right')\n",
    "        \n",
    "        # Finalize the plot\n",
    "        ax.set_xlabel('RA Offset (arcsec)', fontsize=14)\n",
    "        ax.set_ylabel('Dec Offset (arcsec)', fontsize=14)\n",
    "        ax.tick_params(axis='both', which='major', labelsize=16)\n",
    "        \n",
    "        fig.savefig(outdir+'/intensity_%03d.pdf' % i, format='pdf', dpi=300, bbox_inches='tight')\n",
    "        i = i + 1\n",
    "        fig.clf()"
   ]
  },
  {
   "cell_type": "code",
   "execution_count": null,
   "metadata": {
    "collapsed": false
   },
   "outputs": [],
   "source": [
    "range_dict = {'range':(3.6, 670), 'num': 200}\n",
    "filename = '/Users/yaolun/bhr71/hyperion/cycle6/model47.rtout'\n",
    "outdir = '/Users/yaolun/test/intensity_snap'\n",
    "intensity_snapshot(filename, outdir, range_dict)"
   ]
  },
  {
   "cell_type": "code",
   "execution_count": null,
   "metadata": {
    "collapsed": false
   },
   "outputs": [],
   "source": [
    "range_dict = {'range':(3.6, 2.6), 'num': 1}\n",
    "filename = '/Users/yaolun/bhr71/hyperion/cycle6/model47.rtout'\n",
    "outdir = '/Users/yaolun/test/intensity_snap'\n",
    "intensity_snapshot(filename, outdir, range_dict)"
   ]
  }
 ],
 "metadata": {
  "kernelspec": {
   "display_name": "Python 2",
   "language": "python",
   "name": "python2"
  },
  "language_info": {
   "codemirror_mode": {
    "name": "ipython",
    "version": 2
   },
   "file_extension": ".py",
   "mimetype": "text/x-python",
   "name": "python",
   "nbconvert_exporter": "python",
   "pygments_lexer": "ipython2",
   "version": "2.7.11"
  }
 },
 "nbformat": 4,
 "nbformat_minor": 0
}
