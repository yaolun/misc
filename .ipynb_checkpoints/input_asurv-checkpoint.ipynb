{
 "cells": [
  {
   "cell_type": "code",
   "execution_count": 1,
   "metadata": {
    "collapsed": true
   },
   "outputs": [],
   "source": [
    "# This is a Python 3 script"
   ]
  },
  {
   "cell_type": "code",
   "execution_count": 1,
   "metadata": {
    "collapsed": false
   },
   "outputs": [],
   "source": [
    "# Format code for fortran code: FORMAT(I4,F10.3,F10.3)\n",
    "def ConstructInputASURV(fitting_table, line1, line2, outdir, obj=None):\n",
    "    from astropy.io import ascii\n",
    "    import numpy as np\n",
    "\n",
    "    data = ascii.read(fitting_table)\n",
    "    \n",
    "    # get line fitting results of a single object if specified\n",
    "    if obj != None:\n",
    "        data = data[data['Object'] == obj]\n",
    "    \n",
    "    \n",
    "    # Restrict to only select the 1-D spectra\n",
    "    data = data[data['Pixel_No.'] == 'c']\n",
    "    \n",
    "    data1 = data[data['Line'] == line1]\n",
    "    data2 = data[data['Line'] == line2]\n",
    "    \n",
    "    # make sure the objects have both PACS and SPIRE data\n",
    "    data1_filter = np.zeros_like(data1['Validity'].data, dtype='bool')\n",
    "    for i in range(len(data1)):\n",
    "        if data1['Object'][i] in data2['Object'].data:\n",
    "            data1_filter[i] = True\n",
    "\n",
    "    data2_filter = np.zeros_like(data2['Validity'].data, dtype='bool')\n",
    "    for i in range(len(data2)):\n",
    "        if data2['Object'][i] in data1['Object'].data:\n",
    "            data2_filter[i] = True\n",
    "    \n",
    "    data1 = data1[data1_filter]\n",
    "    data2 = data2[data2_filter]\n",
    "    \n",
    "    # replace the non-detection to upper limit\n",
    "    def FindUpperLimit(table):\n",
    "        upperlimit_flag = np.empty_like(table['Str(W/cm2)'].data, dtype=int)\n",
    "        linestr = np.empty_like(table['Str(W/cm2)'].data, dtype=float)\n",
    "        linestr_unc = np.empty_like(table['Str(W/cm2)'].data, dtype=float)\n",
    "        \n",
    "        for i in range(len(table)):\n",
    "            # for line fluxes with SNR < 3 or not able to fit properly\n",
    "            if (table['Validity'][i].astype('float') == '0') or (table['SNR'][i].astype('float') < 3.0):\n",
    "                upperlimit_flag[i] = -1\n",
    "                linestr[i] = table['Noise(W/cm2/um)'][i].astype('float')*table['FWHM(um)'][i].astype('float')*1.064*3\n",
    "                linestr_unc[i] = -1\n",
    "            else:\n",
    "                upperlimit_flag[i] = 0\n",
    "                linestr[i] = table['Str(W/cm2)'][i].astype('float')\n",
    "                linestr_unc[i] = table['Sig_str(W/cm2)'][i].astype('float')\n",
    "            \n",
    "        # convert the flux unit from W/cm2 to W/m2\n",
    "        linestr = linestr*1e4\n",
    "        linestr_unc[linestr_unc != -1] = linestr_unc[linestr_unc != -1]*1e4\n",
    "        \n",
    "        return upperlimit_flag, linestr, linestr_unc\n",
    "\n",
    "    ulf1, linestr1, linestr_unc1 = FindUpperLimit(data1)\n",
    "    ulf2, linestr2, linestr_unc2 = FindUpperLimit(data2)\n",
    "    \n",
    "    # check size\n",
    "    if len(linestr1) != len(linestr2):\n",
    "        print('The sizes of two arrays are inconsistent.')\n",
    "        return None\n",
    "    \n",
    "#     For bivariate data:\n",
    "\n",
    "#     3 : Both Independent and Dependent Variables are Lower Limits\n",
    "#     2 : Only independent Variable is a Lower Limit\n",
    "#     1 : Only Dependent Variable is a Lower Limit\n",
    "#     0 : Detected Point\n",
    "#     -1 : Only Dependent Variable is an Upper Limit\n",
    "#     -2 : Only Independent Variable is an Upper Limit\n",
    "#     -3 : Both Independent and Dependent Variables are Upper Limits\n",
    "\n",
    "    # Define data1 as the independent variable, and data2 as the dependent variable.\n",
    "    ulf1 = ulf1*2\n",
    "    ulf = ulf1+ulf2\n",
    "    \n",
    "    # writing out\n",
    "    foo = open(outdir+'co.dat', 'w')\n",
    "#     foo.write('# '+line1+' and '+line2+'\\n')\n",
    "#     foo.write('# flux in 10^-18 W/m2 unit. \\n')\n",
    "    for i in range(len(linestr1)):\n",
    "        foo.write('{:>4d}{:>10.3f}{:>10.3f} \\n'.format(ulf[i], linestr1[i]*1e18, linestr2[i]*1e18))\n",
    "    foo.close()\n",
    "    \n",
    "    # if no detection found, throw a flag\n",
    "    flag = True\n",
    "    if not 0 in ulf:\n",
    "        flag = False\n",
    "    return flag"
   ]
  },
  {
   "cell_type": "code",
   "execution_count": 2,
   "metadata": {
    "collapsed": false
   },
   "outputs": [],
   "source": [
    "def RunandParseASURV(code_dir, outdir):\n",
    "    import os\n",
    "    import subprocess\n",
    "    import sys\n",
    "    \n",
    "    ON_POSIX = 'posix' in sys.builtin_module_names\n",
    "    # claer out previous output to prevent seg fault\n",
    "    if os.path.exists(code_dir+'co.out'):\n",
    "        os.remove(code_dir+'co.out')\n",
    "\n",
    "#     p = subprocess.call([code_dir+'asurv_code'])\n",
    "    p = subprocess.Popen([code_dir+'asurv_code_static'], stdout=subprocess.PIPE, \n",
    "                         stderr=subprocess.PIPE, bufsize=1, close_fds=ON_POSIX)\n",
    "#     p.communicate()\n",
    "    print(p.stdout.readlines()[-1])\n",
    "    print(p.stderr.readlines())\n",
    "    \n",
    "    out = open(code_dir+'co.out', 'r').read().splitlines()\n",
    "\n",
    "    # [print(line) for line in out]\n",
    "\n",
    "    # find the result about generalized Kendall's Tau, and Spearman's Rho\n",
    "    for line in out:\n",
    "        if 'Z-VALUE' in line:\n",
    "            tau_i = out.index(line)\n",
    "        if 'SPEARMANS RHO =' in line:\n",
    "            spear_rho = out.index(line)\n",
    "\n",
    "    kendall = (float(out[tau_i].split('=')[-1].strip()), float(out[tau_i+1].split('=')[-1].strip()))\n",
    "    spearman = (float(out[spear_rho].split('=')[-1].strip()), float(out[spear_rho+1].split(' ')[16]))\n",
    "    line1, line2 = out[8].split('AND')[0].strip(), out[8].split('AND')[1].strip()\n",
    "#     print(kendall, spearman)\n",
    "#     os.rename(code_dir+'co.out', outdir+line1+'_'+line2+'.out')\n",
    "#     os.remove(code_dir+'co.out')\n",
    "\n",
    "    return kendall, spearman\n"
   ]
  },
  {
   "cell_type": "code",
   "execution_count": 87,
   "metadata": {
    "collapsed": false
   },
   "outputs": [
    {
     "name": "stdout",
     "output_type": "stream",
     "text": [
      "20 20\n",
      "b'                           PROBLEMS ARE FINISHED\\n'\n",
      "[]\n",
      "(2.802, 0.0051) (0.644, 0.005)\n"
     ]
    }
   ],
   "source": [
    "fitting_table = '/Volumes/SD-Mac/CDF_archive_v2_lines.txt'\n",
    "line1 = 'CO30-29'\n",
    "line2 = 'CO35-34'\n",
    "code_dir = '/Users/yaolun/astro_tools/'\n",
    "outdir = '/Users/yaolun/test/'\n",
    "ConstructInputASURV(fitting_table, line1, line2, outdir)\n",
    "k, s = RunandParseASURV(code_dir, outdir)\n",
    "print(k,s)"
   ]
  },
  {
   "cell_type": "code",
   "execution_count": 3,
   "metadata": {
    "collapsed": false
   },
   "outputs": [
    {
     "name": "stdout",
     "output_type": "stream",
     "text": [
      "45\n",
      "CO25-24 CO40-39\n",
      "CO25-24 CO36-35\n",
      "b' /Users/yaolun/astro_tools/\\n'\n",
      "[b'At line 2131 of file asurv_code_static.f (unit = 50)\\n', b\"Fortran runtime error: Cannot open file '/Users/yaolun/astro_tools/asurv.com': No such file or directory\\n\"]\n"
     ]
    },
    {
     "ename": "FileNotFoundError",
     "evalue": "[Errno 2] No such file or directory: '/Users/yaolun/astro_tools/co.out'",
     "output_type": "error",
     "traceback": [
      "\u001b[0;31m---------------------------------------------------------------------------\u001b[0m",
      "\u001b[0;31mFileNotFoundError\u001b[0m                         Traceback (most recent call last)",
      "\u001b[0;32m<ipython-input-3-30cde96ff15a>\u001b[0m in \u001b[0;36m<module>\u001b[0;34m()\u001b[0m\n\u001b[1;32m     26\u001b[0m     \u001b[0mflag\u001b[0m \u001b[0;34m=\u001b[0m \u001b[0mConstructInputASURV\u001b[0m\u001b[0;34m(\u001b[0m\u001b[0mfitting_table\u001b[0m\u001b[0;34m,\u001b[0m \u001b[0mline1\u001b[0m\u001b[0;34m,\u001b[0m \u001b[0mline2\u001b[0m\u001b[0;34m,\u001b[0m \u001b[0moutdir\u001b[0m\u001b[0;34m)\u001b[0m\u001b[0;34m\u001b[0m\u001b[0m\n\u001b[1;32m     27\u001b[0m     \u001b[0;32mif\u001b[0m \u001b[0mflag\u001b[0m\u001b[0;34m:\u001b[0m\u001b[0;34m\u001b[0m\u001b[0m\n\u001b[0;32m---> 28\u001b[0;31m         \u001b[0mk\u001b[0m\u001b[0;34m,\u001b[0m \u001b[0ms\u001b[0m \u001b[0;34m=\u001b[0m \u001b[0mRunandParseASURV\u001b[0m\u001b[0;34m(\u001b[0m\u001b[0mcode_dir\u001b[0m\u001b[0;34m,\u001b[0m \u001b[0moutdir\u001b[0m\u001b[0;34m)\u001b[0m\u001b[0;34m\u001b[0m\u001b[0m\n\u001b[0m\u001b[1;32m     29\u001b[0m         \u001b[0mprint\u001b[0m\u001b[0;34m(\u001b[0m\u001b[0mline1\u001b[0m\u001b[0;34m+\u001b[0m\u001b[0;34m'/'\u001b[0m\u001b[0;34m+\u001b[0m\u001b[0mline2\u001b[0m\u001b[0;34m,\u001b[0m \u001b[0mk\u001b[0m\u001b[0;34m,\u001b[0m \u001b[0ms\u001b[0m\u001b[0;34m)\u001b[0m\u001b[0;34m\u001b[0m\u001b[0m\n\u001b[1;32m     30\u001b[0m \u001b[0;34m\u001b[0m\u001b[0m\n",
      "\u001b[0;32m<ipython-input-2-faf74d51eda2>\u001b[0m in \u001b[0;36mRunandParseASURV\u001b[0;34m(code_dir, outdir)\u001b[0m\n\u001b[1;32m     16\u001b[0m     \u001b[0mprint\u001b[0m\u001b[0;34m(\u001b[0m\u001b[0mp\u001b[0m\u001b[0;34m.\u001b[0m\u001b[0mstderr\u001b[0m\u001b[0;34m.\u001b[0m\u001b[0mreadlines\u001b[0m\u001b[0;34m(\u001b[0m\u001b[0;34m)\u001b[0m\u001b[0;34m)\u001b[0m\u001b[0;34m\u001b[0m\u001b[0m\n\u001b[1;32m     17\u001b[0m \u001b[0;34m\u001b[0m\u001b[0m\n\u001b[0;32m---> 18\u001b[0;31m     \u001b[0mout\u001b[0m \u001b[0;34m=\u001b[0m \u001b[0mopen\u001b[0m\u001b[0;34m(\u001b[0m\u001b[0mcode_dir\u001b[0m\u001b[0;34m+\u001b[0m\u001b[0;34m'co.out'\u001b[0m\u001b[0;34m,\u001b[0m \u001b[0;34m'r'\u001b[0m\u001b[0;34m)\u001b[0m\u001b[0;34m.\u001b[0m\u001b[0mread\u001b[0m\u001b[0;34m(\u001b[0m\u001b[0;34m)\u001b[0m\u001b[0;34m.\u001b[0m\u001b[0msplitlines\u001b[0m\u001b[0;34m(\u001b[0m\u001b[0;34m)\u001b[0m\u001b[0;34m\u001b[0m\u001b[0m\n\u001b[0m\u001b[1;32m     19\u001b[0m \u001b[0;34m\u001b[0m\u001b[0m\n\u001b[1;32m     20\u001b[0m     \u001b[0;31m# [print(line) for line in out]\u001b[0m\u001b[0;34m\u001b[0m\u001b[0;34m\u001b[0m\u001b[0m\n",
      "\u001b[0;31mFileNotFoundError\u001b[0m: [Errno 2] No such file or directory: '/Users/yaolun/astro_tools/co.out'"
     ]
    }
   ],
   "source": [
    "import itertools\n",
    "from astropy.io import ascii\n",
    "# fitting_table = '/Volumes/SD-Mac/CDF_archive_v2_lines.txt'\n",
    "fitting_table = '/Users/yaolun/data/CDF_archive_v2/CDF_archive_v2_lines.txt'\n",
    "code_dir = '/Users/yaolun/astro_tools/'\n",
    "outdir = '/Users/yaolun/astro_tools/'\n",
    "data = ascii.read(fitting_table)['Line'].data\n",
    "co_list = list(set(list(filter(lambda k: k.startswith('CO'), data))))\n",
    "\n",
    "co_list = co_list[-10:]\n",
    "\n",
    "# print(list(itertools.combinations(co_list, 2)))\n",
    "\n",
    "co_pair_list = list(itertools.combinations(co_list, 2))\n",
    "print(len(co_pair_list))\n",
    "\n",
    "foo = open(outdir+'co_correlation.txt', 'w')\n",
    "foo.write('{:<10s}{:<10s}{:<10s}{:<10s}{:<10s}{:<10s}\\n'.format('Line1','Line2','Ken.z','Ken.prob','Spr.rho','Spr.prob'))\n",
    "\n",
    "for pair in co_pair_list:\n",
    "    line1 = pair[0]\n",
    "    line2 = pair[1]\n",
    "    \n",
    "    print(line1, line2)\n",
    "    \n",
    "    flag = ConstructInputASURV(fitting_table, line1, line2, outdir)\n",
    "    if flag:\n",
    "        k, s = RunandParseASURV(code_dir, outdir)\n",
    "        print(line1+'/'+line2, k, s)\n",
    "    \n",
    "        foo.write('{:<10s}{:<10s}{:<10.3f}{:<10.3f}{:<10.3f}{:<10.3f}\\n'.format(line1,line2,k[0],k[1],s[0],s[1]))\n",
    "    else:\n",
    "        foo.write('{:<10s}{:<10s}{:<10.3f}{:<10.3f}{:<10.3f}{:<10.3f}\\n'.format(line1,line2,0,0,0,0))\n",
    "    \n",
    "foo.close()"
   ]
  },
  {
   "cell_type": "code",
   "execution_count": null,
   "metadata": {
    "collapsed": false
   },
   "outputs": [],
   "source": [
    "%matplotlib inline\n",
    "import numpy as np\n",
    "import seaborn as sns\n",
    "import matplotlib.pyplot as plt\n",
    "from astropy.io import ascii\n",
    "data = ascii.read(outdir+'co.dat', names=['ufl', line1, line2])\n",
    "\n",
    "fig = plt.figure(figsize=(8,6))\n",
    "ax = fig.add_subplot(111)\n",
    "\n",
    "ax.plot(np.log10(data[line1][data['ufl'] == 0]), np.log10(data[line2][data['ufl'] == 0]), 'o',   mec='b', mfc='None',\n",
    "         markeredgewidth=1)\n",
    "# upper limit on x-axis\n",
    "ax.errorbar(np.log10(data[line1][data['ufl'] == -2]), np.log10(data[line2][data['ufl'] == -2]),\n",
    "             xerr=np.array([0.1]*len(data[line1][data['ufl'] == -2])), xuplims=True, fmt='o',   mec='b', mfc='None',\n",
    "             markeredgewidth=1, color='b', elinewidth=1)\n",
    "# # upper limit on y-axis\n",
    "ax.errorbar(np.log10(data[line1][data['ufl'] == -1]), np.log10(data[line2][data['ufl'] == -1]),\n",
    "             yerr=np.array([0.1]*len(data[line1][data['ufl'] == -1])), uplims=True, fmt='o',   mec='b', mfc='None',\n",
    "             markeredgewidth=1, color='b', elinewidth=1)\n",
    "# upper limit on both x-axis and y-axis\n",
    "ax.errorbar(np.log10(data[line1][data['ufl'] == -3]), np.log10(data[line2][data['ufl'] == -3]),\n",
    "             xerr=np.array([0.1]*len(data[line1][data['ufl'] == -3])), \n",
    "             yerr=np.array([0.1]*len(data[line1][data['ufl'] == -3])),\n",
    "             xuplims=True, uplims=True, fmt='o', mec='b', mfc='None',\n",
    "             markeredgewidth=1, color='b', elinewidth=1)\n",
    "ax.set_xlabel('CO J=24-23 [log(W m$^{-2}$)]', fontsize=18)\n",
    "ax.set_ylabel('CO J=30-29 [log(W m$^{-2}$)]', fontsize=18)\n",
    "ax.tick_params('both',labelsize=16,which='major')\n"
   ]
  },
  {
   "cell_type": "code",
   "execution_count": null,
   "metadata": {
    "collapsed": true
   },
   "outputs": [],
   "source": []
  }
 ],
 "metadata": {
  "anaconda-cloud": {},
  "kernelspec": {
   "display_name": "Python [default]",
   "language": "python",
   "name": "python3"
  },
  "language_info": {
   "codemirror_mode": {
    "name": "ipython",
    "version": 3
   },
   "file_extension": ".py",
   "mimetype": "text/x-python",
   "name": "python",
   "nbconvert_exporter": "python",
   "pygments_lexer": "ipython3",
   "version": "3.5.2"
  }
 },
 "nbformat": 4,
 "nbformat_minor": 0
}
