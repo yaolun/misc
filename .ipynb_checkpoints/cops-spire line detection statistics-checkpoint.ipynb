{
 "cells": [
  {
   "cell_type": "code",
   "execution_count": 13,
   "metadata": {},
   "outputs": [],
   "source": [
    "%matplotlin inline\n",
    "import matplotlib.pyplot as plt\n",
    "from astropy.io import ascii\n",
    "import numpy as np\n",
    "\n",
    "snr_threshold = 4\n",
    "\n",
    "archive_dir = '/Volumes/SD-Mac/CDF_archive_v2/'\n",
    "fitting = ascii.read(archive_dir+'CDF_archive_v2_lines.txt')\n",
    "# take only the SPIRE part\n",
    "# and take only the central spaxel\n",
    "fitting = fitting[(fitting['ObsWL(um)'] >= 200) & (fitting['Pixel_No.'] == 'c') & (fitting['Validity'] == 1)]\n",
    "\n",
    "# sort the object list and the line list\n",
    "obj_list = np.sort(list(set(fitting['Object'])))\n",
    "line_list = np.sort(list(set(fitting['Line'])))"
   ]
  },
  {
   "cell_type": "code",
   "execution_count": 73,
   "metadata": {},
   "outputs": [
    {
     "data": {
      "text/plain": [
       "array(['B1-a', 'B1-c', 'B335', 'BHR71', 'Ced110', 'DKCha', 'GSS30-IRS1',\n",
       "       'HH46', 'IRAS03245', 'IRAS03301', 'IRAS15398', 'L1014', 'L1157',\n",
       "       'L1455-IRS3', 'L1551-IRS5', 'L483', 'L723-MM', 'RCrA-IRS5A',\n",
       "       'RCrA-IRS7B', 'RCrA-IRS7C', 'RNO91', 'TMC1', 'TMC1A', 'TMR1',\n",
       "       'VLA1623', 'WL12'], \n",
       "      dtype='<U10')"
      ]
     },
     "execution_count": 73,
     "metadata": {},
     "output_type": "execute_result"
    }
   ],
   "source": [
    "obj_list"
   ]
  },
  {
   "cell_type": "code",
   "execution_count": 120,
   "metadata": {},
   "outputs": [
    {
     "name": "stdout",
     "output_type": "stream",
     "text": [
      "No detection of  13CO10-9\n",
      "No detection of  13CO11-10\n",
      "No detection of  13CO12-11\n",
      "No detection of  13CO13-12\n",
      "13CO5-4 ['Ced110' 'DKCha' 'GSS30-IRS1' 'HH46' 'L1551-IRS5' 'RCrA-IRS5A'\n",
      " 'RCrA-IRS7B' 'RCrA-IRS7C' 'VLA1623' 'WL12']\n",
      "13CO6-5 ['Ced110' 'GSS30-IRS1' 'HH46' 'RCrA-IRS5A' 'RCrA-IRS7B' 'RCrA-IRS7C' 'TMR1'\n",
      " 'VLA1623' 'WL12']\n",
      "13CO7-6 ['GSS30-IRS1' 'RCrA-IRS7B' 'RCrA-IRS7C']\n",
      "13CO8-7 ['RCrA-IRS7B' 'RCrA-IRS7C']\n",
      "13CO9-8 ['GSS30-IRS1' 'L1551-IRS5' 'RCrA-IRS7B' 'RCrA-IRS7C' 'VLA1623']\n",
      "No detection of  CH+1-0\n",
      "CI3P1-3P0 ['B1-a' 'B1-c' 'Ced110' 'GSS30-IRS1' 'HH46' 'IRAS03245' 'IRAS03301' 'L1014'\n",
      " 'L1551-IRS5' 'L483' 'L723-MM' 'RCrA-IRS5A' 'RCrA-IRS7B' 'RCrA-IRS7C'\n",
      " 'RNO91' 'TMR1' 'VLA1623' 'WL12']\n",
      "No detection of  CI3P2-3P0\n",
      "CI3P2-3P1 ['B1-a' 'B1-c' 'Ced110' 'GSS30-IRS1' 'HH46' 'IRAS03245' 'IRAS03301'\n",
      " 'RCrA-IRS5A' 'RCrA-IRS7B' 'RCrA-IRS7C' 'RNO91' 'TMC1A' 'TMR1' 'VLA1623'\n",
      " 'WL12']\n",
      "CO10-9 ['B1-a' 'B1-c' 'B335' 'BHR71' 'Ced110' 'DKCha' 'GSS30-IRS1' 'HH46'\n",
      " 'IRAS03245' 'IRAS03301' 'IRAS15398' 'L1157' 'L1551-IRS5' 'L483' 'L723-MM'\n",
      " 'RCrA-IRS5A' 'RCrA-IRS7B' 'RCrA-IRS7C' 'RNO91' 'TMC1' 'TMC1A' 'TMR1'\n",
      " 'VLA1623' 'WL12']\n",
      "CO11-10 ['B1-a' 'B1-c' 'B335' 'BHR71' 'Ced110' 'DKCha' 'GSS30-IRS1' 'HH46'\n",
      " 'IRAS03245' 'IRAS03301' 'IRAS15398' 'L1157' 'L1551-IRS5' 'L483' 'L723-MM'\n",
      " 'RCrA-IRS5A' 'RCrA-IRS7B' 'RCrA-IRS7C' 'RNO91' 'TMC1' 'TMC1A' 'TMR1'\n",
      " 'VLA1623' 'WL12']\n",
      "CO12-11 ['B1-a' 'B1-c' 'B335' 'BHR71' 'Ced110' 'DKCha' 'GSS30-IRS1' 'HH46'\n",
      " 'IRAS03245' 'IRAS03301' 'IRAS15398' 'L1157' 'L1551-IRS5' 'L483' 'L723-MM'\n",
      " 'RCrA-IRS5A' 'RCrA-IRS7B' 'RCrA-IRS7C' 'RNO91' 'TMC1' 'TMC1A' 'TMR1'\n",
      " 'VLA1623' 'WL12']\n",
      "CO13-12 ['B1-a' 'B1-c' 'B335' 'BHR71' 'Ced110' 'DKCha' 'GSS30-IRS1' 'HH46'\n",
      " 'IRAS03245' 'IRAS03301' 'IRAS15398' 'L1157' 'L1455-IRS3' 'L1551-IRS5'\n",
      " 'L483' 'L723-MM' 'RCrA-IRS5A' 'RCrA-IRS7B' 'RCrA-IRS7C' 'RNO91' 'TMC1'\n",
      " 'TMC1A' 'TMR1' 'VLA1623' 'WL12']\n",
      "CO4-3 ['B1-a' 'B1-c' 'B335' 'BHR71' 'Ced110' 'DKCha' 'GSS30-IRS1' 'HH46'\n",
      " 'IRAS03245' 'IRAS03301' 'IRAS15398' 'L1157' 'L1551-IRS5' 'L483' 'L723-MM'\n",
      " 'RCrA-IRS5A' 'RCrA-IRS7B' 'RCrA-IRS7C' 'RNO91' 'TMC1' 'TMC1A' 'TMR1'\n",
      " 'VLA1623' 'WL12']\n",
      "CO5-4 ['B1-a' 'B1-c' 'B335' 'BHR71' 'Ced110' 'DKCha' 'GSS30-IRS1' 'HH46'\n",
      " 'IRAS03245' 'IRAS03301' 'IRAS15398' 'L1157' 'L1551-IRS5' 'L483' 'L723-MM'\n",
      " 'RCrA-IRS5A' 'RCrA-IRS7B' 'RCrA-IRS7C' 'RNO91' 'TMC1' 'TMC1A' 'TMR1'\n",
      " 'VLA1623' 'WL12']\n",
      "CO6-5 ['B1-a' 'B1-c' 'B335' 'BHR71' 'Ced110' 'DKCha' 'GSS30-IRS1' 'HH46'\n",
      " 'IRAS03245' 'IRAS03301' 'IRAS15398' 'L1157' 'L1455-IRS3' 'L1551-IRS5'\n",
      " 'L483' 'L723-MM' 'RCrA-IRS5A' 'RCrA-IRS7B' 'RCrA-IRS7C' 'RNO91' 'TMC1'\n",
      " 'TMC1A' 'TMR1' 'VLA1623' 'WL12']\n",
      "CO7-6 ['B1-a' 'B1-c' 'B335' 'BHR71' 'Ced110' 'DKCha' 'GSS30-IRS1' 'HH46'\n",
      " 'IRAS03245' 'IRAS03301' 'IRAS15398' 'L1157' 'L1455-IRS3' 'L1551-IRS5'\n",
      " 'L483' 'L723-MM' 'RCrA-IRS5A' 'RCrA-IRS7B' 'RCrA-IRS7C' 'RNO91' 'TMC1'\n",
      " 'TMC1A' 'TMR1' 'VLA1623' 'WL12']\n",
      "CO8-7 ['B1-a' 'B1-c' 'B335' 'BHR71' 'Ced110' 'DKCha' 'GSS30-IRS1' 'HH46'\n",
      " 'IRAS03245' 'IRAS15398' 'L1157' 'L1551-IRS5' 'L483' 'L723-MM' 'RCrA-IRS5A'\n",
      " 'RCrA-IRS7B' 'RCrA-IRS7C' 'RNO91' 'TMC1' 'TMC1A' 'TMR1' 'VLA1623' 'WL12']\n",
      "CO9-8 ['B1-a' 'B1-c' 'B335' 'BHR71' 'Ced110' 'DKCha' 'GSS30-IRS1' 'HH46'\n",
      " 'IRAS03245' 'IRAS03301' 'IRAS15398' 'L1157' 'L1551-IRS5' 'L483' 'L723-MM'\n",
      " 'RCrA-IRS5A' 'RCrA-IRS7B' 'RCrA-IRS7C' 'RNO91' 'TMC1' 'TMC1A' 'TMR1'\n",
      " 'VLA1623' 'WL12']\n",
      "No detection of  HCO+10-9\n",
      "No detection of  HCO+11-10\n",
      "No detection of  HCO+12-11\n",
      "No detection of  HCO+13-12\n",
      "No detection of  HCO+14-13\n",
      "No detection of  HCO+15-14\n",
      "No detection of  HCO+16-15\n",
      "HCO+6-5 ['RCrA-IRS7B' 'RCrA-IRS7C']\n",
      "HCO+7-6 ['GSS30-IRS1' 'RCrA-IRS7B' 'RCrA-IRS7C']\n",
      "HCO+8-7 ['RCrA-IRS7B' 'RCrA-IRS7C']\n",
      "No detection of  HCO+9-8\n",
      "No detection of  NII_205\n",
      "o-H2O1_10-1_01 ['B1-c' 'BHR71']\n",
      "o-H2O3_12-2_21 ['B1-a' 'B1-c' 'BHR71' 'DKCha' 'GSS30-IRS1' 'IRAS03245' 'L1157' 'L483'\n",
      " 'RCrA-IRS7B' 'TMR1']\n",
      "o-H2O3_12-3_03 ['B1-c' 'L1157']\n",
      "o-H2O3_21-3_12 ['B1-c']\n",
      "No detection of  o-H2O5_23-5_14\n",
      "No detection of  o-H2O5_32-4_41\n",
      "No detection of  o-H2O6_34-5_41\n",
      "No detection of  o-H2O7_25-8_18\n",
      "No detection of  o-H2O7_43-6_52\n",
      "No detection of  o-H2O8_27-7_34\n",
      "No detection of  o-H2O8_45-9_18\n",
      "No detection of  o-H2O8_54-7_61\n",
      "p-H2O1_11-0_00 ['B1-a' 'B1-c' 'B335' 'BHR71' 'GSS30-IRS1' 'IRAS15398' 'L1157' 'L483'\n",
      " 'RCrA-IRS5A' 'RCrA-IRS7C' 'TMR1']\n",
      "p-H2O2_02-1_11 ['B1-c' 'B335' 'BHR71' 'DKCha' 'GSS30-IRS1' 'IRAS15398' 'L1157' 'L483'\n",
      " 'L723-MM' 'RCrA-IRS7B' 'RCrA-IRS7C' 'TMR1']\n",
      "p-H2O2_11-2_02 ['B1-c' 'BHR71' 'L1157']\n",
      "No detection of  p-H2O2_20-2_11\n",
      "No detection of  p-H2O4_22-4_13\n",
      "No detection of  p-H2O5_24-4_31\n",
      "No detection of  p-H2O5_33-4_40\n",
      "No detection of  p-H2O6_24-7_17\n",
      "No detection of  p-H2O6_42-5_51\n",
      "No detection of  p-H2O7_26-6_33\n",
      "No detection of  p-H2O7_44-6_51\n",
      "No detection of  p-H2O7_44-8_17\n",
      "No detection of  p-H2O8_53-7_62\n",
      "No detection of  p-H2O9_28-8_35\n",
      "No detection of  p-H2O9_46-10_19\n"
     ]
    }
   ],
   "source": [
    "print_line = []\n",
    "no_detection = []\n",
    "for line in line_list:\n",
    "    if len(fitting['Object'][(fitting['Line'] == line) & (fitting['SNR'] >= snr_threshold)]) == 0:\n",
    "        print('No detection of ', line)\n",
    "        no_detection.append(line)\n",
    "    elif len(fitting['Object'][(fitting['Line'] == line) & (fitting['SNR'] >= snr_threshold)]) == len(obj_list):\n",
    "        print('All objects are detected with ', line)\n",
    "    else:\n",
    "        print(line, np.sort(fitting['Object'][(fitting['Line'] == line) & (fitting['SNR'] >= snr_threshold)].data))\n",
    "        print_line.append(line)"
   ]
  },
  {
   "cell_type": "code",
   "execution_count": 80,
   "metadata": {},
   "outputs": [
    {
     "data": {
      "text/plain": [
       "['CO9-8',\n",
       " 'HCO+6-5',\n",
       " 'HCO+7-6',\n",
       " 'HCO+8-7',\n",
       " 'o-H2O1_10-1_01',\n",
       " 'o-H2O3_12-2_21',\n",
       " 'o-H2O3_12-3_03',\n",
       " 'o-H2O3_21-3_12',\n",
       " 'p-H2O1_11-0_00',\n",
       " 'p-H2O2_02-1_11',\n",
       " 'p-H2O2_11-2_02']"
      ]
     },
     "execution_count": 80,
     "metadata": {},
     "output_type": "execute_result"
    }
   ],
   "source": [
    "print_line[16:]"
   ]
  },
  {
   "cell_type": "code",
   "execution_count": 121,
   "metadata": {},
   "outputs": [
    {
     "data": {
      "text/plain": [
       "['13CO10-9',\n",
       " '13CO11-10',\n",
       " '13CO12-11',\n",
       " '13CO13-12',\n",
       " 'CH+1-0',\n",
       " 'CI3P2-3P0',\n",
       " 'HCO+10-9',\n",
       " 'HCO+11-10',\n",
       " 'HCO+12-11',\n",
       " 'HCO+13-12',\n",
       " 'HCO+14-13',\n",
       " 'HCO+15-14',\n",
       " 'HCO+16-15',\n",
       " 'HCO+9-8',\n",
       " 'NII_205',\n",
       " 'o-H2O5_23-5_14',\n",
       " 'o-H2O5_32-4_41',\n",
       " 'o-H2O6_34-5_41',\n",
       " 'o-H2O7_25-8_18',\n",
       " 'o-H2O7_43-6_52',\n",
       " 'o-H2O8_27-7_34',\n",
       " 'o-H2O8_45-9_18',\n",
       " 'o-H2O8_54-7_61',\n",
       " 'p-H2O2_20-2_11',\n",
       " 'p-H2O4_22-4_13',\n",
       " 'p-H2O5_24-4_31',\n",
       " 'p-H2O5_33-4_40',\n",
       " 'p-H2O6_24-7_17',\n",
       " 'p-H2O6_42-5_51',\n",
       " 'p-H2O7_26-6_33',\n",
       " 'p-H2O7_44-6_51',\n",
       " 'p-H2O7_44-8_17',\n",
       " 'p-H2O8_53-7_62',\n",
       " 'p-H2O9_28-8_35',\n",
       " 'p-H2O9_46-10_19']"
      ]
     },
     "execution_count": 121,
     "metadata": {},
     "output_type": "execute_result"
    }
   ],
   "source": [
    "no_detection"
   ]
  },
  {
   "cell_type": "markdown",
   "metadata": {},
   "source": [
    "### Generate the latex Table"
   ]
  },
  {
   "cell_type": "code",
   "execution_count": 39,
   "metadata": {
    "collapsed": true
   },
   "outputs": [],
   "source": [
    "def linename_typeset(line):\n",
    "    line = str(line)\n",
    "    \n",
    "    if 'CO' in line:\n",
    "        upper = line.split('CO')[-1].split('-')[0]\n",
    "        lower = line.split('CO')[-1].split('-')[1]\n",
    "        if '13CO' in line:\n",
    "            typeset = '$^{13}$CO~\\jj{'+upper+'}{'+lower+'}'\n",
    "        else:\n",
    "            typeset = 'CO~\\jj{'+upper+'}{'+lower+'}'\n",
    "    if 'CI' in line:\n",
    "        typeset = '\\CI~$^{3}P_{'+str(int(line[-1])+1)+r'}\\rightarrow ^{3}P_{'+line[-1]+'}$'\n",
    "    if 'HCO+' in line:\n",
    "        upper = line.split('HCO+')[-1].split('-')[0]\n",
    "        lower = line.split('HCO+')[-1].split('-')[1]\n",
    "        typeset = 'HCO$^{+}$~\\jj{'+upper+'}{'+lower+'}'\n",
    "    if 'H2O' in line:\n",
    "        upper = line.split('H2O')[-1].split('-')[0].split('_')\n",
    "        lower = line.split('H2O')[-1].split('-')[1].split('_')\n",
    "        typeset = line[0]+'-H$_{2}$O$~'+upper[0]+'_{'+upper[1]+r'} \\rightarrow '+lower[0]+'_{'+lower[1]+'}$'\n",
    "    \n",
    "    return typeset"
   ]
  },
  {
   "cell_type": "code",
   "execution_count": 111,
   "metadata": {},
   "outputs": [
    {
     "data": {
      "text/plain": [
       "array(['B1-a', 'B1-c', 'B335', 'BHR71', 'Ced110', 'DKCha', 'GSS30-IRS1',\n",
       "       'HH46', 'IRAS03245', 'IRAS03301', 'IRAS15398', 'L1014', 'L1157',\n",
       "       'L1455-IRS3', 'L1551-IRS5', 'L483', 'L723-MM', 'RCrA-IRS5A',\n",
       "       'RCrA-IRS7B', 'RCrA-IRS7C', 'RNO91', 'TMC1', 'TMC1A', 'TMR1',\n",
       "       'VLA1623', 'WL12'], \n",
       "      dtype='<U10')"
      ]
     },
     "execution_count": 111,
     "metadata": {},
     "output_type": "execute_result"
    }
   ],
   "source": [
    "obj_list"
   ]
  },
  {
   "cell_type": "code",
   "execution_count": 116,
   "metadata": {},
   "outputs": [],
   "source": [
    "o_typeset = ['B1-a', 'B1-c', 'B335', 'BHR~71', 'Ced110~IRS4', 'DK~Cha', 'GSS~30~IRS1',\n",
    "               'HH~46', 'IRAS~03245+3002', 'IRAS~03301+3111', 'IRAS~15398-3359', 'L1014', 'L1157',\n",
    "               'L1455~IRS3', 'L1551~IRS5', 'L483', 'L723~MM', 'RCrA~IRS5A',\n",
    "               'RCrA~IRS7B', 'RCrA~IRS7C', 'RNO~91', 'TMC~1', 'TMC~1A', 'TMR~1',\n",
    "               'VLA~1623-243', 'WL~12']\n",
    "obj_typeset = {}\n",
    "for i, (o,t) in enumerate(zip(obj_list, o_typeset)):\n",
    "    obj_typeset[o] = t"
   ]
  },
  {
   "cell_type": "code",
   "execution_count": 119,
   "metadata": {},
   "outputs": [],
   "source": [
    "line_list_dum = print_line[:5]+print_line[11:17]+print_line[7:11]+print_line[5:7]+print_line[17:]\n",
    "foo = open('/Volumes/SD-Mac/Dropbox/real_cops-spire/line_detection1.tex', 'w')\n",
    "foo.write(r'\\begin{turnpage}')\n",
    "foo.write('\\n')\n",
    "foo.write(r'\\begin{deluxetable*}{l '+'c'*len(print_line)+'}')\n",
    "foo.write('\\n')\n",
    "foo.write(r'\\tabletypesize{\\scriptsize}')\n",
    "foo.write('\\n')\n",
    "foo.write(r'\\tablecaption{Line Detection Summary}')\n",
    "foo.write('\\n')\n",
    "foo.write(r'\\tablewidth{0pt}')\n",
    "foo.write('\\n')\n",
    "foo.write(r'\\setlength\\tabcolsep{3pt}')\n",
    "foo.write('\\n')\n",
    "foo.write(r'\\label{line_detection}')\n",
    "foo.write('\\n')\n",
    "foo.write(r'\\tablehead{')\n",
    "foo.write('\\n')\n",
    "\n",
    "foo.write('\\t \\colhead{Object} & \\n')\n",
    "# the vertical column header for each line\n",
    "for line in line_list_dum:\n",
    "    if line != line_list_dum[-1]:\n",
    "        foo.write('\\t \\colhead{\\multicolumn{1}{X{1in}}{'+linename_typeset(line)+'}} & \\n')\n",
    "    else:\n",
    "        foo.write('\\t \\colhead{\\multicolumn{1}{X{1in}}{'+linename_typeset(line)+'}} } \\n')\n",
    "foo.write('\\startdata \\n')\n",
    "\n",
    "for o in obj_list:\n",
    "    write_str = obj_typeset[o]\n",
    "    for i, l in enumerate(line_list_dum):\n",
    "        if fitting['SNR'][(fitting['Object'] == o) & (fitting['Line'] == l)] >= snr_threshold:\n",
    "            write_str = write_str+' & Y '\n",
    "        else:\n",
    "#             write_str = write_str+r' & \\nodata '\n",
    "            write_str = write_str+r' & \\nodata '\n",
    "        \n",
    "    foo.write(write_str+r' \\\\')\n",
    "    foo.write('\\n')\n",
    "\n",
    "foo.write(r'\\enddata')\n",
    "foo.write('\\n')\n",
    "foo.write(r'\\end{deluxetable*}')\n",
    "foo.write('\\n')\n",
    "foo.write(r'\\end{turnpage}')\n",
    "foo.write('\\n')\n",
    "\n",
    "foo.close()"
   ]
  },
  {
   "cell_type": "code",
   "execution_count": null,
   "metadata": {
    "collapsed": true
   },
   "outputs": [],
   "source": []
  }
 ],
 "metadata": {
  "kernelspec": {
   "display_name": "Python 3",
   "language": "python",
   "name": "python3"
  },
  "language_info": {
   "codemirror_mode": {
    "name": "ipython",
    "version": 3
   },
   "file_extension": ".py",
   "mimetype": "text/x-python",
   "name": "python",
   "nbconvert_exporter": "python",
   "pygments_lexer": "ipython3",
   "version": "3.5.2"
  }
 },
 "nbformat": 4,
 "nbformat_minor": 1
}
