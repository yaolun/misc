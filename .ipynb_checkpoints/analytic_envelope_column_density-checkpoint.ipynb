{
 "cells": [
  {
   "cell_type": "code",
   "execution_count": 14,
   "metadata": {
    "collapsed": false
   },
   "outputs": [
    {
     "data": {
      "text/plain": [
       "(0.506290162265889, 9.058188620188201e-09)"
      ]
     },
     "execution_count": 14,
     "metadata": {},
     "output_type": "execute_result"
    }
   ],
   "source": [
    "from scipy.integrate import quad\n",
    "import numpy as np\n",
    "import astropy.constants as const\n",
    "AU = const.au.cgs.value\n",
    "pc = const.pc.cgs.value\n",
    "mh = const.m_p.cgs.value+const.m_e.cgs.value\n",
    "mmw = 2.37\n",
    "\n",
    "def inner_rho(y, x0, z0, A, Rinf):\n",
    "    return A*Rinf**(-3/2.)*(x0**2+z0**2+y**2)**-0.25\n",
    "\n",
    "def outer_rho(y, x0, z0, A):\n",
    "    return A/(x0**2+z0**2+y**2)\n",
    "\n",
    "Rinf = 2800.0*AU\n",
    "Rmax = 65000.0*AU\n",
    "A = 1e6*mh*mmw/Rinf**-2\n",
    "\n",
    "x0 = 2800*AU\n",
    "z0 = 200*AU\n",
    "\n",
    "def column_density(x0, z0, A):\n",
    "    \n",
    "    b_in = (-(Rinf**2-x0**2-z0**2)**0.5, (Rinf**2-x0**2-z0**2)**0.5)\n",
    "    b_out = (-(Rmax**2-x0**2-z0**2)**0.5, (Rmax**2-x0**2-z0**2)**0.5)\n",
    "    if (type(b_in[1]) != complex):\n",
    "        I_inner = quad(inner_rho, b_in[0], b_in[1], args=(x0, z0, A, Rinf))\n",
    "        I_outer1 = quad(outer_rho, b_out[0], b_in[0], args=(x0, z0, A))\n",
    "        I_outer2 = quad(outer_rho, b_in[1], b_out[1], args=(x0, z0, A))\n",
    "    else:\n",
    "        I_inner = (0,0)\n",
    "        I_outer1 = quad(outer_rho, b_out[0], b_out[1], args=(x0, z0, A))\n",
    "        I_outer2 = (0,0)\n",
    "    \n",
    "    total_I = (I_inner[0]+I_outer1[0]+I_outer2[0], (I_inner[1]**2+I_outer1[1]**2+I_outer2[1])**0.5)\n",
    "    \n",
    "    return total_I\n",
    "\n",
    "column_density(x0,z0,A)"
   ]
  },
  {
   "cell_type": "code",
   "execution_count": 20,
   "metadata": {
    "collapsed": false
   },
   "outputs": [],
   "source": [
    "x = np.arange(200, 45000, 200)\n",
    "z = np.arange(200, 45000, 200)\n",
    "xx, zz = np.meshgrid(x,z)\n",
    "N = np.empty_like(xx)\n",
    "\n",
    "kappa = 200\n",
    "\n",
    "for i in range(len(xx)):\n",
    "    for j in range(len(zz)):\n",
    "        x0 = xx[i,j]*AU\n",
    "        z0 = zz[i,j]*AU\n",
    "        N[i,j] = column_density(float(x0), float(z0), A)[0] * kappa\n"
   ]
  },
  {
   "cell_type": "code",
   "execution_count": 23,
   "metadata": {
    "collapsed": false
   },
   "outputs": [
    {
     "name": "stdout",
     "output_type": "stream",
     "text": [
      "0\n"
     ]
    },
    {
     "data": {
      "image/png": "[encoded data removed]",
      "text/plain": [
       "<matplotlib.figure.Figure at 0x110202c88>"
      ]
     },
     "metadata": {},
     "output_type": "display_data"
    }
   ],
   "source": [
    "%matplotlib inline\n",
    "import matplotlib.pyplot as plt\n",
    "\n",
    "plt.imshow(N, vmax=1)"
   ]
  }
 ],
 "metadata": {
  "kernelspec": {
   "display_name": "Python 3",
   "language": "python",
   "name": "python3"
  },
  "language_info": {
   "codemirror_mode": {
    "name": "ipython",
    "version": 3
   },
   "file_extension": ".py",
   "mimetype": "text/x-python",
   "name": "python",
   "nbconvert_exporter": "python",
   "pygments_lexer": "ipython3",
   "version": "3.5.2"
  }
 },
 "nbformat": 4,
 "nbformat_minor": 0
}
