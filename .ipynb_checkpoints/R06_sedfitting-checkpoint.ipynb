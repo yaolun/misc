{
 "cells": [
  {
   "cell_type": "code",
   "execution_count": 36,
   "metadata": {
    "collapsed": false
   },
   "outputs": [],
   "source": [
    "%matplotlib inline\n",
    "import matplotlib.pyplot as plt\n",
    "from astropy import units as u\n",
    "from sedfitter import fit\n",
    "from sedfitter.extinction import Extinction\n",
    "import os"
   ]
  },
  {
   "cell_type": "code",
   "execution_count": 37,
   "metadata": {
    "collapsed": false
   },
   "outputs": [],
   "source": [
    "# path to models\n",
    "model_dir = '/Users/yaolun/data/models_r06/'\n",
    "\n",
    "# Read in extinction\n",
    "dust_path = '/Users/yaolun/Google Drive/dust_model/Weingartner_Draine/kext_albedo_WD_MW_5.5A_30_D03.ext'\n",
    "extinction = Extinction.from_file(dust_path, columns=[0,1], wav_unit=u.micron, chi_unit=u.cm**2/u.g)\n",
    "\n",
    "dust_path = '/Users/yaolun/Google Drive/dust_model_kmh94.par'\n",
    "extinction = Extinction.from_file('kmh94.par', columns=[0, 3],\n",
    "                                  wav_unit=u.micron, chi_unit=u.cm**2 / u.g)\n"
   ]
  },
  {
   "cell_type": "code",
   "execution_count": 38,
   "metadata": {
    "collapsed": false
   },
   "outputs": [],
   "source": [
    "# set up the filters as the extraction of spectro-photometric fluxes\n",
    "def filter_hyperion(wave):\n",
    "    from sedfitter.filter import Filter\n",
    "    import numpy as np\n",
    "    import astropy.constants as const\n",
    "    c = const.c.cgs.value\n",
    "    \n",
    "    if (wave < 50.) & (wave >= 5.):\n",
    "        res = 60.\n",
    "    elif wave < 5.:\n",
    "        res = 10.\n",
    "    else:\n",
    "        res = 1000.\n",
    "    \n",
    "    wave_min = wave*(1-1./res)\n",
    "    wave_max = wave*(1+1./res)\n",
    "    \n",
    "    if wave not in [70, 100, 160, 250, 350, 500]:\n",
    "        f = Filter()\n",
    "        f.name = str(wave)+'um'\n",
    "        f.central_wavelength = wave*u.micron\n",
    "        f.nu = (np.linspace(wave_min, wave_max, 100) * u.micron).to(u.Hz, equivalencies=u.spectral())\n",
    "        f.response = np.ones_like(f.nu.value)\n",
    "        f.normalize()\n",
    "    # herschel filters\n",
    "    else:\n",
    "        import sys\n",
    "        sys.path.append('/Users/yaolun/programs/misc/hyperion/')\n",
    "        from phot_filter import phot_filter\n",
    "        \n",
    "        if wave == 70:\n",
    "            fil_name = 'Herschel PACS 70um'\n",
    "            name = 'P1'\n",
    "        elif wave == 100:\n",
    "            fil_name = 'Herschel PACS 100um'\n",
    "            name = 'P2'\n",
    "        elif wave == 160:\n",
    "            fil_name = 'Herschel PACS 160um'\n",
    "            name = 'P3'\n",
    "        elif wave == 250:\n",
    "            fil_name = 'Herschel SPIRE 250um'\n",
    "            name = 'S1'\n",
    "        elif wave == 350:\n",
    "            fil_name = 'Herschel SPIRE 350um'\n",
    "            name = 'S2'\n",
    "        elif wave == 500:\n",
    "            fil_name = 'Herschel SPIRE 500um'\n",
    "            name = 'S3'\n",
    "        \n",
    "        print fil_name\n",
    "        \n",
    "        filter_func = phot_filter(fil_name, '/Users/yaolun/misc/hyperion/')\n",
    "        \n",
    "        f = Filter()\n",
    "        f.name = name\n",
    "        f.central_wavelength = wave * u.micron\n",
    "        f.nu = (filter_func['wave'] * u.micron).to(u.Hz, equivalencies=u.spectral())\n",
    "        f.response = filter_func['transmission']\n",
    "    return f"
   ]
  },
  {
   "cell_type": "code",
   "execution_count": null,
   "metadata": {
    "collapsed": false
   },
   "outputs": [],
   "source": [
    "# monochromatic convolution on models\n",
    "from sedfitter import convolve\n",
    "mono_wav = [8.5, 9, 9.7, 10, 10.5, 11, 16, 20, 35]\n",
    "mono_filters = []\n",
    "\n",
    "for iwav in mono_wav:\n",
    "    filter_dum = filter_hyperion(iwav)\n",
    "    if not os.path.exists(model_dir+'/convolved/'+filter_dum.name+'.fits'):\n",
    "        mono_filters.append(filter_dum)"
   ]
  },
  {
   "cell_type": "code",
   "execution_count": null,
   "metadata": {
    "collapsed": false
   },
   "outputs": [],
   "source": [
    "# Herschel filters convolution on models\n",
    "herschel_wave = [70, 100, 160, 250, 350, 500]\n",
    "herschel_filters = []\n",
    "\n",
    "for iwav in herschel_wave:\n",
    "    filter_dum = filter_hyperion(iwav)\n",
    "    if not os.path.exists(model_dir+'/convolved/'+filter_dum.name+'.fits'):\n",
    "        herschel_filters.append(filter_dum)"
   ]
  },
  {
   "cell_type": "code",
   "execution_count": null,
   "metadata": {
    "collapsed": false
   },
   "outputs": [],
   "source": [
    "convolve.convolve_model_dir(model_dir,mono_filters)"
   ]
  },
  {
   "cell_type": "markdown",
   "metadata": {},
   "source": [
    "## Try to fit the SED without invoking any additional convolution"
   ]
  },
  {
   "cell_type": "markdown",
   "metadata": {},
   "source": [
    "### Read in the test data"
   ]
  },
  {
   "cell_type": "code",
   "execution_count": 43,
   "metadata": {
    "collapsed": false
   },
   "outputs": [
    {
     "name": "stdout",
     "output_type": "stream",
     "text": [
      " ------------------------------------------------------------\n",
      "  => Model parameters\n",
      " ------------------------------------------------------------\n",
      "\n",
      "   Models              :  YSO models\n",
      "   Log[d] stepping     :  0.01\n",
      "   Number of distances :  48\n",
      "\n",
      " ------------------------------------------------------------\n",
      "  => Reading in convolved fluxes\n",
      " ------------------------------------------------------------\n",
      "\n",
      "   Reading /Users/yaolun/data/models_r06//convolved/I1.fits\n",
      "   Reading /Users/yaolun/data/models_r06//convolved/I2.fits\n",
      "   Reading /Users/yaolun/data/models_r06//convolved/I3.fits\n",
      "   Reading /Users/yaolun/data/models_r06//convolved/I4.fits\n",
      "   Reading /Users/yaolun/data/models_r06//convolved/M1.fits\n",
      " ------------------------------------------------------------\n",
      "  => Fitting parameters\n",
      " ------------------------------------------------------------\n",
      "\n",
      "   Minimum A_V      :     0.000 mag\n",
      "   Maximum A_V      :    20.000 mag\n",
      "   Minimum distance :   100.000 pc\n",
      "   Maximum distance :   300.000 pc\n",
      "\n",
      " ------------------------------------------------------------\n",
      "  => Output parameters\n",
      " ------------------------------------------------------------\n",
      "\n",
      "   File   : output.fitinfo\n",
      "   Format : F\n",
      "   Number : 6\n",
      "\n",
      " ------------------------------------------------------------\n",
      "  => Data format parameters\n",
      " ------------------------------------------------------------\n",
      "\n",
      "   Number of filters :  5\n",
      "\n",
      "\n",
      "     Filter    Wavelength    Aperture (\")   \n",
      "    ----------------------------------------\n",
      "          I1        3.55       3.00        \n",
      "          I2        4.49       3.00        \n",
      "          I3        5.73       3.00        \n",
      "          I4        7.87       3.00        \n",
      "          M1       23.68       3.00        \n",
      "\n",
      "Delete file output.fitinfo? [y/[n]] y\n",
      "\n",
      "   # Sources    CPU time (sec)    Sources/sec  \n",
      " ----------------------------------------------\n",
      "          1              9.2           0.11\n",
      "          2              9.2           0.22\n"
     ]
    }
   ],
   "source": [
    "# Define filters and apertures\n",
    "filters = ['I1','I2','I3','I4','M1']\n",
    "# apertures = [7.2, 7.2, 7.2, 7.2, 20.4] * u.arcsec\n",
    "apertures = [3., 3., 3., 3., 3.] * u.arcsec\n",
    "\n",
    "fit('/Users/yaolun/bhr71/best_calibrated/bhr71_data_for_sedfitter_test.txt', filters, apertures, model_dir,\n",
    "    'output.fitinfo', extinction_law=extinction, distance_range=[100, 300] * u.pc, av_range=[0, 20])"
   ]
  },
  {
   "cell_type": "code",
   "execution_count": 44,
   "metadata": {
    "collapsed": false
   },
   "outputs": [
    {
     "ename": "IndexError",
     "evalue": "index 0 is out of bounds for axis 0 with size 0",
     "output_type": "error",
     "traceback": [
      "\u001b[0;31m---------------------------------------------------------------------------\u001b[0m",
      "\u001b[0;31mIndexError\u001b[0m                                Traceback (most recent call last)",
      "\u001b[0;32m<ipython-input-44-4c08a631ea2f>\u001b[0m in \u001b[0;36m<module>\u001b[0;34m()\u001b[0m\n\u001b[1;32m      3\u001b[0m \u001b[0;31m# Write out all models with a delta chi^2-chi_best^2 per datapoint < 3\u001b[0m\u001b[0;34m\u001b[0m\u001b[0;34m\u001b[0m\u001b[0m\n\u001b[1;32m      4\u001b[0m write_parameters('output.fitinfo', 'parameters.txt',\n\u001b[0;32m----> 5\u001b[0;31m                  select_format=('F', 3.))\n\u001b[0m",
      "\u001b[0;32m/Users/yaolun/anaconda/lib/python2.7/site-packages/sedfitter/write_parameters.pyc\u001b[0m in \u001b[0;36mwrite_parameters\u001b[0;34m(input_fits, output_file, select_format, additional)\u001b[0m\n\u001b[1;32m     71\u001b[0m \u001b[0;34m\u001b[0m\u001b[0m\n\u001b[1;32m     72\u001b[0m         \u001b[0;31m# Filter fits\u001b[0m\u001b[0;34m\u001b[0m\u001b[0;34m\u001b[0m\u001b[0m\n\u001b[0;32m---> 73\u001b[0;31m         \u001b[0minfo\u001b[0m\u001b[0;34m.\u001b[0m\u001b[0mkeep\u001b[0m\u001b[0;34m(\u001b[0m\u001b[0mselect_format\u001b[0m\u001b[0;34m[\u001b[0m\u001b[0;36m0\u001b[0m\u001b[0;34m]\u001b[0m\u001b[0;34m,\u001b[0m \u001b[0mselect_format\u001b[0m\u001b[0;34m[\u001b[0m\u001b[0;36m1\u001b[0m\u001b[0;34m]\u001b[0m\u001b[0;34m)\u001b[0m\u001b[0;34m\u001b[0m\u001b[0m\n\u001b[0m\u001b[1;32m     74\u001b[0m \u001b[0;34m\u001b[0m\u001b[0m\n\u001b[1;32m     75\u001b[0m         \u001b[0;31m# Get filtered and sorted table of parameters\u001b[0m\u001b[0;34m\u001b[0m\u001b[0;34m\u001b[0m\u001b[0m\n",
      "\u001b[0;32m/Users/yaolun/anaconda/lib/python2.7/site-packages/sedfitter/fit_info.pyc\u001b[0m in \u001b[0;36mkeep\u001b[0;34m(self, form, number)\u001b[0m\n\u001b[1;32m    143\u001b[0m             \u001b[0mn_fits\u001b[0m \u001b[0;34m=\u001b[0m \u001b[0mnp\u001b[0m\u001b[0;34m.\u001b[0m\u001b[0msum\u001b[0m\u001b[0;34m(\u001b[0m\u001b[0;34m(\u001b[0m\u001b[0mself\u001b[0m\u001b[0;34m.\u001b[0m\u001b[0mchi2\u001b[0m \u001b[0;34m/\u001b[0m \u001b[0mself\u001b[0m\u001b[0;34m.\u001b[0m\u001b[0msource\u001b[0m\u001b[0;34m.\u001b[0m\u001b[0mn_wav\u001b[0m\u001b[0;34m)\u001b[0m \u001b[0;34m<=\u001b[0m \u001b[0mnumber\u001b[0m\u001b[0;34m)\u001b[0m\u001b[0;34m\u001b[0m\u001b[0m\n\u001b[1;32m    144\u001b[0m         \u001b[0;32melif\u001b[0m \u001b[0mform\u001b[0m \u001b[0;34m==\u001b[0m \u001b[0;34m'F'\u001b[0m\u001b[0;34m:\u001b[0m\u001b[0;34m\u001b[0m\u001b[0m\n\u001b[0;32m--> 145\u001b[0;31m             \u001b[0mn_fits\u001b[0m \u001b[0;34m=\u001b[0m \u001b[0mnp\u001b[0m\u001b[0;34m.\u001b[0m\u001b[0msum\u001b[0m\u001b[0;34m(\u001b[0m\u001b[0;34m(\u001b[0m\u001b[0mself\u001b[0m\u001b[0;34m.\u001b[0m\u001b[0mchi2\u001b[0m \u001b[0;34m-\u001b[0m \u001b[0mself\u001b[0m\u001b[0;34m.\u001b[0m\u001b[0mchi2\u001b[0m\u001b[0;34m[\u001b[0m\u001b[0;36m0\u001b[0m\u001b[0;34m]\u001b[0m\u001b[0;34m)\u001b[0m \u001b[0;34m/\u001b[0m \u001b[0mself\u001b[0m\u001b[0;34m.\u001b[0m\u001b[0msource\u001b[0m\u001b[0;34m.\u001b[0m\u001b[0mn_wav\u001b[0m \u001b[0;34m<=\u001b[0m \u001b[0mnumber\u001b[0m\u001b[0;34m)\u001b[0m\u001b[0;34m\u001b[0m\u001b[0m\n\u001b[0m\u001b[1;32m    146\u001b[0m         \u001b[0;32melse\u001b[0m\u001b[0;34m:\u001b[0m\u001b[0;34m\u001b[0m\u001b[0m\n\u001b[1;32m    147\u001b[0m             \u001b[0;32mraise\u001b[0m \u001b[0mException\u001b[0m\u001b[0;34m(\u001b[0m\u001b[0;34m\"Unknown format: %s\"\u001b[0m \u001b[0;34m%\u001b[0m \u001b[0mform\u001b[0m\u001b[0;34m)\u001b[0m\u001b[0;34m\u001b[0m\u001b[0m\n",
      "\u001b[0;31mIndexError\u001b[0m: index 0 is out of bounds for axis 0 with size 0"
     ]
    }
   ],
   "source": [
    "from sedfitter import write_parameters, write_parameter_ranges\n",
    "\n",
    "# Write out all models with a delta chi^2-chi_best^2 per datapoint < 3\n",
    "write_parameters('output.fitinfo', 'parameters.txt',\n",
    "                 select_format=('F', 3.))\n"
   ]
  },
  {
   "cell_type": "code",
   "execution_count": 13,
   "metadata": {
    "collapsed": false
   },
   "outputs": [],
   "source": [
    "from astropy.io import fits\n",
    "data = fits.open(model_dir+'/convolved/I1.fits')"
   ]
  },
  {
   "cell_type": "code",
   "execution_count": 30,
   "metadata": {
    "collapsed": false
   },
   "outputs": [
    {
     "data": {
      "text/plain": [
       "XTENSION= 'BINTABLE'           / binary table extension                         \n",
       "BITPIX  =                    8 / 8-bit bytes                                    \n",
       "NAXIS   =                    2 / 2-dimensional binary table                     \n",
       "NAXIS1  =                  438 / width of table in bytes                        \n",
       "NAXIS2  =               200710 / number of rows in table                        \n",
       "PCOUNT  =                    0 / size of special data area                      \n",
       "GCOUNT  =                    1 / one data group (required keyword)              \n",
       "TFIELDS =                    5 / number of fields in each row                   \n",
       "TTYPE1  = 'MODEL_NAME'         / label for field   1                            \n",
       "TFORM1  = '30A     '           / data format of field: ASCII Character          \n",
       "TTYPE2  = 'TOTAL_FLUX'         / label for field   2                            \n",
       "TFORM2  = '50E     '           / data format of field: 4-byte REAL              \n",
       "TUNIT2  = 'mJy     '           / physical unit of field                         \n",
       "TTYPE3  = 'TOTAL_FLUX_ERR'     / label for field   3                            \n",
       "TFORM3  = '50E     '           / data format of field: 4-byte REAL              \n",
       "TUNIT3  = 'mJy     '           / physical unit of field                         \n",
       "TTYPE4  = 'RADIUS_SIGMA_50'    / label for field   4                            \n",
       "TFORM4  = '1E      '           / data format of field: 4-byte REAL              \n",
       "TUNIT4  = 'AU      '           / physical unit of field                         \n",
       "TTYPE5  = 'RADIUS_CUMUL_99'    / label for field   5                            \n",
       "TFORM5  = '1E      '           / data format of field: 4-byte REAL              \n",
       "TUNIT5  = 'AU      '           / physical unit of field                         \n",
       "EXTNAME = 'CONVOLVED FLUXES'   / name of this binary table extension            "
      ]
     },
     "execution_count": 30,
     "metadata": {},
     "output_type": "execute_result"
    }
   ],
   "source": [
    "data[1].header"
   ]
  },
  {
   "cell_type": "code",
   "execution_count": 34,
   "metadata": {
    "collapsed": false
   },
   "outputs": [
    {
     "data": {
      "text/plain": [
       "50"
      ]
     },
     "execution_count": 34,
     "metadata": {},
     "output_type": "execute_result"
    }
   ],
   "source": [
    "len(data[1].data[0][1])"
   ]
  },
  {
   "cell_type": "code",
   "execution_count": 35,
   "metadata": {
    "collapsed": false
   },
   "outputs": [
    {
     "data": {
      "text/plain": [
       "50"
      ]
     },
     "execution_count": 35,
     "metadata": {},
     "output_type": "execute_result"
    }
   ],
   "source": [
    "len(data[2].data)"
   ]
  },
  {
   "cell_type": "code",
   "execution_count": null,
   "metadata": {
    "collapsed": true
   },
   "outputs": [],
   "source": []
  }
 ],
 "metadata": {
  "kernelspec": {
   "display_name": "Python 2",
   "language": "python",
   "name": "python2"
  },
  "language_info": {
   "codemirror_mode": {
    "name": "ipython",
    "version": 2
   },
   "file_extension": ".py",
   "mimetype": "text/x-python",
   "name": "python",
   "nbconvert_exporter": "python",
   "pygments_lexer": "ipython2",
   "version": "2.7.11"
  }
 },
 "nbformat": 4,
 "nbformat_minor": 0
}
