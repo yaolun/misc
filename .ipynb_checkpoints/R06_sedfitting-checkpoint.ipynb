{
 "cells": [
  {
   "cell_type": "code",
   "execution_count": 17,
   "metadata": {
    "collapsed": true
   },
   "outputs": [],
   "source": [
    "from astropy import units as u\n",
    "from sedfitter import fit\n",
    "from sedfitter.extinction import Extinction\n",
    "import os"
   ]
  },
  {
   "cell_type": "code",
   "execution_count": 18,
   "metadata": {
    "collapsed": false
   },
   "outputs": [],
   "source": [
    "# path to models\n",
    "model_dir = '/Users/yaolun/data/models_r06/'\n",
    "\n",
    "# Read in extinction\n",
    "dust_path = '/Users/yaolun/Google Drive/dust_model/Weingartner_Draine/kext_albedo_WD_MW_5.5A_30_D03.ext'\n",
    "extinction = Extinction.from_file(dust_path, columns=[0,1], wav_unit=u.micron, chi_unit=u.cm**2/u.g)"
   ]
  },
  {
   "cell_type": "code",
   "execution_count": 19,
   "metadata": {
    "collapsed": false
   },
   "outputs": [],
   "source": [
    "# set up the filters as the extraction of spectro-photometric fluxes\n",
    "def filter_hyperion(wave):\n",
    "    from sedfitter.filter import Filter\n",
    "    import numpy as np\n",
    "    import astropy.constants as const\n",
    "    c = const.c.cgs.value\n",
    "    \n",
    "    if (wave < 50.) & (wave >= 5.):\n",
    "        res = 60.\n",
    "    elif wave < 5.:\n",
    "        res = 10.\n",
    "    else:\n",
    "        res = 1000.\n",
    "    \n",
    "    wave_min = wave*(1-1./res)\n",
    "    wave_max = wave*(1+1./res)\n",
    "    \n",
    "    if wave not in [70, 100, 160, 250, 350, 500]:\n",
    "        f = Filter()\n",
    "        f.name = str(wave)+'um'\n",
    "        f.central_wavelength = wave*u.micron\n",
    "        f.nu = (np.linspace(wave_min, wave_max, 100) * u.micron).to(u.Hz, equivalencies=u.spectral())\n",
    "        f.response = np.ones_like(f.nu.value)\n",
    "        f.normalize()\n",
    "    # herschel filters\n",
    "    else:\n",
    "        import sys\n",
    "        sys.path.append('/Users/yaolun/programs/misc/hyperion/')\n",
    "        from phot_filter import phot_filter\n",
    "        \n",
    "        if wave == 70:\n",
    "            fil_name = 'Herschel PACS 70um'\n",
    "            name = 'P1'\n",
    "        elif wave == 100:\n",
    "            fil_name = 'Herschel PACS 100um'\n",
    "            name = 'P2'\n",
    "        elif wave == 160:\n",
    "            fil_name = 'Herschel PACS 160um'\n",
    "            name = 'P3'\n",
    "        elif wave == 250:\n",
    "            fil_name = 'Herschel SPIRE 250um'\n",
    "            name = 'HS1'\n",
    "        elif wave == 350:\n",
    "            fil_name = 'Herschel SPIRE 350um'\n",
    "            name = 'HS2'\n",
    "        elif wave == 500:\n",
    "            fil_name = 'Herschel SPIRE 500um'\n",
    "            name = 'HS3'\n",
    "        \n",
    "        print fil_name\n",
    "        \n",
    "        filter_func = phot_filter(fil_name, '/Users/yaolun/programs/misc/hyperion/')\n",
    "        \n",
    "        f = Filter()\n",
    "        f.name = name\n",
    "        f.central_wavelength = wave * u.micron\n",
    "        f.nu = (filter_func['wave'] * u.micron).to(u.Hz, equivalencies=u.spectral())\n",
    "        f.response = filter_func['transmission']\n",
    "    return f"
   ]
  },
  {
   "cell_type": "code",
   "execution_count": 20,
   "metadata": {
    "collapsed": false
   },
   "outputs": [],
   "source": [
    "# monochromatic convolution on models\n",
    "from sedfitter import convolve\n",
    "mono_wav = [8.5, 9, 9.7, 10, 10.5, 11, 16, 20, 35]\n",
    "mono_filters = []\n",
    "\n",
    "for iwav in mono_wav:\n",
    "    filter_dum = filter_hyperion(iwav)\n",
    "    if not os.path.exists(model_dir+'/convolved/'+filter_dum.name+'.fits'):\n",
    "        mono_filters.append(filter_dum)"
   ]
  },
  {
   "cell_type": "code",
   "execution_count": 21,
   "metadata": {
    "collapsed": false
   },
   "outputs": [
    {
     "name": "stdout",
     "output_type": "stream",
     "text": [
      "Herschel PACS 70um\n",
      "Herschel PACS 100um\n",
      "Herschel PACS 160um\n",
      "Herschel SPIRE 250um\n",
      "Herschel SPIRE 350um\n",
      "Herschel SPIRE 500um\n"
     ]
    }
   ],
   "source": [
    "# Herschel filters convolution on models\n",
    "herschel_wave = [70, 100, 160, 250, 350, 500]\n",
    "herschel_filters = []\n",
    "\n",
    "for iwav in herschel_wave:\n",
    "    filter_dum = filter_hyperion(iwav)\n",
    "    if not os.path.exists(model_dir+'/convolved/'+filter_dum.name+'.fits'):\n",
    "        herschel_filters.append(filter_dum)"
   ]
  },
  {
   "cell_type": "code",
   "execution_count": 15,
   "metadata": {
    "collapsed": false
   },
   "outputs": [
    {
     "name": "stdout",
     "output_type": "stream",
     "text": [
      "INFO: 200710 SEDs found in /Users/yaolun/data/models_r06/ [sedfitter.convolve.convolve]\n",
      "INFO: Rebinning filters [sedfitter.convolve.convolve]\n"
     ]
    }
   ],
   "source": [
    "convolve.convolve_model_dir(model_dir,mono_filters)"
   ]
  },
  {
   "cell_type": "code",
   "execution_count": 23,
   "metadata": {
    "collapsed": false
   },
   "outputs": [
    {
     "name": "stdout",
     "output_type": "stream",
     "text": [
      "INFO: 200710 SEDs found in /Users/yaolun/data/models_r06/ [sedfitter.convolve.convolve]\n",
      "INFO: Rebinning filters [sedfitter.convolve.convolve]\n"
     ]
    }
   ],
   "source": [
    "convolve.convolve_model_dir(model_dir,herschel_filters)"
   ]
  },
  {
   "cell_type": "code",
   "execution_count": 24,
   "metadata": {
    "collapsed": false
   },
   "outputs": [
    {
     "name": "stdout",
     "output_type": "stream",
     "text": [
      " ------------------------------------------------------------\n",
      "  => Model parameters\n",
      " ------------------------------------------------------------\n",
      "\n",
      "   Models              :  YSO models\n",
      "   Log[d] stepping     :  0.01\n",
      "   Number of distances :  9\n",
      "\n",
      " ------------------------------------------------------------\n",
      "  => Reading in convolved fluxes\n",
      " ------------------------------------------------------------\n",
      "\n",
      "   Reading /Users/yaolun/data/models_r06//convolved/I3.fits\n",
      "   Reading /Users/yaolun/data/models_r06//convolved/I4.fits\n",
      "   Reading /Users/yaolun/data/models_r06//convolved/8.5um.fits\n",
      "   Reading /Users/yaolun/data/models_r06//convolved/9um.fits\n",
      "   Reading /Users/yaolun/data/models_r06//convolved/9.7um.fits\n",
      "   Reading /Users/yaolun/data/models_r06//convolved/10um.fits\n",
      "   Reading /Users/yaolun/data/models_r06//convolved/10.5um.fits\n",
      "   Reading /Users/yaolun/data/models_r06//convolved/11um.fits\n",
      "   Reading /Users/yaolun/data/models_r06//convolved/16um.fits\n",
      "   Reading /Users/yaolun/data/models_r06//convolved/20um.fits\n",
      "   Reading /Users/yaolun/data/models_r06//convolved/M1.fits\n",
      "   Reading /Users/yaolun/data/models_r06//convolved/35um.fits\n",
      "   Reading /Users/yaolun/data/models_r06//convolved/P1.fits\n",
      "   Reading /Users/yaolun/data/models_r06//convolved/P2.fits\n",
      "   Reading /Users/yaolun/data/models_r06//convolved/P3.fits\n",
      "   Reading /Users/yaolun/data/models_r06//convolved/HS1.fits\n",
      "   Reading /Users/yaolun/data/models_r06//convolved/HS2.fits\n",
      "   Reading /Users/yaolun/data/models_r06//convolved/HS3.fits\n",
      " ------------------------------------------------------------\n",
      "  => Fitting parameters\n",
      " ------------------------------------------------------------\n",
      "\n",
      "   Minimum A_V      :     0.000 mag\n",
      "   Maximum A_V      :    10.000 mag\n",
      "   Minimum distance :   180.000 pc\n",
      "   Maximum distance :   220.000 pc\n",
      "\n",
      " ------------------------------------------------------------\n",
      "  => Output parameters\n",
      " ------------------------------------------------------------\n",
      "\n",
      "   File   : outputfit.info\n",
      "   Format : F\n",
      "   Number : 6\n",
      "\n",
      " ------------------------------------------------------------\n",
      "  => Data format parameters\n",
      " ------------------------------------------------------------\n",
      "\n",
      "   Number of filters :  18\n",
      "\n",
      "\n",
      "     Filter    Wavelength    Aperture (\")   \n",
      "    ----------------------------------------\n",
      "          I3        5.73       7.20        \n",
      "          I4        7.87       7.20        \n",
      "       8.5um        8.50       7.20        \n",
      "         9um        9.00       7.20        \n",
      "       9.7um        9.70       7.20        \n",
      "        10um       10.00       7.20        \n",
      "       10.5um       10.50       7.20        \n",
      "        11um       11.00       7.20        \n",
      "        16um       16.00      20.40        \n",
      "        20um       20.00      20.40        \n",
      "          M1       23.68      20.40        \n",
      "        35um       35.00      20.40        \n",
      "          P1       70.00      31.80        \n",
      "          P2      100.00      31.80        \n",
      "          P3      160.00      31.80        \n",
      "         HS1      250.00      35.40        \n",
      "         HS2      350.00      47.90        \n",
      "         HS3      500.00      46.90        \n",
      "\n",
      "Delete file outputfit.info? [y/[n]] y\n",
      "\n",
      "   # Sources    CPU time (sec)    Sources/sec  \n",
      " ----------------------------------------------\n"
     ]
    },
    {
     "ename": "ValueError",
     "evalue": "operands could not be broadcast together with shapes (19,) (200710,9,18) ",
     "output_type": "error",
     "traceback": [
      "\u001b[0;31m---------------------------------------------------------------------------\u001b[0m",
      "\u001b[0;31mValueError\u001b[0m                                Traceback (most recent call last)",
      "\u001b[0;32m<ipython-input-24-20c52c5ba2fe>\u001b[0m in \u001b[0;36m<module>\u001b[0;34m()\u001b[0m\n\u001b[1;32m      6\u001b[0m \u001b[0;34m\u001b[0m\u001b[0m\n\u001b[1;32m      7\u001b[0m fit('/Users/yaolun/bhr71/best_calibrated/bhr71_data_for_sedfitter.txt', filters, apertures, model_dir,\n\u001b[0;32m----> 8\u001b[0;31m     'outputfit.info', extinction_law=extinction, distance_range=[180, 220] * u.pc, av_range=[0, 10])\n\u001b[0m",
      "\u001b[0;32m/Users/yaolun/anaconda/lib/python2.7/site-packages/sedfitter/fit.pyc\u001b[0m in \u001b[0;36mfit\u001b[0;34m(data, filter_names, apertures, model_dir, output, n_data_min, extinction_law, av_range, distance_range, output_format, output_convolved, remove_resolved)\u001b[0m\n\u001b[1;32m    222\u001b[0m         \u001b[0;32mif\u001b[0m \u001b[0ms\u001b[0m\u001b[0;34m.\u001b[0m\u001b[0mn_data\u001b[0m \u001b[0;34m>=\u001b[0m \u001b[0mn_data_min\u001b[0m\u001b[0;34m:\u001b[0m\u001b[0;34m\u001b[0m\u001b[0m\n\u001b[1;32m    223\u001b[0m \u001b[0;34m\u001b[0m\u001b[0m\n\u001b[0;32m--> 224\u001b[0;31m             \u001b[0minfo\u001b[0m \u001b[0;34m=\u001b[0m \u001b[0mfitter\u001b[0m\u001b[0;34m.\u001b[0m\u001b[0mfit\u001b[0m\u001b[0;34m(\u001b[0m\u001b[0ms\u001b[0m\u001b[0;34m)\u001b[0m\u001b[0;34m\u001b[0m\u001b[0m\n\u001b[0m\u001b[1;32m    225\u001b[0m \u001b[0;34m\u001b[0m\u001b[0m\n\u001b[1;32m    226\u001b[0m             \u001b[0;32mif\u001b[0m \u001b[0;32mnot\u001b[0m \u001b[0moutput_convolved\u001b[0m\u001b[0;34m:\u001b[0m\u001b[0;34m\u001b[0m\u001b[0m\n",
      "\u001b[0;32m/Users/yaolun/anaconda/lib/python2.7/site-packages/sedfitter/fit.pyc\u001b[0m in \u001b[0;36mfit\u001b[0;34m(self, source)\u001b[0m\n\u001b[1;32m    103\u001b[0m \u001b[0;34m\u001b[0m\u001b[0m\n\u001b[1;32m    104\u001b[0m         info = self.models.fit(source, self.av_law, self.sc_law,\n\u001b[0;32m--> 105\u001b[0;31m                                self.av_range[0], self.av_range[1])\n\u001b[0m\u001b[1;32m    106\u001b[0m \u001b[0;34m\u001b[0m\u001b[0m\n\u001b[1;32m    107\u001b[0m         \u001b[0minfo\u001b[0m\u001b[0;34m.\u001b[0m\u001b[0mmeta\u001b[0m\u001b[0;34m.\u001b[0m\u001b[0mmodel_dir\u001b[0m \u001b[0;34m=\u001b[0m \u001b[0mself\u001b[0m\u001b[0;34m.\u001b[0m\u001b[0mmodel_dir\u001b[0m\u001b[0;34m\u001b[0m\u001b[0m\n",
      "\u001b[0;32m/Users/yaolun/anaconda/lib/python2.7/site-packages/sedfitter/models.pyc\u001b[0m in \u001b[0;36mfit\u001b[0;34m(self, source, av_law, sc_law, av_min, av_max, output_convolved)\u001b[0m\n\u001b[1;32m    369\u001b[0m \u001b[0;34m\u001b[0m\u001b[0m\n\u001b[1;32m    370\u001b[0m             \u001b[0;31m# Use optimal scaling to fit the Av\u001b[0m\u001b[0;34m\u001b[0m\u001b[0;34m\u001b[0m\u001b[0m\n\u001b[0;32m--> 371\u001b[0;31m             \u001b[0mresidual\u001b[0m \u001b[0;34m=\u001b[0m \u001b[0mlog_flux\u001b[0m \u001b[0;34m-\u001b[0m \u001b[0mmodel_fluxes\u001b[0m\u001b[0;34m\u001b[0m\u001b[0m\n\u001b[0m\u001b[1;32m    372\u001b[0m             \u001b[0mav_best\u001b[0m \u001b[0;34m=\u001b[0m \u001b[0mf\u001b[0m\u001b[0;34m.\u001b[0m\u001b[0moptimal_scaling\u001b[0m\u001b[0;34m(\u001b[0m\u001b[0mresidual\u001b[0m\u001b[0;34m,\u001b[0m \u001b[0mweight\u001b[0m\u001b[0;34m,\u001b[0m \u001b[0mav_law\u001b[0m\u001b[0;34m)\u001b[0m\u001b[0;34m\u001b[0m\u001b[0m\n\u001b[1;32m    373\u001b[0m \u001b[0;34m\u001b[0m\u001b[0m\n",
      "\u001b[0;31mValueError\u001b[0m: operands could not be broadcast together with shapes (19,) (200710,9,18) "
     ]
    }
   ],
   "source": [
    "# Define filters and apertures\n",
    "filters = ['I3','I4','8.5um','9um','9.7um','10um','10.5um','11um','16um','20um','M1',\n",
    "           '35um','P1','P2','P3','HS1','HS2','HS3']\n",
    "apertures = [7.2, 7.2, 7.2, 7.2, 7.2, 7.2, 7.2, 7.2, 20.4, 20.4,\n",
    "             20.4, 20.4, 31.8, 31.8, 31.8, 35.4, 47.9, 46.9] * u.arcsec\n",
    "\n",
    "fit('/Users/yaolun/bhr71/best_calibrated/bhr71_data_for_sedfitter.txt', filters, apertures, model_dir,\n",
    "    'outputfit.info', extinction_law=extinction, distance_range=[180, 220] * u.pc, av_range=[0, 10])"
   ]
  },
  {
   "cell_type": "code",
   "execution_count": null,
   "metadata": {
    "collapsed": true
   },
   "outputs": [],
   "source": []
  }
 ],
 "metadata": {
  "kernelspec": {
   "display_name": "Python 2",
   "language": "python",
   "name": "python2"
  },
  "language_info": {
   "codemirror_mode": {
    "name": "ipython",
    "version": 2
   },
   "file_extension": ".py",
   "mimetype": "text/x-python",
   "name": "python",
   "nbconvert_exporter": "python",
   "pygments_lexer": "ipython2",
   "version": "2.7.11"
  }
 },
 "nbformat": 4,
 "nbformat_minor": 0
}
