{
 "cells": [
  {
   "cell_type": "code",
   "execution_count": 14,
   "metadata": {
    "collapsed": false
   },
   "outputs": [],
   "source": [
    "%matplotlib inline\n",
    "import numpy as np\n",
    "from astropy.io import ascii, fits\n",
    "import matplotlib.pyplot as plt\n",
    "from photutils import aperture_photometry as ap\n",
    "from photutils import CircularAperture, CircularAnnulus\n",
    "from astropy import units as u\n",
    "from astropy.coordinates import SkyCoord\n",
    "from astropy import wcs"
   ]
  },
  {
   "cell_type": "markdown",
   "metadata": {},
   "source": [
    "## Calculate the radial intensity profile by taking the difference between apertues"
   ]
  },
  {
   "cell_type": "code",
   "execution_count": 15,
   "metadata": {
    "collapsed": false
   },
   "outputs": [],
   "source": [
    "# Read in data and set up coversions\n",
    "im_hdu = fits.open('/Users/yaolun/bhr71/data/photometry/herschel_photometry/'+\n",
    "               '1342226633/level2/extdPMW/hspirepmw1342226633_20pxmp_1431669350070.fits')\n",
    "im = im_hdu[1].data\n",
    "w = wcs.WCS(im_hdu[1].header)\n",
    "\n",
    "coord = SkyCoord('12 01 36.3 -65 08 53.0', unit=(u.hourangle, u.deg))\n",
    "pixcoord = w.wcs_world2pix(coord.ra.degree, coord.dec.degree, 1)\n",
    "pix2arcsec = abs(im_hdu[1].header['CDELT1'])*3600.\n",
    "\n",
    "# radial grid in arcsec\n",
    "r = np.arange(0, 200, 1)\n",
    "I = np.empty_like(r)\n",
    "\n",
    "# iteration\n",
    "for ir in range(len(r)-1):\n",
    "    aperture = CircularAnnulus((pixcoord[0],pixcoord[1]), r_in=r[ir]/pix2arcsec, r_out=r[ir+1]/pix2arcsec)\n",
    "    # convert intensity unit from MJy/sr to Jy/pixel\n",
    "    "
   ]
  },
  {
   "cell_type": "code",
   "execution_count": 16,
   "metadata": {
    "collapsed": false
   },
   "outputs": [
    {
     "data": {
      "text/plain": [
       "XTENSION= 'IMAGE   '           / Java FITS: Fri May 15 07:36:23 CEST 2015       \n",
       "BITPIX  =                  -64                                                  \n",
       "NAXIS   =                    2 / Dimensionality                                 \n",
       "NAXIS1  =                  216                                                  \n",
       "NAXIS2  =                  202                                                  \n",
       "PCOUNT  =                    0 / No extra parameters                            \n",
       "GCOUNT  =                    1 / One group                                      \n",
       "LONGSTRN= 'OGIP 1.0'           / The OGIP long string convention may be used.   \n",
       "COMMENT This FITS file may contain long string keyword values that are          \n",
       "COMMENT continued over multiple keywords.  This convention uses the  '&'        \n",
       "COMMENT character at the end of a string which is then continued                \n",
       "COMMENT on subsequent keywords whose name = 'CONTINUE'.                         \n",
       "          -------------- Herschel Structure Data--------------------            \n",
       "          Following fields are private to the structure of the                  \n",
       "          Java object this HDU is representing.                                 \n",
       "EXTNAME = 'image   '           / name of this HDU                               \n",
       "CLASS___= 'herschel.ia.dataset.ArrayDataset' / java representation              \n",
       "INFO____= 'Image   '                                                            \n",
       "DATA____= 'herschel.ia.numeric.Double2d' / java Data                            \n",
       "QTTY____= 'MJy/sr  '           / Unit of the data                               \n",
       "BUNIT   = 'MJy/sr  '           / Unit of the data                               \n",
       "          -------------- Herschel Parameter Data--------------------            \n",
       "          All actual parameter names are converted to FITS compliant            \n",
       "          conventions. Note that the HIERARCH comments contain the              \n",
       "          appropriate key mapping                                               \n",
       "META_0  =                    2 / [] WCS: Number of Axes                         \n",
       "CRPIX1  =                113.0 / [] WCS: Reference pixel position axis 1, uni&  \n",
       "COMMENT t=Scalar                                                                \n",
       "CRPIX2  =                104.0 / [] WCS: Reference pixel position axis 2, uni&  \n",
       "COMMENT t=Scalar                                                                \n",
       "CRVAL1  =    180.3871627603195 / [] WCS: First coordinate of reference pixel    \n",
       "CRVAL2  =    -65.1408687411371 / [] WCS: Second coordinate of reference pixel   \n",
       "CDELT1  =   -0.002777777777778 / [] WCS: Pixel scale axis 1, unit=Angle         \n",
       "CDELT2  = 0.002777777777777778 / [] WCS: Pixel scale axis 2, unit=Angle         \n",
       "CTYPE1  = 'RA---TAN'           / WCS: Projection type axis 1, default=\"LINEAR\"  \n",
       "CTYPE2  = 'DEC--TAN'           / WCS: Projection type axis 2, default=\"LINEAR\"  \n",
       "EQUINOX =               2000.0 / [] WCS: Equinox, unit=Duration                 \n",
       "CROTA2  =                  0.0 / [] The Rotation angle                          \n",
       "META_1  =                  216 / [] The number of columns                       \n",
       "META_2  =                  202 / [] The number of rows                          \n",
       "HIERARCH  key.META_0='naxis'                                                    \n",
       "HIERARCH  key.CRPIX1='crpix1'                                                   \n",
       "HIERARCH  key.CRPIX2='crpix2'                                                   \n",
       "HIERARCH  key.CRVAL1='crval1'                                                   \n",
       "HIERARCH  key.CRVAL2='crval2'                                                   \n",
       "HIERARCH  key.CDELT1='cdelt1'                                                   \n",
       "HIERARCH  key.CDELT2='cdelt2'                                                   \n",
       "HIERARCH  key.CTYPE1='ctype1'                                                   \n",
       "HIERARCH  key.CTYPE2='ctype2'                                                   \n",
       "HIERARCH  key.EQUINOX='equinox'                                                 \n",
       "HIERARCH  key.CROTA2='crota2'                                                   \n",
       "HIERARCH  key.META_1='naxis1'                                                   \n",
       "HIERARCH  key.META_2='naxis2'                                                   "
      ]
     },
     "execution_count": 16,
     "metadata": {},
     "output_type": "execute_result"
    }
   ],
   "source": [
    "im_hdu[1].header"
   ]
  },
  {
   "cell_type": "code",
   "execution_count": null,
   "metadata": {
    "collapsed": true
   },
   "outputs": [],
   "source": [
    "\n",
    "coord = SkyCoord('12 01 36.3 -65 08 53.0', unit=(u.hourangle, u.deg))\n",
    "aper_rad = 15.5/2\n",
    "\n",
    "for im in im_list:\n",
    "    w = wcs.WCS(im[1].header)\n",
    "    pixcoord = w.wcs_world2pix(coord.ra.degree, coord.dec.degree, 1)\n",
    "    pix2arcsec = abs(im[1].header['CDELT1'])*3600\n",
    "    aperture = CircularAperture((pixcoord[0],pixcoord[1]), r=aper_rad/pix2arcsec)\n",
    "    factor = 1e6/4.25e10*abs(im[1].header['CDELT1']*im[1].header['CDELT2'])*3600**2  # to Jy/pixel\n",
    "    phot_table = ap(im[1], aperture) \n",
    "    print phot_table['aperture_sum']*factor"
   ]
  }
 ],
 "metadata": {
  "kernelspec": {
   "display_name": "Python 2",
   "language": "python",
   "name": "python2"
  },
  "language_info": {
   "codemirror_mode": {
    "name": "ipython",
    "version": 2
   },
   "file_extension": ".py",
   "mimetype": "text/x-python",
   "name": "python",
   "nbconvert_exporter": "python",
   "pygments_lexer": "ipython2",
   "version": "2.7.11"
  }
 },
 "nbformat": 4,
 "nbformat_minor": 0
}
