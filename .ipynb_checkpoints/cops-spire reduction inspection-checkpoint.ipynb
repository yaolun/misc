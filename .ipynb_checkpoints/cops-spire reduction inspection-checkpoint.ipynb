{
 "cells": [
  {
   "cell_type": "code",
   "execution_count": 2,
   "metadata": {
    "collapsed": true
   },
   "outputs": [],
   "source": [
    "%matplotlib inline"
   ]
  },
  {
   "cell_type": "markdown",
   "metadata": {},
   "source": [
    "☐ re-visit sources - B1-a, DK Cha, TMC1, WL12, L1455-IRS, L1014, and IRAS03301.\n",
    "    - aperture failed to converage - TMC1, WL12, L1014, and IRAS03301.\n",
    "    - aperture too big - B1-a\n",
    "    - unknown reason - DKCha (31.8), L1455-IRS3 (24.8)"
   ]
  },
  {
   "cell_type": "code",
   "execution_count": 3,
   "metadata": {
    "collapsed": true
   },
   "outputs": [],
   "source": [
    "# Source info\n",
    "obj_list = [['TMC1','1342225803','1342225804','1342250512'],\n",
    "            ['WL12','1342228187','1342228188','1342251290'],\n",
    "            ['L1014','1342208911','1342208912','1342245857'],\n",
    "            ['IRAS03301','1342215668','1342216181','1342249477'],\n",
    "            ['B1-a','1342216182','1342216183','1342249475'],\n",
    "            ['DKCha','1342188039','1342188040','1342254037'],\n",
    "            ['L1455-IRS3','1342204122','1342204123','1342249474']]\n",
    "pacsdatadir = '/scratch/CDF_PACS_HSA/'\n",
    "outdir = '/home/bettyjo/yaolun/test/'"
   ]
  },
  {
   "cell_type": "code",
   "execution_count": 5,
   "metadata": {
    "collapsed": false
   },
   "outputs": [],
   "source": [
    "import sys\n",
    "sys.path.append('/home/bettyjo/yaolun/programs/line_fitting/')\n",
    "# from cdfPacs1d import cdfPacs1d\n",
    "# This is the version without line fitting\n",
    "from cdfPacs1d_old import cdfPacs1d\n",
    "o = obj_list[5]\n",
    "cdfPacs1d(o[1:3], pacsdatadir, outdir+o[0]+'/', o[0], aper_size=9)"
   ]
  },
  {
   "cell_type": "code",
   "execution_count": 6,
   "metadata": {
    "collapsed": false
   },
   "outputs": [
    {
     "data": {
      "image/png": "[encoded data removed]",
      "text/plain": [
       "<wand.image.Image: c8d280e 'PDF' (526x418)>"
      ]
     },
     "execution_count": 6,
     "metadata": {},
     "output_type": "execute_result"
    }
   ],
   "source": [
    "from wand.image import Image as WImage\n",
    "img = WImage(filename=outdir+o[0]+'/pacs/data/'+o[0]+'_pacs_weighted.pdf')\n",
    "img"
   ]
  },
  {
   "cell_type": "code",
   "execution_count": 7,
   "metadata": {
    "collapsed": true
   },
   "outputs": [],
   "source": [
    "# inspect the pacs cube\n",
    "o = obj_list[5]\n",
    "cubefile = [pacsdatadir+o[1]+'/herschel.pacs.signal.PacsRebinnedCube/hpacs'+o[1]+'_20hps3drbs_00.fits',\n",
    "            pacsdatadir+o[1]+'/herschel.pacs.signal.PacsRebinnedCube/hpacs'+o[1]+'_20hps3drrs_00.fits',\n",
    "            pacsdatadir+o[2]+'/herschel.pacs.signal.PacsRebinnedCube/hpacs'+o[2]+'_20hps3drbs_00.fits',\n",
    "            pacsdatadir+o[2]+'/herschel.pacs.signal.PacsRebinnedCube/hpacs'+o[2]+'_20hps3drrs_00.fits']\n",
    "\n",
    "from astropy.io import fits\n",
    "import numpy as np\n",
    "hdulist = fits.open(cubefile[0])"
   ]
  },
  {
   "cell_type": "code",
   "execution_count": 18,
   "metadata": {
    "collapsed": false
   },
   "outputs": [
    {
     "name": "stdout",
     "output_type": "stream",
     "text": [
      "/scratch/CDF_PACS_HSA/1342188039/herschel.pacs.signal.PacsRebinnedCube/hpacs1342188039_20hps3drbs_00.fits\n"
     ]
    }
   ],
   "source": [
    "print cubefile[0]"
   ]
  },
  {
   "cell_type": "code",
   "execution_count": 9,
   "metadata": {
    "collapsed": false
   },
   "outputs": [
    {
     "data": {
      "text/plain": [
       "(1732, 5, 5)"
      ]
     },
     "execution_count": 9,
     "metadata": {},
     "output_type": "execute_result"
    }
   ],
   "source": [
    "np.shape(hdulist[1].data)"
   ]
  },
  {
   "cell_type": "code",
   "execution_count": 17,
   "metadata": {
    "collapsed": false
   },
   "outputs": [
    {
     "data": {
      "text/plain": [
       "[<matplotlib.lines.Line2D at 0x2b5662f103d0>]"
      ]
     },
     "execution_count": 17,
     "metadata": {},
     "output_type": "execute_result"
    },
    {
     "data": {
      "image/png": "[encoded data removed]",
      "text/plain": [
       "<matplotlib.figure.Figure at 0x2b56621a2210>"
      ]
     },
     "metadata": {},
     "output_type": "display_data"
    }
   ],
   "source": [
    "import matplotlib.pyplot as plt\n",
    "plt.plot(hdulist[8].data, hdulist[1].data[:,2,2])"
   ]
  },
  {
   "cell_type": "code",
   "execution_count": null,
   "metadata": {
    "collapsed": true
   },
   "outputs": [],
   "source": []
  }
 ],
 "metadata": {
  "kernelspec": {
   "display_name": "Python 2",
   "language": "python",
   "name": "python2"
  },
  "language_info": {
   "codemirror_mode": {
    "name": "ipython",
    "version": 2
   },
   "file_extension": ".py",
   "mimetype": "text/x-python",
   "name": "python",
   "nbconvert_exporter": "python",
   "pygments_lexer": "ipython2",
   "version": "2.7.13"
  }
 },
 "nbformat": 4,
 "nbformat_minor": 0
}
