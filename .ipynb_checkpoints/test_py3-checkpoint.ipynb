{
 "cells": [
  {
   "cell_type": "code",
   "execution_count": 15,
   "metadata": {
    "collapsed": false
   },
   "outputs": [
    {
     "data": {
      "text/html": [
       "&lt;Table length=1&gt;\n",
       "<table id=\"table4486784784\" class=\"table-striped table-bordered table-condensed\">\n",
       "<thead><tr><th>Index</th><th>Cloud</th><th>SSTid</th><th>Av</th><th>alpha</th><th>T_bol</th><th>L_bol</th><th>alpha_extcor</th><th>T_bol_extcor</th><th>L_bol_extcor</th><th>AGB_flag</th><th>Core_flag</th></tr></thead>\n",
       "<thead><tr><th>int64</th><th>str16</th><th>str16</th><th>float64</th><th>float64</th><th>float64</th><th>float64</th><th>float64</th><th>float64</th><th>float64</th><th>str1</th><th>str1</th></tr></thead>\n",
       "<tr><td>2369</td><td>Perseus</td><td>J032800.3+300801</td><td>5.9</td><td>0.95</td><td>230.0</td><td>0.25</td><td>0.98</td><td>280.0</td><td>0.29</td><td>N</td><td>Y</td></tr>\n",
       "</table>"
      ],
      "text/plain": [
       "<Table length=1>\n",
       "Index  Cloud       SSTid          Av   ... L_bol_extcor AGB_flag Core_flag\n",
       "int64  str16       str16       float64 ...   float64      str1      str1  \n",
       "----- ------- ---------------- ------- ... ------------ -------- ---------\n",
       " 2369 Perseus J032800.3+300801     5.9 ...         0.29        N         Y"
      ]
     },
     "execution_count": 15,
     "metadata": {},
     "output_type": "execute_result"
    }
   ],
   "source": [
    "# get source index based on SSTc2d/SSTgb id\n",
    "SSTid = 'J032800.3+300801'\n",
    "from astropy.io import ascii\n",
    "\n",
    "# Table: Properties of the c2d+GB YSOs\n",
    "# ================================================================================\n",
    "# Byte-by-byte Description of file: apjs519129t2_mrt.txt\n",
    "# --------------------------------------------------------------------------------\n",
    "#    Bytes Format Units  Label   Explanations\n",
    "# --------------------------------------------------------------------------------\n",
    "#    1-  4 I4     ---    Index   Index\n",
    "#    6- 21 A16    ---    Cloud   Cloud identifier\n",
    "#   23- 38 A16    ---    ID      SSTc2d or SSTgb + Spitzer source name  \n",
    "#   40- 43 F4.1   mag    AV      The V band extinction \n",
    "#   45- 51 F7.2   ---    alpha   Observed spectral index\n",
    "#   53- 58 F6.1   K      Tbol    Observed bolometric temperature\n",
    "#   60- 69 F10.5  solLum Lbol    Observed bolometric luminosity\n",
    "#   71- 77 F7.2   ---    alpha'  Extinction corrected spectral index\n",
    "#   79- 84 F6.1   K      Tbol'   Extinction corrected bolometric temperature\n",
    "#   86- 95 F10.5  solLum Lbol'   Extinction corrected bolometric luminosity\n",
    "#   97- 97 A1     ---    AGB?    A likely AGB? Y or N\n",
    "#   99- 99 A1     ---    Core?   Source has a core?\n",
    "# --------------------------------------------------------------------------------\n",
    "\n",
    "\n",
    "filename = '/Users/yaolun/data/Dunham15_c2dGB/apjs519129t2_mrt.txt'\n",
    "data = ascii.read(filename, data_start=24, delimiter=' ',\n",
    "                  names=['Index','Cloud','SSTid','Av','alpha','T_bol','L_bol',\n",
    "                         'alpha_extcor','T_bol_extcor','L_bol_extcor','AGB_flag','Core_flag'])\n",
    "\n",
    "data[data['SSTid'] == SSTid]"
   ]
  },
  {
   "cell_type": "code",
   "execution_count": 30,
   "metadata": {
    "collapsed": false
   },
   "outputs": [
    {
     "data": {
      "text/html": [
       "&lt;Table length=1&gt;\n",
       "<table id=\"table4489764592\" class=\"table-striped table-bordered table-condensed\">\n",
       "<thead><tr><th>Index</th><th>F_J</th><th>err_J</th><th>F_H</th><th>err_H</th><th>F_Ks</th><th>err_Ks</th><th>F_IRAC1</th><th>err_IRAC1</th><th>F_IRAC2</th><th>err_IRAC2</th><th>F_IRAC3</th><th>err_IRAC3</th><th>F_IRAC4</th><th>err_IRAC4</th><th>F_MIPS24</th><th>err_MIPS24</th><th>F_MIPS70</th><th>err_MIPS70</th></tr></thead>\n",
       "<thead><tr><th>int64</th><th>float64</th><th>float64</th><th>float64</th><th>float64</th><th>float64</th><th>float64</th><th>float64</th><th>float64</th><th>float64</th><th>float64</th><th>float64</th><th>float64</th><th>float64</th><th>float64</th><th>float64</th><th>float64</th><th>int64</th><th>float64</th></tr></thead>\n",
       "<tr><td>1552</td><td>-999.0</td><td>-999.0</td><td>-999.0</td><td>-999.0</td><td>-999.0</td><td>-999.0</td><td>1.9</td><td>0.4</td><td>6.4</td><td>0.64</td><td>4.5</td><td>0.63</td><td>2.9</td><td>0.56</td><td>91.0</td><td>8.5</td><td>11000</td><td>1200.0</td></tr>\n",
       "</table>"
      ],
      "text/plain": [
       "<Table length=1>\n",
       "Index   F_J    err_J    F_H   ... F_MIPS24 err_MIPS24 F_MIPS70 err_MIPS70\n",
       "int64 float64 float64 float64 ... float64   float64    int64    float64  \n",
       "----- ------- ------- ------- ... -------- ---------- -------- ----------\n",
       " 1552  -999.0  -999.0  -999.0 ...     91.0        8.5    11000     1200.0"
      ]
     },
     "execution_count": 30,
     "metadata": {},
     "output_type": "execute_result"
    }
   ],
   "source": [
    "# get IRAC fluxes out from Dunham+16 table 2 for given source index\n",
    "from astropy.io import ascii\n",
    "from pprint import pprint\n",
    "\n",
    "# ================================================================================\n",
    "# Byte-by-byte Description of file: apjs519129t4_mrt.txt\n",
    "# --------------------------------------------------------------------------------\n",
    "#    Bytes Format Units Label  Explanations\n",
    "# --------------------------------------------------------------------------------\n",
    "#    1-  4 I4     ---   Index  Index \n",
    "#    6- 13 F8.2   mJy   F1.25  J band 1.25 micron flux density\n",
    "#   15- 24 F10.4  mJy  eF1.25  Uncertainty in F1.25\n",
    "#   26- 34 F9.3   mJy   F1.65  H band 1.65 micron flux density\n",
    "#   36- 44 F9.4   mJy  eF1.65  Uncertainty in F1.65\n",
    "#   46- 54 F9.2   mJy   F2.17  K_S_ band 2.17 micron flux density \n",
    "#   56- 64 F9.3   mJy  eF2.17  Uncertainty in F2.17\n",
    "#   66- 74 F9.4   mJy   F3.6   Spitzer/IRAC 3.6 micron flux density\n",
    "#   76- 84 F9.4   mJy  eF3.6   Uncertainty in F3.6\n",
    "#   86- 93 F8.3   mJy   F4.5   Spitzer/IRAC 4.5 micron flux density\n",
    "#   95-103 F9.4   mJy  eF4.5   Uncertainty in F4.5\n",
    "#  105-112 F8.2   mJy   F5.8   Spitzer/IRAC 5.8 micron flux density\n",
    "#  114-121 F8.3   mJy  eF5.8   Uncertainty in F5.8\n",
    "#  123-130 F8.2   mJy   F8.0   Spitzer/IRAC 8.0 micron flux density\n",
    "#  132-139 F8.3   mJy  eF8.0   Uncertainty in F8.0\n",
    "#  141-148 F8.2   mJy   F24    Spitzer/MIPS 24 micron flux density\n",
    "#  150-156 F7.2   mJy  eF24    Uncertainty in F24\n",
    "#  158-163 I6     mJy   F70    Spitzer/MIPS 70 micron flux density\n",
    "#  165-171 F7.1   mJy  eF70    Uncertainty in F70\n",
    "# --------------------------------------------------------------------------------\n",
    "\n",
    "# no extinction correction\n",
    "# filename = '/Users/yaolun/data/Dunham15_c2dGB/apjs519129t3_mrt.txt'\n",
    "# extinction corrected\n",
    "filename = '/Users/yaolun/data/Dunham15_c2dGB/apjs519129t4_mrt.txt'\n",
    "data = ascii.read(filename, data_start=31, names=['Index','F_J','err_J','F_H','err_H','F_Ks','err_Ks','F_IRAC1',\n",
    "                                                  'err_IRAC1','F_IRAC2','err_IRAC2','F_IRAC3','err_IRAC3','F_IRAC4',\n",
    "                                                  'err_IRAC4','F_MIPS24','err_MIPS24','F_MIPS70','err_MIPS70'])\n",
    "\n",
    "data[data['Index'] == 1552]"
   ]
  },
  {
   "cell_type": "code",
   "execution_count": 26,
   "metadata": {
    "collapsed": false
   },
   "outputs": [
    {
     "name": "stdout",
     "output_type": "stream",
     "text": [
      "IRAC\n",
      "[ 0.06145422  0.14143213  0.23588365  0.32527051]\n",
      "[ 0.04830943  0.04827109  0.04836615  0.04809435]\n",
      "MIPS\n",
      "[ 1.92096369  4.56015492  8.5782189 ]\n",
      "[ 0.03990807  0.20321369  0.3374701 ]\n"
     ]
    }
   ],
   "source": [
    "def IRACmag2flux(mag, mag_err):\n",
    "    # calculate the absolute flux for IRAC given magnitude\n",
    "    import numpy as np \n",
    "    # Jy\n",
    "    zero_mag_flux = np.array([280.9, 179.7, 115.0, 64.9])\n",
    "    zero_mag_err = np.array([4.1, 2.6, 1.7, 0.9])\n",
    "\n",
    "    # formula: F_v = F_v,o * 10^(-2/5*m)\n",
    "    # error propagation: f = a^(b*A); sigma_f^2 = f^2*(b*ln(a)*sigma_A)^2\n",
    "    #                    f = AB; sigma_f^2 = (sigma_A/A)^2+(sigma_B/B)^2\n",
    "\n",
    "    flux = zero_mag_flux * 10**(-2./5*mag)\n",
    "    flux_err_expo = 10**(-2./5*mag)*((-2./5*np.log(10)*mag_err)**2)**0.5\n",
    "    flux_err = ((zero_mag_err/zero_mag_flux)**2 + (flux_err_expo/10**(-2./5*mag))**2)**0.5\n",
    "\n",
    "    return flux, flux_err\n",
    "\n",
    "def MIPSmag2flux(mag, mag_err):\n",
    "    # calculate the absolute flux for IRAC given magnitude\n",
    "    import numpy as np \n",
    "    # Jy\n",
    "    zero_mag_flux = np.array([7.17, 0.778, 0.159])\n",
    "    zero_mag_err = np.array([0.11, 0.012, 0.020])\n",
    "\n",
    "    # formula: F_v = F_v,o * 10^(-2/5*m)\n",
    "    # error propagation: f = a^(b*A); sigma_f^2 = f^2*(b*ln(a)*sigma_A)^2\n",
    "    #                    f = AB; sigma_f^2 = (sigma_A/A)^2+(sigma_B/B)^2\n",
    "\n",
    "    flux = zero_mag_flux * 10**(-2./5*mag)\n",
    "    flux_err_expo = 10**(-2./5*mag)*((-2./5*np.log(10)*mag_err)**2)**0.5\n",
    "    flux_err = ((zero_mag_err/zero_mag_flux)**2 + (flux_err_expo/10**(-2./5*mag))**2)**0.5\n",
    "\n",
    "    return flux, flux_err\n",
    "\n",
    "mag = np.array([9.15, 7.76, 6.72, 5.75])\n",
    "mag_err = np.array([0.05, 0.05, 0.05, 0.05])\n",
    "flux, flux_err = IRACmag2flux(mag, mag_err)\n",
    "\n",
    "print('IRAC')\n",
    "print(flux)\n",
    "print(flux_err)\n",
    "\n",
    "mag = np.array([1.43, -1.92, -4.33])\n",
    "mag_err = np.array([0.04, 0.22, 0.34])\n",
    "flux, flux_err = MIPSmag2flux(mag, mag_err)\n",
    "\n",
    "print('MIPS')\n",
    "print(flux)\n",
    "print(flux_err)"
   ]
  },
  {
   "cell_type": "code",
   "execution_count": null,
   "metadata": {
    "collapsed": true
   },
   "outputs": [],
   "source": [
    "9.15 ± 0.05 7.76 ± 0.05 6.72 ± 0.05 5.75 ± 0.05 1.43 ± 0.04 −1.92 ± 0.22 −4.33 ± 0.34"
   ]
  }
 ],
 "metadata": {
  "kernelspec": {
   "display_name": "Python 3",
   "language": "python",
   "name": "python3"
  },
  "language_info": {
   "codemirror_mode": {
    "name": "ipython",
    "version": 3
   },
   "file_extension": ".py",
   "mimetype": "text/x-python",
   "name": "python",
   "nbconvert_exporter": "python",
   "pygments_lexer": "ipython3",
   "version": "3.5.2"
  }
 },
 "nbformat": 4,
 "nbformat_minor": 0
}
