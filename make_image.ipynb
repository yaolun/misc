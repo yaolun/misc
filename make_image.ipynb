{
 "metadata": {
  "name": "",
  "signature": "sha256:616e167d700c9e172f9dd1e2df0311fae9b6525bc78fbd2d47b9542dfb55af62"
 },
 "nbformat": 3,
 "nbformat_minor": 0,
 "worksheets": [
  {
   "cells": [
    {
     "cell_type": "code",
     "collapsed": false,
     "input": [
      "%matplotlib inline"
     ],
     "language": "python",
     "metadata": {},
     "outputs": [],
     "prompt_number": 1
    },
    {
     "cell_type": "code",
     "collapsed": false,
     "input": [
      "def make_image(filepath,outdir=None,coord=None,size=0.05,plotname=None):\n",
      "    import numpy as np\n",
      "    import aplpy as apl\n",
      "    import matplotlib\n",
      "#     matplotlib.use('Agg')\n",
      "    import os\n",
      "\n",
      "    mag = 1.5\n",
      "    if coord == None:\n",
      "        # Coordinates of BHR71:\n",
      "        ra_cen  = 180.3985138\n",
      "        dec_cen = -65.14783478\n",
      "    else:\n",
      "        ra_cen = coord[0]\n",
      "        dec_cen = coord[1]\n",
      "\n",
      "    # At 178 pc, 10000 AU correspond to 57.96 arcsec\n",
      "\n",
      "    im = apl.FITSFigure(filepath,north=True)\n",
      "\n",
      "    im.show_colorscale(cmap='Greys',stretch='arcsinh')\n",
      "\n",
      "    im.recenter(ra_cen,dec_cen,width=size,height=size)\n",
      "\n",
      "    im.add_grid()\n",
      "    im.grid.set_xspacing(size/5.)\n",
      "    im.grid.set_yspacing(size/5.)\n",
      "    im.grid.set_color('green')\n",
      "    im.set_nan_color('black')\n",
      "    im.tick_labels.set_font(size=18)\n",
      "    # im.set_grid_alpha(0.2)\n",
      "\n",
      "    im.add_colorbar()\n",
      "    im.colorbar.set_font(size=18)\n",
      "    im.colorbar.set_axis_label_text('Intensity (MJy/sr)')\n",
      "    im.colorbar.set_axis_label_font(size=18)\n",
      "#     im.colorbar.set_frame_color('face')\n",
      "    im.set_tick_labels_format(xformat='hh:mm:ss',yformat='dd:mm:ss')\n",
      "    im.axis_labels.set_font(size=18)\n",
      "    \n",
      "    plotdir = os.path.dirname(filepath)\n",
      "    if plotname == None:\n",
      "        plotname = raw_input('What is the plot name: ')\n",
      "        print plotname\n",
      "    im.save(plotdir+'/'+plotname+'.pdf',format='pdf',transparent=True)\n"
     ],
     "language": "python",
     "metadata": {},
     "outputs": [],
     "prompt_number": 16
    },
    {
     "cell_type": "code",
     "collapsed": false,
     "input": [
      "irac1 = '/Users/yaolun/bhr71/data/photometry/DC297.7-2.8_COMB_IRAC1_mosaic.fits'\n",
      "irac2 = '/Users/yaolun/bhr71/data/photometry/DC297.7-2.8_COMB_IRAC2_mosaic.fits'\n",
      "irac3 = '/Users/yaolun/bhr71/data/photometry/DC297.7-2.8_COMB_IRAC3_mosaic.fits'\n",
      "irac4 = '/Users/yaolun/bhr71/data/photometry/DC297.7-2.8_COMB_IRAC4_mosaic.fits'"
     ],
     "language": "python",
     "metadata": {},
     "outputs": [],
     "prompt_number": 1
    },
    {
     "cell_type": "code",
     "collapsed": false,
     "input": [
      "path = [irac1,irac2,irac3,irac4]\n",
      "for ipath in path:\n",
      "    make_image(ipath)"
     ],
     "language": "python",
     "metadata": {},
     "outputs": []
    },
    {
     "cell_type": "code",
     "collapsed": false,
     "input": [
      "import aplpy\n",
      "\n",
      "\n",
      "# Coordinates of BHR71:\n",
      "ra_cen  = 180.3985138\n",
      "dec_cen = -65.14783478\n",
      "\n",
      "# Making a FITS cube with Montage. Data of different projections, field\n",
      "# of view, and resolution will be modified to match one another for\n",
      "# compositing.\n",
      "\n",
      "aplpy.make_rgb_cube([irac4, irac2, irac1],'/Users/yaolun/bhr71/data/photometry/DC297.7-2.8_irac_comb.fits')\n",
      "\n",
      "# Now that the data cube is created, we can make a color image from the data for plotting.\n",
      "\n",
      "aplpy.make_rgb_image('/Users/yaolun/bhr71/data/photometry/DC297.7-2.8_irac_comb.fits','test.tif',stretch_r='arcsinh',stretch_g='arcsinh',stretch_b='arcsinh')\n",
      "\n",
      "img = aplpy.FITSFigure('/Users/yaolun/bhr71/data/photometry/DC297.7-2.8_irac_comb_2d.fits')\n",
      "img.show_rgb('test.tif',flip=True)\n",
      "\n",
      "img.recenter(ra_cen,dec_cen,width=0.05,height=0.05)\n",
      "\n",
      "# img.add_grid()\n",
      "# img.grid.set_xspacing(0.05/5.)\n",
      "# img.grid.set_yspacing(0.05/5.)\n",
      "# # img.grid.set_color('green')\n",
      "# img.set_nan_color('black')\n",
      "img.tick_labels.set_font(size=18)\n",
      "# setting for scalebar\n",
      "from astropy import units as u\n",
      "img.add_scalebar(30/3600.)\n",
      "img.scalebar.set_length(30 * u.arcsecond)\n",
      "img.scalebar.set_label(r'$\\mathrm{30~arcsec}$')\n",
      "img.scalebar.set_font(size=18)\n",
      "img.scalebar.set(linestyle='solid', color='white', linewidth=3)\n",
      "\n",
      "img.set_tick_labels_format(xformat='hh:mm:ss',yformat='dd:mm:ss')\n",
      "img.axis_labels.set_font(size=18)\n",
      "img.set_tick_color('white')\n",
      "img.set_tick_labels_style('latex')\n",
      "img.set_labels_latex(True)\n",
      "\n",
      "img.save('bhr71.png', format='png', dpi=300)"
     ],
     "language": "python",
     "metadata": {},
     "outputs": [
      {
       "output_type": "stream",
       "stream": "stderr",
       "text": [
        "INFO:astropy:Deleting work directory /var/folders/d2/xn0qhb7x2p7gqlvz33zdqrsh0000gn/T/tmpkLilfh\n"
       ]
      },
      {
       "output_type": "stream",
       "stream": "stdout",
       "text": [
        "INFO: Deleting work directory /var/folders/d2/xn0qhb7x2p7gqlvz33zdqrsh0000gn/T/tmpkLilfh [montage_wrapper.wrappers]\n",
        "INFO"
       ]
      },
      {
       "output_type": "stream",
       "stream": "stderr",
       "text": [
        "INFO:astropy:Deleting work directory /var/folders/d2/xn0qhb7x2p7gqlvz33zdqrsh0000gn/T/tmpxBxslo\n"
       ]
      },
      {
       "output_type": "stream",
       "stream": "stdout",
       "text": [
        ": Deleting work directory /var/folders/d2/xn0qhb7x2p7gqlvz33zdqrsh0000gn/T/tmpxBxslo [montage_wrapper.wrappers]\n",
        "INFO"
       ]
      },
      {
       "output_type": "stream",
       "stream": "stderr",
       "text": [
        "INFO:astropy:Deleting work directory /var/folders/d2/xn0qhb7x2p7gqlvz33zdqrsh0000gn/T/tmpf2zFYG\n"
       ]
      },
      {
       "output_type": "stream",
       "stream": "stdout",
       "text": [
        ": Deleting work directory /var/folders/d2/xn0qhb7x2p7gqlvz33zdqrsh0000gn/T/tmpf2zFYG [montage_wrapper.wrappers]\n",
        "INFO"
       ]
      },
      {
       "output_type": "stream",
       "stream": "stderr",
       "text": [
        "INFO:astropy:Red:\n"
       ]
      },
      {
       "output_type": "stream",
       "stream": "stdout",
       "text": [
        ": Red: [aplpy.rgb]\n",
        "INFO"
       ]
      },
      {
       "output_type": "stream",
       "stream": "stderr",
       "text": [
        "INFO:astropy:vmin =  1.640e+00 (auto)\n"
       ]
      },
      {
       "output_type": "stream",
       "stream": "stderr",
       "text": [
        "INFO:astropy:vmax =  2.718e+01 (auto)\n"
       ]
      },
      {
       "output_type": "stream",
       "stream": "stderr",
       "text": [
        "INFO:astropy:Green:\n"
       ]
      },
      {
       "output_type": "stream",
       "stream": "stdout",
       "text": [
        ": vmin =  1.640e+00 (auto) [aplpy.rgb]\n",
        "INFO: vmax =  2.718e+01 (auto) [aplpy.rgb]\n",
        "INFO: Green: [aplpy.rgb]\n",
        "INFO"
       ]
      },
      {
       "output_type": "stream",
       "stream": "stderr",
       "text": [
        "INFO:astropy:vmin = -4.998e-03 (auto)\n"
       ]
      },
      {
       "output_type": "stream",
       "stream": "stderr",
       "text": [
        "INFO:astropy:vmax =  2.973e+01 (auto)\n"
       ]
      },
      {
       "output_type": "stream",
       "stream": "stderr",
       "text": [
        "INFO:astropy:Blue:\n"
       ]
      },
      {
       "output_type": "stream",
       "stream": "stdout",
       "text": [
        ": vmin = -4.998e-03 (auto) [aplpy.rgb]\n",
        "INFO: vmax =  2.973e+01 (auto) [aplpy.rgb]\n",
        "INFO: Blue: [aplpy.rgb]\n",
        "INFO"
       ]
      },
      {
       "output_type": "stream",
       "stream": "stderr",
       "text": [
        "INFO:astropy:vmin =  1.520e-01 (auto)\n"
       ]
      },
      {
       "output_type": "stream",
       "stream": "stderr",
       "text": [
        "INFO:astropy:vmax =  4.131e+01 (auto)\n"
       ]
      },
      {
       "output_type": "stream",
       "stream": "stderr",
       "text": [
        "WARNING: Note that show_rgb should now correctly flip RGB images, so the flip= argument is now deprecated. If you still need to flip an image vertically or horizontally, you can use the vertical_flip= and horizontal_flip arguments instead. [aplpy.core]\n",
        "WARNING:astropy:Note that show_rgb should now correctly flip RGB images, so the flip= argument is now deprecated. If you still need to flip an image vertically or horizontally, you can use the vertical_flip= and horizontal_flip arguments instead.\n"
       ]
      },
      {
       "output_type": "stream",
       "stream": "stdout",
       "text": [
        ": vmin =  1.520e-01 (auto) [aplpy.rgb]\n",
        "INFO: vmax =  4.131e+01 (auto) [aplpy.rgb]\n"
       ]
      }
     ],
     "prompt_number": 10
    },
    {
     "cell_type": "code",
     "collapsed": false,
     "input": [],
     "language": "python",
     "metadata": {},
     "outputs": []
    }
   ],
   "metadata": {}
  }
 ]
}