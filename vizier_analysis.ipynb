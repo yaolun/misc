{
 "cells": [
  {
   "cell_type": "code",
   "execution_count": 2,
   "metadata": {
    "collapsed": false
   },
   "outputs": [],
   "source": [
    "%matplotlib inline\n",
    "import numpy as np\n",
    "import matplotlib.pyplot as plt\n",
    "from astropy.io import ascii, votable"
   ]
  },
  {
   "cell_type": "markdown",
   "metadata": {},
   "source": [
    "## Parse VOTable for photometry"
   ]
  },
  {
   "cell_type": "code",
   "execution_count": 8,
   "metadata": {
    "collapsed": false
   },
   "outputs": [],
   "source": [
    "filename = '/Users/yaolun/bhr71/data/bhr71_phot_vizier.vot'\n",
    "vot = votable.parse(filename).get_first_table()"
   ]
  },
  {
   "cell_type": "code",
   "execution_count": 15,
   "metadata": {
    "collapsed": false
   },
   "outputs": [
    {
     "data": {
      "text/plain": [
       "<Table masked=True length=71>\n",
       " _RAJ2000   _DEJ2000         _tabname       ...  sed_flux sed_eflux sed_filter\n",
       "   deg        deg                           ...     Jy        Jy              \n",
       " float64    float64           str32         ...  float32   float32    str32   \n",
       "---------- ---------- --------------------- ... --------- --------- ----------\n",
       "180.401671 -65.148819             I/297/out ...    0.0201        --   2MASS:Ks\n",
       "180.401671 -65.148819             I/297/out ...   0.00257        --    2MASS:H\n",
       "180.401671 -65.148819             I/297/out ...   0.00125        --    2MASS:J\n",
       "180.404400 -65.148200           II/125/main ...       193        19   IRAS:100\n",
       "180.404400 -65.148200           II/125/main ...      77.4       7.7    IRAS:60\n",
       "180.404400 -65.148200           II/125/main ...      6.53      0.46    IRAS:25\n",
       "180.404400 -65.148200           II/125/main ...      0.25        --    IRAS:12\n",
       "180.401671 -65.148819            II/246/out ...    0.0194        --  Johnson:K\n",
       "180.401671 -65.148819            II/246/out ...   0.00649   0.00023  Johnson:H\n",
       "       ...        ...                   ... ...       ...       ...        ...\n",
       "180.404500 -65.145100         VIII/91/pccs1 ...      2.03      0.04    @{Freq}\n",
       "180.404500 -65.145100         VIII/91/pccs1 ...      2.25      0.21    @{Freq}\n",
       "180.404500 -65.145100         VIII/91/pccs1 ...      1.46      0.08    @{Freq}\n",
       "180.404400 -65.148200 J/ApJS/123/233/table3 ...       192        --    :=100um\n",
       "180.404400 -65.148200 J/ApJS/123/233/table3 ...      77.3        --     :=60um\n",
       "180.404400 -65.148200 J/ApJS/123/233/table3 ...      6.55        --     :=25um\n",
       "180.404400 -65.148200 J/ApJS/123/233/table3 ...      0.25        --     :=12um\n",
       "180.401670 -65.148810  J/AJ/135/2496/table1 ...    0.0194        --  Johnson:K\n",
       "180.401670 -65.148810  J/AJ/135/2496/table1 ...   0.00254        --  Johnson:H\n",
       "180.401670 -65.148810  J/AJ/135/2496/table1 ...   0.00128        --  Johnson:J"
      ]
     },
     "execution_count": 15,
     "metadata": {},
     "output_type": "execute_result"
    }
   ],
   "source": [
    "vot"
   ]
  },
  {
   "cell_type": "code",
   "execution_count": null,
   "metadata": {
    "collapsed": true
   },
   "outputs": [],
   "source": []
  }
 ],
 "metadata": {
  "kernelspec": {
   "display_name": "Python 2",
   "language": "python",
   "name": "python2"
  },
  "language_info": {
   "codemirror_mode": {
    "name": "ipython",
    "version": 2
   },
   "file_extension": ".py",
   "mimetype": "text/x-python",
   "name": "python",
   "nbconvert_exporter": "python",
   "pygments_lexer": "ipython2",
   "version": "2.7.11"
  }
 },
 "nbformat": 4,
 "nbformat_minor": 0
}
