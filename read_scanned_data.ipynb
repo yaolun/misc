{
 "cells": [
  {
   "cell_type": "code",
   "execution_count": 42,
   "metadata": {
    "collapsed": true
   },
   "outputs": [],
   "source": [
    "filename = '/Users/yaolun/Copy/UT-Austin/TA/AST309N_Dinerstein/01191359C.scn'\n",
    "import numpy as np"
   ]
  },
  {
   "cell_type": "code",
   "execution_count": 43,
   "metadata": {
    "collapsed": false
   },
   "outputs": [
    {
     "name": "stdout",
     "output_type": "stream",
     "text": [
      "135234431355255553431553                                                                                                                                                                                \n",
      "\n",
      "DELOSSANTOS  RUBEN  RD25767      7.000314961         135234431355255553431553                                                                                                                                                                                \n",
      "\n",
      "53\n"
     ]
    }
   ],
   "source": [
    "foo = open(filename,'r').readlines()\n",
    "print foo[2][53:]\n",
    "print foo[2]\n",
    "print len('DELOSSANTOS  RUBEN  RD25767      7.000314961         ')"
   ]
  },
  {
   "cell_type": "code",
   "execution_count": 45,
   "metadata": {
    "collapsed": false
   },
   "outputs": [],
   "source": [
    "score = np.zeros((5,len(foo)))\n",
    "\n",
    "for i in range(1,len(foo)):\n",
    "    if i == 199:\n",
    "        continue\n",
    "    score[:,i] = list(foo[i][53:58])"
   ]
  },
  {
   "cell_type": "code",
   "execution_count": 62,
   "metadata": {
    "collapsed": false
   },
   "outputs": [
    {
     "name": "stdout",
     "output_type": "stream",
     "text": [
      "Question 1\n",
      "84.92\n",
      "5.03\n",
      "0.50\n",
      "5.03\n",
      "4.52\n",
      "Question 2\n",
      "29.44\n",
      "14.72\n",
      "36.55\n",
      "2.03\n",
      "17.26\n",
      "Question 3\n",
      "14.57\n",
      "10.05\n",
      "5.03\n",
      "18.59\n",
      "51.76\n",
      "Question 4\n",
      "26.13\n",
      "40.70\n",
      "18.09\n",
      "9.55\n",
      "5.53\n",
      "Question 5\n",
      "1.01\n",
      "6.53\n",
      "41.21\n",
      "38.69\n",
      "12.56\n"
     ]
    }
   ],
   "source": [
    "%matplotlib inline\n",
    "import matplotlib.pyplot as plt\n",
    "\n",
    "for i in range(0,5):\n",
    "    print 'Question', i+1\n",
    "    for j in range(1,6):\n",
    "        p = float(len(score[i,score[i,:]==j]))/len(score[i,score[i,:]!=0])*100\n",
    "        print '%2.2f' % p"
   ]
  },
  {
   "cell_type": "code",
   "execution_count": null,
   "metadata": {
    "collapsed": true
   },
   "outputs": [],
   "source": []
  }
 ],
 "metadata": {
  "kernelspec": {
   "display_name": "Python 2",
   "language": "python",
   "name": "python2"
  },
  "language_info": {
   "codemirror_mode": {
    "name": "ipython",
    "version": 2
   },
   "file_extension": ".py",
   "mimetype": "text/x-python",
   "name": "python",
   "nbconvert_exporter": "python",
   "pygments_lexer": "ipython2",
   "version": "2.7.11"
  }
 },
 "nbformat": 4,
 "nbformat_minor": 0
}
