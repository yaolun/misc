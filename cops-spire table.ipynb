{
 "cells": [
  {
   "cell_type": "markdown",
   "metadata": {},
   "source": [
    "# Generating the table for the OBSIDs used for photometry"
   ]
  },
  {
   "cell_type": "code",
   "execution_count": 12,
   "metadata": {
    "collapsed": true
   },
   "outputs": [],
   "source": [
    "# first to run everytime\n",
    "%config InlineBackend.figure_format = 'retina'\n",
    "%matplotlib inline\n",
    "import os\n",
    "\n",
    "if 'bettyjo' in os.path.expanduser('~'):\n",
    "    archive_dir = '/home/bettyjo/yaolun/CDF_archive_v2/'\n",
    "    plotdir = '/home/bettyjo/yaolun/test/cops-spire/'\n",
    "    dist_file = '/home/bettyjo/yaolun/cops-spire_distance.txt'\n",
    "else:\n",
    "    archive_dir = '/Volumes/SD-Mac/CDF_archive_v2/'\n",
    "    plotdir = '/Users/yaolun/test/cops-spire/'\n",
    "    dist_file = '/Users/yaolun/data/cops-spire_distance.txt'\n",
    "\n",
    "obj_list = ['RCrA-IRS7B','RCrA-IRS7C','HH46','L723-MM','L1014',\n",
    "            'L1157','Ced110','BHR71','IRAS03245','L1551-IRS5',\n",
    "            'L1455-IRS3','B1-a','B1-c','IRAS03301','TMR1',\n",
    "            'TMC1A','TMC1','IRAS15398','RNO91','GSS30-IRS1',\n",
    "            'VLA1623','WL12','RCrA-IRS5A','L483','B335',\n",
    "            'DKCha']"
   ]
  },
  {
   "cell_type": "code",
   "execution_count": 20,
   "metadata": {
    "collapsed": true
   },
   "outputs": [],
   "source": [
    "obsid_phot = {'Source': np.array(['L1157', 'L1014', 'IRAS03301', 'B1-c', 'B1-a',\n",
    "                         'IRAS03245', 'L1455-IRS3', 'TMR1', 'TMC1', 'TMC1A',\n",
    "                         'L1551-IRS5', 'B335', 'GSS30-IRS1', 'VLA1623', 'WL12',\n",
    "                         'IRS46', 'RCrA-IRS7C', 'RCrA-IRS5A', 'RCrA-IRS7B', 'BHR71',\n",
    "                         'DKCha', 'Elias29', 'IRAM04191', 'IRS63', 'L1448-MM', 'L1489',\n",
    "                         'L1527', 'Serpens-SMM3', 'Serpens-SMM4', 'Ced110-IRS4', 'HH100',\n",
    "                         'HH46', 'IRAS15398', 'L483', 'L723-MM', 'RNO91']),\n",
    "              'obsid': np.array([[1342224778, 1342224779, 1342189845],\n",
    "                        [1342225450, 1342225449],\n",
    "                        [1342227103, 1342227104],\n",
    "                        [1342267246, 1342267247],\n",
    "                        [1342227103, 1342227104],\n",
    "                        [1342227103, 1342227104],\n",
    "                        [1342227103, 1342227104],\n",
    "                        [1342228175, 1342228174],\n",
    "                        [1342202252],\n",
    "                        [1342202252],\n",
    "                        [1342202251],\n",
    "                        [1342196030, 1342196031],\n",
    "                        [1342227148, 1342227149, 1342205093, 1342205094],\n",
    "                        [1342205093, 1342205094],\n",
    "                        [1342238817, 1342238816],\n",
    "                        [1342205093, 1342205094],\n",
    "                        [1342184510, 1342184511],\n",
    "                        [1342267429, 1342267427, 1342267428, 1342267430, 1342242076, 1342241402,\n",
    "                         1342241519, 1342241403, 1342242555, 1342242077, 1342241314, 1342241520,\n",
    "                         1342241313, 1342242554],\n",
    "                        [1342218806, 1342218807],\n",
    "                        [1342224922, 1342224925, 1342224924, 1342224923],\n",
    "                        [1342212709, 1342212708, 1342213180],\n",
    "                        [1342205093, 1342205094],\n",
    "                        [1342190941, 1342190942, 1342241875, 1342241874],\n",
    "                        [1342227037, 1342227038],\n",
    "                        [],\n",
    "                        [1342216036, 1342216037],\n",
    "                        [1342243453, 1342243455, 1342243454],\n",
    "                        [],\n",
    "                        [1342229079, 1342229080],\n",
    "                        [1342223480, 1342223481, 1342224782, 1342224783],\n",
    "                        [1342267769, 1342267768],\n",
    "                        [],\n",
    "                        [1342226706, 1342226705],\n",
    "                        [1342228398, 1342228397, 1342228395, 1342228396],\n",
    "                        [1342231917, 1342231918],\n",
    "                        [1342263844, 1342263845]]),\n",
    "                 'ra': ['20:39:06.3','21:24:07.5','03:33:12.8','03:33:17.9','03:33:16.7',\n",
    "                        '03:27:39.1','03:28:00.4','04:39:13.9','04:41:12.7','04:39:35',\n",
    "                        '04:31:34.1','19:37:00.9','16:26:21.4','16:26:26.4','16:26:44.2',\n",
    "                        '16:27:29.4','19:01:55.3','19:01:48.1','19:01:56.4','12:01:36.3',\n",
    "                        '12:53:17.2','16:27:09.4','04:21:56.9','16:31:35.6','03:25:38.9',\n",
    "                        '04:04:42.9','04:39:53.9','18:29:59.3','18:29:56.7','11:06:47',\n",
    "                        '19:01:49.1','08:25:43.9','15:42:01.3','18:17:29.9','19:17:53.7',\n",
    "                        '16:34:29.3'],\n",
    "                'dec': ['+68:02:16','+49:59:09','+31:21:24.2','+31:09:31.9','+31:07:55.2',\n",
    "                        '+30:13:03.1','+30:08:01.3','+25:53:20.6','+25:46:35.9','+25:41:45.5',\n",
    "                        '+18:08:04.9','+07:34:09.7','-24:23:04.3','-24:24:30','-24:34:48.4',\n",
    "                        '-24:39:16.1','-36:57:17','-36:57:22.7','-36:57:28.3','-65:08:53',\n",
    "                        '-77:07:10.7','-24:37:18.6','+15:29:45.9','-24:01:29.3','+30:44:05.4',\n",
    "                        '+26:18:56.3','+26:03:09.8','+01:14:01.7','+01:13:17.2','-77:22:32.4',\n",
    "                        '-36:58:16','-51:00:36','-34:09:15','-04:39:39.5','+19:12:20',\n",
    "                        '-15:47:01.4']\n",
    "}"
   ]
  },
  {
   "cell_type": "code",
   "execution_count": 23,
   "metadata": {},
   "outputs": [
    {
     "data": {
      "text/plain": [
       "array(['B1-a', 'B1-c', 'B335', 'BHR71', 'Ced110', 'DKCha', 'GSS30-IRS1',\n",
       "       'HH46', 'IRAS03245', 'IRAS03301', 'IRAS15398', 'L1014', 'L1157',\n",
       "       'L1455-IRS3', 'L1551-IRS5', 'L483', 'L723-MM', 'RCrA-IRS5A',\n",
       "       'RCrA-IRS7B', 'RCrA-IRS7C', 'RNO91', 'TMC1', 'TMC1A', 'TMR1',\n",
       "       'VLA1623', 'WL12'], \n",
       "      dtype='<U10')"
      ]
     },
     "execution_count": 23,
     "metadata": {},
     "output_type": "execute_result"
    }
   ],
   "source": [
    "obj_list"
   ]
  },
  {
   "cell_type": "code",
   "execution_count": 22,
   "metadata": {},
   "outputs": [
    {
     "name": "stdout",
     "output_type": "stream",
     "text": [
      "B1-a\n",
      "PACS: [[1342227103, 1342227104]]\n",
      "SPIRE: ['1342190327L', '1342190326L']\n",
      "B1-c\n",
      "PACS: [[1342267246, 1342267247]]\n",
      "SPIRE: ['1342190327L', '1342190326L']\n",
      "B335\n",
      "PACS: [[1342196030, 1342196031]]\n",
      "SPIRE: ['1342192685L']\n",
      "BHR71\n",
      "PACS: [[1342224922, 1342224925, 1342224924, 1342224923]]\n",
      "SPIRE: ['1342226633L']\n",
      "Ced110\n",
      "SPIRE: ['1342213179L', '1342213178L']\n",
      "DKCha\n",
      "PACS: [[1342212709, 1342212708, 1342213180]]\n",
      "SPIRE: ['1342213180L', '1342213181L']\n",
      "GSS30-IRS1\n",
      "PACS: [[1342227148, 1342227149, 1342205093, 1342205094]]\n",
      "SPIRE: ['1342203074L', '1342205093L', '1342205094L']\n",
      "HH46\n",
      "No photometry for SPIRE\n",
      "IRAS03245\n",
      "PACS: [[1342227103, 1342227104]]\n",
      "SPIRE: ['1342190327L', '1342190326L']\n",
      "IRAS03301\n",
      "PACS: [[1342227103, 1342227104]]\n",
      "SPIRE: ['1342190327L', '1342190326L']\n",
      "IRAS15398\n",
      "SPIRE: ['1342213182L', '1342213183L']\n",
      "L1014\n",
      "PACS: [[1342225450, 1342225449]]\n",
      "SPIRE: ['1342219974L', '1342220631L']\n",
      "L1157\n",
      "PACS: [[1342224778, 1342224779, 1342189845]]\n",
      "SPIRE: ['1342189844L', '1342189843L']\n",
      "L1455-IRS3\n",
      "PACS: [[1342227103, 1342227104]]\n",
      "SPIRE: ['1342190327L', '1342190326L']\n",
      "L1551-IRS5\n",
      "PACS: [[1342202251]]\n",
      "SPIRE: ['1342202250L', '1342202251L']\n",
      "L483\n",
      "SPIRE: ['1342229186L']\n",
      "L723-MM\n",
      "SPIRE: ['1342229605L']\n",
      "RCrA-IRS5A\n",
      "PACS: [ [1342267429, 1342267427, 1342267428, 1342267430, 1342242076, 1342241402, 1342241519, 1342241403, 1342242555, 1342242077, 1342241314, 1342241520, 1342241313, 1342242554]]\n",
      "SPIRE: ['1342206677L', '1342206678L', '1342216002L']\n",
      "RCrA-IRS7B\n",
      "PACS: [[1342218806, 1342218807]]\n",
      "SPIRE: ['1342206677L', '1342206678L', '1342216002L']\n",
      "RCrA-IRS7C\n",
      "PACS: [[1342184510, 1342184511]]\n",
      "SPIRE: ['1342206677L', '1342206678L', '1342216002L']\n",
      "RNO91\n",
      "SPIRE: ['1342263844L', '1342263845L']\n",
      "TMC1\n",
      "PACS: [[1342202252]]\n",
      "SPIRE: ['1342202252L', '1342202253L']\n",
      "TMC1A\n",
      "PACS: [[1342202252]]\n",
      "SPIRE: ['1342202252L', '1342202253L']\n",
      "TMR1\n",
      "PACS: [[1342228175, 1342228174]]\n",
      "SPIRE: ['1342202252L', '1342202253L']\n",
      "VLA1623\n",
      "PACS: [[1342205093, 1342205094]]\n",
      "SPIRE: ['1342203074L', '1342205093L', '1342205094L']\n",
      "WL12\n",
      "PACS: [[1342238817, 1342238816]]\n",
      "SPIRE: ['1342205093L', '1342205094L']\n"
     ]
    }
   ],
   "source": [
    "import numpy as np\n",
    "from astropy.io import ascii\n",
    "obj_list = np.sort(np.array(obj_list))\n",
    "\n",
    "for o in obj_list:\n",
    "    print(o)\n",
    "    if os.path.exists(archive_dir+o+'/pacs/'):\n",
    "        print('PACS:', obsid_phot['obsid'][obsid_phot['Source'] == o])\n",
    "    if os.path.exists(archive_dir+o+'/spire/'):\n",
    "        if not os.path.exists(archive_dir+o+'/spire/data/'+o+'_spire_phot.txt'):\n",
    "            print('No photometry for SPIRE')\n",
    "            continue\n",
    "        spire_phot = ascii.read(archive_dir+o+'/spire/data/'+o+'_spire_phot.txt', data_start=4)\n",
    "        spire_phot_obsid = list(set(spire_phot['OBSID']))\n",
    "        print('SPIRE:', spire_phot_obsid)\n"
   ]
  },
  {
   "cell_type": "code",
   "execution_count": null,
   "metadata": {
    "collapsed": true
   },
   "outputs": [],
   "source": []
  }
 ],
 "metadata": {
  "kernelspec": {
   "display_name": "Python 3",
   "language": "python",
   "name": "python3"
  },
  "language_info": {
   "codemirror_mode": {
    "name": "ipython",
    "version": 3
   },
   "file_extension": ".py",
   "mimetype": "text/x-python",
   "name": "python",
   "nbconvert_exporter": "python",
   "pygments_lexer": "ipython3",
   "version": "3.5.2"
  }
 },
 "nbformat": 4,
 "nbformat_minor": 1
}
