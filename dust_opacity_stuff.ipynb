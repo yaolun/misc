{
 "cells": [
  {
   "cell_type": "code",
   "execution_count": 1,
   "metadata": {
    "collapsed": false
   },
   "outputs": [
    {
     "name": "stderr",
     "output_type": "stream",
     "text": [
      "/Users/yaolun/anaconda/lib/python2.7/site-packages/matplotlib/font_manager.py:273: UserWarning: Matplotlib is building the font cache using fc-list. This may take a moment.\n",
      "  warnings.warn('Matplotlib is building the font cache using fc-list. This may take a moment.')\n"
     ]
    }
   ],
   "source": [
    "%matplotlib inline"
   ]
  },
  {
   "cell_type": "markdown",
   "metadata": {},
   "source": [
    "### Two versions of dust file\n",
    "\n",
    "1. oh5_kappa includes opacity per gram of gas and wavelength in micron\n",
    "2. sigma_oh5.ref includes absorption and scattering cross section per dust grain, anisotropy factor, and wavelength in micron"
   ]
  },
  {
   "cell_type": "markdown",
   "metadata": {},
   "source": [
    "## Hyperion dust input:\n",
    "  [nu, albedo, chi, g, p_lin_max]\n",
    "  * nu ($\\nu$): Frequency\n",
    "  * albedo: $\\sigma_{\\rm scat}/(\\sigma_{\\rm scat}+\\sigma_{\\rm abs})$.  This quantity is dimensionless.\n",
    "  * chi ($\\chi_{\\nu}$): The mass extinction coefficient, opacity per gram of dust.\n",
    "  * g: The anisotropy scattering factor.\n",
    "  * p_lin_max: something to do with polarization.  No polarization is assumed, therefore set to zero."
   ]
  },
  {
   "cell_type": "markdown",
   "metadata": {},
   "source": [
    "$$\\rho_{\\rm d} \\kappa_{\\rm d} = n_{\\rm d}(\\sigma_{\\rm abs}+\\sigma_{\\rm scat})$$ \n",
    "\n",
    "$$\\kappa_{\\rm d} = (\\sigma_{\\rm abs}+\\sigma_{\\rm scat})\\frac{n_{\\rm d}}{\\rho_{\\rm d}} = 100 \\kappa_{\\rm g}$$ \n",
    "\n",
    "$$\\kappa_{\\rm g} = (\\sigma_{\\rm abs}+\\sigma_{\\rm scat})\\frac{n_{\\rm d}}{100\\rho_{\\rm d}} = (\\sigma_{\\rm abs}+\\sigma_{\\rm scat})\\frac{n_{\\rm d}}{\\rho_{\\rm g}}$$ \n",
    "\n",
    "and by definition\n",
    "$$\\rho_{\\rm g} = \\mu m_{\\rm H}n_{\\rm g}, \\quad \\mu = 2.29$$\n",
    "so that\n",
    "$$\\kappa_{\\rm g} = (\\sigma_{\\rm abs}+\\sigma_{\\rm scat})\\frac{n_{\\rm d}}{\\mu m_{\\rm H}n_{\\rm g}}$$\n",
    "$$\\kappa_{\\rm d} = (\\sigma_{\\rm abs}+\\sigma_{\\rm scat})\\frac{100n_{\\rm d}}{\\rho_{\\rm g}} = (\\sigma_{\\rm abs}+\\sigma_{\\rm scat})\\frac{100n_{\\rm d}}{\\mu m_{\\rm H}n_{\\rm g}}$$\n",
    "with the communication with Neal\n",
    "$$\\frac{n_{\\rm d}}{\\mu n_{\\rm g}} =  1.1015 \\times 10^{-14}$$"
   ]
  },
  {
   "cell_type": "markdown",
   "metadata": {},
   "source": [
    "Appaerently more complicate than that.  Adopting the ratio between two files from now on.\n",
    "$$\\frac{\\kappa_{\\rm g}}{\\sigma_{\\rm d}} = 1.039 \\times 10^{12}$$\n",
    "\n",
    "$$\\frac{\\kappa_{\\rm d}}{\\sigma_{\\rm d}} = 1.039 \\times 10^{14}$$"
   ]
  },
  {
   "cell_type": "code",
   "execution_count": 9,
   "metadata": {
    "collapsed": false
   },
   "outputs": [],
   "source": [
    "import astropy.constants as const\n",
    "c = const.c.cgs.value\n",
    "mh = const.m_p.cgs.value + const.m_e.cgs.value\n",
    "\n",
    "import numpy as np\n",
    "oh5_kappa = np.genfromtxt('/Users/yaolun/Google Drive/dust_model/Dust_OH5_Evans_Shirley/OH/oh5.kappa', \n",
    "                          skip_header=1).T \n",
    "# This is opacity per gram of gas\n",
    "oh5_sigma = np.genfromtxt('/Users/yaolun/Google Drive/dust_model/Dust_OH5_Evans_Shirley/sigma.oh5.ref', \n",
    "                          skip_header=2, skip_footer=1).T\n",
    "# This one has absorption and scattering cross section and g value with wavelength \n",
    "\n",
    "factor = 1\n",
    "\n",
    "# oh5_sigma has more wavelength channels\n",
    "\n",
    "nu = c/oh5_sigma[3,:]*1e4\n",
    "# nu = oh5_sigma[3,:]\n",
    "albedo = oh5_sigma[1,:]/(oh5_sigma[0,:]+oh5_sigma[1,:])\n",
    "chi = (oh5_sigma[0,:]+oh5_sigma[1,:]) * 1.0395087779657002e14\n",
    "g = oh5_sigma[2,:]\n",
    "\n",
    "# sort by frequency\n",
    "ind = np.argsort(nu)\n",
    "nu = nu[ind]\n",
    "albedo = albedo[ind]\n",
    "chi = chi[ind]\n",
    "g = g[ind]\n",
    "\n",
    "foo = open('/Users/yaolun/Google Drive/dust_model/Dust_OH5_Evans_Shirley/oh5_hyperion.txt','w')\n",
    "for i in range(0, len(nu)):\n",
    "#     if c/nu[i]*1e4 >= 70:\n",
    "#         factor = 0.75\n",
    "    foo.write('%e \\t %e \\t %e \\t %e \\n' % (nu[i],albedo[i],chi[i],g[i]))\n",
    "foo.close()\n"
   ]
  },
  {
   "cell_type": "markdown",
   "metadata": {
    "collapsed": false
   },
   "source": [
    "# Test out Ormel et al. 2009 model"
   ]
  },
  {
   "cell_type": "code",
   "execution_count": 47,
   "metadata": {
    "collapsed": false
   },
   "outputs": [],
   "source": [
    "def opac_file(age_ind, model='(ic-sil,ic-gra)'):\n",
    "    from astropy.io import ascii\n",
    "    # read in Ormel et al. 2011\n",
    "    dust_ormel = ascii.read('/Users/yaolun/Copy/dust_model/Ormel2011/'+model+str(age_ind)+'opc.txt',\\\n",
    "                            header_start=None, names=['lambda','kappa-ext','kappa-sca','kappa-back','gsca'])\n",
    "    return dust_ormel, model+str(age_ind)+'opc'"
   ]
  },
  {
   "cell_type": "code",
   "execution_count": 46,
   "metadata": {
    "collapsed": false
   },
   "outputs": [],
   "source": [
    "import numpy as np\n",
    "import matplotlib.pyplot as plt\n",
    "from astropy.io import ascii\n",
    "import astropy.constants as const\n",
    "c = const.c.cgs.value\n",
    "\n",
    "# read in Ormel et al. 2011\n",
    "# the table is in cm2/unit gram of dust\n",
    "# dust_ormel_1my = opac_file(4)\n",
    "# dust_ormel_03my = opac_file(3)"
   ]
  },
  {
   "cell_type": "code",
   "execution_count": 25,
   "metadata": {
    "collapsed": false
   },
   "outputs": [],
   "source": [
    "# read in OH5_extended dust model\n",
    "dust_oh5 = ascii.read('/Users/yaolun/Copy/dust_model/Dust_OH5_Evans_Shirley/oh5_hyperion.txt', header_start=None, names=['nu','albedo','chi','g'])"
   ]
  },
  {
   "cell_type": "code",
   "execution_count": 44,
   "metadata": {
    "collapsed": false
   },
   "outputs": [
    {
     "data": {
      "image/png": "[encoded data removed]",
      "text/plain": [
       "<matplotlib.figure.Figure at 0x10916d450>"
      ]
     },
     "metadata": {},
     "output_type": "display_data"
    }
   ],
   "source": [
    "fig = plt.figure(figsize=(8,6))\n",
    "ax = fig.add_subplot(111)\n",
    "time_label = [r'$\\rm{30\\,kyr}$',r'$\\rm{0.1\\,Myr}$',r'$\\rm{0.3\\,Myr}$',r'$\\rm{1\\,Myr}$',r'$\\rm{3\\,Myr}$',r'$\\rm{10\\,Myr}$']\n",
    "time = 3\n",
    "for mod in ['(sil,gra)','(ic-sil,gra)','(ic-sil,ic-gra)','ic-sil+gra']:\n",
    "    ormel_dum, modelname_dum = opac_file(time, model=mod)\n",
    "    ax.plot(ormel_dum['lambda']*1e4, ormel_dum['kappa-ext'],'-', label=r'$\\rm{'+mod+'}$')\n",
    "# ax.plot(dust_ormel_03my['lambda']*1e4, dust_ormel_03my['kappa-ext'],'-', color='k', label=r'$\\rm{O09-0.3Myr\\,(\\kappa_{ext})}$')\n",
    "# ax.plot(dust_ormel['lambda']*1e4, dust_ormel['kappa-sca'],'--', color='b', label=r'$\\rm{O09\\,(\\kappa_{sca})}$')\n",
    "ax.plot(c/dust_oh5['nu']*1e4, dust_oh5['chi'], '-', color='k', label=r'$\\rm{OH5\\,(\\kappa_{ext})}$')\n",
    "# ax.plot(c/dust_oh5['nu']*1e4, dust_oh5['albedo'])\n",
    "ax.set_yscale('log')\n",
    "ax.set_xscale('log')\n",
    "ax.legend(loc='lower left', numpoints=1,fontsize=16)\n",
    "ax.text(0.8,0.9, time_label[time-1], transform=ax.transAxes, fontsize=20)\n",
    "\n",
    "ax.set_xlabel(r'$\\rm{log(Wavelength)\\,[\\mu m]}$', fontsize=18)\n",
    "ax.set_ylabel(r'$\\rm{log(\\kappa)\\,[cm^{2}\\,g^{-1}]}$', fontsize=18)\n",
    "[ax.spines[axis].set_linewidth(1.5) for axis in ['top','bottom','left','right']]\n",
    "ax.minorticks_on()\n",
    "ax.tick_params('both',labelsize=18,width=1.5,which='major',pad=10,length=5)\n",
    "ax.tick_params('both',labelsize=18,width=1.5,which='minor',pad=10,length=2.5)"
   ]
  },
  {
   "cell_type": "markdown",
   "metadata": {
    "collapsed": true
   },
   "source": [
    "## Output the Ormel dust model to Hyperion dust format"
   ]
  },
  {
   "cell_type": "code",
   "execution_count": 60,
   "metadata": {
    "collapsed": false
   },
   "outputs": [],
   "source": [
    "import os\n",
    "outdir = '/Users/yaolun/Copy/dust_model/Ormel2011/hyperion/'\n",
    "time = 2\n",
    "for mod in ['(sil,gra)','(ic-sil,gra)','(ic-sil,ic-gra)','ic-sil+gra']:\n",
    "    ormel_dum, modelname_dum = opac_file(time, model=mod)\n",
    "    foo = open(outdir+modelname_dum+'.txt', 'w')\n",
    "    for i in range(len(ormel_dum['lambda'])-1,0, -1):\n",
    "        foo.write('%e \\t %e \\t %e \\t %e \\n' % \\\n",
    "            (c/ormel_dum['lambda'][i], ormel_dum['kappa-sca'][i]/ormel_dum['kappa-ext'][i], ormel_dum['kappa-ext'][i], ormel_dum['gsca'][i]))\n",
    "    foo.close()"
   ]
  },
  {
   "cell_type": "code",
   "execution_count": null,
   "metadata": {
    "collapsed": true
   },
   "outputs": [],
   "source": []
  }
 ],
 "metadata": {
  "kernelspec": {
   "display_name": "Python 2",
   "language": "python",
   "name": "python2"
  },
  "language_info": {
   "codemirror_mode": {
    "name": "ipython",
    "version": 2
   },
   "file_extension": ".py",
   "mimetype": "text/x-python",
   "name": "python",
   "nbconvert_exporter": "python",
   "pygments_lexer": "ipython2",
   "version": "2.7.11"
  }
 },
 "nbformat": 4,
 "nbformat_minor": 0
}
