{
 "metadata": {
  "name": "",
  "signature": "sha256:d58d3241ba5afeeb955379d159058b642bfaccc3367720be5943a7db60a715ad"
 },
 "nbformat": 3,
 "nbformat_minor": 0,
 "worksheets": [
  {
   "cells": [
    {
     "cell_type": "code",
     "collapsed": false,
     "input": [
      "%matplotlib inline"
     ],
     "language": "python",
     "metadata": {},
     "outputs": []
    },
    {
     "cell_type": "markdown",
     "metadata": {},
     "source": [
      "###Two versions of dust file\n",
      "\n",
      "1. oh5_kappa includes opacity per gram of gas and wavelength in micron\n",
      "2. sigma_oh5.ref includes absorption and scattering cross section per dust grain, anisotropy factor, and wavelength in micron"
     ]
    },
    {
     "cell_type": "markdown",
     "metadata": {},
     "source": [
      "## Hyperion dust input:\n",
      "  [nu, albedo, chi, g, p_lin_max]\n",
      "  * nu ($\\nu$): Frequency\n",
      "  * albedo: $\\sigma_{\\rm scat}/(\\sigma_{\\rm scat}+\\sigma_{\\rm abs})$.  This quantity is dimensionless.\n",
      "  * chi ($\\chi_{\\nu}$): The mass extinction coefficient, opacity per gram of dust.\n",
      "  * g: The anisotropy scattering factor.\n",
      "  * p_lin_max: something to do with polarization.  No polarization is assumed, therefore set to zero."
     ]
    },
    {
     "cell_type": "markdown",
     "metadata": {},
     "source": [
      "$$\\rho_{\\rm d} \\kappa_{\\rm d} = n_{\\rm d}(\\sigma_{\\rm abs}+\\sigma_{\\rm scat})$$ \n",
      "\n",
      "$$\\kappa_{\\rm d} = (\\sigma_{\\rm abs}+\\sigma_{\\rm scat})\\frac{n_{\\rm d}}{\\rho_{\\rm d}} = 100 \\kappa_{\\rm g}$$ \n",
      "\n",
      "$$\\kappa_{\\rm g} = (\\sigma_{\\rm abs}+\\sigma_{\\rm scat})\\frac{n_{\\rm d}}{100\\rho_{\\rm d}} = (\\sigma_{\\rm abs}+\\sigma_{\\rm scat})\\frac{n_{\\rm d}}{\\rho_{\\rm g}}$$ \n",
      "\n",
      "and by definition\n",
      "$$\\rho_{\\rm g} = \\mu m_{\\rm H}n_{\\rm g}, \\quad \\mu = 2.29$$\n",
      "so that\n",
      "$$\\kappa_{\\rm g} = (\\sigma_{\\rm abs}+\\sigma_{\\rm scat})\\frac{n_{\\rm d}}{\\mu m_{\\rm H}n_{\\rm g}}$$\n",
      "$$\\kappa_{\\rm d} = (\\sigma_{\\rm abs}+\\sigma_{\\rm scat})\\frac{100n_{\\rm d}}{\\rho_{\\rm g}} = (\\sigma_{\\rm abs}+\\sigma_{\\rm scat})\\frac{100n_{\\rm d}}{\\mu m_{\\rm H}n_{\\rm g}}$$\n",
      "with the communication with Neal\n",
      "$$\\frac{n_{\\rm d}}{\\mu n_{\\rm g}} =  1.1015 \\times 10^{-14}$$"
     ]
    },
    {
     "cell_type": "markdown",
     "metadata": {},
     "source": [
      "Appaerently more complicate than that.  Adopting the ratio between two files from now on.\n",
      "$$\\frac{\\kappa_{\\rm g}}{\\sigma_{\\rm d}} = 1.039 \\times 10^{12}$$\n",
      "\n",
      "$$\\frac{\\kappa_{\\rm d}}{\\sigma_{\\rm d}} = 1.039 \\times 10^{14}$$"
     ]
    },
    {
     "cell_type": "code",
     "collapsed": false,
     "input": [
      "import astropy.constants as const\n",
      "c = const.c.cgs.value\n",
      "mh = const.m_p.cgs.value + const.m_e.cgs.value\n",
      "\n",
      "import numpy as np\n",
      "oh5_kappa = np.genfromtxt('/Users/yaolun/Copy/Dustfiles/OH/oh5.kappa', skip_header=1).T  # This is opacity per gram of gas\n",
      "oh5_sigma = np.genfromtxt('/Users/yaolun/Copy/Dustfiles/sigma.oh5.ref', skip_header=2, skip_footer=1).T\n",
      "# This one has absorption and scattering cross section and g value with wavelength \n",
      "\n",
      "# oh5_sigma has more wavelength channels\n",
      "\n",
      "nu = c/oh5_sigma[3,:]*1e4\n",
      "# nu = oh5_sigma[3,:]\n",
      "albedo = oh5_sigma[1,:]/(oh5_sigma[0,:]+oh5_sigma[1,:])\n",
      "chi = (oh5_sigma[0,:]+oh5_sigma[1,:]) * 1.0395087779657002e14\n",
      "g = oh5_sigma[2,:]\n",
      "\n",
      "# sort by frequency\n",
      "ind = np.argsort(nu)\n",
      "nu = nu[ind]\n",
      "albedo = albedo[ind]\n",
      "chi = chi[ind]\n",
      "g = g[ind]\n",
      "\n",
      "foo = open('/Users/yaolun/Copy/Dustfiles/oh5_hyperion.txt','w')\n",
      "for i in range(0, len(nu)):\n",
      "    foo.write('%e \\t %e \\t %e \\t %e \\n' % (nu[i],albedo[i],chi[i],g[i]))\n",
      "foo.close()\n"
     ],
     "language": "python",
     "metadata": {},
     "outputs": [],
     "prompt_number": 17
    },
    {
     "cell_type": "code",
     "collapsed": false,
     "input": [],
     "language": "python",
     "metadata": {},
     "outputs": []
    }
   ],
   "metadata": {}
  }
 ]
}