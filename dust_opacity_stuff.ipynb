{
 "cells": [
  {
   "cell_type": "code",
   "execution_count": null,
   "metadata": {
    "collapsed": false
   },
   "outputs": [],
   "source": [
    "%matplotlib inline"
   ]
  },
  {
   "cell_type": "markdown",
   "metadata": {},
   "source": [
    "###Two versions of dust file\n",
    "\n",
    "1. oh5_kappa includes opacity per gram of gas and wavelength in micron\n",
    "2. sigma_oh5.ref includes absorption and scattering cross section per dust grain, anisotropy factor, and wavelength in micron"
   ]
  },
  {
   "cell_type": "markdown",
   "metadata": {},
   "source": [
    "## Hyperion dust input:\n",
    "  [nu, albedo, chi, g, p_lin_max]\n",
    "  * nu ($\\nu$): Frequency\n",
    "  * albedo: $\\sigma_{\\rm scat}/(\\sigma_{\\rm scat}+\\sigma_{\\rm abs})$.  This quantity is dimensionless.\n",
    "  * chi ($\\chi_{\\nu}$): The mass extinction coefficient, opacity per gram of dust.\n",
    "  * g: The anisotropy scattering factor.\n",
    "  * p_lin_max: something to do with polarization.  No polarization is assumed, therefore set to zero."
   ]
  },
  {
   "cell_type": "markdown",
   "metadata": {},
   "source": [
    "$$\\rho_{\\rm d} \\kappa_{\\rm d} = n_{\\rm d}(\\sigma_{\\rm abs}+\\sigma_{\\rm scat})$$ \n",
    "\n",
    "$$\\kappa_{\\rm d} = (\\sigma_{\\rm abs}+\\sigma_{\\rm scat})\\frac{n_{\\rm d}}{\\rho_{\\rm d}} = 100 \\kappa_{\\rm g}$$ \n",
    "\n",
    "$$\\kappa_{\\rm g} = (\\sigma_{\\rm abs}+\\sigma_{\\rm scat})\\frac{n_{\\rm d}}{100\\rho_{\\rm d}} = (\\sigma_{\\rm abs}+\\sigma_{\\rm scat})\\frac{n_{\\rm d}}{\\rho_{\\rm g}}$$ \n",
    "\n",
    "and by definition\n",
    "$$\\rho_{\\rm g} = \\mu m_{\\rm H}n_{\\rm g}, \\quad \\mu = 2.29$$\n",
    "so that\n",
    "$$\\kappa_{\\rm g} = (\\sigma_{\\rm abs}+\\sigma_{\\rm scat})\\frac{n_{\\rm d}}{\\mu m_{\\rm H}n_{\\rm g}}$$\n",
    "$$\\kappa_{\\rm d} = (\\sigma_{\\rm abs}+\\sigma_{\\rm scat})\\frac{100n_{\\rm d}}{\\rho_{\\rm g}} = (\\sigma_{\\rm abs}+\\sigma_{\\rm scat})\\frac{100n_{\\rm d}}{\\mu m_{\\rm H}n_{\\rm g}}$$\n",
    "with the communication with Neal\n",
    "$$\\frac{n_{\\rm d}}{\\mu n_{\\rm g}} =  1.1015 \\times 10^{-14}$$"
   ]
  },
  {
   "cell_type": "markdown",
   "metadata": {},
   "source": [
    "Appaerently more complicate than that.  Adopting the ratio between two files from now on.\n",
    "$$\\frac{\\kappa_{\\rm g}}{\\sigma_{\\rm d}} = 1.039 \\times 10^{12}$$\n",
    "\n",
    "$$\\frac{\\kappa_{\\rm d}}{\\sigma_{\\rm d}} = 1.039 \\times 10^{14}$$"
   ]
  },
  {
   "cell_type": "code",
   "execution_count": 18,
   "metadata": {
    "collapsed": false
   },
   "outputs": [],
   "source": [
    "import astropy.constants as const\n",
    "c = const.c.cgs.value\n",
    "mh = const.m_p.cgs.value + const.m_e.cgs.value\n",
    "\n",
    "import numpy as np\n",
    "oh5_kappa = np.genfromtxt('/Users/yaolun/Copy/Dustfiles/OH/oh5.kappa', skip_header=1).T  # This is opacity per gram of gas\n",
    "oh5_sigma = np.genfromtxt('/Users/yaolun/Copy/Dustfiles/sigma.oh5.ref', skip_header=2, skip_footer=1).T\n",
    "# This one has absorption and scattering cross section and g value with wavelength \n",
    "\n",
    "# oh5_sigma has more wavelength channels\n",
    "\n",
    "nu = c/oh5_sigma[3,:]*1e4\n",
    "# nu = oh5_sigma[3,:]\n",
    "albedo = oh5_sigma[1,:]/(oh5_sigma[0,:]+oh5_sigma[1,:])\n",
    "chi = (oh5_sigma[0,:]+oh5_sigma[1,:]) * 1.0395087779657002e14\n",
    "g = oh5_sigma[2,:]\n",
    "\n",
    "# sort by frequency\n",
    "ind = np.argsort(nu)\n",
    "nu = nu[ind]\n",
    "albedo = albedo[ind]\n",
    "chi = chi[ind]\n",
    "g = g[ind]\n",
    "\n",
    "foo = open('/Users/yaolun/Copy/Dustfiles/oh5_hyperion.txt','w')\n",
    "for i in range(0, len(nu)):\n",
    "    foo.write('%e \\t %e \\t %e \\t %e \\n' % (nu[i],albedo[i],chi[i],g[i]))\n",
    "foo.close()\n"
   ]
  },
  {
   "cell_type": "markdown",
   "metadata": {
    "collapsed": false
   },
   "source": [
    "#Test out Ormel et al. 2009 model"
   ]
  },
  {
   "cell_type": "code",
   "execution_count": 2,
   "metadata": {
    "collapsed": false
   },
   "outputs": [],
   "source": [
    "def opac_file(age_ind):\n",
    "    from astropy.io import ascii\n",
    "    # read in Ormel et al. 2011\n",
    "    dust_ormel = ascii.read(opac_file(4), header_start=None, names=['lambda','kappa-ext','kappa-sca','kappa-back','gsca'])\n",
    "    return '/Users/yaolun/Copy/dust_model/Ormel2011/(ic-sil,ic-gra)'+str(age_ind)+'opc.txt'"
   ]
  },
  {
   "cell_type": "code",
   "execution_count": 4,
   "metadata": {
    "collapsed": false
   },
   "outputs": [],
   "source": [
    "import numpy as np\n",
    "\n",
    "import matplotlib.pyplot as plt\n",
    "\n",
    "# read in Ormel et al. 2011\n",
    "dust_ormel = ascii.read(opac_file(4), header_start=None, names=['lambda','kappa-ext','kappa-sca','kappa-back','gsca'])"
   ]
  },
  {
   "cell_type": "code",
   "execution_count": null,
   "metadata": {
    "collapsed": false
   },
   "outputs": [],
   "source": []
  },
  {
   "cell_type": "code",
   "execution_count": null,
   "metadata": {
    "collapsed": true
   },
   "outputs": [],
   "source": []
  }
 ],
 "metadata": {
  "kernelspec": {
   "display_name": "Python 2",
   "language": "python",
   "name": "python2"
  },
  "language_info": {
   "codemirror_mode": {
    "name": "ipython",
    "version": 2
   },
   "file_extension": ".py",
   "mimetype": "text/x-python",
   "name": "python",
   "nbconvert_exporter": "python",
   "pygments_lexer": "ipython2",
   "version": "2.7.9"
  }
 },
 "nbformat": 4,
 "nbformat_minor": 0
}
