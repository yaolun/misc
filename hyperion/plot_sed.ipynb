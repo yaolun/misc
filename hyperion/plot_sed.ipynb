{
 "metadata": {
  "name": "",
  "signature": "sha256:25c0eae8591ececd3f792d18642fadeebceee3ab02b08edeed9310d5b82a891f"
 },
 "nbformat": 3,
 "nbformat_minor": 0,
 "worksheets": [
  {
   "cells": [
    {
     "cell_type": "code",
     "collapsed": false,
     "input": [
      "%matplotlib inline\n",
      "import matplotlib.pyplot"
     ],
     "language": "python",
     "metadata": {},
     "outputs": [],
     "prompt_number": 1
    },
    {
     "cell_type": "code",
     "collapsed": false,
     "input": [
      "import numpy as np\n",
      "from get_bhr71_obs import get_bhr71_obs\n",
      "from hyperion_sedcom import hyperion_sedcom\n",
      "import os\n",
      "home = os.path.expanduser('~')\n",
      "\n",
      "obs_data = get_bhr71_obs(home+'/radmc_simulation/bhr71/observations/')\n",
      "modir = home+'/hyperion/bhr71/model'\n",
      "outdir = home+'/hyperion/bhr71/plots/'"
     ],
     "language": "python",
     "metadata": {},
     "outputs": [],
     "prompt_number": 2
    },
    {
     "cell_type": "code",
     "collapsed": false,
     "input": [
      "# age\n",
      "mod_num = [17,18,19,48,49,50,51,52,53]\n",
      "modellist = []\n",
      "labellist = [r'$\\mathrm{1.0\\times10^{4}~yr}$',r'$\\mathrm{3.0\\times10^{4}~yr}$',r'$\\mathrm{5.0\\times10^{4}~yr}$',r'$\\mathrm{7.5\\times10^{4}~yr}$',\\\n",
      "             r'$\\mathrm{1.0\\times10^{5}~yr}$',r'$\\mathrm{2.5\\times10^{5}~yr}$',r'$\\mathrm{5.0\\times10^{5}~yr}$',r'$\\mathrm{7.5\\times10^{5}~yr}$',\\\n",
      "             r'$\\mathrm{1.0\\times10^{6}~yr}$']\n",
      "for mod in mod_num:\n",
      "    modellist.append(modir+str(mod)+'/model'+str(mod)+'.rtout')\n",
      "    \n",
      "hyperion_sedcom(modellist, outdir, 'age_cs1_omega13', labellist=labellist, obs_data=obs_data, lbol=True, dstar=178)"
     ],
     "language": "python",
     "metadata": {},
     "outputs": [
      {
       "metadata": {},
       "output_type": "display_data",
       "text": [
        "<matplotlib.figure.Figure at 0x2ad849e5db50>"
       ]
      }
     ],
     "prompt_number": 3
    },
    {
     "cell_type": "code",
     "collapsed": false,
     "input": [
      "# age\n",
      "mod_num = [64,65,66,67,68,69,94]\n",
      "modellist = []\n",
      "labellist = [r'$\\mathrm{5.0\\times10^{4}~yr}$',r'$\\mathrm{7.5\\times10^{4}~yr}$',r'$\\mathrm{1.0\\times10^{5}~yr}$',\\\n",
      "             r'$\\mathrm{2.5\\times10^{5}~yr}$',r'$\\mathrm{5.0\\times10^{5}~yr}$',r'$\\mathrm{7.5\\times10^{5}~yr}$',\\\n",
      "             r'$\\mathrm{1.0\\times10^{6}~yr}$']\n",
      "for mod in mod_num:\n",
      "    modellist.append(modir+str(mod)+'/model'+str(mod)+'.rtout')\n",
      "    \n",
      "hyperion_sedcom(modellist, outdir, 'age_cs3_omega13', labellist=labellist, obs_data=obs_data, lbol=True, dstar=178)"
     ],
     "language": "python",
     "metadata": {},
     "outputs": [
      {
       "metadata": {},
       "output_type": "display_data",
       "text": [
        "<matplotlib.figure.Figure at 0x2ad823a17c10>"
       ]
      }
     ],
     "prompt_number": 8
    },
    {
     "cell_type": "code",
     "collapsed": false,
     "input": [
      "# age\n",
      "mod_num = [71,72,73,74,75,76,77]\n",
      "modellist = []\n",
      "labellist = [r'$\\mathrm{5.0\\times10^{4}~yr}$',r'$\\mathrm{7.5\\times10^{4}~yr}$',r'$\\mathrm{1.0\\times10^{5}~yr}$',\\\n",
      "             r'$\\mathrm{2.5\\times10^{5}~yr}$',r'$\\mathrm{5.0\\times10^{5}~yr}$',r'$\\mathrm{7.5\\times10^{5}~yr}$',\\\n",
      "             r'$\\mathrm{1.0\\times10^{6}~yr}$']\n",
      "for mod in mod_num:\n",
      "    modellist.append(modir+str(mod)+'/model'+str(mod)+'.rtout')\n",
      "    \n",
      "hyperion_sedcom(modellist, outdir, 'age_cs4_omega13', labellist=labellist, obs_data=obs_data, lbol=True, dstar=178)"
     ],
     "language": "python",
     "metadata": {},
     "outputs": [
      {
       "metadata": {},
       "output_type": "display_data",
       "text": [
        "<matplotlib.figure.Figure at 0x2ad854b52e90>"
       ]
      }
     ],
     "prompt_number": 9
    },
    {
     "cell_type": "code",
     "collapsed": false,
     "input": [
      "# age\n",
      "mod_num = [78,79,80,81,82,83,84,85]\n",
      "modellist = []\n",
      "labellist = [r'$\\mathrm{2.5\\times10^{4}~yr}$',r'$\\mathrm{5.0\\times10^{4}~yr}$',r'$\\mathrm{7.5\\times10^{4}~yr}$',\\\n",
      "             r'$\\mathrm{1.0\\times10^{5}~yr}$',r'$\\mathrm{2.5\\times10^{5}~yr}$',r'$\\mathrm{5.0\\times10^{5}~yr}$',\\\n",
      "             r'$\\mathrm{7.5\\times10^{5}~yr}$',r'$\\mathrm{1.0\\times10^{6}~yr}$']\n",
      "for mod in mod_num:\n",
      "    modellist.append(modir+str(mod)+'/model'+str(mod)+'.rtout')\n",
      "    \n",
      "hyperion_sedcom(modellist, outdir, 'age_cs5_omega13', labellist=labellist, obs_data=obs_data, lbol=True, dstar=178)"
     ],
     "language": "python",
     "metadata": {},
     "outputs": [
      {
       "metadata": {},
       "output_type": "display_data",
       "text": [
        "<matplotlib.figure.Figure at 0x2ad85539ab10>"
       ]
      }
     ],
     "prompt_number": 10
    },
    {
     "cell_type": "code",
     "collapsed": false,
     "input": [
      "# age\n",
      "mod_num = [86,87,88,89,90,91,92,93]\n",
      "modellist = []\n",
      "labellist = [r'$\\mathrm{2.5\\times10^{4}~yr}$',r'$\\mathrm{5.0\\times10^{4}~yr}$',r'$\\mathrm{7.5\\times10^{4}~yr}$',\\\n",
      "             r'$\\mathrm{1.0\\times10^{5}~yr}$',r'$\\mathrm{2.5\\times10^{5}~yr}$',r'$\\mathrm{5.0\\times10^{5}~yr}$',\\\n",
      "             r'$\\mathrm{7.5\\times10^{5}~yr}$',r'$\\mathrm{1.0\\times10^{6}~yr}$']\n",
      "for mod in mod_num:\n",
      "    modellist.append(modir+str(mod)+'/model'+str(mod)+'.rtout')\n",
      "    \n",
      "hyperion_sedcom(modellist, outdir, 'age_cs6_omega13', labellist=labellist, obs_data=obs_data, lbol=True, dstar=178)"
     ],
     "language": "python",
     "metadata": {},
     "outputs": [
      {
       "metadata": {},
       "output_type": "display_data",
       "text": [
        "<matplotlib.figure.Figure at 0x2ad854b5c810>"
       ]
      }
     ],
     "prompt_number": 11
    },
    {
     "cell_type": "code",
     "collapsed": false,
     "input": [],
     "language": "python",
     "metadata": {},
     "outputs": []
    },
    {
     "cell_type": "code",
     "collapsed": false,
     "input": [
      "# sound speed\n",
      "mod_num = [50,55,56,57]\n",
      "modellist = []\n",
      "labellist = [r'$\\mathrm{0.1~km~s^{-1}}$',r'$\\mathrm{0.15~km~s^{-1}}$',r'$\\mathrm{0.2~km~s^{-1}}$',r'$\\mathrm{0.3~km~s^{-1}}$']\n",
      "for mod in mod_num:\n",
      "    modellist.append(modir+str(mod)+'/model'+str(mod)+'.rtout')\n",
      "    \n",
      "hyperion_sedcom(modellist, outdir, 'sound_speed_2.5e5_omega13', labellist=labellist, obs_data=obs_data, lbol=True, dstar=178)"
     ],
     "language": "python",
     "metadata": {},
     "outputs": [
      {
       "metadata": {},
       "output_type": "display_data",
       "text": [
        "<matplotlib.figure.Figure at 0x2ad823cc1250>"
       ]
      }
     ],
     "prompt_number": 4
    },
    {
     "cell_type": "code",
     "collapsed": false,
     "input": [
      "# disk mass\n",
      "mod_num = [50,60,61]\n",
      "modellist = []\n",
      "labellist = [r'$\\mathrm{M_{disk}=0.5~M_{\\odot}}$',r'$\\mathrm{M_{disk}=1.0~M_{\\odot}}$',r'$\\mathrm{M_{disk}=1.5~M_{\\odot}}$']\n",
      "for mod in mod_num:\n",
      "    modellist.append(modir+str(mod)+'/model'+str(mod)+'.rtout')\n",
      "    \n",
      "hyperion_sedcom(modellist, outdir, 'disk_mass_mod50', labellist=labellist, obs_data=obs_data, lbol=True, dstar=178)"
     ],
     "language": "python",
     "metadata": {},
     "outputs": [
      {
       "metadata": {},
       "output_type": "display_data",
       "text": [
        "<matplotlib.figure.Figure at 0x2ad823a17f50>"
       ]
      }
     ],
     "prompt_number": 5
    },
    {
     "cell_type": "code",
     "collapsed": false,
     "input": [
      "# disk beta\n",
      "mod_num = [50,58,59]\n",
      "modellist = []\n",
      "labellist = [r'$\\mathrm{\\beta=1.086}$',r'$\\mathrm{\\beta=1.2}$',r'$\\mathrm{\\beta=1.5}$']\n",
      "for mod in mod_num:\n",
      "    modellist.append(modir+str(mod)+'/model'+str(mod)+'.rtout')\n",
      "    \n",
      "hyperion_sedcom(modellist, outdir, 'disk_flare_mod50', labellist=labellist, obs_data=obs_data, lbol=True, dstar=178)"
     ],
     "language": "python",
     "metadata": {},
     "outputs": [
      {
       "metadata": {},
       "output_type": "display_data",
       "text": [
        "<matplotlib.figure.Figure at 0x2ad854dcd610>"
       ]
      }
     ],
     "prompt_number": 6
    },
    {
     "cell_type": "code",
     "collapsed": false,
     "input": [
      "# disk beta\n",
      "mod_num = [50,58,59]\n",
      "modellist = []\n",
      "labellist = [r'$\\mathrm{\\beta=1.086}$',r'$\\mathrm{\\beta=1.2}$',r'$\\mathrm{\\beta=1.5}$']\n",
      "for mod in mod_num:\n",
      "    modellist.append(modir+str(mod)+'/model'+str(mod)+'.rtout')\n",
      "    \n",
      "hyperion_sedcom(modellist, outdir, 'disk_flare_mod50', labellist=labellist, obs_data=obs_data, lbol=True, dstar=178)"
     ],
     "language": "python",
     "metadata": {},
     "outputs": [
      {
       "metadata": {},
       "output_type": "display_data",
       "text": [
        "<matplotlib.figure.Figure at 0x2ad854e0c710>"
       ]
      }
     ],
     "prompt_number": 7
    },
    {
     "cell_type": "code",
     "collapsed": false,
     "input": [
      "# age\n",
      "mod_num = [124,125,126,127]\n",
      "modellist = []\n",
      "labellist = [r'$\\mathrm{2.5\\times10^{5}~yr}$',r'$\\mathrm{5.0\\times10^{5}~yr}$',\\\n",
      "             r'$\\mathrm{7.5\\times10^{5}~yr}$',r'$\\mathrm{1.0\\times10^{6}~yr}$']\n",
      "for mod in mod_num:\n",
      "    modellist.append(modir+str(mod)+'/model'+str(mod)+'.rtout')\n",
      "    \n",
      "hyperion_sedcom(modellist, outdir, 'age_cs3_omega13_2L', labellist=labellist, obs_data=obs_data, lbol=True, dstar=178)"
     ],
     "language": "python",
     "metadata": {},
     "outputs": [
      {
       "metadata": {},
       "output_type": "display_data",
       "text": [
        "<matplotlib.figure.Figure at 0x2ad8554c9a90>"
       ]
      }
     ],
     "prompt_number": 12
    },
    {
     "cell_type": "code",
     "collapsed": false,
     "input": [
      "# age\n",
      "mod_num = [128,129,130,131]\n",
      "modellist = []\n",
      "labellist = [r'$\\mathrm{2.5\\times10^{5}~yr}$',r'$\\mathrm{5.0\\times10^{5}~yr}$',\\\n",
      "             r'$\\mathrm{7.5\\times10^{5}~yr}$',r'$\\mathrm{1.0\\times10^{6}~yr}$']\n",
      "for mod in mod_num:\n",
      "    modellist.append(modir+str(mod)+'/model'+str(mod)+'.rtout')\n",
      "    \n",
      "hyperion_sedcom(modellist, outdir, 'age_cs4_omega13_2L', labellist=labellist, obs_data=obs_data, lbol=True, dstar=178)"
     ],
     "language": "python",
     "metadata": {},
     "outputs": [
      {
       "metadata": {},
       "output_type": "display_data",
       "text": [
        "<matplotlib.figure.Figure at 0x2ad854dc2410>"
       ]
      }
     ],
     "prompt_number": 13
    },
    {
     "cell_type": "code",
     "collapsed": false,
     "input": [
      "# age\n",
      "mod_num = [132,133,134,135]\n",
      "modellist = []\n",
      "labellist = [r'$\\mathrm{2.5\\times10^{5}~yr}$',r'$\\mathrm{5.0\\times10^{5}~yr}$',\\\n",
      "             r'$\\mathrm{7.5\\times10^{5}~yr}$',r'$\\mathrm{1.0\\times10^{6}~yr}$']\n",
      "for mod in mod_num:\n",
      "    modellist.append(modir+str(mod)+'/model'+str(mod)+'.rtout')\n",
      "    \n",
      "hyperion_sedcom(modellist, outdir, 'age_cs5_omega13_2L', labellist=labellist, obs_data=obs_data, lbol=True, dstar=178)"
     ],
     "language": "python",
     "metadata": {},
     "outputs": [
      {
       "metadata": {},
       "output_type": "display_data",
       "text": [
        "<matplotlib.figure.Figure at 0x2ad8547f0b50>"
       ]
      }
     ],
     "prompt_number": 14
    },
    {
     "cell_type": "code",
     "collapsed": false,
     "input": [
      "# age\n",
      "mod_num = [136,137,138,139]\n",
      "modellist = []\n",
      "labellist = [r'$\\mathrm{2.5\\times10^{5}~yr}$',r'$\\mathrm{5.0\\times10^{5}~yr}$',\\\n",
      "             r'$\\mathrm{7.5\\times10^{5}~yr}$',r'$\\mathrm{1.0\\times10^{6}~yr}$']\n",
      "for mod in mod_num:\n",
      "    modellist.append(modir+str(mod)+'/model'+str(mod)+'.rtout')\n",
      "    \n",
      "hyperion_sedcom(modellist, outdir, 'age_cs6_omega13_2L', labellist=labellist, obs_data=obs_data, lbol=True, dstar=178)"
     ],
     "language": "python",
     "metadata": {},
     "outputs": [
      {
       "metadata": {},
       "output_type": "display_data",
       "text": [
        "<matplotlib.figure.Figure at 0x2ad854be5a50>"
       ]
      }
     ],
     "prompt_number": 15
    },
    {
     "cell_type": "code",
     "collapsed": false,
     "input": [],
     "language": "python",
     "metadata": {},
     "outputs": []
    }
   ],
   "metadata": {}
  }
 ]
}