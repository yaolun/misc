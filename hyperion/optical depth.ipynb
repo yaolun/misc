{
 "cells": [
  {
   "cell_type": "code",
   "execution_count": 1,
   "metadata": {
    "collapsed": true
   },
   "outputs": [],
   "source": [
    "from hyperion.model import Model, ModelOutput\n",
    "import numpy as np\n",
    "import matplotlib.pyplot as plt\n",
    "%matplotlib inline\n",
    "import astropy.constants as const\n",
    "pc = const.pc.cgs.value\n",
    "AU = const.au.cgs.value"
   ]
  },
  {
   "cell_type": "code",
   "execution_count": 2,
   "metadata": {
    "collapsed": false
   },
   "outputs": [],
   "source": [
    "modelfile = '/Users/yaolun/test/model65.rtout'\n",
    "m = ModelOutput(modelfile)"
   ]
  },
  {
   "cell_type": "code",
   "execution_count": 33,
   "metadata": {
    "collapsed": false
   },
   "outputs": [
    {
     "name": "stderr",
     "output_type": "stream",
     "text": [
      "WARNING: Version 1 dust file detected - discarding mean opacities and recomputing them [hyperion.dust.dust_type]\n",
      "WARNING: Planck function for lowest temperature not completely covered by opacity function [hyperion.dust.mean_opacities]\n",
      "WARNING: Planck function for highest temperature not completely covered by opacity function [hyperion.dust.mean_opacities]\n"
     ]
    }
   ],
   "source": [
    "q = m.get_quantities()\n",
    "rho = q['density'][0].array.T"
   ]
  },
  {
   "cell_type": "code",
   "execution_count": 84,
   "metadata": {
    "collapsed": false
   },
   "outputs": [],
   "source": [
    "r = q.r_wall\n",
    "theta = q.t_wall\n",
    "phi = q.p_wall\n",
    "\n",
    "rc = r[:-1]+r[1:]-r[:-1]\n",
    "thetac = theta[:-1]+theta[1:]-theta[:-1]\n",
    "phic = phi[:-1]+phi[1:]-phi[:-1]\n",
    "\n",
    "rr, tt, pp = np.meshgrid(rc, thetac, phic, indexing='ij')\n",
    "\n",
    "x = rr*np.sin(tt)*np.cos(pp)\n",
    "y = rr*np.sin(tt)*np.sin(pp)\n",
    "z = rr*np.cos(tt)\n",
    "\n",
    "\n",
    "# image resolution\n",
    "img_res_angular = 4 # arcsec\n",
    "dist = 200*pc\n",
    "img_size = img_res_angular*dist/pc*AU\n",
    "img_pix = int(max(r)/img_size)\n",
    "\n",
    "\n",
    "# x_dum = img_size*0\n",
    "# z_dum = img_size*(-img_pix)\n",
    "# x_reduced = np.where((x <= x_dum+img_size/2) & (x >= x_dum-img_size/2) & (z <= z_dum+img_size/2) & (z >= z_dum-img_size/2), x, 0)\n",
    "\n",
    "\n",
    "\n",
    "column_density = np.empty((2*img_pix, 2*img_pix))\n",
    "\n",
    "for ix in range(img_pix):\n",
    "    for iz in range(img_pix*2):\n",
    "        if (ix != 0) or (iz != 0):\n",
    "            continue\n",
    "        # in Cartisian coordinates (AU)\n",
    "        x_dum = img_size*ix\n",
    "        z_dum = img_size*(iz-img_pix)\n",
    "        \n",
    "        rho_dum = np.where((x <= x_dum+img_size/2) & (x >= x_dum-img_size/2) & (z <= z_dum+img_size/2) & (z >= z_dum-img_size/2),\n",
    "                           rho, 0)\n",
    "        yy_dum = np.where((x <= x_dum+img_size/2) & (x >= x_dum-img_size/2) & (z <= z_dum+img_size/2) & (z >= z_dum-img_size/2),\n",
    "                           y, 0)\n",
    "        \n",
    "        \n",
    "#         column_density[len(r)+ix,iy] = np.sum()\n",
    "#         column_density[len(r)-ix,iy] = column_density[len(r)+ix,iy]\n",
    "# q['density'][0].array"
   ]
  },
  {
   "cell_type": "code",
   "execution_count": 89,
   "metadata": {
    "collapsed": false
   },
   "outputs": [
    {
     "data": {
      "image/png": "[encoded data removed]",
      "text/plain": [
       "<matplotlib.figure.Figure at 0x125883908>"
      ]
     },
     "metadata": {},
     "output_type": "display_data"
    }
   ],
   "source": [
    "y_reduced = yy_dum.flatten()[yy_dum.flatten() != 0]\n",
    "rho_reduced = rho_dum.flatten()[rho_dum.flatten() != 0]\n",
    "plt.plot(y_reduced/AU, rho_reduced, 'o')\n",
    "plt.xscale('log')"
   ]
  },
  {
   "cell_type": "code",
   "execution_count": 78,
   "metadata": {
    "collapsed": false
   },
   "outputs": [],
   "source": [
    "xx = x_reduced.flatten()[x_reduced.flatten() != 0]"
   ]
  },
  {
   "cell_type": "code",
   "execution_count": 91,
   "metadata": {
    "collapsed": false
   },
   "outputs": [
    {
     "data": {
      "text/plain": [
       "0.013947551460704047"
      ]
     },
     "execution_count": 91,
     "metadata": {},
     "output_type": "execute_result"
    }
   ],
   "source": [
    "rc.min()/AU"
   ]
  },
  {
   "cell_type": "code",
   "execution_count": 79,
   "metadata": {
    "collapsed": false
   },
   "outputs": [
    {
     "data": {
      "text/plain": [
       "383.79093458548959"
      ]
     },
     "execution_count": 79,
     "metadata": {},
     "output_type": "execute_result"
    }
   ],
   "source": [
    "xx.max()/AU"
   ]
  },
  {
   "cell_type": "code",
   "execution_count": 74,
   "metadata": {
    "collapsed": false
   },
   "outputs": [
    {
     "data": {
      "text/plain": [
       "714"
      ]
     },
     "execution_count": 74,
     "metadata": {},
     "output_type": "execute_result"
    }
   ],
   "source": [
    "np.shape(x_reduced)"
   ]
  },
  {
   "cell_type": "code",
   "execution_count": 18,
   "metadata": {
    "collapsed": false
   },
   "outputs": [],
   "source": [
    "rr = np.array([1,2,3])\n",
    "tt = np.array([0,1,2])\n",
    "pp = np.array([0,1,2])\n",
    "xx, yy, zz = np.meshgrid(rr,tt,pp, indexing='ij')"
   ]
  },
  {
   "cell_type": "code",
   "execution_count": 25,
   "metadata": {
    "collapsed": false
   },
   "outputs": [],
   "source": [
    "x = (xx**2*np.cos(tt)*np.sin(pp))"
   ]
  },
  {
   "cell_type": "code",
   "execution_count": 42,
   "metadata": {
    "collapsed": false
   },
   "outputs": [
    {
     "data": {
      "text/plain": [
       "array([], dtype=float64)"
      ]
     },
     "execution_count": 42,
     "metadata": {},
     "output_type": "execute_result"
    }
   ],
   "source": [
    "yy_dum.flatten()[yy_dum.flatten() != 0]"
   ]
  },
  {
   "cell_type": "code",
   "execution_count": 44,
   "metadata": {
    "collapsed": false
   },
   "outputs": [
    {
     "data": {
      "text/plain": [
       "array([], dtype=float64)"
      ]
     },
     "execution_count": 44,
     "metadata": {},
     "output_type": "execute_result"
    }
   ],
   "source": [
    "rho_dum.flatten()[rho_dum.flatten() != 0]"
   ]
  },
  {
   "cell_type": "code",
   "execution_count": null,
   "metadata": {
    "collapsed": true
   },
   "outputs": [],
   "source": []
  }
 ],
 "metadata": {
  "kernelspec": {
   "display_name": "Python 3",
   "language": "python",
   "name": "python3"
  },
  "language_info": {
   "codemirror_mode": {
    "name": "ipython",
    "version": 3
   },
   "file_extension": ".py",
   "mimetype": "text/x-python",
   "name": "python",
   "nbconvert_exporter": "python",
   "pygments_lexer": "ipython3",
   "version": "3.5.2"
  }
 },
 "nbformat": 4,
 "nbformat_minor": 0
}
