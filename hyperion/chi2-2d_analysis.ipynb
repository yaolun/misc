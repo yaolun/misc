{
 "cells": [
  {
   "cell_type": "code",
   "execution_count": 31,
   "metadata": {
    "collapsed": false
   },
   "outputs": [],
   "source": [
    "%matplotlib inline\n",
    "import numpy as np\n",
    "import matplotlib.pyplot as plt\n",
    "from astropy.io import ascii"
   ]
  },
  {
   "cell_type": "code",
   "execution_count": 2,
   "metadata": {
    "collapsed": true
   },
   "outputs": [],
   "source": [
    "chi2_data = ascii.read('/Users/yaolun/bhr71/hyperion/chi2_grid/chi2-2d.txt')"
   ]
  },
  {
   "cell_type": "markdown",
   "metadata": {},
   "source": [
    "### Find the grid points in two axe"
   ]
  },
  {
   "cell_type": "code",
   "execution_count": 34,
   "metadata": {
    "collapsed": false
   },
   "outputs": [],
   "source": [
    "col_name = chi2_data.colnames\n",
    "prob = np.exp(-chi2_data['chisq']/2)\n",
    "p1 = np.array(list(set(chi2_data[col_name[1]])))\n",
    "p2 = np.array(list(set(chi2_data[col_name[2]])))"
   ]
  },
  {
   "cell_type": "markdown",
   "metadata": {},
   "source": [
    "### Function to return the fitted peak and width"
   ]
  },
  {
   "cell_type": "code",
   "execution_count": 55,
   "metadata": {
    "collapsed": true
   },
   "outputs": [],
   "source": [
    "def fit(x, y):\n",
    "    from scipy.optimize import curve_fit\n",
    "\n",
    "    # Define Gaussian\n",
    "    def gauss(x, *p):\n",
    "        A, mu, sigma = p\n",
    "        return A*np.exp(-(x-mu)**2/(2.*sigma**2))\n",
    "\n",
    "    # p0 is the initial guess for the fitting coefficients (A, mu and sigma above)\n",
    "    p0 = [y.max(), np.median(x), x.max()-x.min()]\n",
    "    \n",
    "    coeff, var_matrix = curve_fit(gauss, x, y, p0=p0)\n",
    "    \n",
    "    return coeff[1], coeff[2]"
   ]
  },
  {
   "cell_type": "markdown",
   "metadata": {},
   "source": [
    "### Get the uncertainty on p1 axis (iterating p2)"
   ]
  },
  {
   "cell_type": "code",
   "execution_count": 91,
   "metadata": {
    "collapsed": false
   },
   "outputs": [
    {
     "name": "stdout",
     "output_type": "stream",
     "text": [
      "Gaussian cannot be fitted at 53.0 degree row.\n"
     ]
    }
   ],
   "source": [
    "unc_p1 = np.zeros_like(p1)\n",
    "for p in p2:\n",
    "    x = chi2_data[col_name[1]][chi2_data[col_name[2]] == p]\n",
    "    y = prob[chi2_data[col_name[2]] == p]\n",
    "\n",
    "    try:\n",
    "        val_dum, unc_dum = fit(x,y)\n",
    "    except RuntimeError:\n",
    "        print 'Gaussian cannot be fitted at %s degree row.' % p\n",
    "        unc_dum = 0\n",
    "    \n",
    "    unc_p1[p2 == p] = abs(unc_dum)"
   ]
  },
  {
   "cell_type": "markdown",
   "metadata": {},
   "source": [
    "### Get the uncertainty on p2 axis (iterating p1)"
   ]
  },
  {
   "cell_type": "code",
   "execution_count": 92,
   "metadata": {
    "collapsed": false
   },
   "outputs": [
    {
     "name": "stdout",
     "output_type": "stream",
     "text": [
      "Gaussian cannot be fitted at 2.4293 x 10^4 year column.\n",
      "Gaussian cannot be fitted at 3.274 x 10^4 year column.\n"
     ]
    }
   ],
   "source": [
    "unc_p2 = np.zeros_like(p2)\n",
    "for p in p1:\n",
    "    x = chi2_data[col_name[2]][chi2_data[col_name[1]] == p]\n",
    "    y = prob[chi2_data[col_name[1]] == p]\n",
    "\n",
    "    try:\n",
    "        val_dum, unc_dum = fit(x,y)\n",
    "    except RuntimeError:\n",
    "        print 'Gaussian cannot be fitted at %s x 10^4 year column.' % p\n",
    "        unc_dum = 0\n",
    "    \n",
    "    unc_p2[p1 == p] = abs(unc_dum)"
   ]
  },
  {
   "cell_type": "code",
   "execution_count": 95,
   "metadata": {
    "collapsed": false
   },
   "outputs": [
    {
     "name": "stdout",
     "output_type": "stream",
     "text": [
      "[ 57.  51.  53.  59.  55.]\n",
      "[ 0.08967075  0.06037737  0.          0.09047491  0.10865768]\n",
      "[ 3.0466  2.8309  2.6256  2.4293  3.274 ]\n",
      "[ 0.74063618  0.64666857  0.75802383  0.          0.        ]\n"
     ]
    }
   ],
   "source": [
    "print p2\n",
    "print unc_p1\n",
    "\n",
    "print p1\n",
    "print unc_p2"
   ]
  },
  {
   "cell_type": "code",
   "execution_count": 129,
   "metadata": {
    "collapsed": false
   },
   "outputs": [
    {
     "data": {
      "text/plain": [
       "<Container object of 3 artists>"
      ]
     },
     "execution_count": 129,
     "metadata": {},
     "output_type": "execute_result"
    },
    {
     "data": {
      "image/png": "[encoded data removed]",
      "text/plain": [
       "<matplotlib.figure.Figure at 0x113aa0290>"
      ]
     },
     "metadata": {},
     "output_type": "display_data"
    }
   ],
   "source": [
    "trimmer = (chi2_data['chisq'] < 20.2) & (chi2_data[col_name[2]] != 53.0)\n",
    "xb = chi2_data[col_name[1]][trimmer]\n",
    "yb = chi2_data[col_name[2]][trimmer]\n",
    "# assign uncertainties\n",
    "xerr = np.empty_like(xb)\n",
    "yerr = np.empty_like(yb)\n",
    "\n",
    "for x in xb:\n",
    "    for y in yb:\n",
    "        xerr[xb == x] = unc_p1[p2 == y]\n",
    "        yerr[yb == y] = unc_p2[p1 == x]\n",
    "        \n",
    "        if xerr[xb == x][0] == 0:\n",
    "            xerr[xb == x] = unc_p2[p1 == x]\n",
    "        if yerr[yb == y][0] == 0:\n",
    "            yerr[yb == y] = unc_p1[p2 == y]\n",
    "        if xerr[xb == x][0]+yerr[yb == y][0] == 0:\n",
    "            print x,y\n",
    "\n",
    "plt.errorbar(xb, yb, xerr=xerr, yerr=yerr, fmt='o')"
   ]
  },
  {
   "cell_type": "code",
   "execution_count": 142,
   "metadata": {
    "collapsed": false
   },
   "outputs": [
    {
     "name": "stdout",
     "output_type": "stream",
     "text": [
      "Beta: [  6.7817154   37.53276486]\n",
      "Beta Std Error: [ 1.73640072  5.12926848]\n",
      "Beta Covariance: [[  4.04589357 -11.9122243 ]\n",
      " [-11.9122243   35.30412122]]\n",
      "Residual Variance: 0.745221640447\n",
      "Inverse Condition #: 0.00387438478148\n",
      "Reason(s) for Halting:\n",
      "  Sum of squares convergence\n"
     ]
    },
    {
     "data": {
      "image/png": "[encoded data removed]",
      "text/plain": [
       "<matplotlib.figure.Figure at 0x11456c610>"
      ]
     },
     "metadata": {},
     "output_type": "display_data"
    }
   ],
   "source": [
    "import scipy.odr as odr\n",
    "\n",
    "# the fitted function\n",
    "def linfunc(p, x):\n",
    "    a, b = p\n",
    "    return a*x + b\n",
    "\n",
    "# create a model for fitting\n",
    "lin_model = odr.Model(linfunc)\n",
    "\n",
    "# create a RealData object\n",
    "data = odr.RealData(xb, yb, sx=xerr, sy=yerr)\n",
    "\n",
    "# set up ODR with the model and data\n",
    "odr = odr.ODR(data, lin_model, beta0=[1., np.mean(y)])\n",
    "\n",
    "# Run the regression.\n",
    "out = odr.run()\n",
    "\n",
    "# Use the in-built pprint method to give us results.\n",
    "out.pprint()\n",
    "\n",
    "x_fit = np.linspace(2,3.5, 1000)\n",
    "y_fit = linfunc(out.beta, x_fit)\n",
    "y_fit_err = (out.cov_beta[0,0]+2*out.cov_beta[0,1]*x_fit+out.cov_beta[1,1]*x_fit**2)**0.5\n",
    "\n",
    "plt.errorbar(xb, yb, xerr=xerr, yerr=yerr, linestyle='None', marker='x')\n",
    "# plt.fill_between(x_fit, y_fit-y_fit_err, y_fit+y_fit_err, facecolor='Green', edgecolor='None', alpha=0.3)\n",
    "plt.plot(x_fit, y_fit)\n",
    "\n",
    "plt.show()\n"
   ]
  },
  {
   "cell_type": "markdown",
   "metadata": {},
   "source": [
    "## Stackflow example of ODR"
   ]
  },
  {
   "cell_type": "code",
   "execution_count": 123,
   "metadata": {
    "collapsed": false
   },
   "outputs": [
    {
     "name": "stdout",
     "output_type": "stream",
     "text": [
      "Beta: [ 0.99923458  0.50468293]\n",
      "Beta Std Error: [ 0.00073699  0.01465223]\n",
      "Beta Covariance: [[ 0.00054595 -0.00874584]\n",
      " [-0.00874584  0.21579444]]\n",
      "Residual Variance: 0.000994872099653\n",
      "Inverse Condition #: 0.245868592532\n",
      "Reason(s) for Halting:\n",
      "  Sum of squares convergence\n"
     ]
    },
    {
     "data": {
      "image/png": "[encoded data removed]",
      "text/plain": [
       "<matplotlib.figure.Figure at 0x11330a490>"
      ]
     },
     "metadata": {},
     "output_type": "display_data"
    }
   ],
   "source": [
    "import numpy as np\n",
    "import matplotlib.pyplot as plt\n",
    "from scipy.odr import *\n",
    "\n",
    "import random\n",
    "\n",
    "# Initiate some data, giving some randomness using random.random().\n",
    "x = np.array([0, 1, 2, 3, 4, 5])\n",
    "y = np.array([i**2 + random.random() for i in x])\n",
    "\n",
    "x_err = np.array([random.random() for i in x])\n",
    "y_err = np.array([random.random() for i in x])\n",
    "\n",
    "# Define a function (quadratic in our case) to fit the data with.\n",
    "def quad_func(p, x):\n",
    "     m, c = p\n",
    "     return m*x**2 + c\n",
    "\n",
    "# Create a model for fitting.\n",
    "quad_model = Model(quad_func)\n",
    "\n",
    "# Create a RealData object using our initiated data from above.\n",
    "data = RealData(x, y, sx=x_err, sy=y_err)\n",
    "\n",
    "# Set up ODR with the model and data.\n",
    "odr = ODR(data, quad_model, beta0=[0., 1.])\n",
    "\n",
    "# Run the regression.\n",
    "out = odr.run()\n",
    "\n",
    "# Use the in-built pprint method to give us results.\n",
    "out.pprint()\n",
    "'''Beta: [ 1.01781493  0.48498006]\n",
    "Beta Std Error: [ 0.00390799  0.03660941]\n",
    "Beta Covariance: [[ 0.00241322 -0.01420883]\n",
    " [-0.01420883  0.21177597]]\n",
    "Residual Variance: 0.00632861634898189\n",
    "Inverse Condition #: 0.4195196193536024\n",
    "Reason(s) for Halting:\n",
    "  Sum of squares convergence'''\n",
    "\n",
    "x_fit = np.linspace(x[0], x[-1], 1000)\n",
    "y_fit = quad_func(out.beta, x_fit)\n",
    "\n",
    "plt.errorbar(x, y, xerr=x_err, yerr=y_err, linestyle='None', marker='x')\n",
    "plt.plot(x_fit, y_fit)\n",
    "\n",
    "plt.show()\n"
   ]
  },
  {
   "cell_type": "code",
   "execution_count": null,
   "metadata": {
    "collapsed": true
   },
   "outputs": [],
   "source": []
  }
 ],
 "metadata": {
  "kernelspec": {
   "display_name": "Python 2",
   "language": "python",
   "name": "python2"
  },
  "language_info": {
   "codemirror_mode": {
    "name": "ipython",
    "version": 2
   },
   "file_extension": ".py",
   "mimetype": "text/x-python",
   "name": "python",
   "nbconvert_exporter": "python",
   "pygments_lexer": "ipython2",
   "version": "2.7.11"
  }
 },
 "nbformat": 4,
 "nbformat_minor": 0
}
