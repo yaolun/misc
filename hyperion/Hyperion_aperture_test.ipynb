{
 "cells": [
  {
   "cell_type": "code",
   "execution_count": null,
   "metadata": {
    "collapsed": true
   },
   "outputs": [],
   "source": [
    "%matplotlib inline\n",
    "import numpy as np\n",
    "from hyperion.model import ModelOutput\n",
    "import matplotlib.pyplot as plt\n",
    "from photutils import aperture_photometry as ap\n",
    "from photutils import CircularAperture\n",
    "import astropy.constants as const\n",
    "from astropy.io import ascii\n",
    "from scipy.interpolate import interp1d\n",
    "\n",
    "pc = const.pc.cgs.value\n",
    "c  = const.c.cgs.value\n",
    "AU = const.au.cgs.value\n",
    "wl_aper = [3.6, 4.5, 5.8, 8.0, 8.5, 9, 9.7, 10, 10.5, 11, 16, 20, 24, 35, 70, 100, 160, 250, 350, 500, 850]"
   ]
  },
  {
   "cell_type": "code",
   "execution_count": null,
   "metadata": {
    "collapsed": true
   },
   "outputs": [],
   "source": [
    "# read in the model output and set up the pixel scale\n",
    "filename = '/Users/yaolun/bhr71/hyperion/cycle6/model47.rtout'\n",
    "m = ModelOutput(filename)\n",
    "im = m.get_image(group=len(wl_aper)+1, inclination=0, distance=178.*pc, units='MJy/sr')\n",
    "w = np.degrees((1.5*pc)/im.distance)*60\n",
    "pix_num = len(im.val[:,0,0])\n",
    "pix2arcsec = 2*w/pix_num\n",
    "print w\n",
    "# sum over the field of view\n",
    "im_avg_1d = np.sum(im.val, axis=(0,1)) * 1e6/4.25451703e10*pix2arcsec**2*1e-23 * c/im.wav*1e4\n",
    "\n",
    "# read in the SED \n",
    "sed_inf = m.get_sed(group=0, inclination=0, aperture=-1, distance=178.0*pc)"
   ]
  },
  {
   "cell_type": "code",
   "execution_count": null,
   "metadata": {
    "collapsed": true
   },
   "outputs": [],
   "source": [
    "plt.plot(np.log10(im.wav), np.log10(im_avg_1d))\n",
    "plt.plot(np.log10(sed_inf.wav), np.log10(sed_inf.val),'--')\n",
    "plt.plot(np.log10(wl_aper), np.log10(phot))\n",
    "print im_avg_1d/sed_inf.val"
   ]
  }
 ],
 "metadata": {
  "kernelspec": {
   "display_name": "Python 2",
   "language": "python",
   "name": "python2"
  },
  "language_info": {
   "codemirror_mode": {
    "name": "ipython",
    "version": 2
   },
   "file_extension": ".py",
   "mimetype": "text/x-python",
   "name": "python",
   "nbconvert_exporter": "python",
   "pygments_lexer": "ipython2",
   "version": "2.7.10"
  }
 },
 "nbformat": 4,
 "nbformat_minor": 0
}
