{
 "cells": [
  {
   "cell_type": "markdown",
   "metadata": {},
   "source": [
    "# Test script for aperture-extraction from Hyperion & photutils"
   ]
  },
  {
   "cell_type": "markdown",
   "metadata": {},
   "source": [
    "### Import modules"
   ]
  },
  {
   "cell_type": "code",
   "execution_count": 11,
   "metadata": {
    "collapsed": false
   },
   "outputs": [],
   "source": [
    "%matplotlib inline\n",
    "import numpy as np\n",
    "from hyperion.model import ModelOutput\n",
    "import matplotlib.pyplot as plt\n",
    "from photutils import aperture_photometry as ap\n",
    "from photutils import CircularAperture\n",
    "import astropy.constants as const\n",
    "from astropy.io import ascii\n",
    "from scipy.interpolate import interp1d\n",
    "\n",
    "# constant setup\n",
    "pc = const.pc.cgs.value\n",
    "c  = const.c.cgs.value\n",
    "AU = const.au.cgs.value\n",
    "\n",
    "# The wavelengths that aperture extraction performed\n",
    "wl_aper = [3.6, 4.5, 5.8, 8.0, 8.5, 9, 9.7, 10, 10.5, 11, 16, 20, 24, 35, 70, 100, 160, 250, 350, 500, 850]\n",
    "wl_aper = [200., 250., 350., 500.]"
   ]
  },
  {
   "cell_type": "code",
   "execution_count": 12,
   "metadata": {
    "collapsed": true
   },
   "outputs": [],
   "source": [
    "# path to model output\n",
    "# filename = 'model47.rtout'\n",
    "# text_aper = 'model47_sed_w_aperture.txt'\n",
    "filename = '/Users/yaolun/test/model85.rtout'\n",
    "text_aper = '/Users/yaolun/test/model85_sed_w_aperture.txt'"
   ]
  },
  {
   "cell_type": "markdown",
   "metadata": {},
   "source": [
    "## Extract spectro-photometry from infinite-aperture Hyperion output"
   ]
  },
  {
   "cell_type": "markdown",
   "metadata": {},
   "source": [
    "For wavelengths given in In[1], calculate the total flux within the corresponding aperture."
   ]
  },
  {
   "cell_type": "code",
   "execution_count": 4,
   "metadata": {
    "collapsed": false
   },
   "outputs": [],
   "source": [
    "# read in the model output and set up the pixel scale\n",
    "m = ModelOutput(filename)\n",
    "im = m.get_image(group=5, inclination=0, distance=178.*pc, units='MJy/sr')\n",
    "rmax = max(m.get_quantities().r_wall)\n",
    "w = np.degrees(rmax/im.distance)*3600\n",
    "# print w\n",
    "pix_num = len(im.val[:,0,0])\n",
    "pix2arcsec = 2*w/pix_num\n",
    "# convert the flux units into Jy/pix\n",
    "im.val = im.val*1e6/4.25e10*pix2arcsec**2"
   ]
  },
  {
   "cell_type": "code",
   "execution_count": null,
   "metadata": {
    "collapsed": true
   },
   "outputs": [],
   "source": [
    "# read in the model output and set up the pixel scale\n",
    "# m = ModelOutput(filename)\n",
    "# im = m.get_image(group=len(wl_aper)+1, inclination=0, distance=178.*pc, units='Jy')\n",
    "# w = np.degrees((1.5*pc)/im.distance)*60\n",
    "# pix_num = len(im.val[:,0,0])\n",
    "# pix2arcsec = 2*w/pix_num\n",
    "# # convert the flux units into Jy/pix2\n",
    "# im.val = im.val*1e6/4.25e10*pix2arcsec**2"
   ]
  },
  {
   "cell_type": "code",
   "execution_count": 27,
   "metadata": {
    "collapsed": false
   },
   "outputs": [],
   "source": [
    "# set up the aperture for given wavelength\n",
    "aper = np.empty_like(wl_aper)\n",
    "for i in range(0, len(wl_aper)):\n",
    "    if wl_aper[i] <= 20:\n",
    "        aper[i] = 7.2 * wl_aper[i]/10.\n",
    "    elif (wl_aper[i] > 20) & (wl_aper[i] <=50):\n",
    "        aper[i] = 7.2 * 2\n",
    "    else:\n",
    "        aper[i] = 24.5\n",
    "        aper[i] = 31.8\n",
    "\n",
    "# set up resolution averaging window\n",
    "# use a finite spectral resolution\n",
    "res = np.empty_like(wl_aper)\n",
    "for i in range(0, len(wl_aper)):\n",
    "    if (wl_aper[i] < 50.) & (wl_aper[i] >= 5):\n",
    "        res[i] = 600.\n",
    "    elif wl_aper[i] < 5:\n",
    "        res[i] = 10.\n",
    "    else:\n",
    "        res[i] = 1000.\n",
    "\n",
    "# iternate through the wavelengths that aperture extraction performed.\n",
    "# And store the extraced fluxes in variable \"phot\"\n",
    "# The unit is changed to vSv [erg/s/cm2]\n",
    "phot = np.empty_like(wl_aper)\n",
    "for i in range(len(wl_aper)):\n",
    "    apertures = CircularAperture((pix_num/2.-1,pix_num/2.-1), r=aper[i]/pix2arcsec)\n",
    "    wav = wl_aper[i]\n",
    "    iwav = np.argmin(np.abs(wav - im.wav))\n",
    "    if len(np.where((im.wav < wl_aper[i]*(1+1./res[i])) & (im.wav > wl_aper[i]*(1-1./res[i])))[0]) != 0:\n",
    "        im_avg = np.mean(im.val[:,:,(im.wav < wl_aper[i]*(1+1./res[i])) & (im.wav > wl_aper[i]*(1-1./res[i]))],axis=2)\n",
    "    else:\n",
    "        im_avg = im.val[:,:,iwav]\n",
    "    phot_table = ap(im_avg, apertures)\n",
    "#     phot[i] = phot_table['aperture_sum'].data[0]*c/wav*1e4*1e-23 # convert to unit of erg/s/cm2 (vSv)\n",
    "    phot[i] = phot_table['aperture_sum'].data[0] # convert to unit of Jy (Sv)"
   ]
  },
  {
   "cell_type": "code",
   "execution_count": 28,
   "metadata": {
    "collapsed": false
   },
   "outputs": [
    {
     "name": "stdout",
     "output_type": "stream",
     "text": [
      "[200.0, 250.0, 350.0, 500.0]\n",
      "[ 321.82132789  252.57910692  142.92511762   59.20967794]\n"
     ]
    }
   ],
   "source": [
    "print wl_aper\n",
    "print phot"
   ]
  },
  {
   "cell_type": "markdown",
   "metadata": {},
   "source": [
    "## Read in the model output with aperture specified"
   ]
  },
  {
   "cell_type": "code",
   "execution_count": null,
   "metadata": {
    "collapsed": false
   },
   "outputs": [],
   "source": [
    "# get flux at different apertures from different peeled-sed\n",
    "flux_aper = np.empty_like(wl_aper)\n",
    "for i in range(0, len(wl_aper)):\n",
    "    sed_dum = m.get_sed(group=i+1, inclination=0, aperture=-1, distance=178. * pc)\n",
    "    # apply the spectral resolution\n",
    "    if (wl_aper[i] < 50.) & (wl_aper[i] >= 5):\n",
    "        res = 600.\n",
    "    elif wl_aper[i] < 5:\n",
    "        res = 10.\n",
    "    else:\n",
    "        res = 1000.\n",
    "    ind = np.where((sed_dum.wav < wl_aper[i]*(1+1./res)) & (sed_dum.wav > wl_aper[i]*(1-1./res)))\n",
    "    if len(ind[0]) != 0:\n",
    "        flux_aper[i] = np.mean(sed_dum.val[ind])\n",
    "    else:\n",
    "        f = interp1d(sed_dum.wav, sed_dum.val)\n",
    "        flux_aper[i] = f(wl_aper[i])\n",
    "flux_aper = flux_aper"
   ]
  },
  {
   "cell_type": "code",
   "execution_count": null,
   "metadata": {
    "collapsed": false
   },
   "outputs": [],
   "source": [
    "# read in the sed_w_aperture.txt\n",
    "# not really need to read this in\n",
    "# sed_w_aper = ascii.read(text_aper)"
   ]
  },
  {
   "cell_type": "code",
   "execution_count": null,
   "metadata": {
    "collapsed": false
   },
   "outputs": [],
   "source": [
    "fig = plt.figure(figsize=(8,6))\n",
    "ax = fig.add_subplot(111)\n",
    "\n",
    "inf, = ax.plot(np.log10(wl_aper), np.log10(phot), 'b-', linewidth=1.5, label=r'$\\rm{manual\\,extraction}$')\n",
    "# plt.plot(np.log10(sed_w_aper['wave']), np.log10(sed_w_aper['vSv']))\n",
    "sed, = ax.plot(np.log10(wl_aper), np.log10(flux_aper), 'g-', linewidth=1.5, label=r'$\\rm{pre-defined\\,apertures}$')\n",
    "ax.legend(loc='best', fontsize=16)\n",
    "ax.set_xlabel(r'$\\rm{log(\\lambda)\\,[\\mu m]}$', fontsize=20)\n",
    "ax.set_ylabel(r'$\\rm{log(\\nu S_{\\nu})\\,[erg\\,s^{-1} cm\\,^{-2}]}$', fontsize=20)\n",
    "[ax.spines[axis].set_linewidth(1.5) for axis in ['top','bottom','left','right']]\n",
    "ax.minorticks_on() \n",
    "ax.tick_params('both',labelsize=14,width=1,which='major',pad=15,length=5)\n",
    "ax.tick_params('both',labelsize=14,width=1,which='minor',pad=15,length=2.5)"
   ]
  },
  {
   "cell_type": "markdown",
   "metadata": {},
   "source": [
    "## Compare the SED with infinite aperture (Hyperion) vs sum of the image cube"
   ]
  },
  {
   "cell_type": "code",
   "execution_count": null,
   "metadata": {
    "collapsed": false
   },
   "outputs": [],
   "source": [
    "# model output is already read in\n",
    "# sum over the field of view\n",
    "im_avg_1d = np.sum(im.val, axis=(0,1)) * 1e-23 * c/im.wav*1e4\n",
    "# im_avg_1d = np.sum(im.val, axis=(0,1)) * c/im.wav*1e4 *1e-23\n",
    "# read in the SED with the infinite aperture\n",
    "sed_inf = m.get_sed(group=0, inclination=0, aperture=-1, distance=178.0*pc)"
   ]
  },
  {
   "cell_type": "code",
   "execution_count": null,
   "metadata": {
    "collapsed": false
   },
   "outputs": [],
   "source": [
    "fig = plt.figure(figsize=(8,6))\n",
    "ax = fig.add_subplot(111)\n",
    "\n",
    "ax.plot(np.log10(sed_inf.wav), np.log10(sed_inf.val),'g-', linewidth=1.5, label=r'$\\rm{infinite\\,aperture}$')\n",
    "ax.plot(np.log10(im.wav), np.log10(im_avg_1d), 'b--', linewidth=1.5, label=r'$\\rm{summed\\,flux}$')\n",
    "\n",
    "ax.legend(loc='best', fontsize=16)\n",
    "ax.set_xlabel(r'$\\rm{log(\\lambda)\\,[\\mu m]}$', fontsize=20)\n",
    "ax.set_ylabel(r'$\\rm{log(\\nu S_{\\nu})\\,[erg\\,s^{-1} cm\\,^{-2}]}$', fontsize=20)\n",
    "[ax.spines[axis].set_linewidth(1.5) for axis in ['top','bottom','left','right']]\n",
    "ax.minorticks_on() \n",
    "ax.tick_params('both',labelsize=14,width=1,which='major',pad=15,length=5)\n",
    "ax.tick_params('both',labelsize=14,width=1,which='minor',pad=15,length=2.5)"
   ]
  }
 ],
 "metadata": {
  "kernelspec": {
   "display_name": "Python 2",
   "language": "python",
   "name": "python2"
  },
  "language_info": {
   "codemirror_mode": {
    "name": "ipython",
    "version": 2
   },
   "file_extension": ".py",
   "mimetype": "text/x-python",
   "name": "python",
   "nbconvert_exporter": "python",
   "pygments_lexer": "ipython2",
   "version": "2.7.11"
  }
 },
 "nbformat": 4,
 "nbformat_minor": 0
}
