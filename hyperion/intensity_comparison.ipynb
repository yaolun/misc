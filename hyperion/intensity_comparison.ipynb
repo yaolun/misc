{
 "cells": [
  {
   "cell_type": "code",
   "execution_count": 1,
   "metadata": {
    "collapsed": false
   },
   "outputs": [
    {
     "name": "stderr",
     "output_type": "stream",
     "text": [
      "/Users/yaolun/anaconda/lib/python2.7/site-packages/matplotlib/font_manager.py:273: UserWarning: Matplotlib is building the font cache using fc-list. This may take a moment.\n",
      "  warnings.warn('Matplotlib is building the font cache using fc-list. This may take a moment.')\n"
     ]
    }
   ],
   "source": [
    "%matplotlib inline\n",
    "import numpy as np\n",
    "import matplotlib.pyplot as plt\n",
    "from hyperion.model import ModelOutput\n",
    "import astropy.constants as const\n",
    "from photutils import aperture_photometry as ap\n",
    "from photutils import CircularAperture"
   ]
  },
  {
   "cell_type": "code",
   "execution_count": 3,
   "metadata": {
    "collapsed": false
   },
   "outputs": [],
   "source": [
    "pc = const.pc.cgs.value"
   ]
  },
  {
   "cell_type": "markdown",
   "metadata": {},
   "source": [
    "# Inclination angle = 53 deg. with cavity opening angle of 20 deg."
   ]
  },
  {
   "cell_type": "code",
   "execution_count": 5,
   "metadata": {
    "collapsed": false
   },
   "outputs": [],
   "source": [
    "m = ModelOutput('/Volumes/SD-Mac/model77.rtout')\n",
    "image = m.get_image(group=0, inclination=0, distance=200. * pc, units='MJy/sr')"
   ]
  },
  {
   "cell_type": "code",
   "execution_count": 10,
   "metadata": {
    "collapsed": true
   },
   "outputs": [],
   "source": [
    "# The radius of the aperture in arcsec\n",
    "radius = 10\n",
    "aper_size = np.pi*radius**2 / 4.25e10 # in sr\n",
    "# The offset to the center\n",
    "offset = 20"
   ]
  },
  {
   "cell_type": "markdown",
   "metadata": {},
   "source": [
    "### IRAC band (3.6, 4.5, 5.8, 8.0 $\\mu$m)"
   ]
  },
  {
   "cell_type": "code",
   "execution_count": 11,
   "metadata": {
    "collapsed": false
   },
   "outputs": [
    {
     "name": "stdout",
     "output_type": "stream",
     "text": [
      "[ 955.57157128] [ 3198.47443199] [ 3.34718458]\n"
     ]
    }
   ],
   "source": [
    "irac_wl = [3.6, 4.5, 5.8, 8.0]\n",
    "irac_wl = [3.6]\n",
    "# fig = plt.figure(figsize=(8,6))\n",
    "# ax = fig.add_subplot(111)\n",
    "for wl in irac_wl:\n",
    "    iwav = np.argmin(np.abs(wl - image.wav))\n",
    "    # Image in the unit of MJy/sr, change it into erg/s/cm2/Hz/sr\n",
    "    factor = 1e-23*1e6\n",
    "    val = image.val[::-1, :, iwav] * factor + 1e-30\n",
    "    \n",
    "    # Calculate the image width in arcseconds given the distance used above\n",
    "    # get the max radius\n",
    "    rmax = max(m.get_quantities().r_wall)\n",
    "    w = np.degrees(rmax / image.distance) * 3600.\n",
    "    \n",
    "    pos_n = (len(val[0,:])/2.-1,len(val[0,:])/2.-1 + offset*len(val[0,:])/2/w)\n",
    "    pos_s = (len(val[0,:])/2.-1,len(val[0,:])/2.-1 - offset*len(val[0,:])/2/w)\n",
    "    \n",
    "    aper_n = CircularAperture(pos_n, r=radius * len(val[0,:])/2/w )\n",
    "    aper_s = CircularAperture(pos_s, r=radius * len(val[0,:])/2/w )\n",
    "    # multiply the aperture size in sr and convert to Jy\n",
    "    phot_n = ap(val, aper_n)['aperture_sum'].data * aper_size * 1e23\n",
    "    phot_s = ap(val, aper_s)['aperture_sum'].data * aper_size * 1e23\n",
    "    print phot_n, phot_s, phot_s/phot_n"
   ]
  },
  {
   "cell_type": "markdown",
   "metadata": {},
   "source": [
    "# Inclination angle = 84 deg. with cavity opening angle of 15 deg."
   ]
  },
  {
   "cell_type": "code",
   "execution_count": 16,
   "metadata": {
    "collapsed": true
   },
   "outputs": [],
   "source": [
    "m = ModelOutput('/Users/yaolun/bhr71/hyperion/controlled/model2.rtout')\n",
    "image = m.get_image(group=0, inclination=0, distance=200. * pc, units='MJy/sr')"
   ]
  },
  {
   "cell_type": "code",
   "execution_count": 17,
   "metadata": {
    "collapsed": true
   },
   "outputs": [],
   "source": [
    "# The radius of the aperture in arcsec\n",
    "radius = 10\n",
    "aper_size = np.pi*radius**2 / 4.25e10 # in sr\n",
    "# The offset to the center\n",
    "offset = 10"
   ]
  },
  {
   "cell_type": "markdown",
   "metadata": {},
   "source": [
    "### IRAC band (3.6, 4.5, 5.8, 8.0 $\\mu$m)"
   ]
  },
  {
   "cell_type": "code",
   "execution_count": 18,
   "metadata": {
    "collapsed": false
   },
   "outputs": [
    {
     "name": "stdout",
     "output_type": "stream",
     "text": [
      "[ 672.30118254] [ 958.12378779] [ 1.42514071]\n"
     ]
    }
   ],
   "source": [
    "irac_wl = [3.6, 4.5, 5.8, 8.0]\n",
    "irac_wl = [3.6]\n",
    "# fig = plt.figure(figsize=(8,6))\n",
    "# ax = fig.add_subplot(111)\n",
    "for wl in irac_wl:\n",
    "    iwav = np.argmin(np.abs(wl - image.wav))\n",
    "    # Image in the unit of MJy/sr, change it into erg/s/cm2/Hz/sr\n",
    "    factor = 1e-23*1e6\n",
    "    val = image.val[::-1, :, iwav] * factor + 1e-30\n",
    "    \n",
    "    # Calculate the image width in arcseconds given the distance used above\n",
    "    # get the max radius\n",
    "    rmax = max(m.get_quantities().r_wall)\n",
    "    w = np.degrees(rmax / image.distance) * 3600.\n",
    "    \n",
    "    pos_n = (len(val[0,:])/2.-1,len(val[0,:])/2.-1 + offset*len(val[0,:])/2/w)\n",
    "    pos_s = (len(val[0,:])/2.-1,len(val[0,:])/2.-1 - offset*len(val[0,:])/2/w)\n",
    "    \n",
    "    aper_n = CircularAperture(pos_n, r=radius * len(val[0,:])/2/w )\n",
    "    aper_s = CircularAperture(pos_s, r=radius * len(val[0,:])/2/w )\n",
    "    # multiply the aperture size in sr and convert to Jy\n",
    "    phot_n = ap(val, aper_n)['aperture_sum'].data * aper_size * 1e23\n",
    "    phot_s = ap(val, aper_s)['aperture_sum'].data * aper_size * 1e23\n",
    "    print phot_n, phot_s, phot_s/phot_n"
   ]
  },
  {
   "cell_type": "markdown",
   "metadata": {
    "collapsed": true
   },
   "source": [
    "## Spitzer IRAC1 image"
   ]
  },
  {
   "cell_type": "code",
   "execution_count": null,
   "metadata": {
    "collapsed": true
   },
   "outputs": [],
   "source": [
    "# source\n",
    "#   data_file:\t\t/Users/yaolun/bhr71/data/photometry/DC297.7-2.8_COMB_IRAC1_mosaic.fits\n",
    "#   arcsec/pixel:\t1.22334\n",
    "# background\n",
    "#   constant_value:\t0.000000\n",
    "# column units\n",
    "#   area:\t\tarcsec**2\n",
    "#   surf_bri:\t\tcnts/arcsec**2\n",
    "#   surf_err:\t\tcnts/arcsec**2\n",
    "\n",
    "# background-subtracted results\n",
    " reg   net_counts     error   background    berror      area  surf_bri  surf_err\n",
    "---- ------------ --------- ------------ --------- --------- --------- ---------\n",
    "   S     1401.385    37.435        0.000     0.000    309.79     4.524     0.121\n",
    "   N      100.229    10.011        0.000     0.000    311.29     0.322     0.032\n",
    "\n",
    "\n",
    "# source_region(s):\n",
    "# physical;point(641.15757,364.76601);circle(632.99779,364.27833,8.1743409);circle(649.31735,365.2537,8.1743409);line(604.62624,362.58264,676.10592,366.85478)\n",
    "\n",
    "# source_data\n",
    " reg       counts    pixels\n",
    "---- ------------ ---------\n",
    "   S     1401.385       207\n",
    "   N      100.229       208"
   ]
  },
  {
   "cell_type": "code",
   "execution_count": 44,
   "metadata": {
    "collapsed": false
   },
   "outputs": [
    {
     "name": "stdout",
     "output_type": "stream",
     "text": [
      "[ 10.3590137    0.74089104] 13.9818316056\n"
     ]
    }
   ],
   "source": [
    "irac1_data = np.array([1401.385, 100.229]) * 1e6 * aper_size\n",
    "print irac1_data, irac1_data[0]/irac1_data[1]"
   ]
  },
  {
   "cell_type": "markdown",
   "metadata": {
    "collapsed": true
   },
   "source": [
    "## With offseting 10 arcsec from the center"
   ]
  },
  {
   "cell_type": "raw",
   "metadata": {},
   "source": [
    "#   surf_bri:\t\tcnts/arcsec**2\n",
    "#   surf_err:\t\tcnts/arcsec**2\n",
    "\n",
    "# background-subtracted results\n",
    " reg   net_counts     error   background    berror      area  surf_bri  surf_err\n",
    "---- ------------ --------- ------------ --------- --------- --------- ---------\n",
    "   2    15650.630   125.102        0.000     0.000  10000.12     1.565     0.013\n",
    "   4    30978.005   176.006        0.000     0.000   9999.76     3.098     0.018\n",
    "\n",
    "\n",
    "# source_region(s):\n",
    "# physical;box(1860.8592,771.92323,10.749542,0,0);box(1569.313,936.09828,166.66633,166.66633,3.1297334);point(1469.4625,930.63438);box(1368.7788,924.33714,166.66633,166.66633,3.1297334)\n",
    "\n",
    "# source_data\n",
    " reg       counts    pixels\n",
    "---- ------------ ---------\n",
    "   2    15650.630     27778\n",
    "   4    30978.005     27777"
   ]
  },
  {
   "cell_type": "code",
   "execution_count": 13,
   "metadata": {
    "collapsed": false
   },
   "outputs": [
    {
     "name": "stdout",
     "output_type": "stream",
     "text": [
      "1.97934555989\n"
     ]
    }
   ],
   "source": [
    "print 30978.005/15650.630"
   ]
  },
  {
   "cell_type": "markdown",
   "metadata": {},
   "source": [
    "## Irregular aperture"
   ]
  },
  {
   "cell_type": "raw",
   "metadata": {},
   "source": [
    "---- ------------ --------- ------------ --------- --------- --------- ---------\n",
    "   2        5.935     2.436        0.000     0.000      0.36    16.487     6.767\n",
    "   3     8984.047    94.784        0.000     0.000   1151.28     7.803     0.082\n",
    "   6     3179.059    56.383        0.000     0.000   1408.33     2.257     0.040\n",
    "\n",
    "\n",
    "# source_region(s):\n",
    "# physical;box(1860.8592,771.92323,10.749542,0,0);point(1469.4625,930.63438);polygon(1440.2696,946.51265,1462.5,936,1463.3333,917.66667,1439.5304,908.29373,1408.8813,899.93488,1403.7731,908.75811,1396.343,908.75811,1386.591,899.00612,1375.4459,929.19084,1387.0554,940.33596,1400,946,1419.0124,953.69612);polygon(1377.499,1026.8343,1377.501,1026.8343,1377.501,1026.8323,1377.499,1026.8323);polygon(1507.4992,997.66744,1507.5008,997.66744,1507.5008,997.66589,1507.4992,997.66589);polygon(1494.1667,944.33333,1550.9816,946.37291,1568.6281,948.69481,1589.5252,944.51539,1613.3333,944.33333,1613.6729,904.57869,1602.9922,905.50745,1522.6544,913.86629,1512.9024,925.4758,1500.3642,924.08266)\n",
    "\n",
    "# source_data\n",
    " reg       counts    pixels\n",
    "---- ------------ ---------\n",
    "   1        0.000         0\n",
    "   2        5.935         1\n",
    "   3     8984.047      3198\n",
    "   4        0.000         0\n",
    "   5        0.000         0\n",
    "   6     3179.059      3912"
   ]
  },
  {
   "cell_type": "code",
   "execution_count": 14,
   "metadata": {
    "collapsed": false
   },
   "outputs": [
    {
     "name": "stdout",
     "output_type": "stream",
     "text": [
      "2.82600826219\n"
     ]
    }
   ],
   "source": [
    "print 8984.047/3179.059"
   ]
  },
  {
   "cell_type": "markdown",
   "metadata": {
    "collapsed": true
   },
   "source": [
    "# Try to remove point sources in the image"
   ]
  },
  {
   "cell_type": "code",
   "execution_count": 23,
   "metadata": {
    "collapsed": true
   },
   "outputs": [],
   "source": [
    "from astropy.io import fits\n",
    "hdu = fits.open('/Users/yaolun/Desktop/IRAC1_crop.fits')"
   ]
  },
  {
   "cell_type": "code",
   "execution_count": 24,
   "metadata": {
    "collapsed": false
   },
   "outputs": [
    {
     "data": {
      "text/plain": [
       "<matplotlib.image.AxesImage at 0x112305c90>"
      ]
     },
     "execution_count": 24,
     "metadata": {},
     "output_type": "execute_result"
    },
    {
     "data": {
      "image/png": "[encoded data removed]",
      "text/plain": [
       "<matplotlib.figure.Figure at 0x11226a5d0>"
      ]
     },
     "metadata": {},
     "output_type": "display_data"
    }
   ],
   "source": [
    "plt.imshow(np.log10(hdu[0].data), cmap='viridis')"
   ]
  },
  {
   "cell_type": "code",
   "execution_count": 80,
   "metadata": {
    "collapsed": false
   },
   "outputs": [
    {
     "data": {
      "text/plain": [
       "(0, 100)"
      ]
     },
     "execution_count": 80,
     "metadata": {},
     "output_type": "execute_result"
    },
    {
     "data": {
      "image/png": "[encoded data removed]",
      "text/plain": [
       "<matplotlib.figure.Figure at 0x116791450>"
      ]
     },
     "metadata": {},
     "output_type": "display_data"
    }
   ],
   "source": [
    "plt.plot(hdu[0].data[19,:])\n",
    "plt.xlim([0,100])"
   ]
  },
  {
   "cell_type": "code",
   "execution_count": 81,
   "metadata": {
    "collapsed": false
   },
   "outputs": [
    {
     "name": "stdout",
     "output_type": "stream",
     "text": [
      "0.526117 0.41775 0.303302\n"
     ]
    }
   ],
   "source": [
    "im = hdu[0].data\n",
    "import photutils  as phot\n",
    "from astropy.stats import sigma_clipped_stats\n",
    "mean, median, std = sigma_clipped_stats(im, sigma=3.0, iters=5)\n",
    "print mean, median, std\n",
    "daofind = phot.DAOStarFinder(fwhm=20, threshold=20)    \n",
    "sources = daofind(im - median)"
   ]
  },
  {
   "cell_type": "code",
   "execution_count": 82,
   "metadata": {
    "collapsed": false
   },
   "outputs": [
    {
     "name": "stdout",
     "output_type": "stream",
     "text": [
      " id   xcentroid     ycentroid   ...      peak          flux           mag      \n",
      "--- ------------- ------------- ... ------------- ------------- ---------------\n",
      "  1 68.4127948489 19.2474961146 ...   281.9112854 69.3097282266   -4.6019854898\n",
      "  2 134.509957402 71.1653658096 ... 13.3672761917 3.10845764957  -1.23136238701\n",
      "  3 464.808693494 97.8249371422 ... 7.52162265778 1.66369614902 -0.552685028364\n",
      "  4  221.59542686  115.25815024 ... 11.8672533035 2.89938836525  -1.15576597956\n",
      "  5 183.805234247 160.571991649 ... 5.31512451172  1.2836760819 -0.271138623214\n",
      "  6 132.447850914 165.525624255 ... 13.4876499176 4.38541352613  -1.60502637946\n",
      "  7 428.794390155 181.791511418 ... 45.4683570862  9.0349653839  -2.38981623242\n",
      "  8 82.0183515765 189.251062002 ... 10.0352630615 2.62999244397  -1.04988625188\n",
      "  9 49.7238058488 206.851835363 ... 6.74895524979 1.53987834207 -0.468716027005\n",
      " 10 183.420881587 239.301137695 ... 75.4901580811 21.1617043186  -3.31387660481\n",
      " 11 599.203199959  248.30492347 ... 26.8384170532 6.01829244469  -1.94868321858\n",
      " 12 170.169738993 260.746250587 ... 8.00351715088 1.87268490367 -0.681161773778\n",
      " 13 74.1088183963 268.369282306 ... 5.09616518021 1.12130430466 -0.124308723501\n",
      " 14 513.749471708 287.379580775 ... 66.0092926025 15.1753528859  -2.95284699725\n"
     ]
    }
   ],
   "source": [
    "print sources"
   ]
  },
  {
   "cell_type": "code",
   "execution_count": 94,
   "metadata": {
    "collapsed": false
   },
   "outputs": [],
   "source": [
    "psf_guess = phot.psf.IntegratedGaussianPRF(flux=1)\n",
    "psf_guess.flux.fixed = psf_guess.x_0.fixed = psf_guess.y_0.fixed = False\n",
    "psf_guess.x_0.sigma = True\n",
    "fitshape = (50,50)"
   ]
  },
  {
   "cell_type": "code",
   "execution_count": 95,
   "metadata": {
    "collapsed": false
   },
   "outputs": [],
   "source": [
    "from astropy.table import Table\n",
    "intab4 = Table(names=['x_0', 'y_0', 'flux_0'], data=[sources['xcentroid'], sources['ycentroid'], sources['flux']])\n",
    "\n",
    "outtabi = phot.psf.psf_photometry(im, intab4, psf_guess, fitshape, store_fit_info=True)"
   ]
  },
  {
   "cell_type": "code",
   "execution_count": 96,
   "metadata": {
    "collapsed": false
   },
   "outputs": [
    {
     "data": {
      "text/html": [
       "&lt;Table length=14&gt;\n",
       "<table id=\"table4662921552\">\n",
       "<thead><tr><th>x_0</th><th>y_0</th><th>flux_0</th><th>x_fit</th><th>y_fit</th><th>flux_fit</th><th>fit_messages</th></tr></thead>\n",
       "<thead><tr><th></th><th></th><th></th><th></th><th></th><th></th><th></th></tr></thead>\n",
       "<thead><tr><th>float64</th><th>float64</th><th>float64</th><th>float64</th><th>float64</th><th>float32</th><th>str71</th></tr></thead>\n",
       "<tr><td>68.4127948489</td><td>19.2474961146</td><td>69.3097282266</td><td>66.3032315036</td><td>20.6149424782</td><td>3831.98</td><td>Number of calls to function has reached maxfev = 100.</td></tr>\n",
       "<tr><td>134.509957402</td><td>71.1653658096</td><td>3.10845764957</td><td>134.647010865</td><td>69.2921929695</td><td>187.089</td><td>Number of calls to function has reached maxfev = 100.</td></tr>\n",
       "<tr><td>464.808693494</td><td>97.8249371422</td><td>1.66369614902</td><td>464.96689763</td><td>100.568899329</td><td>107.354</td><td>Number of calls to function has reached maxfev = 100.</td></tr>\n",
       "<tr><td>221.59542686</td><td>115.25815024</td><td>2.89938836525</td><td>221.909653449</td><td>112.279160551</td><td>166.509</td><td>Number of calls to function has reached maxfev = 100.</td></tr>\n",
       "<tr><td>183.805234247</td><td>160.571991649</td><td>1.2836760819</td><td>184.602158194</td><td>162.831657958</td><td>77.7913</td><td>Number of calls to function has reached maxfev = 100.</td></tr>\n",
       "<tr><td>132.447850914</td><td>165.525624255</td><td>4.38541352613</td><td>134.921640266</td><td>166.549232961</td><td>189.831</td><td>Number of calls to function has reached maxfev = 100.</td></tr>\n",
       "<tr><td>428.794390155</td><td>181.791511418</td><td>9.0349653839</td><td>433.242106873</td><td>181.867019252</td><td>620.904</td><td>Number of calls to function has reached maxfev = 100.</td></tr>\n",
       "<tr><td>82.0183515765</td><td>189.251062002</td><td>2.62999244397</td><td>79.4177514628</td><td>187.552856364</td><td>141.99</td><td>Number of calls to function has reached maxfev = 100.</td></tr>\n",
       "<tr><td>49.7238058488</td><td>206.851835363</td><td>1.53987834207</td><td>48.1963486046</td><td>206.809460724</td><td>97.207</td><td>Number of calls to function has reached maxfev = 100.</td></tr>\n",
       "<tr><td>183.420881587</td><td>239.301137695</td><td>21.1617043186</td><td>184.680451707</td><td>236.646155913</td><td>1031.4</td><td>Number of calls to function has reached maxfev = 100.</td></tr>\n",
       "<tr><td>599.203199959</td><td>248.30492347</td><td>6.01829244469</td><td>600.042289454</td><td>249.916607751</td><td>368.238</td><td>The relative error between two consecutive iterates is at most 0.000000</td></tr>\n",
       "<tr><td>170.169738993</td><td>260.746250587</td><td>1.87268490367</td><td>172.267885074</td><td>262.104395369</td><td>114.168</td><td>Number of calls to function has reached maxfev = 100.</td></tr>\n",
       "<tr><td>74.1088183963</td><td>268.369282306</td><td>1.12130430466</td><td>73.248554887</td><td>267.456333419</td><td>75.0249</td><td>Number of calls to function has reached maxfev = 100.</td></tr>\n",
       "<tr><td>513.749471708</td><td>287.379580775</td><td>15.1753528859</td><td>512.579892508</td><td>286.450302117</td><td>902.392</td><td>Number of calls to function has reached maxfev = 100.</td></tr>\n",
       "</table>"
      ],
      "text/plain": [
       "<Table length=14>\n",
       "     x_0      ...\n",
       "              ...\n",
       "   float64    ...\n",
       "------------- ...\n",
       "68.4127948489 ...\n",
       "134.509957402 ...\n",
       "464.808693494 ...\n",
       " 221.59542686 ...\n",
       "183.805234247 ...\n",
       "132.447850914 ...\n",
       "428.794390155 ...\n",
       "82.0183515765 ...\n",
       "49.7238058488 ...\n",
       "183.420881587 ...\n",
       "599.203199959 ...\n",
       "170.169738993 ...\n",
       "74.1088183963 ...\n",
       "513.749471708 ..."
      ]
     },
     "execution_count": 96,
     "metadata": {},
     "output_type": "execute_result"
    }
   ],
   "source": [
    "outtabi"
   ]
  },
  {
   "cell_type": "code",
   "execution_count": 97,
   "metadata": {
    "collapsed": false
   },
   "outputs": [],
   "source": [
    "subim = phot.psf.subtract_psf(im, psf_guess, outtabi)"
   ]
  },
  {
   "cell_type": "code",
   "execution_count": 98,
   "metadata": {
    "collapsed": false
   },
   "outputs": [
    {
     "name": "stderr",
     "output_type": "stream",
     "text": [
      "/Users/yaolun/anaconda/lib/python2.7/site-packages/ipykernel/__main__.py:1: RuntimeWarning: invalid value encountered in log10\n",
      "  if __name__ == '__main__':\n"
     ]
    },
    {
     "data": {
      "text/plain": [
       "<matplotlib.image.AxesImage at 0x115f28ed0>"
      ]
     },
     "execution_count": 98,
     "metadata": {},
     "output_type": "execute_result"
    },
    {
     "data": {
      "image/png": "[encoded data removed]",
      "text/plain": [
       "<matplotlib.figure.Figure at 0x115ee8290>"
      ]
     },
     "metadata": {},
     "output_type": "display_data"
    }
   ],
   "source": [
    "plt.imshow(np.log10(subim), cmap='viridis')"
   ]
  },
  {
   "cell_type": "code",
   "execution_count": 19,
   "metadata": {
    "collapsed": true
   },
   "outputs": [],
   "source": [
    "hdu[0].data = subim\n",
    "hdu.writeto('IRAC1_subtracted.fits')"
   ]
  },
  {
   "cell_type": "markdown",
   "metadata": {
    "collapsed": true
   },
   "source": [
    "### ds9 regions extraction"
   ]
  },
  {
   "cell_type": "markdown",
   "metadata": {},
   "source": [
    "polygon shape - all south lobe included"
   ]
  },
  {
   "cell_type": "code",
   "execution_count": 20,
   "metadata": {
    "collapsed": false
   },
   "outputs": [
    {
     "name": "stdout",
     "output_type": "stream",
     "text": [
      "2648.47 / 826.174 =  3.20570485152\n"
     ]
    }
   ],
   "source": [
    "print '2648.47 / 826.174 = ', 2648.47 / 826.174"
   ]
  },
  {
   "cell_type": "markdown",
   "metadata": {},
   "source": [
    "<img src='poly1.jpg'>"
   ]
  },
  {
   "cell_type": "markdown",
   "metadata": {},
   "source": [
    "polygon shape - south lobe offset by 5 arcsec"
   ]
  },
  {
   "cell_type": "code",
   "execution_count": 21,
   "metadata": {
    "collapsed": false
   },
   "outputs": [
    {
     "name": "stdout",
     "output_type": "stream",
     "text": [
      "2086.431 / 826.174 =  2.52541353274\n"
     ]
    }
   ],
   "source": [
    "print '2086.431 / 826.174 = ', 2086.431 / 826.174"
   ]
  },
  {
   "cell_type": "markdown",
   "metadata": {},
   "source": [
    "<img src='poly2.jpg'>"
   ]
  },
  {
   "cell_type": "markdown",
   "metadata": {},
   "source": [
    "bos shape - 50x30, no offset"
   ]
  },
  {
   "cell_type": "code",
   "execution_count": 22,
   "metadata": {
    "collapsed": false
   },
   "outputs": [
    {
     "name": "stdout",
     "output_type": "stream",
     "text": [
      "3078.547 / 634.928 =  4.8486552806\n"
     ]
    }
   ],
   "source": [
    "print '3078.547 / 634.928 = ', 3078.547 / 634.928"
   ]
  },
  {
   "cell_type": "markdown",
   "metadata": {},
   "source": [
    "<img src='box1.jpg'>"
   ]
  },
  {
   "cell_type": "markdown",
   "metadata": {},
   "source": [
    "circle shape - 10\" radius, offset 10\", was the setup before when I measured a ratio of 14"
   ]
  },
  {
   "cell_type": "code",
   "execution_count": 99,
   "metadata": {
    "collapsed": false
   },
   "outputs": [
    {
     "name": "stdout",
     "output_type": "stream",
     "text": [
      "1385.817 / 96.641 =  14.3398454072\n"
     ]
    }
   ],
   "source": [
    "print '1385.817 / 96.641 = ', 1385.817 / 96.641"
   ]
  },
  {
   "cell_type": "markdown",
   "metadata": {},
   "source": [
    "<img src='circle1.jpg'>"
   ]
  },
  {
   "cell_type": "code",
   "execution_count": null,
   "metadata": {
    "collapsed": true
   },
   "outputs": [],
   "source": []
  }
 ],
 "metadata": {
  "kernelspec": {
   "display_name": "Python 2",
   "language": "python",
   "name": "python2"
  },
  "language_info": {
   "codemirror_mode": {
    "name": "ipython",
    "version": 2
   },
   "file_extension": ".py",
   "mimetype": "text/x-python",
   "name": "python",
   "nbconvert_exporter": "python",
   "pygments_lexer": "ipython2",
   "version": "2.7.11"
  }
 },
 "nbformat": 4,
 "nbformat_minor": 0
}
