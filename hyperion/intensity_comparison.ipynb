{
 "cells": [
  {
   "cell_type": "code",
   "execution_count": 3,
   "metadata": {
    "collapsed": true
   },
   "outputs": [],
   "source": [
    "%matplotlib inline\n",
    "import numpy as np\n",
    "import matplotlib.pyplot as plt\n",
    "from hyperion.model import ModelOutput\n",
    "import astropy.constants as const"
   ]
  },
  {
   "cell_type": "code",
   "execution_count": 4,
   "metadata": {
    "collapsed": true
   },
   "outputs": [],
   "source": [
    "pc = const.pc.cgs.value"
   ]
  },
  {
   "cell_type": "code",
   "execution_count": 5,
   "metadata": {
    "collapsed": true
   },
   "outputs": [],
   "source": [
    "m = ModelOutput('/Users/yaolun/test/model67.rtout')\n",
    "image = m.get_image(group=5, inclination=0, distance=178. * pc, units='MJy/sr')"
   ]
  },
  {
   "cell_type": "code",
   "execution_count": 16,
   "metadata": {
    "collapsed": true
   },
   "outputs": [],
   "source": [
    "# The width of the strip for averaging in arcsec\n",
    "width = 10"
   ]
  },
  {
   "cell_type": "markdown",
   "metadata": {},
   "source": [
    "### IRAC band (3.6, 4.5, 5.8, 8.0 $\\mu$m)"
   ]
  },
  {
   "cell_type": "code",
   "execution_count": 17,
   "metadata": {
    "collapsed": false
   },
   "outputs": [
    {
     "data": {
      "image/png": "[encoded data removed]",
      "text/plain": [
       "<matplotlib.figure.Figure at 0x107e1bf50>"
      ]
     },
     "metadata": {},
     "output_type": "display_data"
    }
   ],
   "source": [
    "irac_wl = [3.6, 4.5, 5.8, 8.0]\n",
    "irac_wl = [100]\n",
    "fig = plt.figure(figsize=(8,6))\n",
    "ax = fig.add_subplot(111)\n",
    "for wl in irac_wl:\n",
    "    iwav = np.argmin(np.abs(wl - image.wav))\n",
    "    # Image in the unit of MJy/sr, change it into erg/s/cm2/Hz/sr\n",
    "    factor = 1e-23*1e6\n",
    "    val = image.val[::-1, :, iwav] * factor + 1e-30\n",
    "    \n",
    "    # Calculate the image width in arcseconds given the distance used above\n",
    "    # get the max radius\n",
    "    rmax = max(m.get_quantities().r_wall)\n",
    "    w = np.degrees(rmax / image.distance) * 3600.\n",
    "    \n",
    "    ave_ind = [len(val[0,:])/2 - width/2 / (2*w/len(val[0,:])), len(val[0,:])/2 + width/2 / (2*w/len(val[0,:]))]\n",
    "    round_ind = [np.ceil(ave_ind[0]), np.floor(ave_ind[1])]\n",
    "    frac = [round_ind[0]-ave_ind[0], ave_ind[1]-round_ind[1]]\n",
    "    \n",
    "    total_flux = np.sum(val[:,round_ind[0]:round_ind[1]]) + frac[0]*val[:,round_ind[0]-1] + frac[1]*val[:,round_ind[1]+1]\n",
    "    size = np.arange(-w, w, 2*w/len(total_flux))\n",
    "    ax.plot(size,np.log10(total_flux/max(total_flux)))"
   ]
  },
  {
   "cell_type": "code",
   "execution_count": null,
   "metadata": {
    "collapsed": true
   },
   "outputs": [],
   "source": []
  }
 ],
 "metadata": {
  "kernelspec": {
   "display_name": "Python 2",
   "language": "python",
   "name": "python2"
  },
  "language_info": {
   "codemirror_mode": {
    "name": "ipython",
    "version": 2
   },
   "file_extension": ".py",
   "mimetype": "text/x-python",
   "name": "python",
   "nbconvert_exporter": "python",
   "pygments_lexer": "ipython2",
   "version": "2.7.10"
  }
 },
 "nbformat": 4,
 "nbformat_minor": 0
}
