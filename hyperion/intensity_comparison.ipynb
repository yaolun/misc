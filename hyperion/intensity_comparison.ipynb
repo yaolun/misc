{
 "cells": [
  {
   "cell_type": "code",
   "execution_count": 28,
   "metadata": {
    "collapsed": true
   },
   "outputs": [],
   "source": [
    "%matplotlib inline\n",
    "import numpy as np\n",
    "import matplotlib.pyplot as plt\n",
    "from hyperion.model import ModelOutput\n",
    "import astropy.constants as const\n",
    "from photutils import aperture_photometry as ap\n",
    "from photutils import CircularAperture"
   ]
  },
  {
   "cell_type": "code",
   "execution_count": 19,
   "metadata": {
    "collapsed": true
   },
   "outputs": [],
   "source": [
    "pc = const.pc.cgs.value"
   ]
  },
  {
   "cell_type": "markdown",
   "metadata": {},
   "source": [
    "#Inclination angle = 40 deg. with cavity opening angle of 20 deg."
   ]
  },
  {
   "cell_type": "code",
   "execution_count": 20,
   "metadata": {
    "collapsed": true
   },
   "outputs": [],
   "source": [
    "m = ModelOutput('/Users/yaolun/test/model86.rtout')\n",
    "image = m.get_image(group=5, inclination=0, distance=178. * pc, units='MJy/sr')"
   ]
  },
  {
   "cell_type": "code",
   "execution_count": 35,
   "metadata": {
    "collapsed": true
   },
   "outputs": [],
   "source": [
    "# The radius of the aperture in arcsec\n",
    "radius = 10\n",
    "aper_size = np.pi*radius**2 / 4.25e10 # in sr\n",
    "# The offset to the center\n",
    "offset = 10"
   ]
  },
  {
   "cell_type": "markdown",
   "metadata": {},
   "source": [
    "### IRAC band (3.6, 4.5, 5.8, 8.0 $\\mu$m)"
   ]
  },
  {
   "cell_type": "code",
   "execution_count": 51,
   "metadata": {
    "collapsed": false
   },
   "outputs": [
    {
     "name": "stdout",
     "output_type": "stream",
     "text": [
      "[ 0.49062901] [ 4.52218213] [ 9.21711113]\n"
     ]
    }
   ],
   "source": [
    "irac_wl = [3.6, 4.5, 5.8, 8.0]\n",
    "irac_wl = [3.6]\n",
    "# fig = plt.figure(figsize=(8,6))\n",
    "# ax = fig.add_subplot(111)\n",
    "for wl in irac_wl:\n",
    "    iwav = np.argmin(np.abs(wl - image.wav))\n",
    "    # Image in the unit of MJy/sr, change it into erg/s/cm2/Hz/sr\n",
    "    factor = 1e-23*1e6\n",
    "    val = image.val[::-1, :, iwav] * factor + 1e-30\n",
    "    \n",
    "    # Calculate the image width in arcseconds given the distance used above\n",
    "    # get the max radius\n",
    "    rmax = max(m.get_quantities().r_wall)\n",
    "    w = np.degrees(rmax / image.distance) * 3600.\n",
    "    \n",
    "    pos_n = (len(val[0,:])/2.-1,len(val[0,:])/2.-1 + offset*len(val[0,:])/2/w)\n",
    "    pos_s = (len(val[0,:])/2.-1,len(val[0,:])/2.-1 - offset*len(val[0,:])/2/w)\n",
    "    \n",
    "    aper_n = CircularAperture(pos_n, r=radius * len(val[0,:])/2/w )\n",
    "    aper_s = CircularAperture(pos_s, r=radius * len(val[0,:])/2/w )\n",
    "    # multiply the aperture size in sr and convert to Jy\n",
    "    phot_n = ap(val, aper_n)['aperture_sum'].data * aper_size * 1e23\n",
    "    phot_s = ap(val, aper_s)['aperture_sum'].data * aper_size * 1e23\n",
    "    print phot_n, phot_s, phot_s/phot_n"
   ]
  },
  {
   "cell_type": "markdown",
   "metadata": {},
   "source": [
    "#Inclination angle = 84 deg. with cavity opening angle of 15 deg."
   ]
  },
  {
   "cell_type": "code",
   "execution_count": 55,
   "metadata": {
    "collapsed": true
   },
   "outputs": [],
   "source": [
    "m = ModelOutput('/Users/yaolun/test/model87.rtout')\n",
    "image = m.get_image(group=5, inclination=0, distance=178. * pc, units='MJy/sr')"
   ]
  },
  {
   "cell_type": "code",
   "execution_count": 56,
   "metadata": {
    "collapsed": true
   },
   "outputs": [],
   "source": [
    "# The radius of the aperture in arcsec\n",
    "radius = 10\n",
    "aper_size = np.pi*radius**2 / 4.25e10 # in sr\n",
    "# The offset to the center\n",
    "offset = 10"
   ]
  },
  {
   "cell_type": "markdown",
   "metadata": {},
   "source": [
    "### IRAC band (3.6, 4.5, 5.8, 8.0 $\\mu$m)"
   ]
  },
  {
   "cell_type": "code",
   "execution_count": 57,
   "metadata": {
    "collapsed": false
   },
   "outputs": [
    {
     "name": "stdout",
     "output_type": "stream",
     "text": [
      "[ 0.20569612] [ 0.3197876] [ 1.55466033]\n"
     ]
    }
   ],
   "source": [
    "irac_wl = [3.6, 4.5, 5.8, 8.0]\n",
    "irac_wl = [3.6]\n",
    "# fig = plt.figure(figsize=(8,6))\n",
    "# ax = fig.add_subplot(111)\n",
    "for wl in irac_wl:\n",
    "    iwav = np.argmin(np.abs(wl - image.wav))\n",
    "    # Image in the unit of MJy/sr, change it into erg/s/cm2/Hz/sr\n",
    "    factor = 1e-23*1e6\n",
    "    val = image.val[::-1, :, iwav] * factor + 1e-30\n",
    "    \n",
    "    # Calculate the image width in arcseconds given the distance used above\n",
    "    # get the max radius\n",
    "    rmax = max(m.get_quantities().r_wall)\n",
    "    w = np.degrees(rmax / image.distance) * 3600.\n",
    "    \n",
    "    pos_n = (len(val[0,:])/2.-1,len(val[0,:])/2.-1 + offset*len(val[0,:])/2/w)\n",
    "    pos_s = (len(val[0,:])/2.-1,len(val[0,:])/2.-1 - offset*len(val[0,:])/2/w)\n",
    "    \n",
    "    aper_n = CircularAperture(pos_n, r=radius * len(val[0,:])/2/w )\n",
    "    aper_s = CircularAperture(pos_s, r=radius * len(val[0,:])/2/w )\n",
    "    # multiply the aperture size in sr and convert to Jy\n",
    "    phot_n = ap(val, aper_n)['aperture_sum'].data * aper_size * 1e23\n",
    "    phot_s = ap(val, aper_s)['aperture_sum'].data * aper_size * 1e23\n",
    "    print phot_n, phot_s, phot_s/phot_n"
   ]
  },
  {
   "cell_type": "markdown",
   "metadata": {
    "collapsed": true
   },
   "source": [
    "##Spitzer IRAC1 image"
   ]
  },
  {
   "cell_type": "code",
   "execution_count": null,
   "metadata": {
    "collapsed": true
   },
   "outputs": [],
   "source": [
    "# source\n",
    "#   data_file:\t\t/Users/yaolun/bhr71/data/photometry/DC297.7-2.8_COMB_IRAC1_mosaic.fits\n",
    "#   arcsec/pixel:\t1.22334\n",
    "# background\n",
    "#   constant_value:\t0.000000\n",
    "# column units\n",
    "#   area:\t\tarcsec**2\n",
    "#   surf_bri:\t\tcnts/arcsec**2\n",
    "#   surf_err:\t\tcnts/arcsec**2\n",
    "\n",
    "# background-subtracted results\n",
    " reg   net_counts     error   background    berror      area  surf_bri  surf_err\n",
    "---- ------------ --------- ------------ --------- --------- --------- ---------\n",
    "   S     1401.385    37.435        0.000     0.000    309.79     4.524     0.121\n",
    "   N      100.229    10.011        0.000     0.000    311.29     0.322     0.032\n",
    "\n",
    "\n",
    "# source_region(s):\n",
    "# physical;point(641.15757,364.76601);circle(632.99779,364.27833,8.1743409);circle(649.31735,365.2537,8.1743409);line(604.62624,362.58264,676.10592,366.85478)\n",
    "\n",
    "# source_data\n",
    " reg       counts    pixels\n",
    "---- ------------ ---------\n",
    "   S     1401.385       207\n",
    "   N      100.229       208"
   ]
  },
  {
   "cell_type": "code",
   "execution_count": 44,
   "metadata": {
    "collapsed": false
   },
   "outputs": [
    {
     "name": "stdout",
     "output_type": "stream",
     "text": [
      "[ 10.3590137    0.74089104] 13.9818316056\n"
     ]
    }
   ],
   "source": [
    "irac1_data = np.array([1401.385, 100.229]) * 1e6 * aper_size\n",
    "print irac1_data, irac1_data[0]/irac1_data[1]"
   ]
  },
  {
   "cell_type": "code",
   "execution_count": null,
   "metadata": {
    "collapsed": true
   },
   "outputs": [],
   "source": []
  }
 ],
 "metadata": {
  "kernelspec": {
   "display_name": "Python 2",
   "language": "python",
   "name": "python2"
  },
  "language_info": {
   "codemirror_mode": {
    "name": "ipython",
    "version": 2
   },
   "file_extension": ".py",
   "mimetype": "text/x-python",
   "name": "python",
   "nbconvert_exporter": "python",
   "pygments_lexer": "ipython2",
   "version": "2.7.10"
  }
 },
 "nbformat": 4,
 "nbformat_minor": 0
}
