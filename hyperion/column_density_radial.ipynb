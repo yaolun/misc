{
 "metadata": {
  "name": "",
  "signature": "sha256:b0e8e79bb702d9fbba91bbe8c538d27fc266ef5a1331c05f0e78e61e291f01fc"
 },
 "nbformat": 3,
 "nbformat_minor": 0,
 "worksheets": [
  {
   "cells": [
    {
     "cell_type": "code",
     "collapsed": false,
     "input": [
      "filename = '/Users/yaolun/test/model12.rtout'\n",
      "wl_aper = [3.6, 4.5, 5.8, 8.0, 8.5, 9, 9.7, 10, 10.5, 11, 16, 20, 24, 35, 70, 100, 160, 250, 350, 500, 850]"
     ],
     "language": "python",
     "metadata": {},
     "outputs": []
    },
    {
     "cell_type": "code",
     "collapsed": false,
     "input": [
      "%matplotlib inline"
     ],
     "language": "python",
     "metadata": {},
     "outputs": [],
     "prompt_number": 1
    },
    {
     "cell_type": "code",
     "collapsed": false,
     "input": [
      "import numpy as np\n",
      "import matplotlib.pyplot as plt\n",
      "import astropy.constants as const\n",
      "from hyperion.model import ModelOutput\n",
      "# constants setup\n",
      "c = const.c.cgs.value\n",
      "pc = const.pc.cgs.value\n",
      "au = const.au.cgs.value"
     ],
     "language": "python",
     "metadata": {},
     "outputs": [],
     "prompt_number": 2
    },
    {
     "cell_type": "code",
     "collapsed": false,
     "input": [
      "m = ModelOutput(filename)\n",
      "image = m.get_image(group=len(wl_aper)+1, inclination=0, distance=178.0*pc, units='MJy/sr')\n",
      "# Calculate the image width in arcseconds given the distance used above\n",
      "w = np.degrees((1.5 * pc) / image.distance) * 60.\n",
      "wav = c/345e9*1e4\n",
      "iwav = np.argmin(np.abs(wav - image.wav))\n",
      "# Image in the unit of MJy/sr\n",
      "# Change it into erg/s/cm2/Hz/sr\n",
      "factor = 1e-23*1e6\n",
      "# avoid zero in log\n",
      "val = image.val[:, :, iwav] * factor + 1e-30"
     ],
     "language": "python",
     "metadata": {},
     "outputs": []
    }
   ],
   "metadata": {}
  }
 ]
}