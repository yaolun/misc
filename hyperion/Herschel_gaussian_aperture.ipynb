{
 "cells": [
  {
   "cell_type": "code",
   "execution_count": 207,
   "metadata": {
    "collapsed": true
   },
   "outputs": [],
   "source": [
    "%matplotlib inline\n",
    "import numpy as np\n",
    "import matplotlib.pyplot as plt\n",
    "import astropy.constants as const\n",
    "from astropy.io import fits\n",
    "from astropy import wcs\n",
    "from astropy.coordinates import SkyCoord\n",
    "from astropy import units as u\n",
    "c = SkyCoord('12 01 36.81 -65 08 49.22', unit=(u.hourangle, u.deg))"
   ]
  },
  {
   "cell_type": "code",
   "execution_count": 208,
   "metadata": {
    "collapsed": true
   },
   "outputs": [],
   "source": [
    "def gaussian_psf_extraction(image, pix2arcsec, beam_size, pos):\n",
    "    import photutils as phot\n",
    "    \n",
    "    # Gaussian sigma in pixel unit\n",
    "    psf = phot.psf.GaussianPSF(beam_size/pix2arcsec)\n",
    "    flux_gaussian = phot.psf.psf_photometry(image, [pos], psf)\n",
    "    \n",
    "    return flux_gaussian"
   ]
  },
  {
   "cell_type": "code",
   "execution_count": 209,
   "metadata": {
    "collapsed": false
   },
   "outputs": [],
   "source": [
    "def Gaussian_extraction(position, radius, image, plate_scale, norm=True):\n",
    "    # radius in arcsec\n",
    "    # size is an array with the same size of the image array.  Or the image array will do the trick\n",
    "    # plate scale is how many arcsec of a single pixel\n",
    "    # position is the pixel coordinates where the 2D Gaussian should center on\n",
    "    \n",
    "    # Create a 2-D cartian grid for mapping 2-D Gaussian\n",
    "    def gauss2d(x, y, sigmax, sigmay=None, norm=True):\n",
    "        # sigmax needs to be in pixel coordinates\n",
    "        if sigmay == None:\n",
    "            sigmay = sigmax\n",
    "        if norm:\n",
    "            gauss = 1/(2*np.pi*sigmax*sigmay) * np.exp( -(x**2/2./sigmax**2 + y**2/2./sigmay**2) )\n",
    "        else:\n",
    "            gauss = np.exp( -(x**2/2./sigmax**2 + y**2/2./sigmay**2) )\n",
    "        return gauss\n",
    "    \n",
    "    size_x, size_y = np.shape(image)\n",
    "    grid_x, grid_y = np.meshgrid(np.linspace(0,size_x-1,size_x), np.linspace(0,size_y-1,size_y))\n",
    "    grid_x_cen = grid_x - (size_x-1)/2.\n",
    "    grid_y_cen = grid_y - (size_y-1)/2.\n",
    "\n",
    "    grid_gauss2d = gauss2d(grid_x_cen, grid_y_cen, sigmax=radius/plate_scale, norm=norm)\n",
    "    \n",
    "    return grid_gauss2d"
   ]
  },
  {
   "cell_type": "code",
   "execution_count": 210,
   "metadata": {
    "collapsed": true
   },
   "outputs": [],
   "source": [
    "# path to files\n",
    "spire500 = '/Users/yaolun/bhr71/data/photometry/herschel_photometry/1342226633/level2/extdPLW/hspireplw1342226633_20pxmp_1431669349619.fits'\n",
    "spire350 = '/Users/yaolun/bhr71/data/photometry/herschel_photometry/1342226633/level2/extdPMW/hspirepmw1342226633_20pxmp_1431669350070.fits'\n",
    "spire250 = '/Users/yaolun/bhr71/data/photometry/herschel_photometry/1342226633/level2/extdPSW/hspirepsw1342226633_20pxmp_1431669350548.fits'"
   ]
  },
  {
   "cell_type": "code",
   "execution_count": 211,
   "metadata": {
    "collapsed": true
   },
   "outputs": [],
   "source": [
    "data = fits.open('/Users/yaolun/bhr71/data/photometry/herschel_photometry/1342224922/browseProduct/blue_JScanam_map/hpacs_25HPPJSMAPB_blue_1202_m6509_00_v1.0_1434550765178.fits')"
   ]
  },
  {
   "cell_type": "markdown",
   "metadata": {},
   "source": [
    "## Get the pixel coordinates of the source from the physical coordinates"
   ]
  },
  {
   "cell_type": "code",
   "execution_count": 212,
   "metadata": {
    "collapsed": false
   },
   "outputs": [],
   "source": [
    "w = wcs.WCS(data[1].header)\n",
    "data_pixcoord = w.wcs_world2pix(np.array([[c.ra.degree, c.dec.degree]]),1)[0]"
   ]
  },
  {
   "cell_type": "code",
   "execution_count": 213,
   "metadata": {
    "collapsed": false
   },
   "outputs": [],
   "source": [
    "import photutils as phot\n",
    "psf = phot.psf.GaussianPSF(13.5/pix2arcsec)"
   ]
  },
  {
   "cell_type": "markdown",
   "metadata": {},
   "source": [
    "## Get the pixel to physical conversion factor"
   ]
  },
  {
   "cell_type": "code",
   "execution_count": 214,
   "metadata": {
    "collapsed": false
   },
   "outputs": [],
   "source": [
    "cdelt1 = data[1].header['CDELT1']\n",
    "cdelt2 = data[1].header['CDELT2']\n",
    "if abs(cdelt1) != abs(cdelt2):\n",
    "    print 'pixel scales are different in two axis. %f and %f' % (cdelt1, cdelt2)\n",
    "pix2arcsec = abs(cdelt1)*3600"
   ]
  },
  {
   "cell_type": "code",
<<<<<<< HEAD
   "execution_count": 119,
=======
   "execution_count": 215,
>>>>>>> 12ac2bc3a574dbff3643f450123c44dedca553ef
   "metadata": {
    "collapsed": false
   },
   "outputs": [
    {
     "name": "stdout",
     "output_type": "stream",
     "text": [
<<<<<<< HEAD
      "6392.01270859\n",
      "nan\n"
=======
      "108.023896801\n"
>>>>>>> 12ac2bc3a574dbff3643f450123c44dedca553ef
     ]
    }
   ],
   "source": [
    "im = data[1].data\n",
    "print np.nansum(im)*3.6/4250\n",
    "gauss2d_masked = Gaussian_extraction(data_pixcoord, 13.5, im, pix2arcsec, norm=False)\n",
    "im_extracted = im * gauss2d_masked.T\n",
    "print np.sum(im_extracted)"
   ]
  },
  {
   "cell_type": "code",
   "execution_count": 220,
   "metadata": {
    "collapsed": true
   },
   "outputs": [],
   "source": [
    "def Gaussian_spire_extraction(filename, gauss_width, source_coord, spire=False):\n",
    "    import numpy as np\n",
    "    import matplotlib.pyplot as plt\n",
    "    import astropy.constants as const\n",
    "    from astropy.io import fits\n",
    "    from astropy import wcs\n",
    "    from astropy import units as u\n",
    "    \n",
    "    data = fits.open(filename)        \n",
    "    w = wcs.WCS(data[1].header)\n",
    "    data_pixcoord = w.wcs_world2pix(np.array([[source_coord.ra.degree, source_coord.dec.degree]]),1)[0]\n",
    "    print data_pixcoord\n",
    "    \n",
    "    # Get the pixel to physical conversion factor\n",
    "    cdelt1 = data[1].header['CDELT1']\n",
    "    cdelt2 = data[1].header['CDELT2']\n",
    "    if abs(cdelt1) != abs(cdelt2):\n",
    "        print 'pixel scales are different in two axis. %f and %f' % (cdelt1, cdelt2)\n",
    "    pix2arcsec = abs(cdelt1)*3600\n",
    "    print pix2arcsec\n",
    "    \n",
    "    im = data[1].data\n",
    "    \n",
    "    if spire:\n",
    "        # unit is MJy/sr. Convert it to Jy/pixel\n",
    "        factor = (u.MJy / u.sr * (pix2arcsec * u.arcsec) ** 2 / u.pixel).to(u.Jy / u.pixel)\n",
    "        im *= factor.value\n",
    "    \n",
    "    gauss2d_masked = Gaussian_extraction(data_pixcoord, gauss_width, im, pix2arcsec, norm=False)\n",
    "    print gauss2d_masked.max()\n",
    "    im_extracted = im * gauss2d_masked.T\n",
    "    \n",
    "    return im_extracted"
   ]
  },
  {
   "cell_type": "code",
<<<<<<< HEAD
   "execution_count": 123,
=======
   "execution_count": 221,
>>>>>>> 12ac2bc3a574dbff3643f450123c44dedca553ef
   "metadata": {
    "collapsed": false
   },
   "outputs": [
    {
     "name": "stdout",
     "output_type": "stream",
     "text": [
<<<<<<< HEAD
      "180.403375 -65.1470055556\n",
      "0.970568307629\n",
      "47.3155192295\n"
=======
      "[ 79.24786276  74.42173707]\n",
      "14.0\n",
      "0.764249131938\n",
      "8.31860422414\n"
>>>>>>> 12ac2bc3a574dbff3643f450123c44dedca553ef
     ]
    }
   ],
   "source": [
    "from astropy.coordinates import SkyCoord\n",
    "c = SkyCoord('12 01 36.81 -65 08 49.22', unit=(u.hourangle, u.deg))\n",
    "print c.ra.degree, c.dec.degree\n",
    "flux500 = Gaussian_spire_extraction(spire500, 40.5, c, spire=True)\n",
    "print np.nansum(flux500)"
   ]
  },
  {
   "cell_type": "code",
<<<<<<< HEAD
   "execution_count": 128,
=======
   "execution_count": 230,
>>>>>>> 12ac2bc3a574dbff3643f450123c44dedca553ef
   "metadata": {
    "collapsed": false
   },
   "outputs": [
    {
     "name": "stdout",
     "output_type": "stream",
     "text": [
<<<<<<< HEAD
      " aperture_sum  xcenter [1]   ycenter [1] \n",
      "                                         \n",
      "------------- ------------- -------------\n",
      "57.6585195244 178.684952869 180.631995397\n"
=======
      "aperture_sum xcenter [1] ycenter [1]\n",
      "                                    \n",
      "------------ ----------- -----------\n",
      "         0.0 79.24786276 74.42173707\n"
>>>>>>> 12ac2bc3a574dbff3643f450123c44dedca553ef
     ]
    }
   ],
   "source": [
<<<<<<< HEAD
    "aperture = phot.CircularAperture((data_pixcoord[0], data_pixcoord[1]), r=64/pix2arcsec)\n",
    "factor = (u.MJy / u.sr * (pix2arcsec * u.arcsec) ** 2 / u.pixel).to(u.Jy / u.pixel)\n",
    "phot_table = phot.aperture_photometry(data[1].data*factor.value, aperture)\n",
=======
    "apertures = phot.CircularAperture((79.24786276,74.42173707), r=12.25/14.)\n",
    "phot_table = phot.aperture_photometry(data[1].data, apertures)\n",
>>>>>>> 12ac2bc3a574dbff3643f450123c44dedca553ef
    "print phot_table"
   ]
  },
  {
   "cell_type": "code",
   "execution_count": null,
   "metadata": {
    "collapsed": true
   },
   "outputs": [],
   "source": []
  }
 ],
 "metadata": {
  "kernelspec": {
   "display_name": "Python 2",
   "language": "python",
   "name": "python2"
  },
  "language_info": {
   "codemirror_mode": {
    "name": "ipython",
    "version": 2
   },
   "file_extension": ".py",
   "mimetype": "text/x-python",
   "name": "python",
   "nbconvert_exporter": "python",
   "pygments_lexer": "ipython2",
   "version": "2.7.11"
  }
 },
 "nbformat": 4,
 "nbformat_minor": 0
}
