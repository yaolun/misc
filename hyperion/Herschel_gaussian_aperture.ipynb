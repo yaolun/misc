{
 "cells": [
  {
   "cell_type": "code",
   "execution_count": 4,
   "metadata": {
    "collapsed": true
   },
   "outputs": [],
   "source": [
    "%matplotlib inline\n",
    "import numpy as np\n",
    "import matplotlib.pyplot as plt\n",
    "import astropy.constants as const\n",
    "from astropy.io import fits\n",
    "from astropy import wcs\n",
    "from astropy.coordinates import SkyCoord\n",
    "from astropy import units as u\n",
    "c = SkyCoord('12 01 36.81 -65 08 49.22', unit=(u.hourangle, u.deg))"
   ]
  },
  {
   "cell_type": "code",
   "execution_count": 104,
   "metadata": {
    "collapsed": true
   },
   "outputs": [],
   "source": [
    "def gaussian_psf_extraction(image, pix2arcsec, beam_size, pos):\n",
    "    import photutils as phot\n",
    "    \n",
    "    # Gaussian sigma in pixel unit\n",
    "    psf = phot.psf.GaussianPSF(beam_size/pix2arcsec)\n",
    "    flux_gaussian = phot.psf.psf_photometry(image, [pos], psf)\n",
    "    \n",
    "    return flux_gaussian"
   ]
  },
  {
   "cell_type": "code",
   "execution_count": 105,
   "metadata": {
    "collapsed": true
   },
   "outputs": [],
   "source": [
    "data = fits.open('/Users/yaolun/bhr71/data/photometry/herschel_photometry/1342224922/browseProduct/blue_JScanam_map/hpacs_25HPPJSMAPB_blue_1202_m6509_00_v1.0_1434550765178.fits')"
   ]
  },
  {
   "cell_type": "markdown",
   "metadata": {},
   "source": [
    "## Get the pixel coordinates of the source from the physical coordinates"
   ]
  },
  {
   "cell_type": "code",
   "execution_count": 106,
   "metadata": {
    "collapsed": false
   },
   "outputs": [],
   "source": [
    "w = wcs.WCS(data[1].header)\n",
    "data_pixcoord = w.wcs_world2pix(np.array([[c.ra.degree, c.dec.degree]]),1)[0]"
   ]
  },
  {
   "cell_type": "code",
   "execution_count": 107,
   "metadata": {
    "collapsed": false
   },
   "outputs": [],
   "source": [
    "import photutils as phot\n",
    "psf = phot.psf.GaussianPSF(13.5/pix2arcsec)"
   ]
  },
  {
   "cell_type": "markdown",
   "metadata": {},
   "source": [
    "## Get the pixel to physical conversion factor"
   ]
  },
  {
   "cell_type": "code",
   "execution_count": 108,
   "metadata": {
    "collapsed": false
   },
   "outputs": [],
   "source": [
    "cdelt1 = data[1].header['CDELT1']\n",
    "cdelt2 = data[1].header['CDELT2']\n",
    "if abs(cdelt1) != abs(cdelt2):\n",
    "    print 'pixel scales are different in two axis. %f and %f' % (cdelt1, cdelt2)\n",
    "pix2arcsec = abs(cdelt1)*3600"
   ]
  },
  {
   "cell_type": "code",
   "execution_count": 109,
   "metadata": {
    "collapsed": false
   },
   "outputs": [],
   "source": [
    "flux = gaussian_psf_extraction(data[1].data, pix2arcsec, 13.5, data_pixcoord)"
   ]
  },
  {
   "cell_type": "code",
   "execution_count": 110,
   "metadata": {
    "collapsed": false
   },
   "outputs": [
    {
     "name": "stdout",
     "output_type": "stream",
     "text": [
      "[ 0.4925131]\n"
     ]
    }
   ],
   "source": [
    "print flux"
   ]
  },
  {
   "cell_type": "code",
   "execution_count": 111,
   "metadata": {
    "collapsed": false
   },
   "outputs": [],
   "source": [
    "sample = np.empty_like(data[1].data) + 1\n",
    "flux_sample = gaussian_psf_extraction(sample, pix2arcsec, 13.5, data_pixcoord)"
   ]
  },
  {
   "cell_type": "code",
   "execution_count": 112,
   "metadata": {
    "collapsed": false
   },
   "outputs": [
    {
     "name": "stdout",
     "output_type": "stream",
     "text": [
      "[ 1.99648593]\n"
     ]
    }
   ],
   "source": [
    "print flux_sample"
   ]
  },
  {
   "cell_type": "code",
   "execution_count": 83,
   "metadata": {
    "collapsed": false
   },
   "outputs": [
    {
     "data": {
      "text/plain": [
       "171.74018812771922"
      ]
     },
     "execution_count": 83,
     "metadata": {},
     "output_type": "execute_result"
    }
   ],
   "source": [
    "def Gaussian_anywhere(ra_offset, dec_offset, radius, size=701., phys_size=70.):\n",
    "    # Create a 2-D cartian grid for mapping 2-D Gaussian\n",
    "    def gauss2d(x, y, sigmax, sigmay=None):\n",
    "        # sigmax needs to be in pixel coordinates\n",
    "        if sigmay == None:\n",
    "            sigmay = sigmax\n",
    "        return 1/(2*np.pi*sigmax*sigmay) * np.exp( -(x**2/2./sigmax**2 + y**2/2./sigmay**2) )\n",
    "    \n",
    "    grid_x, grid_y = np.meshgrid(np.linspace(0,size-1,size), np.linspace(0,size-1,size))\n",
    "    grid_x = grid_x - (size-1)/2.\n",
    "    grid_y = grid_y - (size-1)/2.\n",
    "    grid_gauss2d = gauss2d(grid_x,grid_y, sigmax=(size-1)/phys_size*13.5)\n",
    "    dA = ((1/((size-1)/2.))*phys_size)**2\n",
    "\n",
    "    # convert from physcial coordinates to pixel coordinates\n",
    "    x = (ra_offset-phys_size/2.) * (size-1)/2./(phys_size/2.) + (size-1)/2.\n",
    "    y = (dec_offset-phys_size/2.) * (size-1)/2./(phys_size/2.) + (size-1)/2.\n",
    "    r_pix = radius * (size-1)/phys_size\n",
    "    grid_dist = ((grid_x-x)**2+(grid_y-y)**2)**0.5\n",
    "    gauss2d_mask = np.where(grid_dist<=r_pix, grid_gauss2d,0)\n",
    "    \n",
    "    return np.sum(gauss2d_mask)/grid_gauss2d.max()\n",
    "Gaussian_anywhere(0,0,13.5, size=364., phys_size=582.4)"
   ]
  },
  {
   "cell_type": "code",
   "execution_count": 29,
   "metadata": {
    "collapsed": false
   },
   "outputs": [
    {
     "name": "stdout",
     "output_type": "stream",
     "text": [
      " aperture_sum  xcenter [1]   ycenter [1] \n",
      "                                         \n",
      "------------- ------------- -------------\n",
      "124.373388553 178.684952869 180.631995397\n"
     ]
    }
   ],
   "source": [
    "import photutils as phot\n",
    "aperture = phot.CircularAperture(data_pixcoord, r=12.25)\n",
    "phot_table = phot.aperture_photometry(data[1].data, aperture)\n",
    "print phot_table"
   ]
  },
  {
   "cell_type": "code",
   "execution_count": null,
   "metadata": {
    "collapsed": true
   },
   "outputs": [],
   "source": []
  }
 ],
 "metadata": {
  "kernelspec": {
   "display_name": "Python 2",
   "language": "python",
   "name": "python2"
  },
  "language_info": {
   "codemirror_mode": {
    "name": "ipython",
    "version": 2
   },
   "file_extension": ".py",
   "mimetype": "text/x-python",
   "name": "python",
   "nbconvert_exporter": "python",
   "pygments_lexer": "ipython2",
   "version": "2.7.11"
  }
 },
 "nbformat": 4,
 "nbformat_minor": 0
}
