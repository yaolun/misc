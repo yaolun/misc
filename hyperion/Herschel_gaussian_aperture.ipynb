{
 "cells": [
  {
   "cell_type": "code",
   "execution_count": 10,
   "metadata": {
    "collapsed": false
   },
   "outputs": [],
   "source": [
    "%matplotlib inline\n",
    "import numpy as np\n",
    "import matplotlib.pyplot as plt\n",
    "import astropy.constants as const\n",
    "from astropy.io import fits\n",
    "from astropy import wcs\n",
    "from astropy.coordinates import SkyCoord\n",
    "from astropy import units as u\n",
    "import photutils as phot\n",
    "c = SkyCoord('12 01 36.81 -65 08 49.22', unit=(u.hourangle, u.deg))"
   ]
  },
  {
   "cell_type": "code",
   "execution_count": 208,
   "metadata": {
    "collapsed": true
   },
   "outputs": [],
   "source": [
    "def gaussian_psf_extraction(image, pix2arcsec, beam_size, pos):\n",
    "    import photutils as phot\n",
    "    \n",
    "    # Gaussian sigma in pixel unit\n",
    "    psf = phot.psf.GaussianPSF(beam_size/pix2arcsec)\n",
    "    flux_gaussian = phot.psf.psf_photometry(image, [pos], psf)\n",
    "    \n",
    "    return flux_gaussian"
   ]
  },
  {
   "cell_type": "code",
   "execution_count": 209,
   "metadata": {
    "collapsed": false
   },
   "outputs": [],
   "source": [
    "def Gaussian_extraction(position, radius, image, plate_scale, norm=True):\n",
    "    # radius in arcsec\n",
    "    # size is an array with the same size of the image array.  Or the image array will do the trick\n",
    "    # plate scale is how many arcsec of a single pixel\n",
    "    # position is the pixel coordinates where the 2D Gaussian should center on\n",
    "    \n",
    "    # Create a 2-D cartian grid for mapping 2-D Gaussian\n",
    "    def gauss2d(x, y, sigmax, sigmay=None, norm=True):\n",
    "        # sigmax needs to be in pixel coordinates\n",
    "        if sigmay == None:\n",
    "            sigmay = sigmax\n",
    "        if norm:\n",
    "            gauss = 1/(2*np.pi*sigmax*sigmay) * np.exp( -(x**2/2./sigmax**2 + y**2/2./sigmay**2) )\n",
    "        else:\n",
    "            gauss = np.exp( -(x**2/2./sigmax**2 + y**2/2./sigmay**2) )\n",
    "        return gauss\n",
    "    \n",
    "    size_x, size_y = np.shape(image)\n",
    "    grid_x, grid_y = np.meshgrid(np.linspace(0,size_x-1,size_x), np.linspace(0,size_y-1,size_y))\n",
    "    grid_x_cen = grid_x - (size_x-1)/2.\n",
    "    grid_y_cen = grid_y - (size_y-1)/2.\n",
    "\n",
    "    grid_gauss2d = gauss2d(grid_x_cen, grid_y_cen, sigmax=radius/plate_scale, norm=norm)\n",
    "    \n",
    "    return grid_gauss2d"
   ]
  },
  {
   "cell_type": "code",
   "execution_count": 1,
   "metadata": {
    "collapsed": true
   },
   "outputs": [],
   "source": [
    "# path to files\n",
    "pacs70 = '/Users/yaolun/bhr71/data/photometry/herschel_photometry/1342224922/level2/HPPPMAPB/hpacs1342224922_20hpppmapb_00_1431606963402.fits'\n",
    "pacs100 = '/Users/yaolun/bhr71/data/photometry/herschel_photometry/1342224923/level2/HPPPMAPB/hpacs1342224923_20hpppmapb_00_1431608216039.fits'\n",
    "pacs160 = '/Users/yaolun/bhr71/data/photometry/herschel_photometry/1342224923/level2/HPPPMAPR/hpacs1342224923_20hpppmapr_00_1431608216611.fits'\n",
    "spire500 = '/Users/yaolun/bhr71/data/photometry/herschel_photometry/1342226633/level2/extdPLW/hspireplw1342226633_20pxmp_1431669349619.fits'\n",
    "spire350 = '/Users/yaolun/bhr71/data/photometry/herschel_photometry/1342226633/level2/extdPMW/hspirepmw1342226633_20pxmp_1431669350070.fits'\n",
    "spire250 = '/Users/yaolun/bhr71/data/photometry/herschel_photometry/1342226633/level2/extdPSW/hspirepsw1342226633_20pxmp_1431669350548.fits'"
   ]
  },
  {
   "cell_type": "code",
   "execution_count": 27,
   "metadata": {
    "collapsed": false
   },
   "outputs": [],
   "source": [
    "data = fits.open(pacs160)"
   ]
  },
  {
   "cell_type": "code",
   "execution_count": 211,
   "metadata": {
    "collapsed": true
   },
   "outputs": [],
   "source": [
    "data = fits.open('/Users/yaolun/bhr71/data/photometry/herschel_photometry/1342224922/browseProduct/blue_JScanam_map/hpacs_25HPPJSMAPB_blue_1202_m6509_00_v1.0_1434550765178.fits')"
   ]
  },
  {
   "cell_type": "markdown",
   "metadata": {},
   "source": [
    "## Get the pixel coordinates of the source from the physical coordinates"
   ]
  },
  {
   "cell_type": "code",
   "execution_count": 28,
   "metadata": {
    "collapsed": false
   },
   "outputs": [],
   "source": [
    "from astropy.coordinates import SkyCoord\n",
    "c = SkyCoord('12 01 36.81 -65 08 49.22', unit=(u.hourangle, u.deg))\n",
    "w = wcs.WCS(data[1].header)\n",
    "data_pixcoord = w.wcs_world2pix(np.array([[c.ra.degree, c.dec.degree]]),1)[0]"
   ]
  },
  {
   "cell_type": "code",
   "execution_count": 213,
   "metadata": {
    "collapsed": false
   },
   "outputs": [],
   "source": [
    "import photutils as phot\n",
    "psf = phot.psf.GaussianPSF(13.5/pix2arcsec)"
   ]
  },
  {
   "cell_type": "markdown",
   "metadata": {},
   "source": [
    "## Get the pixel to physical conversion factor"
   ]
  },
  {
   "cell_type": "code",
   "execution_count": 29,
   "metadata": {
    "collapsed": false
   },
   "outputs": [
    {
     "name": "stdout",
     "output_type": "stream",
     "text": [
      "pixel scales are different in two axis. -0.000889 and 0.000889\n"
     ]
    }
   ],
   "source": [
    "cdelt1 = data[1].header['CDELT1']\n",
    "cdelt2 = data[1].header['CDELT2']\n",
    "if abs(cdelt1) != abs(cdelt2):\n",
    "    print 'pixel scales are different in two axis. %f and %f' % (cdelt1, cdelt2)\n",
    "pix2arcsec = abs(cdelt1)*3600"
   ]
  },
  {
   "cell_type": "code",
   "execution_count": 7,
   "metadata": {
    "collapsed": false
   },
   "outputs": [
    {
     "name": "stdout",
     "output_type": "stream",
     "text": [
      "0.112582232335\n"
     ]
    },
    {
     "ename": "NameError",
     "evalue": "name 'Gaussian_extraction' is not defined",
     "output_type": "error",
     "traceback": [
      "\u001b[0;31m---------------------------------------------------------------------------\u001b[0m",
      "\u001b[0;31mNameError\u001b[0m                                 Traceback (most recent call last)",
      "\u001b[0;32m<ipython-input-7-9cd50417203c>\u001b[0m in \u001b[0;36m<module>\u001b[0;34m()\u001b[0m\n\u001b[1;32m      1\u001b[0m \u001b[0mim\u001b[0m \u001b[0;34m=\u001b[0m \u001b[0mdata\u001b[0m\u001b[0;34m[\u001b[0m\u001b[0;36m1\u001b[0m\u001b[0;34m]\u001b[0m\u001b[0;34m.\u001b[0m\u001b[0mdata\u001b[0m\u001b[0;34m\u001b[0m\u001b[0m\n\u001b[1;32m      2\u001b[0m \u001b[0;32mprint\u001b[0m \u001b[0mnp\u001b[0m\u001b[0;34m.\u001b[0m\u001b[0mnansum\u001b[0m\u001b[0;34m(\u001b[0m\u001b[0mim\u001b[0m\u001b[0;34m)\u001b[0m\u001b[0;34m*\u001b[0m\u001b[0;36m3.6\u001b[0m\u001b[0;34m/\u001b[0m\u001b[0;36m4250\u001b[0m\u001b[0;34m\u001b[0m\u001b[0m\n\u001b[0;32m----> 3\u001b[0;31m \u001b[0mgauss2d_masked\u001b[0m \u001b[0;34m=\u001b[0m \u001b[0mGaussian_extraction\u001b[0m\u001b[0;34m(\u001b[0m\u001b[0mdata_pixcoord\u001b[0m\u001b[0;34m,\u001b[0m \u001b[0;36m13.5\u001b[0m\u001b[0;34m,\u001b[0m \u001b[0mim\u001b[0m\u001b[0;34m,\u001b[0m \u001b[0mpix2arcsec\u001b[0m\u001b[0;34m,\u001b[0m \u001b[0mnorm\u001b[0m\u001b[0;34m=\u001b[0m\u001b[0mFalse\u001b[0m\u001b[0;34m)\u001b[0m\u001b[0;34m\u001b[0m\u001b[0m\n\u001b[0m\u001b[1;32m      4\u001b[0m \u001b[0mim_extracted\u001b[0m \u001b[0;34m=\u001b[0m \u001b[0mim\u001b[0m \u001b[0;34m*\u001b[0m \u001b[0mgauss2d_masked\u001b[0m\u001b[0;34m.\u001b[0m\u001b[0mT\u001b[0m\u001b[0;34m\u001b[0m\u001b[0m\n\u001b[1;32m      5\u001b[0m \u001b[0;32mprint\u001b[0m \u001b[0mnp\u001b[0m\u001b[0;34m.\u001b[0m\u001b[0msum\u001b[0m\u001b[0;34m(\u001b[0m\u001b[0mim_extracted\u001b[0m\u001b[0;34m)\u001b[0m\u001b[0;34m\u001b[0m\u001b[0m\n",
      "\u001b[0;31mNameError\u001b[0m: name 'Gaussian_extraction' is not defined"
     ]
    }
   ],
   "source": [
    "im = data[1].data\n",
    "print np.nansum(im)*3.6/4250\n",
    "gauss2d_masked = Gaussian_extraction(data_pixcoord, 13.5, im, pix2arcsec, norm=False)\n",
    "im_extracted = im * gauss2d_masked.T\n",
    "print np.sum(im_extracted)"
   ]
  },
  {
   "cell_type": "code",
   "execution_count": 220,
   "metadata": {
    "collapsed": true
   },
   "outputs": [],
   "source": [
    "def Gaussian_spire_extraction(filename, gauss_width, source_coord, spire=False):\n",
    "    import numpy as np\n",
    "    import matplotlib.pyplot as plt\n",
    "    import astropy.constants as const\n",
    "    from astropy.io import fits\n",
    "    from astropy import wcs\n",
    "    from astropy import units as u\n",
    "    \n",
    "    data = fits.open(filename)        \n",
    "    w = wcs.WCS(data[1].header)\n",
    "    data_pixcoord = w.wcs_world2pix(np.array([[source_coord.ra.degree, source_coord.dec.degree]]),1)[0]\n",
    "    print data_pixcoord\n",
    "    \n",
    "    # Get the pixel to physical conversion factor\n",
    "    cdelt1 = data[1].header['CDELT1']\n",
    "    cdelt2 = data[1].header['CDELT2']\n",
    "    if abs(cdelt1) != abs(cdelt2):\n",
    "        print 'pixel scales are different in two axis. %f and %f' % (cdelt1, cdelt2)\n",
    "    pix2arcsec = abs(cdelt1)*3600\n",
    "    print pix2arcsec\n",
    "    \n",
    "    im = data[1].data\n",
    "    \n",
    "    if spire:\n",
    "        # unit is MJy/sr. Convert it to Jy/pixel\n",
    "        factor = (u.MJy / u.sr * (pix2arcsec * u.arcsec) ** 2 / u.pixel).to(u.Jy / u.pixel)\n",
    "        im *= factor.value\n",
    "    \n",
    "    gauss2d_masked = Gaussian_extraction(data_pixcoord, gauss_width, im, pix2arcsec, norm=False)\n",
    "    print gauss2d_masked.max()\n",
    "    im_extracted = im * gauss2d_masked.T\n",
    "    \n",
    "    return im_extracted"
   ]
  },
  {
   "cell_type": "code",
   "execution_count": 123,
   "metadata": {
    "collapsed": false
   },
   "outputs": [
    {
     "name": "stdout",
     "output_type": "stream",
     "text": [
      "180.403375 -65.1470055556\n",
      "0.970568307629\n",
      "47.3155192295\n"
     ]
    }
   ],
   "source": [
    "from astropy.coordinates import SkyCoord\n",
    "c = SkyCoord('12 01 36.81 -65 08 49.22', unit=(u.hourangle, u.deg))\n",
    "print c.ra.degree, c.dec.degree\n",
    "flux500 = Gaussian_spire_extraction(spire500, 40.5, c, spire=True)\n",
    "print np.nansum(flux500)"
   ]
  },
  {
   "cell_type": "code",
   "execution_count": 30,
   "metadata": {
    "collapsed": false
   },
   "outputs": [
    {
     "name": "stdout",
     "output_type": "stream",
     "text": [
      " aperture_sum\n",
      "             \n",
      "-------------\n",
      "296.708993089\n"
     ]
    }
   ],
   "source": [
    "aperture = phot.CircularAperture((data_pixcoord[0], data_pixcoord[1]), r=31.8/pix2arcsec)\n",
    "factor = (u.MJy / u.sr * (pix2arcsec * u.arcsec) ** 2 / u.pixel).to(u.Jy / u.pixel)\n",
    "phot_table = phot.aperture_photometry(data[1].data, aperture)\n",
    "print phot_table['aperture_sum']"
   ]
  },
  {
   "cell_type": "code",
   "execution_count": null,
   "metadata": {
    "collapsed": true
   },
   "outputs": [],
   "source": []
  }
 ],
 "metadata": {
  "kernelspec": {
   "display_name": "Python 2",
   "language": "python",
   "name": "python2"
  },
  "language_info": {
   "codemirror_mode": {
    "name": "ipython",
    "version": 2
   },
   "file_extension": ".py",
   "mimetype": "text/x-python",
   "name": "python",
   "nbconvert_exporter": "python",
   "pygments_lexer": "ipython2",
   "version": "2.7.11"
  }
 },
 "nbformat": 4,
 "nbformat_minor": 0
}
