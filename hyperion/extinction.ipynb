{
 "cells": [
  {
   "cell_type": "code",
   "execution_count": 48,
   "metadata": {
    "collapsed": false
   },
   "outputs": [],
   "source": [
    "%matplotlib inline\n",
    "import numpy as np\n",
    "import matplotlib.pyplot as plt\n",
    "from hyperion.model import ModelOutput\n",
    "import astropy.constants as const\n",
    "\n",
    "AU = const.au.cgs.value\n",
    "pc = const.pc.cgs.value\n",
    "MS = const.M_sun.cgs.value\n",
    "mh = const.m_p.cgs.value + const.m_e.cgs.value\n",
    "dstar = 178. * pc"
   ]
  },
  {
   "cell_type": "code",
   "execution_count": 17,
   "metadata": {
    "collapsed": false
   },
   "outputs": [],
   "source": [
    "filename = '/Users/yaolun/bhr71/hyperion/model12.rtout'\n",
    "m = ModelOutput(filename)\n",
    "\n",
    "q = m.get_quantities()\n",
    "r_wall, t_wall, p_wall = q.r_wall, q.t_wall, q.p_wall\n",
    "rc     = 0.5*( r_wall[0:len(r_wall)-1] + r_wall[1:len(r_wall)] )\n",
    "thetac = 0.5*( t_wall[0:len(t_wall)-1] + t_wall[1:len(t_wall)] )\n",
    "phic   = 0.5*( p_wall[0:len(p_wall)-1] + p_wall[1:len(p_wall)])\n",
    "\n",
    "rho = q['density'][0].array.T"
   ]
  },
  {
   "cell_type": "code",
   "execution_count": 3,
   "metadata": {
    "collapsed": true
   },
   "outputs": [],
   "source": [
    "def cell_size(gridi, q):\n",
    "    # grid index in cell coordinates\n",
    "    ir, itheta, iphi = gridi\n",
    "    \n",
    "    ri, thetai, phii = q.r_wall, q.t_wall, q.p_wall\n",
    "    \n",
    "    vol = (1/3.)*(ri[ir+1]**3 - ri[ir]**3) * (phii[iphi+1]-phii[iphi]) * -(np.cos(thetai[itheta+1])-np.cos(thetai[itheta]))\n",
    "    \n",
    "    return vol"
   ]
  },
  {
   "cell_type": "markdown",
   "metadata": {},
   "source": [
    "## Diffraction limited beam\n",
    "\n",
    "### 1.2 $\\mu$m - 0.124 arcsec\n",
    "\n",
    "### 1.6 $\\mu$m - 0.165 arcsec"
   ]
  },
  {
   "cell_type": "code",
   "execution_count": 63,
   "metadata": {
    "collapsed": false
   },
   "outputs": [],
   "source": [
    "# beam size\n",
    "beam = 0.124\n",
    "beam_rad = beam/2 * dstar/pc * AU # beam radius in AU\n",
    "rad_limit = beam/2*dstar/pc*AU/np.sin(2*np.pi/len(thetac))\n",
    "mass_column = 0\n",
    "\n",
    "# Projected distance on yz-plane -> edge-on view\n",
    "dist_yz = np.empty_like(rho) \n",
    "for ir in range(len(rc)):\n",
    "# for ir in range(100):\n",
    "    # avoid empty cell\n",
    "    if rc[ir] <= 0.1*AU:\n",
    "        continue\n",
    "    for it in range(len(thetac)):\n",
    "        for ip in range(len(phic)):\n",
    "            dist_yz[ir,it,ip] = ((rc[ir]*np.sin(thetac[it])*np.sin(phic[ip]))**2 * (rc[ir]*np.cos(thetac[it]))**2)**0.5\n",
    "            \n",
    "            if dist_yz[ir,it,ip] <= beam_rad:\n",
    "                # If the projected spacing between adjacent cell in polar angle is smaller than the beam radius,\n",
    "                # the cell is considered \"entirely\" within the beam.  Its density is calculated and added to column\n",
    "                # density.  If the projected spacing between adjacent cell in polar angle is greater than the beam\n",
    "                # radius, the cel is considered \"more extended\" than the beam.  The added density is calculated by\n",
    "                # the density of the cell times the segment of column that falls in the cell.\n",
    "                if rc[ir] <= rad_limit:\n",
    "                    mass_column += rho[ir,it,ip] * cell_size((ir,it,ip),q)\n",
    "    if rc[ir] > rad_limit:\n",
    "        mass_column += (r_wall[ir+1]-r_wall[ir]) * np.pi*rad_limit**2 * rho[ir,199,0]"
   ]
  },
  {
   "cell_type": "code",
   "execution_count": 64,
   "metadata": {
    "collapsed": false
   },
   "outputs": [
    {
     "name": "stdout",
     "output_type": "stream",
     "text": [
      "1.69390725785e+30\n",
      "0.00488055917624 2.91632134326e+23\n"
     ]
    }
   ],
   "source": [
    "print mass_column  # this is dust\n",
    "gas_column = mass_column*100.\n",
    "Nh = gas_column/mh / (np.pi*rad_limit**2)\n",
    "print mass_column/(np.pi*rad_limit**2), Nh"
   ]
  },
  {
   "cell_type": "code",
   "execution_count": 14,
   "metadata": {
    "collapsed": false
   },
   "outputs": [
    {
     "name": "stdout",
     "output_type": "stream",
     "text": [
      "(710, 400, 50)\n",
      "(711,) (401,) (51,)\n",
      "1405.20494759\n"
     ]
    }
   ],
   "source": [
    "print np.shape(rho)\n",
    "print np.shape(r_wall), np.shape(t_wall), np.shape(p_wall)\n",
    "f = np.sin(2*np.pi/400.)/AU / 178.\n",
    "print 0.124/f/AU"
   ]
  },
  {
   "cell_type": "code",
   "execution_count": null,
   "metadata": {
    "collapsed": true
   },
   "outputs": [],
   "source": []
  }
 ],
 "metadata": {
  "kernelspec": {
   "display_name": "Python 2",
   "language": "python",
   "name": "python2"
  },
  "language_info": {
   "codemirror_mode": {
    "name": "ipython",
    "version": 2
   },
   "file_extension": ".py",
   "mimetype": "text/x-python",
   "name": "python",
   "nbconvert_exporter": "python",
   "pygments_lexer": "ipython2",
   "version": "2.7.11"
  }
 },
 "nbformat": 4,
 "nbformat_minor": 0
}
