{
 "cells": [
  {
   "cell_type": "code",
   "execution_count": 48,
   "metadata": {
    "collapsed": false
   },
   "outputs": [],
   "source": [
    "%matplotlib inline\n",
    "import numpy as np\n",
    "import matplotlib.pyplot as plt\n",
    "from hyperion.model import ModelOutput\n",
    "import astropy.constants as const\n",
    "\n",
    "AU = const.au.cgs.value\n",
    "pc = const.pc.cgs.value\n",
    "MS = const.M_sun.cgs.value\n",
    "mh = const.m_p.cgs.value + const.m_e.cgs.value\n",
    "dstar = 178. * pc"
   ]
  },
  {
   "cell_type": "code",
   "execution_count": 170,
   "metadata": {
    "collapsed": false
   },
   "outputs": [],
   "source": [
    "filename = '/Users/yaolun/bhr71/hyperion/model12.rtout'\n",
    "m = ModelOutput(filename)\n",
    "\n",
    "q = m.get_quantities()\n",
    "r_wall, t_wall, p_wall = q.r_wall, q.t_wall, q.p_wall\n",
    "rc     = 0.5*( r_wall[0:len(r_wall)-1] + r_wall[1:len(r_wall)] )\n",
    "thetac = 0.5*( t_wall[0:len(t_wall)-1] + t_wall[1:len(t_wall)] )\n",
    "phic   = 0.5*( p_wall[0:len(p_wall)-1] + p_wall[1:len(p_wall)])\n",
    "\n",
    "rho = q['density'][0].array.T"
   ]
  },
  {
   "cell_type": "code",
   "execution_count": 3,
   "metadata": {
    "collapsed": true
   },
   "outputs": [],
   "source": [
    "def cell_size(gridi, q):\n",
    "    # grid index in cell coordinates\n",
    "    ir, itheta, iphi = gridi\n",
    "    \n",
    "    ri, thetai, phii = q.r_wall, q.t_wall, q.p_wall\n",
    "    \n",
    "    vol = (1/3.)*(ri[ir+1]**3 - ri[ir]**3) * (phii[iphi+1]-phii[iphi]) * -(np.cos(thetai[itheta+1])-np.cos(thetai[itheta]))\n",
    "    \n",
    "    return vol"
   ]
  },
  {
   "cell_type": "markdown",
   "metadata": {},
   "source": [
    "## Diffraction limited beam\n",
    "\n",
    "### 1.2 $\\mu$m - 0.124 arcsec\n",
    "\n",
    "### 1.6 $\\mu$m - 0.165 arcsec"
   ]
  },
  {
   "cell_type": "code",
   "execution_count": 187,
   "metadata": {
    "collapsed": false
   },
   "outputs": [],
   "source": [
    "# beam size\n",
    "beam = 0.124\n",
    "def enclose_mass(beam, los=90.):\n",
    "    beam_rad = beam/2 * dstar/pc * AU # beam radius in cm\n",
    "    rad_limit = beam*dstar/pc*AU / ((2*(1-np.cos(np.pi/len(thetac))))**0.5)\n",
    "#     beam/2*dstar/pc*AU/np.sin(2*np.pi/len(thetac))\n",
    "    mass_column = 0\n",
    "    total_mass = 0\n",
    "    \n",
    "    itheta = np.argsort(abs(thetac-np.radians(los)))[0]\n",
    "    print itheta\n",
    "    # Projected distance on the plane perpendicular to LOS\n",
    "    # first need to do coordinates rotation\n",
    "    rot_angle = np.radians(90.-los)\n",
    "    \n",
    "    dist = np.empty_like(rho) \n",
    "    for ir in range(len(rc)):\n",
    "        # avoid empty cell\n",
    "        if rc[ir] <= 0.1*AU:\n",
    "            continue\n",
    "        for it in range(len(thetac)):\n",
    "            for ip in range(len(phic)):\n",
    "                dist[ir,it,ip] = (( rc[ir]*np.sin(thetac[it]+rot_angle)*np.sin(phic[ip]) )**2 +\\\n",
    "                                  ( rc[ir]*np.cos(thetac[it]+rot_angle) )**2)**0.5\n",
    "\n",
    "                if dist[ir,it,ip] <= beam_rad:\n",
    "                    # If the projected spacing between adjacent cell in polar angle is smaller than the beam radius,\n",
    "                    # the cell is considered \"entirely\" within the beam.  Its density is calculated and added to column\n",
    "                    # density.  If the projected spacing between adjacent cell in polar angle is greater than the beam\n",
    "                    # radius, the cel is considered \"more extended\" than the beam.  The added density is calculated by\n",
    "                    # the density of the cell times the segment of column that falls in the cell.\n",
    "                    if rc[ir] <= rad_limit:\n",
    "                        mass_column += rho[ir,it,ip] * cell_size((ir,it,ip),q)\n",
    "                \n",
    "                total_mass += rho[ir,it,ip]*cell_size((ir,it,ip),q)\n",
    "        if rc[ir] > rad_limit:\n",
    "            mass_column += (r_wall[ir+1]-r_wall[ir]) * np.pi*beam_rad**2 * rho[ir,itheta,0]\n",
    "    area = np.pi*beam_rad**2        \n",
    "    \n",
    "    print total_mass/MS\n",
    "    \n",
    "    return mass_column, area"
   ]
  },
  {
   "cell_type": "markdown",
   "metadata": {},
   "source": [
    "### Another version works in Cartesian (cannot do different LOS, maybe it can...)"
   ]
  },
  {
   "cell_type": "code",
   "execution_count": 226,
   "metadata": {
    "collapsed": true
   },
   "outputs": [],
   "source": [
    "# beam size\n",
    "beam = 0.124\n",
    "def enclose_mass_cart(beam, grid_ref, los=90.):\n",
    "    beam_rad = beam/2 * dstar/pc * AU # beam radius in cm\n",
    "    rad_limit = beam*dstar/pc*AU / ((2*(1-np.cos(np.pi/len(thetac))))**0.5)\n",
    "    mass_column = 0\n",
    "    total_mass = 0\n",
    "    \n",
    "    # Projected distance on the plane perpendicular to LOS\n",
    "    # first need to do coordinates rotation\n",
    "    rot_angle = np.radians(90.-los)\n",
    "    \n",
    "    dist = np.empty_like(rho)\n",
    "    # reference point on yz-plane\n",
    "    y_ref, z_ref = grid_ref\n",
    "    y_ref = y_ref * dstar/pc*AU\n",
    "    z_ref = z_ref * dstar/pc*AU\n",
    "                \n",
    "    for ir in range(len(rc)):\n",
    "        # avoid empty cell\n",
    "        if rc[ir] <= 0.1*AU:\n",
    "            continue\n",
    "        for it in range(len(thetac)):\n",
    "            for ip in range(len(phic)):\n",
    "                # convert the spherical coordinates to cartiesian coordinates\n",
    "                x = rc[ir]*np.sin(thetac[it]+rot_angle)*np.cos(phic[ip])\n",
    "                y = rc[ir]*np.sin(thetac[it]+rot_angle)*np.sin(phic[ip])\n",
    "                z = rc[ir]*np.cos(phic[ip])\n",
    "                \n",
    "                dist[ir,it,ip] = ((y-y_ref)**2 + (z-z_ref)**2)**0.5\n",
    "\n",
    "                if dist[ir,it,ip] <= beam_rad:\n",
    "                    mass_column += rho[ir,it,ip] * cell_size((ir,it,ip),q)\n",
    "                \n",
    "                total_mass += rho[ir,it,ip]*cell_size((ir,it,ip),q)\n",
    "                \n",
    "    area = np.pi*beam_rad**2\n",
    "    \n",
    "    return mass_column, area"
   ]
  },
  {
   "cell_type": "code",
   "execution_count": 228,
   "metadata": {
    "collapsed": false
   },
   "outputs": [
    {
     "data": {
      "text/plain": [
       "array([-2., -1.,  0.,  1.,  2.])"
      ]
     },
     "execution_count": 228,
     "metadata": {},
     "output_type": "execute_result"
    }
   ],
   "source": [
    "np.arange(-2, 2.1, 1)"
   ]
  },
  {
   "cell_type": "code",
   "execution_count": 229,
   "metadata": {
    "collapsed": false
   },
   "outputs": [],
   "source": [
    "x = np.arange(-2, 2.1, 1)\n",
    "Aj = np.empty_like(x)\n",
    "Ah = np.empty_like(x)\n",
    "beam = 0.124\n",
    "\n",
    "for ix in range(len(x)):\n",
    "    mass, area = enclose_mass_cart(beam, (0,-x[ix]), los=90.)\n",
    "    Nh = mass*100./mh/area\n",
    "    Aj[ix] = 1.086 * 1.994e-22 * Nh\n",
    "    Ah[ix] = 1.086 * 1.203e-22 * Nh\n"
   ]
  },
  {
   "cell_type": "code",
   "execution_count": 218,
   "metadata": {
    "collapsed": false
   },
   "outputs": [
    {
     "data": {
      "image/png": "[encoded data removed]",
      "text/plain": [
       "<matplotlib.figure.Figure at 0x10ef43450>"
      ]
     },
     "metadata": {},
     "output_type": "display_data"
    }
   ],
   "source": [
    "fig = plt.figure(figsize=(8,6))\n",
    "ax = fig.add_subplot(111)\n",
    "\n",
    "ext_j, = ax.plot(x, Aj, 'bo-', mec='None', markersize=10)\n",
    "ext_h, = ax.plot(x, Ah, 'ro-', mec='None', markersize=10)\n",
    "\n",
    "# ext_j, = ax.plot(beam*x/2-beam/2, Aj_90, 'bo-', mec='None', markersize=10)\n",
    "# ext_h, = ax.plot(beam*x/2-beam/2, Ah_90, 'ro-', mec='None', markersize=10)\n",
    "\n",
    "ax.legend([ext_j, ext_h], [r'$\\rm{A_{J}}$', r'$\\rm{A_{H}}$'], loc='best', fontsize=18, numpoints=1)\n",
    "ax.set_xlabel(r'$\\rm{Angular\\,Offset\\,[arcsec]}$', fontsize=20)\n",
    "ax.set_ylabel(r'$\\rm{Extinction\\,[mag.]}$', fontsize=20)\n",
    "[ax.spines[axis].set_linewidth(1.5) for axis in ['top','bottom','left','right']]\n",
    "ax.minorticks_on()\n",
    "ax.tick_params('both',labelsize=18,width=1.5,which='major',pad=10,length=5)\n",
    "ax.tick_params('both',labelsize=18,width=1.5,which='minor',pad=10,length=2.5)\n",
    "\n",
    "fig.savefig('/Users/yaolun/Dropbox/HST_cycle24/extinction_estimation.pdf', format='pdf', dpi=300, bbox_inches='tight')"
   ]
  },
  {
   "cell_type": "code",
   "execution_count": null,
   "metadata": {
    "collapsed": true
   },
   "outputs": [],
   "source": []
  }
 ],
 "metadata": {
  "kernelspec": {
   "display_name": "Python 2",
   "language": "python",
   "name": "python2"
  },
  "language_info": {
   "codemirror_mode": {
    "name": "ipython",
    "version": 2
   },
   "file_extension": ".py",
   "mimetype": "text/x-python",
   "name": "python",
   "nbconvert_exporter": "python",
   "pygments_lexer": "ipython2",
   "version": "2.7.11"
  }
 },
 "nbformat": 4,
 "nbformat_minor": 0
}
