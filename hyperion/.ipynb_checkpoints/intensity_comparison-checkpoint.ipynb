{
 "cells": [
  {
   "cell_type": "code",
   "execution_count": 1,
   "metadata": {
    "collapsed": false
   },
   "outputs": [
    {
     "name": "stderr",
     "output_type": "stream",
     "text": [
      "/Users/yaolun/anaconda/lib/python2.7/site-packages/matplotlib/font_manager.py:273: UserWarning: Matplotlib is building the font cache using fc-list. This may take a moment.\n",
      "  warnings.warn('Matplotlib is building the font cache using fc-list. This may take a moment.')\n"
     ]
    }
   ],
   "source": [
    "%matplotlib inline\n",
    "import numpy as np\n",
    "import matplotlib.pyplot as plt\n",
    "from hyperion.model import ModelOutput\n",
    "import astropy.constants as const\n",
    "from photutils import aperture_photometry as ap\n",
    "from photutils import CircularAperture"
   ]
  },
  {
   "cell_type": "code",
   "execution_count": 3,
   "metadata": {
    "collapsed": false
   },
   "outputs": [],
   "source": [
    "pc = const.pc.cgs.value"
   ]
  },
  {
   "cell_type": "markdown",
   "metadata": {},
   "source": [
    "# Inclination angle = 53 deg. with cavity opening angle of 20 deg."
   ]
  },
  {
   "cell_type": "code",
   "execution_count": 5,
   "metadata": {
    "collapsed": false
   },
   "outputs": [],
   "source": [
    "m = ModelOutput('/Volumes/SD-Mac/model77.rtout')\n",
    "image = m.get_image(group=0, inclination=0, distance=200. * pc, units='MJy/sr')"
   ]
  },
  {
   "cell_type": "code",
   "execution_count": 10,
   "metadata": {
    "collapsed": true
   },
   "outputs": [],
   "source": [
    "# The radius of the aperture in arcsec\n",
    "radius = 10\n",
    "aper_size = np.pi*radius**2 / 4.25e10 # in sr\n",
    "# The offset to the center\n",
    "offset = 20"
   ]
  },
  {
   "cell_type": "markdown",
   "metadata": {},
   "source": [
    "### IRAC band (3.6, 4.5, 5.8, 8.0 $\\mu$m)"
   ]
  },
  {
   "cell_type": "code",
   "execution_count": 11,
   "metadata": {
    "collapsed": false
   },
   "outputs": [
    {
     "name": "stdout",
     "output_type": "stream",
     "text": [
      "[ 955.57157128] [ 3198.47443199] [ 3.34718458]\n"
     ]
    }
   ],
   "source": [
    "irac_wl = [3.6, 4.5, 5.8, 8.0]\n",
    "irac_wl = [3.6]\n",
    "# fig = plt.figure(figsize=(8,6))\n",
    "# ax = fig.add_subplot(111)\n",
    "for wl in irac_wl:\n",
    "    iwav = np.argmin(np.abs(wl - image.wav))\n",
    "    # Image in the unit of MJy/sr, change it into erg/s/cm2/Hz/sr\n",
    "    factor = 1e-23*1e6\n",
    "    val = image.val[::-1, :, iwav] * factor + 1e-30\n",
    "    \n",
    "    # Calculate the image width in arcseconds given the distance used above\n",
    "    # get the max radius\n",
    "    rmax = max(m.get_quantities().r_wall)\n",
    "    w = np.degrees(rmax / image.distance) * 3600.\n",
    "    \n",
    "    pos_n = (len(val[0,:])/2.-1,len(val[0,:])/2.-1 + offset*len(val[0,:])/2/w)\n",
    "    pos_s = (len(val[0,:])/2.-1,len(val[0,:])/2.-1 - offset*len(val[0,:])/2/w)\n",
    "    \n",
    "    aper_n = CircularAperture(pos_n, r=radius * len(val[0,:])/2/w )\n",
    "    aper_s = CircularAperture(pos_s, r=radius * len(val[0,:])/2/w )\n",
    "    # multiply the aperture size in sr and convert to Jy\n",
    "    phot_n = ap(val, aper_n)['aperture_sum'].data * aper_size * 1e23\n",
    "    phot_s = ap(val, aper_s)['aperture_sum'].data * aper_size * 1e23\n",
    "    print phot_n, phot_s, phot_s/phot_n"
   ]
  },
  {
   "cell_type": "markdown",
   "metadata": {},
   "source": [
    "# Inclination angle = 84 deg. with cavity opening angle of 15 deg."
   ]
  },
  {
   "cell_type": "code",
   "execution_count": 16,
   "metadata": {
    "collapsed": true
   },
   "outputs": [],
   "source": [
    "m = ModelOutput('/Users/yaolun/bhr71/hyperion/controlled/model2.rtout')\n",
    "image = m.get_image(group=0, inclination=0, distance=200. * pc, units='MJy/sr')"
   ]
  },
  {
   "cell_type": "code",
   "execution_count": 17,
   "metadata": {
    "collapsed": true
   },
   "outputs": [],
   "source": [
    "# The radius of the aperture in arcsec\n",
    "radius = 10\n",
    "aper_size = np.pi*radius**2 / 4.25e10 # in sr\n",
    "# The offset to the center\n",
    "offset = 10"
   ]
  },
  {
   "cell_type": "markdown",
   "metadata": {},
   "source": [
    "### IRAC band (3.6, 4.5, 5.8, 8.0 $\\mu$m)"
   ]
  },
  {
   "cell_type": "code",
   "execution_count": 18,
   "metadata": {
    "collapsed": false
   },
   "outputs": [
    {
     "name": "stdout",
     "output_type": "stream",
     "text": [
      "[ 672.30118254] [ 958.12378779] [ 1.42514071]\n"
     ]
    }
   ],
   "source": [
    "irac_wl = [3.6, 4.5, 5.8, 8.0]\n",
    "irac_wl = [3.6]\n",
    "# fig = plt.figure(figsize=(8,6))\n",
    "# ax = fig.add_subplot(111)\n",
    "for wl in irac_wl:\n",
    "    iwav = np.argmin(np.abs(wl - image.wav))\n",
    "    # Image in the unit of MJy/sr, change it into erg/s/cm2/Hz/sr\n",
    "    factor = 1e-23*1e6\n",
    "    val = image.val[::-1, :, iwav] * factor + 1e-30\n",
    "    \n",
    "    # Calculate the image width in arcseconds given the distance used above\n",
    "    # get the max radius\n",
    "    rmax = max(m.get_quantities().r_wall)\n",
    "    w = np.degrees(rmax / image.distance) * 3600.\n",
    "    \n",
    "    pos_n = (len(val[0,:])/2.-1,len(val[0,:])/2.-1 + offset*len(val[0,:])/2/w)\n",
    "    pos_s = (len(val[0,:])/2.-1,len(val[0,:])/2.-1 - offset*len(val[0,:])/2/w)\n",
    "    \n",
    "    aper_n = CircularAperture(pos_n, r=radius * len(val[0,:])/2/w )\n",
    "    aper_s = CircularAperture(pos_s, r=radius * len(val[0,:])/2/w )\n",
    "    # multiply the aperture size in sr and convert to Jy\n",
    "    phot_n = ap(val, aper_n)['aperture_sum'].data * aper_size * 1e23\n",
    "    phot_s = ap(val, aper_s)['aperture_sum'].data * aper_size * 1e23\n",
    "    print phot_n, phot_s, phot_s/phot_n"
   ]
  },
  {
   "cell_type": "markdown",
   "metadata": {
    "collapsed": true
   },
   "source": [
    "## Spitzer IRAC1 image"
   ]
  },
  {
   "cell_type": "code",
   "execution_count": null,
   "metadata": {
    "collapsed": true
   },
   "outputs": [],
   "source": [
    "# source\n",
    "#   data_file:\t\t/Users/yaolun/bhr71/data/photometry/DC297.7-2.8_COMB_IRAC1_mosaic.fits\n",
    "#   arcsec/pixel:\t1.22334\n",
    "# background\n",
    "#   constant_value:\t0.000000\n",
    "# column units\n",
    "#   area:\t\tarcsec**2\n",
    "#   surf_bri:\t\tcnts/arcsec**2\n",
    "#   surf_err:\t\tcnts/arcsec**2\n",
    "\n",
    "# background-subtracted results\n",
    " reg   net_counts     error   background    berror      area  surf_bri  surf_err\n",
    "---- ------------ --------- ------------ --------- --------- --------- ---------\n",
    "   S     1401.385    37.435        0.000     0.000    309.79     4.524     0.121\n",
    "   N      100.229    10.011        0.000     0.000    311.29     0.322     0.032\n",
    "\n",
    "\n",
    "# source_region(s):\n",
    "# physical;point(641.15757,364.76601);circle(632.99779,364.27833,8.1743409);circle(649.31735,365.2537,8.1743409);line(604.62624,362.58264,676.10592,366.85478)\n",
    "\n",
    "# source_data\n",
    " reg       counts    pixels\n",
    "---- ------------ ---------\n",
    "   S     1401.385       207\n",
    "   N      100.229       208"
   ]
  },
  {
   "cell_type": "code",
   "execution_count": 44,
   "metadata": {
    "collapsed": false
   },
   "outputs": [
    {
     "name": "stdout",
     "output_type": "stream",
     "text": [
      "[ 10.3590137    0.74089104] 13.9818316056\n"
     ]
    }
   ],
   "source": [
    "irac1_data = np.array([1401.385, 100.229]) * 1e6 * aper_size\n",
    "print irac1_data, irac1_data[0]/irac1_data[1]"
   ]
  },
  {
   "cell_type": "markdown",
   "metadata": {
    "collapsed": true
   },
   "source": [
    "## With offseting 10 arcsec from the center"
   ]
  },
  {
   "cell_type": "raw",
   "metadata": {},
   "source": [
    "#   surf_bri:\t\tcnts/arcsec**2\n",
    "#   surf_err:\t\tcnts/arcsec**2\n",
    "\n",
    "# background-subtracted results\n",
    " reg   net_counts     error   background    berror      area  surf_bri  surf_err\n",
    "---- ------------ --------- ------------ --------- --------- --------- ---------\n",
    "   2    15650.630   125.102        0.000     0.000  10000.12     1.565     0.013\n",
    "   4    30978.005   176.006        0.000     0.000   9999.76     3.098     0.018\n",
    "\n",
    "\n",
    "# source_region(s):\n",
    "# physical;box(1860.8592,771.92323,10.749542,0,0);box(1569.313,936.09828,166.66633,166.66633,3.1297334);point(1469.4625,930.63438);box(1368.7788,924.33714,166.66633,166.66633,3.1297334)\n",
    "\n",
    "# source_data\n",
    " reg       counts    pixels\n",
    "---- ------------ ---------\n",
    "   2    15650.630     27778\n",
    "   4    30978.005     27777"
   ]
  },
  {
   "cell_type": "code",
   "execution_count": 13,
   "metadata": {
    "collapsed": false
   },
   "outputs": [
    {
     "name": "stdout",
     "output_type": "stream",
     "text": [
      "1.97934555989\n"
     ]
    }
   ],
   "source": [
    "print 30978.005/15650.630"
   ]
  },
  {
   "cell_type": "markdown",
   "metadata": {},
   "source": [
    "## Irregular aperture"
   ]
  },
  {
   "cell_type": "raw",
   "metadata": {},
   "source": [
    "---- ------------ --------- ------------ --------- --------- --------- ---------\n",
    "   2        5.935     2.436        0.000     0.000      0.36    16.487     6.767\n",
    "   3     8984.047    94.784        0.000     0.000   1151.28     7.803     0.082\n",
    "   6     3179.059    56.383        0.000     0.000   1408.33     2.257     0.040\n",
    "\n",
    "\n",
    "# source_region(s):\n",
    "# physical;box(1860.8592,771.92323,10.749542,0,0);point(1469.4625,930.63438);polygon(1440.2696,946.51265,1462.5,936,1463.3333,917.66667,1439.5304,908.29373,1408.8813,899.93488,1403.7731,908.75811,1396.343,908.75811,1386.591,899.00612,1375.4459,929.19084,1387.0554,940.33596,1400,946,1419.0124,953.69612);polygon(1377.499,1026.8343,1377.501,1026.8343,1377.501,1026.8323,1377.499,1026.8323);polygon(1507.4992,997.66744,1507.5008,997.66744,1507.5008,997.66589,1507.4992,997.66589);polygon(1494.1667,944.33333,1550.9816,946.37291,1568.6281,948.69481,1589.5252,944.51539,1613.3333,944.33333,1613.6729,904.57869,1602.9922,905.50745,1522.6544,913.86629,1512.9024,925.4758,1500.3642,924.08266)\n",
    "\n",
    "# source_data\n",
    " reg       counts    pixels\n",
    "---- ------------ ---------\n",
    "   1        0.000         0\n",
    "   2        5.935         1\n",
    "   3     8984.047      3198\n",
    "   4        0.000         0\n",
    "   5        0.000         0\n",
    "   6     3179.059      3912"
   ]
  },
  {
   "cell_type": "code",
   "execution_count": 14,
   "metadata": {
    "collapsed": false
   },
   "outputs": [
    {
     "name": "stdout",
     "output_type": "stream",
     "text": [
      "2.82600826219\n"
     ]
    }
   ],
   "source": [
    "print 8984.047/3179.059"
   ]
  },
  {
   "cell_type": "markdown",
   "metadata": {
    "collapsed": true
   },
   "source": [
    "# Try to remove point sources in the image"
   ]
  },
  {
   "cell_type": "code",
   "execution_count": 23,
   "metadata": {
    "collapsed": true
   },
   "outputs": [],
   "source": [
    "from astropy.io import fits\n",
    "hdu = fits.open('/Users/yaolun/Desktop/IRAC1_crop.fits')"
   ]
  },
  {
   "cell_type": "code",
   "execution_count": 24,
   "metadata": {
    "collapsed": false
   },
   "outputs": [
    {
     "data": {
      "text/plain": [
       "<matplotlib.image.AxesImage at 0x112305c90>"
      ]
     },
     "execution_count": 24,
     "metadata": {},
     "output_type": "execute_result"
    },
    {
     "data": {
      "image/png": "[encoded data removed]",
      "text/plain": [
       "<matplotlib.figure.Figure at 0x11226a5d0>"
      ]
     },
     "metadata": {},
     "output_type": "display_data"
    }
   ],
   "source": [
    "plt.imshow(np.log10(hdu[0].data), cmap='viridis')"
   ]
  },
  {
   "cell_type": "code",
   "execution_count": 59,
   "metadata": {
    "collapsed": false
   },
   "outputs": [
    {
     "data": {
      "text/plain": [
       "(0, 100)"
      ]
     },
     "execution_count": 59,
     "metadata": {},
     "output_type": "execute_result"
    },
    {
     "data": {
      "image/png": "[encoded data removed]",
      "text/plain": [
       "<matplotlib.figure.Figure at 0x10e4013d0>"
      ]
     },
     "metadata": {},
     "output_type": "display_data"
    }
   ],
   "source": [
    "plt.plot(hdu[0].data[10,:])\n",
    "plt.xlim([0,100])"
   ]
  },
  {
   "cell_type": "code",
   "execution_count": 61,
   "metadata": {
    "collapsed": false
   },
   "outputs": [
    {
     "name": "stdout",
     "output_type": "stream",
     "text": [
      "0.526117 0.41775 0.303302\n"
     ]
    }
   ],
   "source": [
    "im = hdu[0].data\n",
    "import photutils  as phot\n",
    "from astropy.stats import sigma_clipped_stats\n",
    "mean, median, std = sigma_clipped_stats(im, sigma=3.0, iters=5)\n",
    "print mean, median, std\n",
    "daofind = phot.DAOStarFinder(fwhm=20, threshold=10)    \n",
    "sources = daofind(im - median)"
   ]
  },
  {
   "cell_type": "code",
   "execution_count": 62,
   "metadata": {
    "collapsed": false
   },
   "outputs": [
    {
     "name": "stdout",
     "output_type": "stream",
     "text": [
      " id   xcentroid     ycentroid   ...      peak          flux           mag       \n",
      "--- ------------- ------------- ... ------------- ------------- ----------------\n",
      "  1 68.4127948489 19.2474961146 ...   281.9112854 138.619456453   -5.35456047896\n",
      "  2 809.961204352 43.3598267534 ...   3.001101017 1.61570375514  -0.520904335866\n",
      "  3 621.736994206 49.5881691619 ... 3.68944835663 1.34935482897  -0.325315419027\n",
      "  4 134.509957402 71.1653658096 ... 13.3672761917 6.21691529914   -1.98393737617\n",
      "  5 583.730021233 97.6875283636 ... 1.88609230518 1.36844336347  -0.340567069323\n",
      "  6 464.808693494 97.8249371422 ... 7.52162265778 3.32739229804   -1.30526001752\n",
      "  7 782.963435496  107.36499692 ... 2.76421260834 1.45463554004  -0.406885485405\n",
      "  8  221.59542686  115.25815024 ... 11.8672533035  5.7987767305   -1.90834096872\n",
      "  9 937.722866804  116.36399544 ... 2.80072689056 1.46661882621  -0.415793138762\n",
      " 10 829.282236218 146.384842175 ... 2.76054668427 1.03795225542 -0.0404434423432\n",
      "...           ...           ... ...           ...           ...              ...\n",
      " 16 428.794390155 181.791511418 ... 45.4683570862 18.0699307678   -3.14239122158\n",
      " 17 82.0183515765 189.251062002 ... 10.0352630615 5.25998488793   -1.80246124104\n",
      " 18 49.7238058488 206.851835363 ... 6.74895524979 3.07975668415   -1.22129101617\n",
      " 19 183.420881587 239.301137695 ... 75.4901580811 42.3234086372   -4.06645159397\n",
      " 20 599.203199959  248.30492347 ... 26.8384170532 12.0365848894   -2.70125820774\n",
      " 21 821.605910346 249.289791179 ... 4.06036663055 1.84500205787  -0.664992137242\n",
      " 22 170.169738993 260.746250587 ... 8.00351715088 3.74536980734   -1.43373676294\n",
      " 23 74.1088183963 268.369282306 ... 5.09616518021 2.24260860931  -0.876883712661\n",
      " 24 189.008465261 267.403647915 ... 4.77055358887 1.82087142317  -0.650698200319\n",
      " 25 513.749471708 287.379580775 ... 66.0092926025 30.3507057718   -3.70542198641\n",
      " 26 60.3495490323 292.610812055 ... 3.81930017471 1.61354264012  -0.519451116825\n",
      "Length = 26 rows\n"
     ]
    }
   ],
   "source": [
    "print sources"
   ]
  },
  {
   "cell_type": "code",
   "execution_count": 73,
   "metadata": {
    "collapsed": false
   },
   "outputs": [],
   "source": [
    "psf_guess = phot.psf.IntegratedGaussianPRF(flux=1)\n",
    "psf_guess.flux.fixed = psf_guess.x_0.fixed = psf_guess.y_0.fixed = False\n",
    "psf_guess.x_0.sigma = True\n",
    "fitshape = (20,20)"
   ]
  },
  {
   "cell_type": "code",
   "execution_count": 74,
   "metadata": {
    "collapsed": false
   },
   "outputs": [],
   "source": [
    "from astropy.table import Table\n",
    "intab4 = Table(names=['x_0', 'y_0', 'flux_0'], data=[sources['xcentroid'], sources['ycentroid'], sources['flux']])\n",
    "\n",
    "outtabi = phot.psf.psf_photometry(im, intab4, psf_guess, fitshape, store_fit_info=True)"
   ]
  },
  {
   "cell_type": "code",
   "execution_count": 75,
   "metadata": {
    "collapsed": false
   },
   "outputs": [
    {
     "data": {
      "text/html": [
       "&lt;Table length=26&gt;\n",
       "<table id=\"table4567301392\">\n",
       "<thead><tr><th>x_0</th><th>y_0</th><th>flux_0</th><th>x_fit</th><th>y_fit</th><th>flux_fit</th><th>fit_messages</th></tr></thead>\n",
       "<thead><tr><th></th><th></th><th></th><th></th><th></th><th></th><th></th></tr></thead>\n",
       "<thead><tr><th>float64</th><th>float64</th><th>float64</th><th>float64</th><th>float64</th><th>float32</th><th>str71</th></tr></thead>\n",
       "<tr><td>68.4127948489</td><td>19.2474961146</td><td>138.619456453</td><td>66.2254364256</td><td>20.7468628221</td><td>3827.53</td><td>Number of calls to function has reached maxfev = 100.</td></tr>\n",
       "<tr><td>809.961204352</td><td>43.3598267534</td><td>1.61570375514</td><td>810.384799255</td><td>44.6788863331</td><td>46.1668</td><td>Number of calls to function has reached maxfev = 100.</td></tr>\n",
       "<tr><td>621.736994206</td><td>49.5881691619</td><td>1.34935482897</td><td>625.284697578</td><td>52.2713107756</td><td>55.4484</td><td>Number of calls to function has reached maxfev = 100.</td></tr>\n",
       "<tr><td>134.509957402</td><td>71.1653658096</td><td>6.21691529914</td><td>134.703197686</td><td>69.2282644379</td><td>186.975</td><td>Number of calls to function has reached maxfev = 100.</td></tr>\n",
       "<tr><td>583.730021233</td><td>97.6875283636</td><td>1.36844336347</td><td>585.224520583</td><td>99.5637899023</td><td>31.6073</td><td>The relative error between two consecutive iterates is at most 0.000000</td></tr>\n",
       "<tr><td>464.808693494</td><td>97.8249371422</td><td>3.32739229804</td><td>464.923573339</td><td>99.5008770018</td><td>107.399</td><td>Number of calls to function has reached maxfev = 100.</td></tr>\n",
       "<tr><td>782.963435496</td><td>107.36499692</td><td>1.45463554004</td><td>785.678408733</td><td>106.331705514</td><td>42.932</td><td>The relative error between two consecutive iterates is at most 0.000000</td></tr>\n",
       "<tr><td>221.59542686</td><td>115.25815024</td><td>5.7987767305</td><td>221.83823808</td><td>112.588404413</td><td>166.834</td><td>Number of calls to function has reached maxfev = 100.</td></tr>\n",
       "<tr><td>937.722866804</td><td>116.36399544</td><td>1.46661882621</td><td>940.414150643</td><td>119.7166974</td><td>43.3339</td><td>Number of calls to function has reached maxfev = 100.</td></tr>\n",
       "<tr><td>...</td><td>...</td><td>...</td><td>...</td><td>...</td><td>...</td><td>...</td></tr>\n",
       "<tr><td>82.0183515765</td><td>189.251062002</td><td>5.25998488793</td><td>79.3170105451</td><td>187.374365061</td><td>141.85</td><td>Number of calls to function has reached maxfev = 100.</td></tr>\n",
       "<tr><td>49.7238058488</td><td>206.851835363</td><td>3.07975668415</td><td>48.2902097107</td><td>206.821205223</td><td>97.2601</td><td>Number of calls to function has reached maxfev = 100.</td></tr>\n",
       "<tr><td>183.420881587</td><td>239.301137695</td><td>42.3234086372</td><td>184.742091892</td><td>236.669243555</td><td>1031.12</td><td>Number of calls to function has reached maxfev = 100.</td></tr>\n",
       "<tr><td>599.203199959</td><td>248.30492347</td><td>12.0365848894</td><td>600.183547916</td><td>249.914477862</td><td>367.384</td><td>Number of calls to function has reached maxfev = 100.</td></tr>\n",
       "<tr><td>821.605910346</td><td>249.289791179</td><td>1.84500205787</td><td>823.277031249</td><td>249.89108512</td><td>60.3008</td><td>Number of calls to function has reached maxfev = 100.</td></tr>\n",
       "<tr><td>170.169738993</td><td>260.746250587</td><td>3.74536980734</td><td>171.412914349</td><td>261.973682821</td><td>114.362</td><td>Number of calls to function has reached maxfev = 100.</td></tr>\n",
       "<tr><td>74.1088183963</td><td>268.369282306</td><td>2.24260860931</td><td>73.6313792453</td><td>267.574543541</td><td>74.9883</td><td>The relative error between two consecutive iterates is at most 0.000000</td></tr>\n",
       "<tr><td>189.008465261</td><td>267.403647915</td><td>1.82087142317</td><td>191.043773374</td><td>268.012515841</td><td>70.16</td><td>Number of calls to function has reached maxfev = 100.</td></tr>\n",
       "<tr><td>513.749471708</td><td>287.379580775</td><td>30.3507057718</td><td>512.531813156</td><td>286.640782897</td><td>902.235</td><td>The relative error between two consecutive iterates is at most 0.000000</td></tr>\n",
       "<tr><td>60.3495490323</td><td>292.610812055</td><td>1.61354264012</td><td>60.6281712077</td><td>293.088084815</td><td>57.4579</td><td>Number of calls to function has reached maxfev = 100.</td></tr>\n",
       "</table>"
      ],
      "text/plain": [
       "<Table length=26>\n",
       "     x_0      ...\n",
       "              ...\n",
       "   float64    ...\n",
       "------------- ...\n",
       "68.4127948489 ...\n",
       "809.961204352 ...\n",
       "621.736994206 ...\n",
       "134.509957402 ...\n",
       "583.730021233 ...\n",
       "464.808693494 ...\n",
       "782.963435496 ...\n",
       " 221.59542686 ...\n",
       "937.722866804 ...\n",
       "          ... ...\n",
       "82.0183515765 ...\n",
       "49.7238058488 ...\n",
       "183.420881587 ...\n",
       "599.203199959 ...\n",
       "821.605910346 ...\n",
       "170.169738993 ...\n",
       "74.1088183963 ...\n",
       "189.008465261 ...\n",
       "513.749471708 ...\n",
       "60.3495490323 ..."
      ]
     },
     "execution_count": 75,
     "metadata": {},
     "output_type": "execute_result"
    }
   ],
   "source": [
    "outtabi"
   ]
  },
  {
   "cell_type": "code",
   "execution_count": 76,
   "metadata": {
    "collapsed": false
   },
   "outputs": [],
   "source": [
    "subim = phot.psf.subtract_psf(im, psf_guess, outtabi)"
   ]
  },
  {
   "cell_type": "code",
   "execution_count": 77,
   "metadata": {
    "collapsed": false
   },
   "outputs": [
    {
     "name": "stderr",
     "output_type": "stream",
     "text": [
      "/Users/yaolun/anaconda/lib/python2.7/site-packages/ipykernel/__main__.py:1: RuntimeWarning: invalid value encountered in log10\n",
      "  if __name__ == '__main__':\n"
     ]
    },
    {
     "data": {
      "text/plain": [
       "<matplotlib.image.AxesImage at 0x116769650>"
      ]
     },
     "execution_count": 77,
     "metadata": {},
     "output_type": "execute_result"
    },
    {
     "data": {
      "image/png": "[encoded data removed]",
      "text/plain": [
       "<matplotlib.figure.Figure at 0x10e44c510>"
      ]
     },
     "metadata": {},
     "output_type": "display_data"
    }
   ],
   "source": [
    "plt.imshow(np.log10(subim), cmap='viridis')"
   ]
  },
  {
   "cell_type": "code",
   "execution_count": 19,
   "metadata": {
    "collapsed": true
   },
   "outputs": [],
   "source": [
    "hdu[0].data = subim\n",
    "hdu.writeto('IRAC1_subtracted.fits')"
   ]
  },
  {
   "cell_type": "markdown",
   "metadata": {
    "collapsed": true
   },
   "source": [
    "### ds9 regions extraction"
   ]
  },
  {
   "cell_type": "markdown",
   "metadata": {},
   "source": [
    "polygon shape - all south lobe included"
   ]
  },
  {
   "cell_type": "code",
   "execution_count": 20,
   "metadata": {
    "collapsed": false
   },
   "outputs": [
    {
     "name": "stdout",
     "output_type": "stream",
     "text": [
      "2648.47 / 826.174 =  3.20570485152\n"
     ]
    }
   ],
   "source": [
    "print '2648.47 / 826.174 = ', 2648.47 / 826.174"
   ]
  },
  {
   "cell_type": "markdown",
   "metadata": {},
   "source": [
    "<img src='poly1.jpg'>"
   ]
  },
  {
   "cell_type": "markdown",
   "metadata": {},
   "source": [
    "polygon shape - south lobe offset by 5 arcsec"
   ]
  },
  {
   "cell_type": "code",
   "execution_count": 21,
   "metadata": {
    "collapsed": false
   },
   "outputs": [
    {
     "name": "stdout",
     "output_type": "stream",
     "text": [
      "2086.431 / 826.174 =  2.52541353274\n"
     ]
    }
   ],
   "source": [
    "print '2086.431 / 826.174 = ', 2086.431 / 826.174"
   ]
  },
  {
   "cell_type": "markdown",
   "metadata": {},
   "source": [
    "<img src='poly2.jpg'>"
   ]
  },
  {
   "cell_type": "markdown",
   "metadata": {},
   "source": [
    "bos shape - 50x30, no offset"
   ]
  },
  {
   "cell_type": "code",
   "execution_count": 22,
   "metadata": {
    "collapsed": false
   },
   "outputs": [
    {
     "name": "stdout",
     "output_type": "stream",
     "text": [
      "3078.547 / 634.928 =  4.8486552806\n"
     ]
    }
   ],
   "source": [
    "print '3078.547 / 634.928 = ', 3078.547 / 634.928"
   ]
  },
  {
   "cell_type": "markdown",
   "metadata": {},
   "source": [
    "<img src='box1.jpg'>"
   ]
  },
  {
   "cell_type": "code",
   "execution_count": null,
   "metadata": {
    "collapsed": true
   },
   "outputs": [],
   "source": []
  }
 ],
 "metadata": {
  "kernelspec": {
   "display_name": "Python 2",
   "language": "python",
   "name": "python2"
  },
  "language_info": {
   "codemirror_mode": {
    "name": "ipython",
    "version": 2
   },
   "file_extension": ".py",
   "mimetype": "text/x-python",
   "name": "python",
   "nbconvert_exporter": "python",
   "pygments_lexer": "ipython2",
   "version": "2.7.11"
  }
 },
 "nbformat": 4,
 "nbformat_minor": 0
}
