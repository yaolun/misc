{
 "cells": [
  {
   "cell_type": "code",
   "execution_count": 4,
   "metadata": {
    "collapsed": true
   },
   "outputs": [],
   "source": [
    "%matplotlib inline\n",
    "import numpy as np\n",
    "import matplotlib.pyplot as plt\n",
    "import astropy.constants as const\n",
    "from astropy.io import fits\n",
    "from astropy import wcs\n",
    "from astropy.coordinates import SkyCoord\n",
    "from astropy import units as u\n",
    "c = SkyCoord('12 01 36.81 -65 08 49.22', unit=(u.hourangle, u.deg))"
   ]
  },
  {
   "cell_type": "code",
   "execution_count": 104,
   "metadata": {
    "collapsed": true
   },
   "outputs": [],
   "source": [
    "def gaussian_psf_extraction(image, pix2arcsec, beam_size, pos):\n",
    "    import photutils as phot\n",
    "    \n",
    "    # Gaussian sigma in pixel unit\n",
    "    psf = phot.psf.GaussianPSF(beam_size/pix2arcsec)\n",
    "    flux_gaussian = phot.psf.psf_photometry(image, [pos], psf)\n",
    "    \n",
    "    return flux_gaussian"
   ]
  },
  {
   "cell_type": "code",
   "execution_count": 181,
   "metadata": {
    "collapsed": false
   },
   "outputs": [],
   "source": [
    "def Gaussian_extraction(position, radius, image, plate_scale):\n",
    "    # radius in arcsec\n",
    "    # size is an array with the same size of the image array.  Or the image array will do the trick\n",
    "    # plate scale is how many arcsec of a single pixel\n",
    "    # position is the pixel coordinates where the 2D Gaussian should center on\n",
    "    \n",
    "    # Create a 2-D cartian grid for mapping 2-D Gaussian\n",
    "    def gauss2d(x, y, sigmax, sigmay=None, norm=True):\n",
    "        # sigmax needs to be in pixel coordinates\n",
    "        if sigmay == None:\n",
    "            sigmay = sigmax\n",
    "        if norm:\n",
    "            gauss = 1/(2*np.pi*sigmax*sigmay) * np.exp( -(x**2/2./sigmax**2 + y**2/2./sigmay**2) )\n",
    "        else:\n",
    "            gauss = np.exp( -(x**2/2./sigmax**2 + y**2/2./sigmay**2) )\n",
    "        return gauss\n",
    "    \n",
    "    size_x, size_y = np.shape(image)\n",
    "    grid_x, grid_y = np.meshgrid(np.linspace(0,size_x-1,size_x), np.linspace(0,size_y-1,size_y))\n",
    "    grid_x = grid_x - (size_x-1)/2.\n",
    "    grid_y = grid_y - (size_y-1)/2.\n",
    "    \n",
    "    print grid_x[180,:]\n",
    "    grid_gauss2d = gauss2d(grid_x,grid_y, sigmax=radius/plate_scale)\n",
    "\n",
    "    r_pix = radius/plate_scale\n",
    "\n",
    "    grid_dist = ((grid_x-position[0])**2+(grid_y-position[1])**2)**0.5\n",
    "    print grid_gauss2d.max()\n",
    "    gauss2d_masked = np.where(grid_dist<=r_pix, grid_gauss2d,0)\n",
    "    \n",
    "    return gauss2d_masked"
   ]
  },
  {
   "cell_type": "code",
   "execution_count": 182,
   "metadata": {
    "collapsed": true
   },
   "outputs": [],
   "source": [
    "data = fits.open('/Users/yaolun/bhr71/data/photometry/herschel_photometry/1342224922/browseProduct/blue_JScanam_map/hpacs_25HPPJSMAPB_blue_1202_m6509_00_v1.0_1434550765178.fits')"
   ]
  },
  {
   "cell_type": "code",
   "execution_count": 183,
   "metadata": {
    "collapsed": false
   },
   "outputs": [
    {
     "name": "stdout",
     "output_type": "stream",
     "text": [
      "[-181.5 -180.5 -179.5 -178.5 -177.5 -176.5 -175.5 -174.5 -173.5 -172.5\n",
      " -171.5 -170.5 -169.5 -168.5 -167.5 -166.5 -165.5 -164.5 -163.5 -162.5\n",
      " -161.5 -160.5 -159.5 -158.5 -157.5 -156.5 -155.5 -154.5 -153.5 -152.5\n",
      " -151.5 -150.5 -149.5 -148.5 -147.5 -146.5 -145.5 -144.5 -143.5 -142.5\n",
      " -141.5 -140.5 -139.5 -138.5 -137.5 -136.5 -135.5 -134.5 -133.5 -132.5\n",
      " -131.5 -130.5 -129.5 -128.5 -127.5 -126.5 -125.5 -124.5 -123.5 -122.5\n",
      " -121.5 -120.5 -119.5 -118.5 -117.5 -116.5 -115.5 -114.5 -113.5 -112.5\n",
      " -111.5 -110.5 -109.5 -108.5 -107.5 -106.5 -105.5 -104.5 -103.5 -102.5\n",
      " -101.5 -100.5  -99.5  -98.5  -97.5  -96.5  -95.5  -94.5  -93.5  -92.5\n",
      "  -91.5  -90.5  -89.5  -88.5  -87.5  -86.5  -85.5  -84.5  -83.5  -82.5\n",
      "  -81.5  -80.5  -79.5  -78.5  -77.5  -76.5  -75.5  -74.5  -73.5  -72.5\n",
      "  -71.5  -70.5  -69.5  -68.5  -67.5  -66.5  -65.5  -64.5  -63.5  -62.5\n",
      "  -61.5  -60.5  -59.5  -58.5  -57.5  -56.5  -55.5  -54.5  -53.5  -52.5\n",
      "  -51.5  -50.5  -49.5  -48.5  -47.5  -46.5  -45.5  -44.5  -43.5  -42.5\n",
      "  -41.5  -40.5  -39.5  -38.5  -37.5  -36.5  -35.5  -34.5  -33.5  -32.5\n",
      "  -31.5  -30.5  -29.5  -28.5  -27.5  -26.5  -25.5  -24.5  -23.5  -22.5\n",
      "  -21.5  -20.5  -19.5  -18.5  -17.5  -16.5  -15.5  -14.5  -13.5  -12.5\n",
      "  -11.5  -10.5   -9.5   -8.5   -7.5   -6.5   -5.5   -4.5   -3.5   -2.5\n",
      "   -1.5   -0.5    0.5    1.5    2.5    3.5    4.5    5.5    6.5    7.5\n",
      "    8.5    9.5   10.5   11.5   12.5   13.5   14.5   15.5   16.5   17.5\n",
      "   18.5   19.5   20.5   21.5   22.5   23.5   24.5   25.5   26.5   27.5\n",
      "   28.5   29.5   30.5   31.5   32.5   33.5   34.5   35.5   36.5   37.5\n",
      "   38.5   39.5   40.5   41.5   42.5   43.5   44.5   45.5   46.5   47.5\n",
      "   48.5   49.5   50.5   51.5   52.5   53.5   54.5   55.5   56.5   57.5\n",
      "   58.5   59.5   60.5   61.5   62.5   63.5   64.5   65.5   66.5   67.5\n",
      "   68.5   69.5   70.5   71.5   72.5   73.5   74.5   75.5   76.5   77.5\n",
      "   78.5   79.5   80.5   81.5   82.5   83.5   84.5   85.5   86.5   87.5\n",
      "   88.5   89.5   90.5   91.5   92.5   93.5   94.5   95.5   96.5   97.5\n",
      "   98.5   99.5  100.5  101.5  102.5  103.5  104.5  105.5  106.5  107.5\n",
      "  108.5  109.5  110.5  111.5  112.5  113.5  114.5  115.5  116.5  117.5\n",
      "  118.5  119.5  120.5  121.5  122.5  123.5  124.5  125.5  126.5  127.5\n",
      "  128.5  129.5  130.5  131.5  132.5  133.5  134.5  135.5  136.5  137.5\n",
      "  138.5  139.5  140.5  141.5  142.5  143.5  144.5  145.5  146.5  147.5\n",
      "  148.5  149.5  150.5  151.5  152.5  153.5  154.5  155.5  156.5  157.5\n",
      "  158.5  159.5  160.5  161.5  162.5  163.5  164.5  165.5  166.5  167.5\n",
      "  168.5  169.5  170.5  171.5  172.5  173.5  174.5  175.5  176.5  177.5\n",
      "  178.5  179.5  180.5  181.5]\n",
      "0.00223167019225\n",
      "1.52869680607e-187\n"
     ]
    }
   ],
   "source": [
    "im = data[1].data\n",
    "gauss2d_masked = Gaussian_extraction(data_pixcoord, 13.5, im, pix2arcsec)\n",
    "print gauss2d_masked.max()\n"
   ]
  },
  {
   "cell_type": "markdown",
   "metadata": {},
   "source": [
    "## Get the pixel coordinates of the source from the physical coordinates"
   ]
  },
  {
   "cell_type": "code",
   "execution_count": 147,
   "metadata": {
    "collapsed": false
   },
   "outputs": [],
   "source": [
    "w = wcs.WCS(data[1].header)\n",
    "data_pixcoord = w.wcs_world2pix(np.array([[c.ra.degree, c.dec.degree]]),1)[0]"
   ]
  },
  {
   "cell_type": "code",
   "execution_count": 107,
   "metadata": {
    "collapsed": false
   },
   "outputs": [],
   "source": [
    "import photutils as phot\n",
    "psf = phot.psf.GaussianPSF(13.5/pix2arcsec)"
   ]
  },
  {
   "cell_type": "markdown",
   "metadata": {},
   "source": [
    "## Get the pixel to physical conversion factor"
   ]
  },
  {
   "cell_type": "code",
   "execution_count": 148,
   "metadata": {
    "collapsed": false
   },
   "outputs": [],
   "source": [
    "cdelt1 = data[1].header['CDELT1']\n",
    "cdelt2 = data[1].header['CDELT2']\n",
    "if abs(cdelt1) != abs(cdelt2):\n",
    "    print 'pixel scales are different in two axis. %f and %f' % (cdelt1, cdelt2)\n",
    "pix2arcsec = abs(cdelt1)*3600"
   ]
  },
  {
   "cell_type": "code",
   "execution_count": 144,
   "metadata": {
    "collapsed": false
   },
   "outputs": [
    {
     "name": "stdout",
     "output_type": "stream",
     "text": [
      "364 361\n"
     ]
    }
   ],
   "source": [
    "x_len = len(data[1].data[:,0])\n",
    "y_len = len(data[1].data[0,:])\n",
    "\n",
    "ra_offset = \n",
    "Gaussian_anywhere()"
   ]
  },
  {
   "cell_type": "code",
   "execution_count": null,
   "metadata": {
    "collapsed": true
   },
   "outputs": [],
   "source": []
  }
 ],
 "metadata": {
  "kernelspec": {
   "display_name": "Python 2",
   "language": "python",
   "name": "python2"
  },
  "language_info": {
   "codemirror_mode": {
    "name": "ipython",
    "version": 2
   },
   "file_extension": ".py",
   "mimetype": "text/x-python",
   "name": "python",
   "nbconvert_exporter": "python",
   "pygments_lexer": "ipython2",
   "version": "2.7.11"
  }
 },
 "nbformat": 4,
 "nbformat_minor": 0
}
