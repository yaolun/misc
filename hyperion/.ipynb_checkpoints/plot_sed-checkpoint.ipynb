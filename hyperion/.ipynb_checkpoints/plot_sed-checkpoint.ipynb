{
 "metadata": {
  "name": "",
  "signature": "sha256:e58af0d73320f96c190e075649353a1ece1c9dd72f3962252c6f0c2e6d058239"
 },
 "nbformat": 3,
 "nbformat_minor": 0,
 "worksheets": []
}