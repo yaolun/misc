{
 "cells": [
  {
   "cell_type": "code",
   "execution_count": 254,
   "metadata": {
    "collapsed": false
   },
   "outputs": [],
   "source": [
    "%matplotlib inline\n",
    "import numpy as np\n",
    "import matplotlib.pyplot as plt\n",
    "from hyperion.model import ModelOutput\n",
    "import astropy.constants as const\n",
    "\n",
    "AU = const.au.cgs.value\n",
    "pc = const.pc.cgs.value\n",
    "MS = const.M_sun.cgs.value\n",
    "mh = const.m_p.cgs.value + const.m_e.cgs.value\n",
    "dstar = 178. * pc"
   ]
  },
  {
   "cell_type": "code",
   "execution_count": 170,
   "metadata": {
    "collapsed": false
   },
   "outputs": [],
   "source": [
    "filename = '/Users/yaolun/bhr71/hyperion/model12.rtout'\n",
    "m = ModelOutput(filename)\n",
    "\n",
    "q = m.get_quantities()\n",
    "r_wall, t_wall, p_wall = q.r_wall, q.t_wall, q.p_wall\n",
    "rc     = 0.5*( r_wall[0:len(r_wall)-1] + r_wall[1:len(r_wall)] )\n",
    "thetac = 0.5*( t_wall[0:len(t_wall)-1] + t_wall[1:len(t_wall)] )\n",
    "phic   = 0.5*( p_wall[0:len(p_wall)-1] + p_wall[1:len(p_wall)])\n",
    "\n",
    "rho = q['density'][0].array.T"
   ]
  },
  {
   "cell_type": "code",
   "execution_count": 3,
   "metadata": {
    "collapsed": true
   },
   "outputs": [],
   "source": [
    "def cell_size(gridi, q):\n",
    "    # grid index in cell coordinates\n",
    "    ir, itheta, iphi = gridi\n",
    "    \n",
    "    ri, thetai, phii = q.r_wall, q.t_wall, q.p_wall\n",
    "    \n",
    "    vol = (1/3.)*(ri[ir+1]**3 - ri[ir]**3) * (phii[iphi+1]-phii[iphi]) * -(np.cos(thetai[itheta+1])-np.cos(thetai[itheta]))\n",
    "    \n",
    "    return vol"
   ]
  },
  {
   "cell_type": "markdown",
   "metadata": {},
   "source": [
    "## Diffraction limited beam\n",
    "\n",
    "### 1.2 $\\mu$m - 0.124 arcsec\n",
    "\n",
    "### 1.6 $\\mu$m - 0.165 arcsec"
   ]
  },
  {
   "cell_type": "code",
   "execution_count": 187,
   "metadata": {
    "collapsed": false
   },
   "outputs": [],
   "source": [
    "# beam size\n",
    "beam = 0.124\n",
    "def enclose_mass(beam, los=90.):\n",
    "    beam_rad = beam/2 * dstar/pc * AU # beam radius in cm\n",
    "    rad_limit = beam*dstar/pc*AU / ((2*(1-np.cos(np.pi/len(thetac))))**0.5)\n",
    "#     beam/2*dstar/pc*AU/np.sin(2*np.pi/len(thetac))\n",
    "    mass_column = 0\n",
    "    total_mass = 0\n",
    "    \n",
    "    itheta = np.argsort(abs(thetac-np.radians(los)))[0]\n",
    "    print itheta\n",
    "    # Projected distance on the plane perpendicular to LOS\n",
    "    # first need to do coordinates rotation\n",
    "    rot_angle = np.radians(90.-los)\n",
    "    \n",
    "    dist = np.empty_like(rho) \n",
    "    for ir in range(len(rc)):\n",
    "        # avoid empty cell\n",
    "        if rc[ir] <= 0.1*AU:\n",
    "            continue\n",
    "        for it in range(len(thetac)):\n",
    "            for ip in range(len(phic)):\n",
    "                dist[ir,it,ip] = (( rc[ir]*np.sin(thetac[it]+rot_angle)*np.sin(phic[ip]) )**2 +\\\n",
    "                                  ( rc[ir]*np.cos(thetac[it]+rot_angle) )**2)**0.5\n",
    "\n",
    "                if dist[ir,it,ip] <= beam_rad:\n",
    "                    # If the projected spacing between adjacent cell in polar angle is smaller than the beam radius,\n",
    "                    # the cell is considered \"entirely\" within the beam.  Its density is calculated and added to column\n",
    "                    # density.  If the projected spacing between adjacent cell in polar angle is greater than the beam\n",
    "                    # radius, the cel is considered \"more extended\" than the beam.  The added density is calculated by\n",
    "                    # the density of the cell times the segment of column that falls in the cell.\n",
    "                    if rc[ir] <= rad_limit:\n",
    "                        mass_column += rho[ir,it,ip] * cell_size((ir,it,ip),q)\n",
    "                \n",
    "                total_mass += rho[ir,it,ip]*cell_size((ir,it,ip),q)\n",
    "        if rc[ir] > rad_limit:\n",
    "            mass_column += (r_wall[ir+1]-r_wall[ir]) * np.pi*beam_rad**2 * rho[ir,itheta,0]\n",
    "    area = np.pi*beam_rad**2        \n",
    "    \n",
    "    print total_mass/MS\n",
    "    \n",
    "    return mass_column, area"
   ]
  },
  {
   "cell_type": "markdown",
   "metadata": {},
   "source": [
    "### Another version works in Cartesian (cannot do different LOS, maybe it can...)"
   ]
  },
  {
   "cell_type": "code",
   "execution_count": 250,
   "metadata": {
    "collapsed": true
   },
   "outputs": [],
   "source": [
    "# beam size\n",
    "beam = 0.124\n",
    "def enclose_mass_cart(beam, grid_ref, los=90.):\n",
    "    beam_rad = beam/2 * dstar/pc * AU # beam radius in cm\n",
    "    rad_limit = beam*dstar/pc*AU / ((2*(1-np.cos(np.pi/len(thetac))))**0.5)\n",
    "    mass_column = 0\n",
    "    total_mass = 0\n",
    "    \n",
    "    # Projected distance on the plane perpendicular to LOS\n",
    "    # first need to do coordinates rotation\n",
    "    rot_angle = np.radians(90.-los)\n",
    "    \n",
    "    dist = np.empty_like(rho)\n",
    "    # reference point on yz-plane\n",
    "    y_ref, z_ref = grid_ref\n",
    "    y_ref = y_ref * dstar/pc*AU\n",
    "    z_ref = z_ref * dstar/pc*AU\n",
    "                \n",
    "    for ir in range(len(rc)):\n",
    "        # avoid empty cell\n",
    "        if rc[ir] <= 0.1*AU:\n",
    "            continue\n",
    "        for it in range(len(thetac)):\n",
    "            for ip in range(len(phic)):\n",
    "                # convert the spherical coordinates to cartiesian coordinates\n",
    "                x = rc[ir]*np.sin(thetac[it]+rot_angle)*np.cos(phic[ip])\n",
    "                y = rc[ir]*np.sin(thetac[it]+rot_angle)*np.sin(phic[ip])\n",
    "                z = rc[ir]*np.cos(phic[ip])\n",
    "                \n",
    "                dist[ir,it,ip] = ((y-y_ref)**2 + (z-z_ref)**2)**0.5\n",
    "\n",
    "                if dist[ir,it,ip] <= beam_rad:\n",
    "                    mass_column += rho[ir,it,ip] * cell_size((ir,it,ip),q)\n",
    "                \n",
    "                total_mass += rho[ir,it,ip]*cell_size((ir,it,ip),q)\n",
    "                \n",
    "    area = np.pi*beam_rad**2\n",
    "    \n",
    "    return mass_column, area"
   ]
  },
  {
   "cell_type": "code",
   "execution_count": 245,
   "metadata": {
    "collapsed": false
   },
   "outputs": [
    {
     "data": {
      "text/plain": [
       "array([ 1. ,  1.1,  1.2,  1.3,  1.4,  1.5,  1.6,  1.7,  1.8,  1.9,  2. ])"
      ]
     },
     "execution_count": 245,
     "metadata": {},
     "output_type": "execute_result"
    }
   ],
   "source": [
    "np.arange(1, 2.1, 0.1)"
   ]
  },
  {
   "cell_type": "code",
   "execution_count": null,
   "metadata": {
    "collapsed": false
   },
   "outputs": [],
   "source": [
    "x = np.arange(1, 2.1, 0.1)\n",
    "Aj = np.empty_like(x)\n",
    "Ah = np.empty_like(x)\n",
    "beam = 0.124\n",
    "los=60.\n",
    "\n",
    "foo = open('/Users/yaolun/Dropbox/HST_cycle24/column_density_los'+str(los)+'.txt','w')\n",
    "foo.write('%s \\t %s \\n' % ('offset[arcsec]', 'N_H[cm-3]'))\n",
    "\n",
    "for ix in range(len(x)):\n",
    "    mass, area = enclose_mass_cart(beam, (0,-x[ix]), los=los)\n",
    "    Nh = mass*100./mh/area\n",
    "    Aj[ix] = 1.086 * 1.994e-22 * Nh\n",
    "    Ah[ix] = 1.086 * 1.203e-22 * Nh\n",
    "\n",
    "    foo.write('%f \\t %f \\n' % (x[ix], Nh))\n",
    "\n",
    "foo.close()"
   ]
  },
  {
   "cell_type": "code",
   "execution_count": 259,
   "metadata": {
    "collapsed": false
   },
   "outputs": [
    {
     "name": "stdout",
     "output_type": "stream",
     "text": [
      "175.420667583 166.659553139\n"
     ]
    }
   ],
   "source": [
    "from scipy.interpolate import interp1d\n",
    "f_j = interp1d(Aj, x)\n",
    "f_h = interp1d(Ah, x)\n",
    "\n",
    "print f_j(5)*150, f_h(5)*150"
   ]
  },
  {
   "cell_type": "code",
   "execution_count": 257,
   "metadata": {
    "collapsed": false
   },
   "outputs": [
    {
     "data": {
      "image/png": "[encoded data removed]",
      "text/plain": [
       "<matplotlib.figure.Figure at 0x107958710>"
      ]
     },
     "metadata": {},
     "output_type": "display_data"
    }
   ],
   "source": [
    "fig = plt.figure(figsize=(8,6))\n",
    "ax = fig.add_subplot(111)\n",
    "\n",
    "ext_j, = ax.plot(x, Aj, 'bo-', mec='None', markersize=10)\n",
    "ext_h, = ax.plot(x, Ah, 'ro-', mec='None', markersize=10)\n",
    "\n",
    "ax.legend([ext_j, ext_h], [r'$\\rm{A_{J}}$', r'$\\rm{A_{H}}$'], loc='best', fontsize=18, numpoints=1)\n",
    "ax.set_xlabel(r'$\\rm{Angular\\,Offset\\,[arcsec]}$', fontsize=20)\n",
    "ax.set_ylabel(r'$\\rm{Extinction\\,[mag.]}$', fontsize=20)\n",
    "[ax.spines[axis].set_linewidth(1.5) for axis in ['top','bottom','left','right']]\n",
    "ax.minorticks_on()\n",
    "ax.tick_params('both',labelsize=18,width=1.5,which='major',pad=10,length=5)\n",
    "ax.tick_params('both',labelsize=18,width=1.5,which='minor',pad=10,length=2.5)\n",
    "\n",
    "fig.savefig('/Users/yaolun/Dropbox/HST_cycle24/extinction_estimation.pdf', format='pdf', dpi=300, bbox_inches='tight')"
   ]
  },
  {
   "cell_type": "code",
   "execution_count": 234,
   "metadata": {
    "collapsed": true
   },
   "outputs": [],
   "source": [
    "dstar = 178.\n",
    "wave = 1.6\n",
    "# rtout for analysis\n",
    "rt_reg = ModelOutput('/Users/yaolun/bhr71/hyperion/model12.rtout')\n",
    "rt_const = ModelOutput('/Users/yaolun/bhr71/hyperion/model13.rtout')\n",
    "rt_r2 = ModelOutput('/Users/yaolun/bhr71/hyperion/model14.rtout')\n",
    "rt_incl = ModelOutput('/Users/yaolun/bhr71/hyperion/model15.rtout')"
   ]
  },
  {
   "cell_type": "code",
   "execution_count": 235,
   "metadata": {
    "collapsed": false
   },
   "outputs": [],
   "source": [
    "# get image\n",
    "def get_image(m):\n",
    "    image = m.get_image(group=0, inclination=0, distance=dstar * pc, units='MJy/sr')\n",
    "\n",
    "    # Find the closest wavelength\n",
    "    iwav = np.argmin(np.abs(wave - image.wav))\n",
    "\n",
    "    # Calculate the image width in arcseconds given the distance used above\n",
    "    # get the max radius\n",
    "    rmax = max(m.get_quantities().r_wall)\n",
    "    w = np.degrees(rmax / image.distance) * 3600.\n",
    "\n",
    "    # Image in the unit of MJy/sr\n",
    "    # Change it into erg/s/cm2/Hz/sr\n",
    "    factor = 1e-23*1e6\n",
    "    # avoid zero in log\n",
    "    # flip the image, because the setup of inclination is upside down\n",
    "    val = image.val[::-1, :, iwav] * factor + 1e-30\n",
    "    \n",
    "    return val, w\n",
    "\n",
    "im_reg, w = get_image(rt_reg)\n",
    "im_const, w = get_image(rt_const)\n",
    "im_r2, w = get_image(rt_r2)\n",
    "im_incl, w = get_image(rt_incl)"
   ]
  },
  {
   "cell_type": "code",
   "execution_count": 236,
   "metadata": {
    "collapsed": true
   },
   "outputs": [],
   "source": [
    "# rebin function\n",
    "def rebin(data, width, method='savgol', norm=False, interp=False):\n",
    "    \"\"\"\n",
    "    If the method is \"sigma_clip,\" the value of width will be treated as sigma.\n",
    "    \"\"\"\n",
    "    # the input width for gaussian kernel is FWHM\n",
    "    from astropy.convolution import convolve, Gaussian1DKernel, Box1DKernel\n",
    "    if method == 'boxcar':\n",
    "        kernel = Box1DKernel(width, mode='center')\n",
    "        smooth_data = convolve(data, kernel)\n",
    "    elif method == 'gaussian':\n",
    "        kernel = Gaussian1DKernel(width/2.354)\n",
    "        smooth_data = convolve(data, kernel)\n",
    "    elif method == 'savgol':\n",
    "        from scipy.signal import savgol_filter\n",
    "        if width % 2 == 0:\n",
    "            width = width+1\n",
    "        smooth_data = savgol_filter(data, width, 2)\n",
    "    elif method == 'sigma_clip':\n",
    "        from astropy.stats import sigma_clip\n",
    "        smooth_data = sigma_clip(data,sigma=width)\n",
    "        \n",
    "        # The interpolation function interpolates the masked value with nearby data\n",
    "        if interp:\n",
    "            from scipy.interpolate import interp1d\n",
    "            x = np.linspace(1, len(data), len(data))\n",
    "            print len(x[smooth_data.mask]), len(smooth_data.data[smooth_data.mask])\n",
    "            f = interp1d(x[smooth_data.mask], smooth_data.data[smooth_data.mask])\n",
    "            interp_data = f(x[np.invert(smooth_data.mask)])\n",
    "            unsort_data = np.hstack((smooth_data.data[smooth_data.mask], interp_data))\n",
    "            unsort_x = np.hstack((x[smooth_data.mask], x[np.invert(smooth_data.mask)]))\n",
    "            sorter = np.argsort(unsort_x)\n",
    "            smooth_data = unsort_data[sorter]\n",
    "    if norm == True:\n",
    "        smooth_data = smooth_data/smooth_data.max()\n",
    "    \n",
    "    return smooth_data"
   ]
  },
  {
   "cell_type": "code",
   "execution_count": 243,
   "metadata": {
    "collapsed": false
   },
   "outputs": [
    {
     "data": {
      "text/plain": [
       "(-50, 2)"
      ]
     },
     "execution_count": 243,
     "metadata": {},
     "output_type": "execute_result"
    },
    {
     "data": {
      "image/png": "[encoded data removed]",
      "text/plain": [
       "<matplotlib.figure.Figure at 0x10794f8d0>"
      ]
     },
     "metadata": {},
     "output_type": "display_data"
    }
   ],
   "source": [
    "fig = plt.figure(figsize=(8,6))\n",
    "ax = fig.add_subplot(111)\n",
    "\n",
    "r_im = np.linspace(-w, w, 4000)\n",
    "rebin_pix = 10\n",
    "ax.plot(rebin(r_im,rebin_pix), rebin(np.sum(im_reg[:,1949:2049], axis=1), rebin_pix, norm=True) * 50,\n",
    "        'b-', label=r'$\\rm{const.+r^{-2}}$')\n",
    "ext_j, = ax.plot(x, Aj, 'bo-', mec='None', markersize=10)\n",
    "ext_h, = ax.plot(x, Ah, 'ro-', mec='None', markersize=10)\n",
    "\n",
    "ax.set_xlim([-50,2])"
   ]
  },
  {
   "cell_type": "code",
   "execution_count": null,
   "metadata": {
    "collapsed": true
   },
   "outputs": [],
   "source": []
  }
 ],
 "metadata": {
  "kernelspec": {
   "display_name": "Python 2",
   "language": "python",
   "name": "python2"
  },
  "language_info": {
   "codemirror_mode": {
    "name": "ipython",
    "version": 2
   },
   "file_extension": ".py",
   "mimetype": "text/x-python",
   "name": "python",
   "nbconvert_exporter": "python",
   "pygments_lexer": "ipython2",
   "version": "2.7.11"
  }
 },
 "nbformat": 4,
 "nbformat_minor": 0
}
