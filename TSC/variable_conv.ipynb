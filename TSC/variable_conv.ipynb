{
 "metadata": {
  "name": "",
  "signature": "sha256:6bf33c00889099e1cce37da08b705bc240bbc64951916f1de3c48e79a11a1966"
 },
 "nbformat": 3,
 "nbformat_minor": 0,
 "worksheets": [
  {
   "cells": [
    {
     "cell_type": "heading",
     "level": 4,
     "metadata": {},
     "source": [
      "infall solution\n",
      "$$ \\rho(r,\\theta) = \\frac{\\dot{M}_{env}}{4\\pi(GM_{\\star}R_{c}^{3})^{1/2}}\\left(\\frac{r}{R_{c}}\\right)^{-3/2}\\left(1+\\frac{\\mu}{\\mu_{0}}\\right)^{-1/2}\\times\\left(\\frac{\\mu}{\\mu_{0}}+\\frac{2\\mu_{0}R_{c}}{r}\\right)$$\n",
      "where\n",
      "$$ \\mu_{0}^{3}+\\mu_{0}\\left(\\frac{r}{R_{c}}-1\\right)-\\mu\\left(\\frac{r}{R_{c}}\\right) = 0 $$"
     ]
    },
    {
     "cell_type": "heading",
     "level": 4,
     "metadata": {},
     "source": [
      "Infall solution with variables: $$M_{\\star},~\\dot{M_{env}},~\\text{and}~R_{c}$$\n",
      "TSC model with variables: $$t,~\\Omega_{0},~\\text{and}~c_{s}$$"
     ]
    },
    {
     "cell_type": "markdown",
     "metadata": {},
     "source": [
      "Equations\n",
      "$$M_{\\star} = \\dot{M_{env}}t$$\n",
      "$$\\dot{M_{env}} = 0.975\\frac{c_{s}^{3}}{G} \\text{, the inner apporximation}$$\n",
      "$$R_{c} = \\frac{\\Omega_{0}^{2}G^{3}M_{\\star}^{3}}{16c_{s}^{8}}$$"
     ]
    },
    {
     "cell_type": "heading",
     "level": 2,
     "metadata": {},
     "source": [
      "Kristensen et al. 2012\n",
      "<img src=\"Kristensen_2012_fitted_table.png\">\n",
      "Nisini et al. 2015\n",
      "<img src=\"Nisini_2015_jet_accretion_rate.png\">\n",
      "Yildiz et al. 2013\n",
      "<img src=\"Yildiz_table.png\">"
     ]
    },
    {
     "cell_type": "code",
     "collapsed": false,
     "input": [
      "# parameters put in Robitaille's model\n",
      "mstar = 0.5855  # Solar mass\n",
      "m_dot = 2e-6    # Solar mass per year\n",
      "rcen  = 15      # AU\n",
      "\n",
      "# constant setup\n",
      "import astropy.constants as const\n",
      "G = const.G.cgs.value\n",
      "MS = const.M_sun.cgs.value\n",
      "AU = const.au.cgs.value\n",
      "yr = 60*60*24*365.0\n",
      "\n",
      "mstar = mstar * MS\n",
      "m_dot = m_dot * MS/yr\n",
      "rcen  = rcen  * AU\n",
      "\n",
      "t = mstar / m_dot / yr # in year\n",
      "cs = (G * m_dot / 0.975)**(1/3.)  # cm/s\n",
      "omega = (rcen * 16*cs**8 / (G**3 * mstar**3))**0.5 \n",
      "\n",
      "print t, cs/1e5, omega\n",
      "print t*cs*1e5/AU"
     ],
     "language": "python",
     "metadata": {},
     "outputs": [
      {
       "output_type": "stream",
       "stream": "stdout",
       "text": [
        "292750.0 0.205155765751 1.54904585441e-14\n"
       ]
      }
     ],
     "prompt_number": 2
    },
    {
     "cell_type": "code",
     "collapsed": false,
     "input": [
      "# constant setup\n",
      "import astropy.constants as const\n",
      "G = const.G.cgs.value\n",
      "MS = const.M_sun.cgs.value\n",
      "AU = const.au.cgs.value\n",
      "yr = 60*60*24*365.0\n",
      "\n",
      "# parameters from others modeling\n",
      "m_dot = 3e-5 * MS/yr         # Solar mass per year\n",
      "r_inf = 3500 * AU            # AU\n",
      "r_10k = 9900 * AU            # AU\n",
      "# unconstrained parameters\n",
      "rcen  = 15   * AU            # AU\n",
      "\n",
      "# Reset values\n",
      "cs = 0\n",
      "omega = 0\n",
      "t = 0\n",
      "\n",
      "cs = (G * m_dot / 0.975)**(1/3.)  # cm/s\n",
      "t = r_inf / cs / yr\n",
      "mstar = m_dot * t * yr\n",
      "omega = (rcen * 16*cs**8 / (G**3 * mstar**3))**0.5 \n",
      "\n",
      "print t, cs/1e5, omega, mstar/MS"
     ],
     "language": "python",
     "metadata": {},
     "outputs": [
      {
       "output_type": "stream",
       "stream": "stdout",
       "text": [
        "32815.0222282 0.505957626614 2.62836312414e-13 0.984450666847\n"
       ]
      }
     ],
     "prompt_number": 17
    },
    {
     "cell_type": "code",
     "collapsed": false,
     "input": [
      "# constant setup\n",
      "import astropy.constants as const\n",
      "G = const.G.cgs.value\n",
      "MS = const.M_sun.cgs.value\n",
      "AU = const.au.cgs.value\n",
      "yr = 60*60*24*365.0\n",
      "\n",
      "# TSC to others\n",
      "cs        = 0.1 * 1e5  # cm/s\n",
      "t         = 1e4  # year\n",
      "omega     = 1e-13\n",
      "# calculate related parameters\n",
      "M_env_dot = 0.975*cs**3/G\n",
      "mstar     = M_env_dot * t * yr\n",
      "R_cen     = omega**2 * G**3 * mstar**3 /(16*cs**8)\n",
      "R_inf     = cs * t * yr\n",
      "print M_env_dot/MS*yr, mstar/MS, R_cen/AU, R_inf/AU"
     ],
     "language": "python",
     "metadata": {},
     "outputs": [
      {
       "output_type": "stream",
       "stream": "stdout",
       "text": [
        "2.31621470587e-07 0.00231621470587 0.012144741441 210.805139488\n"
       ]
      }
     ],
     "prompt_number": 3
    },
    {
     "cell_type": "code",
     "collapsed": false,
     "input": [
      "from astropy.io import ascii\n",
      "\n",
      "# constant setup\n",
      "import astropy.constants as const\n",
      "G = const.G.cgs.value\n",
      "MS = const.M_sun.cgs.value\n",
      "AU = const.au.cgs.value\n",
      "yr = 60*60*24*365.0\n",
      "\n",
      "mlist = ascii.read('/Users/yaolun/bhr71/hyperion/cycle2/model_list.txt')\n",
      "for i in range(0, len(mlist['Model#'])):\n",
      "    cs = mlist['Cs'][i] * 1e5\n",
      "    t  = mlist['age'][i]\n",
      "    omega = mlist['Omega0'][i]\n",
      "    # calculate related parameters\n",
      "    M_env_dot = 0.975*cs**3/G\n",
      "    mstar     = M_env_dot * t * yr\n",
      "    R_cen     = omega**2 * G**3 * mstar**3 /(16*cs**8)\n",
      "    R_inf     = cs * t * yr\n",
      "    \n",
      "    print '%s %e %e %e %e' % (mlist['Model#'][i], M_env_dot/MS*yr, R_inf/AU, R_cen/AU, mstar/MS)"
     ],
     "language": "python",
     "metadata": {},
     "outputs": [
      {
       "output_type": "stream",
       "stream": "stdout",
       "text": [
        "Model1 2.999167e-05 3.500003e+03 1.500001e+01 9.842694e-01\n",
        "Model2 2.316215e-07 2.108051e+02 1.214474e+00 2.316215e-03\n",
        "Model3 2.316215e-07 6.324154e+02 3.279080e+01 6.948644e-03\n",
        "Model4 2.316215e-07 1.054026e+03 1.518093e+02 1.158107e-02\n",
        "Model5 1.852972e-06 4.216103e+02 2.428948e+00 1.852972e-02\n",
        "Model6 1.852972e-06 1.264831e+03 6.558160e+01 5.558915e-02\n",
        "Model7 1.852972e-06 2.108051e+03 3.036185e+02 9.264859e-02\n",
        "Model8 6.253780e-06 6.324154e+02 3.643422e+00 6.253780e-02\n",
        "Model9 6.253780e-06 1.897246e+03 9.837241e+01 1.876134e-01\n",
        "Model10 6.253780e-06 3.162077e+03 4.554278e+02 3.126890e-01\n",
        "Model11 1.482377e-05 8.432206e+02 4.857897e+00 1.482377e-01\n",
        "Model12 1.482377e-05 2.529662e+03 1.311632e+02 4.447132e-01\n",
        "Model13 1.482377e-05 4.216103e+03 6.072371e+02 7.411887e-01\n",
        "Model14 2.895268e-05 1.054026e+03 6.072371e+00 2.895268e-01\n",
        "Model15 2.895268e-05 3.162077e+03 1.639540e+02 8.685805e-01\n",
        "Model16 2.895268e-05 5.270128e+03 7.590463e+02 1.447634e+00\n",
        "Model17 2.316215e-07 2.108051e+02 1.214474e-02 2.316215e-03\n",
        "Model18 2.316215e-07 6.324154e+02 3.279080e-01 6.948644e-03\n",
        "Model19 2.316215e-07 1.054026e+03 1.518093e+00 1.158107e-02\n",
        "Model20 1.852972e-06 4.216103e+02 2.428948e-02 1.852972e-02\n",
        "Model21 1.852972e-06 1.264831e+03 6.558160e-01 5.558915e-02\n",
        "Model22 1.852972e-06 2.108051e+03 3.036185e+00 9.264859e-02\n",
        "Model23 6.253780e-06 6.324154e+02 3.643422e-02 6.253780e-02\n",
        "Model24 6.253780e-06 1.897246e+03 9.837241e-01 1.876134e-01\n",
        "Model25 6.253780e-06 3.162077e+03 4.554278e+00 3.126890e-01\n",
        "Model26 1.482377e-05 8.432206e+02 4.857897e-02 1.482377e-01\n",
        "Model27 1.482377e-05 2.529662e+03 1.311632e+00 4.447132e-01\n",
        "Model28 1.482377e-05 4.216103e+03 6.072371e+00 7.411887e-01\n",
        "Model29 2.895268e-05 1.054026e+03 6.072371e-02 2.895268e-01\n",
        "Model30 2.895268e-05 3.162077e+03 1.639540e+00 8.685805e-01\n",
        "Model31 2.895268e-05 5.270128e+03 7.590463e+00 1.447634e+00\n",
        "Model32 2.316215e-07 2.108051e+02 1.214474e-04 2.316215e-03\n",
        "Model33 2.316215e-07 6.324154e+02 3.279080e-03 6.948644e-03\n",
        "Model34 2.316215e-07 1.054026e+03 1.518093e-02 1.158107e-02\n",
        "Model35 1.852972e-06 4.216103e+02 2.428948e-04 1.852972e-02\n",
        "Model36 1.852972e-06 1.264831e+03 6.558160e-03 5.558915e-02\n",
        "Model37 1.852972e-06 2.108051e+03 3.036185e-02 9.264859e-02\n",
        "Model38 6.253780e-06 6.324154e+02 3.643422e-04 6.253780e-02\n",
        "Model39 6.253780e-06 1.897246e+03 9.837241e-03 1.876134e-01\n",
        "Model40 6.253780e-06 3.162077e+03 4.554278e-02 3.126890e-01\n",
        "Model41 1.482377e-05 8.432206e+02 4.857897e-04 1.482377e-01\n",
        "Model42 1.482377e-05 2.529662e+03 1.311632e-02 4.447132e-01\n",
        "Model43 1.482377e-05 4.216103e+03 6.072371e-02 7.411887e-01\n",
        "Model44 2.895268e-05 1.054026e+03 6.072371e-04 2.895268e-01\n",
        "Model45 2.895268e-05 3.162077e+03 1.639540e-02 8.685805e-01\n",
        "Model46 2.895268e-05 5.270128e+03 7.590463e-02 1.447634e+00\n"
       ]
      }
     ],
     "prompt_number": 9
    },
    {
     "cell_type": "code",
     "collapsed": false,
     "input": [],
     "language": "python",
     "metadata": {},
     "outputs": []
    }
   ],
   "metadata": {}
  }
 ]
}