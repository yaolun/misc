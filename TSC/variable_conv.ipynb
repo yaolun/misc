{
 "metadata": {
  "name": "",
  "signature": "sha256:6a0d35bcb6b92b04e9ec02479049c6e7e10f409123f7e1a9c6316dabe00e9fef"
 },
 "nbformat": 3,
 "nbformat_minor": 0,
 "worksheets": [
  {
   "cells": [
    {
     "cell_type": "heading",
     "level": 1,
     "metadata": {},
     "source": [
      "Variables conversion between the infall-only solution and TSC model\n"
     ]
    },
    {
     "cell_type": "heading",
     "level": 4,
     "metadata": {},
     "source": [
      "infall solution\n",
      "$$ \\rho(r,\\theta) = \\frac{\\dot{M}_{env}}{4\\pi(GM_{\\star}R_{c}^{3})^{1/2}}\\left(\\frac{r}{R_{c}}\\right)^{-3/2}\\left(1+\\frac{\\mu}{\\mu_{0}}\\right)^{-1/2}\\times\\left(\\frac{\\mu}{\\mu_{0}}+\\frac{2\\mu_{0}R_{c}}{r}\\right)$$\n",
      "where\n",
      "$$ \\mu_{0}^{3}+\\mu_{0}\\left(\\frac{r}{R_{c}}-1\\right)-\\mu\\left(\\frac{r}{R_{c}}\\right) = 0 $$"
     ]
    },
    {
     "cell_type": "heading",
     "level": 4,
     "metadata": {},
     "source": [
      "Infall solution with variables: $$M_{\\star},~\\dot{M_{env}},~\\text{and}~R_{c}$$\n",
      "TSC model with variables: $$t,~\\Omega_{0},~\\text{and}~c_{s}$$"
     ]
    },
    {
     "cell_type": "markdown",
     "metadata": {},
     "source": [
      "Equations\n",
      "$$M_{\\star} = \\dot{M_{env}}t$$\n",
      "$$\\dot{M_{env}} = 0.975\\frac{c_{s}^{3}}{G} \\text{, the inner apporximation}$$\n",
      "$$R_{c} = \\frac{\\Omega_{0}^{2}G^{3}M_{\\star}^{3}}{16c_{s}^{8}}$$"
     ]
    },
    {
     "cell_type": "heading",
     "level": 2,
     "metadata": {},
     "source": [
      "Kristensen et al. 2012\n",
      "<img src=\"Kristensen_2012_fitted_table.png\">\n",
      "Nisini et al. 2015\n",
      "<img src=\"Nisini_2015_jet_accretion_rate.png\">\n",
      "Yildiz et al. 2013\n",
      "<img src=\"Yildiz_table.png\">"
     ]
    },
    {
     "cell_type": "code",
     "collapsed": false,
     "input": [
      "# parameters put in Robitaille's model\n",
      "mstar = 0.5855  # Solar mass\n",
      "m_dot = 2e-6    # Solar mass per year\n",
      "rcen  = 15      # AU\n",
      "\n",
      "# constant setup\n",
      "import astropy.constants as const\n",
      "G = const.G.cgs.value\n",
      "MS = const.M_sun.cgs.value\n",
      "AU = const.au.cgs.value\n",
      "yr = 60*60*24*365.0\n",
      "\n",
      "mstar = mstar * MS\n",
      "m_dot = m_dot * MS/yr\n",
      "rcen  = rcen  * AU\n",
      "\n",
      "t = mstar / m_dot / yr # in year\n",
      "cs = (G * m_dot / 0.975)**(1/3.)  # cm/s\n",
      "omega = (rcen * 16*cs**8 / (G**3 * mstar**3))**0.5 \n",
      "\n",
      "print t, cs/1e5, omega\n",
      "print t*cs*1e5/AU"
     ],
     "language": "python",
     "metadata": {},
     "outputs": [
      {
       "output_type": "stream",
       "stream": "stdout",
       "text": [
        "292750.0 0.205155765751 1.54904585441e-14\n"
       ]
      }
     ],
     "prompt_number": 2
    },
    {
     "cell_type": "code",
     "collapsed": false,
     "input": [
      "# constant setup\n",
      "import astropy.constants as const\n",
      "G = const.G.cgs.value\n",
      "MS = const.M_sun.cgs.value\n",
      "AU = const.au.cgs.value\n",
      "yr = 60*60*24*365.0\n",
      "\n",
      "# parameters from others modeling\n",
      "m_dot = 3e-5 * MS/yr         # Solar mass per year\n",
      "r_inf = 3500 * AU            # AU\n",
      "r_10k = 9900 * AU            # AU\n",
      "# unconstrained parameters\n",
      "rcen  = 15   * AU            # AU\n",
      "\n",
      "# Reset values\n",
      "cs = 0\n",
      "omega = 0\n",
      "t = 0\n",
      "\n",
      "cs = (G * m_dot / 0.975)**(1/3.)  # cm/s\n",
      "t = r_inf / cs / yr\n",
      "mstar = m_dot * t * yr\n",
      "omega = (rcen * 16*cs**8 / (G**3 * mstar**3))**0.5 \n",
      "\n",
      "print t, cs/1e5, omega, mstar/MS"
     ],
     "language": "python",
     "metadata": {},
     "outputs": [
      {
       "output_type": "stream",
       "stream": "stdout",
       "text": [
        "32815.0222282 0.505957626614 2.62836312414e-13 0.984450666847\n"
       ]
      }
     ],
     "prompt_number": 17
    },
    {
     "cell_type": "code",
     "collapsed": false,
     "input": [],
     "language": "python",
     "metadata": {},
     "outputs": [],
     "prompt_number": 9
    },
    {
     "cell_type": "code",
     "collapsed": false,
     "input": [],
     "language": "python",
     "metadata": {},
     "outputs": []
    }
   ],
   "metadata": {}
  }
 ]
}