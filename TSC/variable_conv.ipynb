{
 "metadata": {
  "name": "",
  "signature": "sha256:80e0a3aa73da0726b537acfb9cc8e06f8cb4bec0a86b4f6a71254707c3d34cfb"
 },
 "nbformat": 3,
 "nbformat_minor": 0,
 "worksheets": [
  {
   "cells": [
    {
     "cell_type": "heading",
     "level": 1,
     "metadata": {},
     "source": [
      "Variables conversion between the infall-only solution and TSC model\n"
     ]
    },
    {
     "cell_type": "heading",
     "level": 4,
     "metadata": {},
     "source": [
      "infall solution\n",
      "$$ \\rho(r,\\theta) = \\frac{\\dot{M}_{env}}{4\\pi(GM_{\\star}R_{c}^{3})^{1/2}}\\left(\\frac{r}{R_{c}}\\right)^{-3/2}\\left(1+\\frac{\\mu}{\\mu_{0}}\\right)^{-1/2}\\times\\left(\\frac{\\mu}{\\mu_{0}}+\\frac{2\\mu_{0}R_{c}}{r}\\right)$$\n",
      "where\n",
      "$$ \\mu_{0}^{3}+\\mu_{0}\\left(\\frac{r}{R_{c}}-1\\right)-\\mu\\left(\\frac{r}{R_{c}}\\right) = 0 $$"
     ]
    },
    {
     "cell_type": "heading",
     "level": 4,
     "metadata": {},
     "source": [
      "Infall solution with variables: $$M_{\\star},~\\dot{M_{env}},~\\text{and}~R_{c}$$\n",
      "TSC model with variables: $$t,~\\Omega_{0},~\\text{and}~c_{s}$$"
     ]
    },
    {
     "cell_type": "markdown",
     "metadata": {},
     "source": [
      "Equations\n",
      "$$M_{\\star} = \\dot{M_{env}}t$$\n",
      "$$\\dot{M_{enc}} = 0.975\\frac{c_{s}^{3}}{G} \\text{, the inner apporximation}$$\n",
      "$$R_{c} = \\frac{\\Omega_{0}^{2}G^{3}M_{\\star}^{3}}{16c_{s}^{8}}$$"
     ]
    },
    {
     "cell_type": "code",
     "collapsed": false,
     "input": [
      "mstar = 0.5855  # Solar mass\n",
      "m_dot = 2e-6    # Solar mass per year\n",
      "rcen  = 15      # AU\n",
      "\n",
      "# constant setup\n",
      "import astropy.constants as const\n",
      "G = const.G.cgs.value\n",
      "MS = const.M_sun.cgs.value\n",
      "AU = const.au.cgs.value\n",
      "yr = 60*60*24*365.0\n",
      "\n",
      "mstar = mstar * MS\n",
      "m_dot = m_dot * MS/yr\n",
      "rcen  = rcen  * AU\n",
      "\n",
      "t = mstar / m_dot / yr # in year\n",
      "cs = (G * m_dot / 0.975)**(1/3.)  # km/s\n",
      "omega = (rcen * 16*cs**8 / (G**3 * mstar**3))**0.5 \n",
      "\n",
      "print t, cs/1e5, omega"
     ],
     "language": "python",
     "metadata": {},
     "outputs": [
      {
       "output_type": "stream",
       "stream": "stdout",
       "text": [
        "292750.0 0.205155765751 1.54904585441e-14\n"
       ]
      }
     ],
     "prompt_number": 12
    },
    {
     "cell_type": "code",
     "collapsed": false,
     "input": [],
     "language": "python",
     "metadata": {},
     "outputs": []
    }
   ],
   "metadata": {}
  }
 ]
}