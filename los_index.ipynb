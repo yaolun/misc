{
 "metadata": {
  "name": "",
  "signature": "sha256:52cdb3716a22a3a38790dad755fb1a4e4d9c7aff57a0cc991b7310f117330333"
 },
 "nbformat": 3,
 "nbformat_minor": 0,
 "worksheets": [
  {
   "cells": [
    {
     "cell_type": "code",
     "collapsed": false,
     "input": [
      "import numpy as np\n",
      "import astropy.constants as const\n",
      "# Constants setup\n",
      "c         = const.c.cgs.value\n",
      "AU        = 1.49598e13     # Astronomical Unit       [cm]\n",
      "pc        = 3.08572e18     # Parsec                  [cm]\n",
      "MS        = 1.98892e33     # Solar mass              [g]\n",
      "LS        = 3.8525e33      # Solar luminosity        [erg/s]\n",
      "RS        = 6.96e10        # Solar radius            [cm]\n",
      "G         = 6.67259e-8     # Gravitational constant  [cm3/g/s^2]\n",
      "yr        = 60*60*24*365   # Years in seconds\n",
      "PI        = np.pi          # PI constant\n",
      "sigma     = const.sigma_sb.cgs.value  # Stefan-Boltzmann constant \n",
      "mh        = const.m_p.cgs.value + const.m_e.cgs.value\n"
     ],
     "language": "python",
     "metadata": {},
     "outputs": [],
     "prompt_number": 1
    },
    {
     "cell_type": "code",
     "collapsed": false,
     "input": [
      "rin = 0.8 * RS\n",
      "rout = 10000*AU\n",
      "\n",
      "nx        = 100L \n",
      "ny        = 400L\n",
      "nz        = 50L\n",
      "\n",
      "# Make the Coordinates\n",
      "#\n",
      "ri           = rin * (rout/rin)**(np.arange(nx+1).astype(dtype='float')/float(nx))\n",
      "# ri           = np.hstack((0.0, ri))\n",
      "thetai       = PI*np.arange(ny+1).astype(dtype='float')/float(ny)\n",
      "phii         = PI*2.0*np.arange(nz+1).astype(dtype='float')/float(nz)\n",
      "\n",
      "# Keep the constant cell size in r-direction\n",
      "\n",
      "ri_cellsize = ri[1:-1]-ri[0:-2]\n",
      "ind = np.where(ri_cellsize/AU > 100.0)[0][0]       # The largest cell size is 100 AU\n",
      "ri = np.hstack((ri[0:ind],ri[ind]+np.arange(np.ceil((rout-ri[ind])/100/AU))*100*AU))\n",
      "nxx = nx\n",
      "nx = len(ri)-1    \n"
     ],
     "language": "python",
     "metadata": {},
     "outputs": [],
     "prompt_number": 79
    },
    {
     "cell_type": "code",
     "collapsed": false,
     "input": [
      "# inputs\n",
      "incl = 82.0\n",
      "img_coord = [5000*AU, 5000*AU]"
     ],
     "language": "python",
     "metadata": {},
     "outputs": [],
     "prompt_number": 81
    },
    {
     "cell_type": "code",
     "collapsed": false,
     "input": [
      "coord = np.empty((len(ri)*len(thetai)*len(phii),3),dtype='float')\n",
      "icell = 0\n",
      "for ir in range(0, len(ri)):\n",
      "    for itheta in range(0, len(thetai)):\n",
      "        for iphi in range(0, len(phii)):\n",
      "            coord[icell] = np.array([ri[ir], thetai[itheta], phii[iphi]])\n",
      "            icell += 1\n",
      "\n",
      "# Deal with the inclination angle\n",
      "# always rotate the model with y-axis as the rotational axis\n",
      "incl = incl * np.pi/180.0\n",
      "rot_matrix = np.matrix([[np.cos(incl), 0, np.sin(incl)],\\\n",
      "                        [0,            1,            0],\\\n",
      "                        [-np.sin(incl),0, np.cos(incl)]])\n",
      "# coord_rot = np.empty_like(coord)\n",
      "# for ic in range(0, len(coord[:,0])):\n",
      "#     coord_rot[ic] = (rot_matrix * coord[ic][:, np.newaxis]).T"
     ],
     "language": "python",
     "metadata": {},
     "outputs": [],
     "prompt_number": 82
    },
    {
     "cell_type": "code",
     "collapsed": false,
     "input": [
      "cart_coord = np.array([coord[:,0]*np.sin(coord[:,1])*np.cos(coord[:,2]),\\\n",
      "                       coord[:,0]*np.sin(coord[:,1])*np.sin(coord[:,2]),\\\n",
      "                       coord[:,0]*np.cos(coord[:,1])]).T\n",
      "cart_coord_rot = np.array((rot_matrix * np.matrix(cart_coord).T).T)\n",
      "coord_rot = np.array([cart_coord_rot[:,2]/np.cos(np.arctan((cart_coord_rot[:,0]**2+cart_coord_rot[:,1]**2)**0.5/cart_coord_rot[:,2])),\\\n",
      "                      np.sign(cart_coord_rot[:,2])*abs(np.arctan((cart_coord_rot[:,0]**2+cart_coord_rot[:,1]**2)**0.5/cart_coord_rot[:,2])),\\\n",
      "                      np.sign(cart_coord_rot[:,1])*abs(np.arctan(cart_coord_rot[:,1]/cart_coord_rot[:,0]))]).T"
     ],
     "language": "python",
     "metadata": {},
     "outputs": [],
     "prompt_number": 85
    },
    {
     "cell_type": "code",
     "collapsed": false,
     "input": [
      "print np.shape(coord)\n",
      "print np.shape(coord_rot)"
     ],
     "language": "python",
     "metadata": {},
     "outputs": [
      {
       "output_type": "stream",
       "stream": "stdout",
       "text": [
        "(3599376, 3)\n",
        "(3599376, 3)\n"
       ]
      }
     ],
     "prompt_number": 88
    },
    {
     "cell_type": "code",
     "collapsed": false,
     "input": [
      "x = img_coord[0]\n",
      "y = img_coord[1]\n",
      "# coord_rot has the same index as coord\n",
      "theta_b = np.arctan(x/y)\n",
      "# correct for third and fourth quarants\n",
      "if y < 0:\n",
      "    theta_b = theta_b + np.pi/2\n",
      "# calculate the impact parameter\n",
      "b = np.sqrt(x**2+y**2)\n",
      "\n",
      "# Roughly narrow down the number of cells\n",
      "r_lim = [-min((b-ri)[(b-ri)>0])+b, max(ri)]\n",
      "theta_lim = [-min((theta_b-thetai)[(theta_b-thetai)>0])+theta_b, -max((theta_b-thetai)[(theta_b-thetai)<0])+theta_b]\n",
      "if x > 0:\n",
      "    phi_lim = [min(phii), np.pi]\n",
      "else:\n",
      "    phi_lim = [np.pi, max(phii)]\n",
      "ir_lim = [int(np.where(ri == r_lim[0])[0]), int(np.where(ri == r_lim[1])[0])]\n",
      "itheta_lim = [int(np.where(thetai == theta_lim[0])[0]), int(np.where(thetai == theta_lim[1])[0])]\n",
      "iphi_lim = [int(np.where(phii == phi_lim[0])[0]), int(np.where(phii == phi_lim[1])[0])]"
     ],
     "language": "python",
     "metadata": {},
     "outputs": [],
     "prompt_number": 122
    },
    {
     "cell_type": "code",
     "collapsed": false,
     "input": [
      "index = np.array((1,3),dtype='int')\n",
      "i = 0\n",
      "for itheta in range(itheta_lim[0], itheta_lim[1]):\n",
      "    for iphi in range(iphi_lim[0], iphi_lim[1]):\n",
      "        if i == 0:\n",
      "            index = np.array([])"
     ],
     "language": "python",
     "metadata": {},
     "outputs": []
    },
    {
     "cell_type": "code",
     "collapsed": false,
     "input": [
      "print r_lim\n",
      "print theta_lim\n",
      "print phi_lim\n",
      "print ir_lim\n",
      "print itheta_lim\n",
      "print iphi_lim"
     ],
     "language": "python",
     "metadata": {},
     "outputs": [
      {
       "output_type": "stream",
       "stream": "stdout",
       "text": [
        "[1.0466187746683818e+17, 1.4954127746683818e+17]\n",
        "[0.77754418176347384, 0.79325214503142272]\n",
        "[0.0, 3.141592653589793]\n",
        "[145, 175]\n",
        "[99, 101]\n",
        "[0, 25]\n"
       ]
      }
     ],
     "prompt_number": 123
    },
    {
     "cell_type": "code",
     "collapsed": false,
     "input": [
      "\n",
      "\n",
      "sub_coord_rot = \n"
     ],
     "language": "python",
     "metadata": {},
     "outputs": []
    }
   ],
   "metadata": {}
  }
 ]
}