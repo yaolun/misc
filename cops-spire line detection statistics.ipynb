{
 "cells": [
  {
   "cell_type": "code",
   "execution_count": 1,
   "metadata": {
    "collapsed": true
   },
   "outputs": [],
   "source": [
    "%matplotlib inline\n",
    "import matplotlib.pyplot as plt\n",
    "from astropy.io import ascii\n",
    "import numpy as np\n",
    "\n",
    "snr_threshold = 4\n",
    "\n",
    "archive_dir = '/Volumes/SD-Mac/CDF_archive_v2/'\n",
    "fitting = ascii.read(archive_dir+'CDF_archive_v2_lines.txt')\n",
    "# take only the SPIRE part\n",
    "# and take only the central spaxel\n",
    "fitting = fitting[(fitting['ObsWL(um)'] >= 200) & (fitting['Pixel_No.'] == 'c') & (fitting['Validity'] == 1)]\n",
    "# fitting = fitting[(fitting['ObsWL(um)'] >= 200) & (fitting['Pixel_No.'] == 'c')]\n",
    "\n",
    "# sort the object list and the line list\n",
    "obj_list = np.sort(list(set(fitting['Object'])))\n",
    "line_list = np.sort(list(set(fitting['Line'])))"
   ]
  },
  {
   "cell_type": "code",
   "execution_count": 2,
   "metadata": {
    "collapsed": false
   },
   "outputs": [
    {
     "data": {
      "text/plain": [
       "array(['B1-a', 'B1-c', 'B335', 'BHR71', 'Ced110', 'DKCha', 'GSS30-IRS1',\n",
       "       'HH46', 'IRAS03245', 'IRAS03301', 'IRAS15398', 'L1014', 'L1157',\n",
       "       'L1455-IRS3', 'L1551-IRS5', 'L483', 'L723-MM', 'RCrA-IRS5A',\n",
       "       'RCrA-IRS7B', 'RCrA-IRS7C', 'RNO91', 'TMC1', 'TMC1A', 'TMR1',\n",
       "       'VLA1623', 'WL12'], \n",
       "      dtype='|S10')"
      ]
     },
     "execution_count": 2,
     "metadata": {},
     "output_type": "execute_result"
    }
   ],
   "source": [
    "obj_list"
   ]
  },
  {
   "cell_type": "code",
   "execution_count": 3,
   "metadata": {
    "collapsed": false
   },
   "outputs": [
    {
     "data": {
      "text/plain": [
       "array(['13CO10-9', '13CO11-10', '13CO12-11', '13CO13-12', '13CO5-4',\n",
       "       '13CO6-5', '13CO7-6', '13CO8-7', '13CO9-8', 'CH+1-0', 'CI3P1-3P0',\n",
       "       'CI3P2-3P0', 'CI3P2-3P1', 'CO10-9', 'CO11-10', 'CO12-11', 'CO13-12',\n",
       "       'CO4-3', 'CO5-4', 'CO6-5', 'CO7-6', 'CO8-7', 'CO9-8', 'HCO+10-9',\n",
       "       'HCO+11-10', 'HCO+12-11', 'HCO+13-12', 'HCO+14-13', 'HCO+15-14',\n",
       "       'HCO+16-15', 'HCO+6-5', 'HCO+7-6', 'HCO+8-7', 'HCO+9-8', 'NII_205',\n",
       "       'o-H2O1_10-1_01', 'o-H2O3_12-2_21', 'o-H2O3_12-3_03',\n",
       "       'o-H2O3_21-3_12', 'o-H2O5_23-5_14', 'o-H2O5_32-4_41',\n",
       "       'o-H2O6_34-5_41', 'o-H2O7_25-8_18', 'o-H2O7_43-6_52',\n",
       "       'o-H2O8_27-7_34', 'o-H2O8_45-9_18', 'o-H2O8_54-7_61',\n",
       "       'p-H2O1_11-0_00', 'p-H2O2_02-1_11', 'p-H2O2_11-2_02',\n",
       "       'p-H2O2_20-2_11', 'p-H2O4_22-4_13', 'p-H2O5_24-4_31',\n",
       "       'p-H2O5_33-4_40', 'p-H2O6_24-7_17', 'p-H2O6_42-5_51',\n",
       "       'p-H2O7_26-6_33', 'p-H2O7_44-6_51', 'p-H2O7_44-8_17',\n",
       "       'p-H2O8_53-7_62', 'p-H2O9_28-8_35', 'p-H2O9_46-10_19'], \n",
       "      dtype='|S15')"
      ]
     },
     "execution_count": 3,
     "metadata": {},
     "output_type": "execute_result"
    }
   ],
   "source": [
    "line_list"
   ]
  },
  {
   "cell_type": "code",
   "execution_count": 4,
   "metadata": {
    "collapsed": false
   },
   "outputs": [
    {
     "name": "stdout",
     "output_type": "stream",
     "text": [
      "('No detection of ', '13CO10-9')\n",
      "('No detection of ', '13CO11-10')\n",
      "('No detection of ', '13CO12-11')\n",
      "('No detection of ', '13CO13-12')\n",
      "('13CO5-4', array(['Ced110', 'DKCha', 'GSS30-IRS1', 'HH46', 'L1551-IRS5', 'RCrA-IRS5A',\n",
      "       'RCrA-IRS7B', 'RCrA-IRS7C', 'VLA1623', 'WL12'], \n",
      "      dtype='|S10'))\n",
      "('13CO6-5', array(['Ced110', 'GSS30-IRS1', 'HH46', 'RCrA-IRS5A', 'RCrA-IRS7B',\n",
      "       'RCrA-IRS7C', 'TMR1', 'VLA1623', 'WL12'], \n",
      "      dtype='|S10'))\n",
      "('13CO7-6', array(['GSS30-IRS1', 'RCrA-IRS7B', 'RCrA-IRS7C'], \n",
      "      dtype='|S10'))\n",
      "('13CO8-7', array(['RCrA-IRS7B', 'RCrA-IRS7C'], \n",
      "      dtype='|S10'))\n",
      "('13CO9-8', array(['GSS30-IRS1', 'L1551-IRS5', 'RCrA-IRS7B', 'RCrA-IRS7C', 'VLA1623'], \n",
      "      dtype='|S10'))\n",
      "('No detection of ', 'CH+1-0')\n",
      "('CI3P1-3P0', array(['B1-a', 'B1-c', 'Ced110', 'GSS30-IRS1', 'HH46', 'IRAS03245',\n",
      "       'IRAS03301', 'L1014', 'L1551-IRS5', 'L483', 'L723-MM', 'RCrA-IRS5A',\n",
      "       'RCrA-IRS7B', 'RCrA-IRS7C', 'RNO91', 'TMR1', 'VLA1623', 'WL12'], \n",
      "      dtype='|S10'))\n",
      "('No detection of ', 'CI3P2-3P0')\n",
      "('CI3P2-3P1', array(['B1-a', 'B1-c', 'Ced110', 'GSS30-IRS1', 'HH46', 'IRAS03245',\n",
      "       'IRAS03301', 'RCrA-IRS5A', 'RCrA-IRS7B', 'RCrA-IRS7C', 'RNO91',\n",
      "       'TMC1A', 'TMR1', 'VLA1623', 'WL12'], \n",
      "      dtype='|S10'))\n",
      "('CO10-9', array(['B1-a', 'B1-c', 'B335', 'BHR71', 'Ced110', 'DKCha', 'GSS30-IRS1',\n",
      "       'HH46', 'IRAS03245', 'IRAS03301', 'IRAS15398', 'L1157',\n",
      "       'L1551-IRS5', 'L483', 'L723-MM', 'RCrA-IRS5A', 'RCrA-IRS7B',\n",
      "       'RCrA-IRS7C', 'RNO91', 'TMC1', 'TMC1A', 'TMR1', 'VLA1623', 'WL12'], \n",
      "      dtype='|S10'))\n",
      "('CO11-10', array(['B1-a', 'B1-c', 'B335', 'BHR71', 'Ced110', 'DKCha', 'GSS30-IRS1',\n",
      "       'HH46', 'IRAS03245', 'IRAS03301', 'IRAS15398', 'L1157',\n",
      "       'L1551-IRS5', 'L483', 'L723-MM', 'RCrA-IRS5A', 'RCrA-IRS7B',\n",
      "       'RCrA-IRS7C', 'RNO91', 'TMC1', 'TMC1A', 'TMR1', 'VLA1623', 'WL12'], \n",
      "      dtype='|S10'))\n",
      "('CO12-11', array(['B1-a', 'B1-c', 'B335', 'BHR71', 'Ced110', 'DKCha', 'GSS30-IRS1',\n",
      "       'HH46', 'IRAS03245', 'IRAS03301', 'IRAS15398', 'L1157',\n",
      "       'L1551-IRS5', 'L483', 'L723-MM', 'RCrA-IRS5A', 'RCrA-IRS7B',\n",
      "       'RCrA-IRS7C', 'RNO91', 'TMC1', 'TMC1A', 'TMR1', 'VLA1623', 'WL12'], \n",
      "      dtype='|S10'))\n",
      "('CO13-12', array(['B1-a', 'B1-c', 'B335', 'BHR71', 'Ced110', 'DKCha', 'GSS30-IRS1',\n",
      "       'HH46', 'IRAS03245', 'IRAS03301', 'IRAS15398', 'L1157',\n",
      "       'L1455-IRS3', 'L1551-IRS5', 'L483', 'L723-MM', 'RCrA-IRS5A',\n",
      "       'RCrA-IRS7B', 'RCrA-IRS7C', 'RNO91', 'TMC1', 'TMC1A', 'TMR1',\n",
      "       'VLA1623', 'WL12'], \n",
      "      dtype='|S10'))\n",
      "('CO4-3', array(['B1-a', 'B1-c', 'B335', 'BHR71', 'Ced110', 'DKCha', 'GSS30-IRS1',\n",
      "       'HH46', 'IRAS03245', 'IRAS03301', 'IRAS15398', 'L1157',\n",
      "       'L1551-IRS5', 'L483', 'L723-MM', 'RCrA-IRS5A', 'RCrA-IRS7B',\n",
      "       'RCrA-IRS7C', 'RNO91', 'TMC1', 'TMC1A', 'TMR1', 'VLA1623', 'WL12'], \n",
      "      dtype='|S10'))\n",
      "('CO5-4', array(['B1-a', 'B1-c', 'B335', 'BHR71', 'Ced110', 'DKCha', 'GSS30-IRS1',\n",
      "       'HH46', 'IRAS03245', 'IRAS03301', 'IRAS15398', 'L1157',\n",
      "       'L1551-IRS5', 'L483', 'L723-MM', 'RCrA-IRS5A', 'RCrA-IRS7B',\n",
      "       'RCrA-IRS7C', 'RNO91', 'TMC1', 'TMC1A', 'TMR1', 'VLA1623', 'WL12'], \n",
      "      dtype='|S10'))\n",
      "('CO6-5', array(['B1-a', 'B1-c', 'B335', 'BHR71', 'Ced110', 'DKCha', 'GSS30-IRS1',\n",
      "       'HH46', 'IRAS03245', 'IRAS03301', 'IRAS15398', 'L1157',\n",
      "       'L1455-IRS3', 'L1551-IRS5', 'L483', 'L723-MM', 'RCrA-IRS5A',\n",
      "       'RCrA-IRS7B', 'RCrA-IRS7C', 'RNO91', 'TMC1', 'TMC1A', 'TMR1',\n",
      "       'VLA1623', 'WL12'], \n",
      "      dtype='|S10'))\n",
      "('CO7-6', array(['B1-a', 'B1-c', 'B335', 'BHR71', 'Ced110', 'DKCha', 'GSS30-IRS1',\n",
      "       'HH46', 'IRAS03245', 'IRAS03301', 'IRAS15398', 'L1157',\n",
      "       'L1455-IRS3', 'L1551-IRS5', 'L483', 'L723-MM', 'RCrA-IRS5A',\n",
      "       'RCrA-IRS7B', 'RCrA-IRS7C', 'RNO91', 'TMC1', 'TMC1A', 'TMR1',\n",
      "       'VLA1623', 'WL12'], \n",
      "      dtype='|S10'))\n",
      "('CO8-7', array(['B1-a', 'B1-c', 'B335', 'BHR71', 'Ced110', 'DKCha', 'GSS30-IRS1',\n",
      "       'HH46', 'IRAS03245', 'IRAS15398', 'L1157', 'L1551-IRS5', 'L483',\n",
      "       'L723-MM', 'RCrA-IRS5A', 'RCrA-IRS7B', 'RCrA-IRS7C', 'RNO91',\n",
      "       'TMC1', 'TMC1A', 'TMR1', 'VLA1623', 'WL12'], \n",
      "      dtype='|S10'))\n",
      "('CO9-8', array(['B1-a', 'B1-c', 'B335', 'BHR71', 'Ced110', 'DKCha', 'GSS30-IRS1',\n",
      "       'HH46', 'IRAS03245', 'IRAS03301', 'IRAS15398', 'L1157',\n",
      "       'L1551-IRS5', 'L483', 'L723-MM', 'RCrA-IRS5A', 'RCrA-IRS7B',\n",
      "       'RCrA-IRS7C', 'RNO91', 'TMC1', 'TMC1A', 'TMR1', 'VLA1623', 'WL12'], \n",
      "      dtype='|S10'))\n",
      "('No detection of ', 'HCO+10-9')\n",
      "('No detection of ', 'HCO+11-10')\n",
      "('No detection of ', 'HCO+12-11')\n",
      "('No detection of ', 'HCO+13-12')\n",
      "('No detection of ', 'HCO+14-13')\n",
      "('No detection of ', 'HCO+15-14')\n",
      "('No detection of ', 'HCO+16-15')\n",
      "('HCO+6-5', array(['RCrA-IRS7B', 'RCrA-IRS7C'], \n",
      "      dtype='|S10'))\n",
      "('HCO+7-6', array(['GSS30-IRS1', 'RCrA-IRS7B', 'RCrA-IRS7C'], \n",
      "      dtype='|S10'))\n",
      "('HCO+8-7', array(['RCrA-IRS7B', 'RCrA-IRS7C'], \n",
      "      dtype='|S10'))\n",
      "('No detection of ', 'HCO+9-8')\n",
      "('No detection of ', 'NII_205')\n",
      "('o-H2O1_10-1_01', array(['B1-c', 'BHR71'], \n",
      "      dtype='|S10'))\n",
      "('o-H2O3_12-2_21', array(['B1-a', 'B1-c', 'BHR71', 'DKCha', 'GSS30-IRS1', 'IRAS03245',\n",
      "       'L1157', 'L483', 'RCrA-IRS7B', 'TMR1'], \n",
      "      dtype='|S10'))\n",
      "('o-H2O3_12-3_03', array(['B1-c', 'L1157'], \n",
      "      dtype='|S10'))\n",
      "('o-H2O3_21-3_12', array(['B1-c'], \n",
      "      dtype='|S10'))\n",
      "('No detection of ', 'o-H2O5_23-5_14')\n",
      "('No detection of ', 'o-H2O5_32-4_41')\n",
      "('No detection of ', 'o-H2O6_34-5_41')\n",
      "('No detection of ', 'o-H2O7_25-8_18')\n",
      "('No detection of ', 'o-H2O7_43-6_52')\n",
      "('No detection of ', 'o-H2O8_27-7_34')\n",
      "('No detection of ', 'o-H2O8_45-9_18')\n",
      "('No detection of ', 'o-H2O8_54-7_61')\n",
      "('p-H2O1_11-0_00', array(['B1-a', 'B1-c', 'B335', 'BHR71', 'GSS30-IRS1', 'IRAS15398', 'L1157',\n",
      "       'L483', 'RCrA-IRS5A', 'RCrA-IRS7C', 'TMR1'], \n",
      "      dtype='|S10'))\n",
      "('p-H2O2_02-1_11', array(['B1-c', 'B335', 'BHR71', 'DKCha', 'GSS30-IRS1', 'IRAS15398',\n",
      "       'L1157', 'L483', 'L723-MM', 'RCrA-IRS7B', 'RCrA-IRS7C', 'TMR1'], \n",
      "      dtype='|S10'))\n",
      "('p-H2O2_11-2_02', array(['B1-c', 'BHR71', 'L1157'], \n",
      "      dtype='|S10'))\n",
      "('No detection of ', 'p-H2O2_20-2_11')\n",
      "('No detection of ', 'p-H2O4_22-4_13')\n",
      "('No detection of ', 'p-H2O5_24-4_31')\n",
      "('No detection of ', 'p-H2O5_33-4_40')\n",
      "('No detection of ', 'p-H2O6_24-7_17')\n",
      "('No detection of ', 'p-H2O6_42-5_51')\n",
      "('No detection of ', 'p-H2O7_26-6_33')\n",
      "('No detection of ', 'p-H2O7_44-6_51')\n",
      "('No detection of ', 'p-H2O7_44-8_17')\n",
      "('No detection of ', 'p-H2O8_53-7_62')\n",
      "('No detection of ', 'p-H2O9_28-8_35')\n",
      "('No detection of ', 'p-H2O9_46-10_19')\n"
     ]
    }
   ],
   "source": [
    "print_line = []\n",
    "no_detection = []\n",
    "for line in line_list:\n",
    "    if len(fitting['Object'][(fitting['Line'] == line) & (fitting['SNR'] >= snr_threshold)]) == 0:\n",
    "        print('No detection of ', line)\n",
    "        no_detection.append(line)\n",
    "    elif len(fitting['Object'][(fitting['Line'] == line) & (fitting['SNR'] >= snr_threshold)]) == len(obj_list):\n",
    "        print('All objects are detected with ', line)\n",
    "    else:\n",
    "        print(line, np.sort(fitting['Object'][(fitting['Line'] == line) & (fitting['SNR'] >= snr_threshold)].data))\n",
    "        print_line.append(line)"
   ]
  },
  {
   "cell_type": "code",
   "execution_count": 5,
   "metadata": {
    "collapsed": false
   },
   "outputs": [
    {
     "name": "stdout",
     "output_type": "stream",
     "text": [
      "     Line     \n",
      "--------------\n",
      "       CO13-12\n",
      "o-H2O5_23-5_14\n",
      "       CO12-11\n",
      "       CO11-10\n",
      "o-H2O8_54-7_61\n",
      "o-H2O3_21-3_12\n",
      "p-H2O1_11-0_00\n",
      "         CO9-8\n",
      "p-H2O5_24-4_31\n",
      "         CO8-7\n",
      "           ...\n",
      "         CO4-3\n",
      "o-H2O3_12-2_21\n",
      "        CO10-9\n",
      "     CI3P2-3P1\n",
      "         CO7-6\n",
      "     CI3P1-3P0\n",
      "p-H2O6_24-7_17\n",
      "      13CO10-9\n",
      "o-H2O3_12-3_03\n",
      "       13CO9-8\n",
      "p-H2O2_02-1_11\n",
      "Length = 28 rows\n",
      "28\n"
     ]
    }
   ],
   "source": [
    "print(fitting['Line'][fitting['Object'] == 'BHR71'])\n",
    "print(len(fitting['Line'][fitting['Object'] == 'BHR71']))"
   ]
  },
  {
   "cell_type": "code",
   "execution_count": 6,
   "metadata": {
    "collapsed": false
   },
   "outputs": [
    {
     "data": {
      "text/plain": [
       "['13CO10-9',\n",
       " '13CO11-10',\n",
       " '13CO12-11',\n",
       " '13CO13-12',\n",
       " 'CH+1-0',\n",
       " 'CI3P2-3P0',\n",
       " 'HCO+10-9',\n",
       " 'HCO+11-10',\n",
       " 'HCO+12-11',\n",
       " 'HCO+13-12',\n",
       " 'HCO+14-13',\n",
       " 'HCO+15-14',\n",
       " 'HCO+16-15',\n",
       " 'HCO+9-8',\n",
       " 'NII_205',\n",
       " 'o-H2O5_23-5_14',\n",
       " 'o-H2O5_32-4_41',\n",
       " 'o-H2O6_34-5_41',\n",
       " 'o-H2O7_25-8_18',\n",
       " 'o-H2O7_43-6_52',\n",
       " 'o-H2O8_27-7_34',\n",
       " 'o-H2O8_45-9_18',\n",
       " 'o-H2O8_54-7_61',\n",
       " 'p-H2O2_20-2_11',\n",
       " 'p-H2O4_22-4_13',\n",
       " 'p-H2O5_24-4_31',\n",
       " 'p-H2O5_33-4_40',\n",
       " 'p-H2O6_24-7_17',\n",
       " 'p-H2O6_42-5_51',\n",
       " 'p-H2O7_26-6_33',\n",
       " 'p-H2O7_44-6_51',\n",
       " 'p-H2O7_44-8_17',\n",
       " 'p-H2O8_53-7_62',\n",
       " 'p-H2O9_28-8_35',\n",
       " 'p-H2O9_46-10_19']"
      ]
     },
     "execution_count": 6,
     "metadata": {},
     "output_type": "execute_result"
    }
   ],
   "source": [
    "no_detection"
   ]
  },
  {
   "cell_type": "markdown",
   "metadata": {},
   "source": [
    "### Generate the latex Table"
   ]
  },
  {
   "cell_type": "code",
   "execution_count": 7,
   "metadata": {
    "collapsed": true
   },
   "outputs": [],
   "source": [
    "def linename_typeset(line):\n",
    "    line = str(line)\n",
    "    \n",
    "    if 'CO' in line:\n",
    "        upper = line.split('CO')[-1].split('-')[0]\n",
    "        lower = line.split('CO')[-1].split('-')[1]\n",
    "        if '13CO' in line:\n",
    "            typeset = '$^{13}$CO~\\jj{'+upper+'}{'+lower+'}'\n",
    "        else:\n",
    "            typeset = 'CO~\\jj{'+upper+'}{'+lower+'}'\n",
    "    if 'CI' in line:\n",
    "        typeset = '\\CI~$^{3}P_{'+str(int(line[-1])+1)+r'}\\rightarrow ^{3}P_{'+line[-1]+'}$'\n",
    "    if 'HCO+' in line:\n",
    "        upper = line.split('HCO+')[-1].split('-')[0]\n",
    "        lower = line.split('HCO+')[-1].split('-')[1]\n",
    "        typeset = 'HCO$^{+}$~\\jj{'+upper+'}{'+lower+'}'\n",
    "    if 'H2O' in line:\n",
    "        upper = line.split('H2O')[-1].split('-')[0].split('_')\n",
    "        lower = line.split('H2O')[-1].split('-')[1].split('_')\n",
    "        typeset = line[0]+'-H$_{2}$O$~'+upper[0]+'_{'+upper[1]+r'} \\rightarrow '+lower[0]+'_{'+lower[1]+'}$'\n",
    "    \n",
    "    return typeset"
   ]
  },
  {
   "cell_type": "code",
   "execution_count": 8,
   "metadata": {
    "collapsed": false
   },
   "outputs": [
    {
     "data": {
      "text/plain": [
       "array(['B1-a', 'B1-c', 'B335', 'BHR71', 'Ced110', 'DKCha', 'GSS30-IRS1',\n",
       "       'HH46', 'IRAS03245', 'IRAS03301', 'IRAS15398', 'L1014', 'L1157',\n",
       "       'L1455-IRS3', 'L1551-IRS5', 'L483', 'L723-MM', 'RCrA-IRS5A',\n",
       "       'RCrA-IRS7B', 'RCrA-IRS7C', 'RNO91', 'TMC1', 'TMC1A', 'TMR1',\n",
       "       'VLA1623', 'WL12'], \n",
       "      dtype='|S10')"
      ]
     },
     "execution_count": 8,
     "metadata": {},
     "output_type": "execute_result"
    }
   ],
   "source": [
    "obj_list"
   ]
  },
  {
   "cell_type": "code",
   "execution_count": 9,
   "metadata": {
    "collapsed": true
   },
   "outputs": [],
   "source": [
    "o_typeset = ['B1-a', 'B1-c', 'B335', 'BHR~71', 'Ced110~IRS4', 'DK~Cha', 'GSS~30~IRS1',\n",
    "               'HH~46', 'IRAS~03245+3002', 'IRAS~03301+3111', r'IRAS~15398$-$3359', 'L1014', 'L1157',\n",
    "               'L1455~IRS3', 'L1551~IRS5', 'L483', 'L723~MM', 'RCrA~IRS5A',\n",
    "               'RCrA~IRS7B', 'RCrA~IRS7C', 'RNO~91', 'TMC~1', 'TMC~1A', 'TMR~1',\n",
    "               r'VLA~1623$-$243', 'WL~12']\n",
    "obj_typeset = {}\n",
    "for i, (o,t) in enumerate(zip(obj_list, o_typeset)):\n",
    "    obj_typeset[o] = t"
   ]
  },
  {
   "cell_type": "code",
   "execution_count": 10,
   "metadata": {
    "collapsed": false
   },
   "outputs": [
    {
     "name": "stdout",
     "output_type": "stream",
     "text": [
      "['13CO5-4', '13CO6-5', '13CO7-6', '13CO8-7', '13CO9-8', 'CO4-3', 'CO5-4', 'CO6-5', 'CO7-6', 'CO8-7', 'CO9-8', 'CO10-9', 'CO11-10', 'CO12-11', 'CO13-12', 'CI3P1-3P0', 'CI3P2-3P1', 'HCO+6-5', 'HCO+7-6', 'HCO+8-7', 'o-H2O1_10-1_01', 'o-H2O3_12-2_21', 'o-H2O3_12-3_03', 'o-H2O3_21-3_12', 'p-H2O1_11-0_00', 'p-H2O2_02-1_11', 'p-H2O2_11-2_02']\n"
     ]
    }
   ],
   "source": [
    "line_list_dum = print_line[:5]+print_line[11:17]+print_line[7:11]+print_line[5:7]+print_line[17:]\n",
    "print(line_list_dum)\n",
    "foo = open('/Volumes/SD-Mac/Dropbox/real_cops-spire/line_detection.tex', 'w')\n",
    "foo.write(r'\\begin{turnpage}')\n",
    "foo.write('\\n')\n",
    "foo.write(r'\\begin{deluxetable*}{l '+'c'*len(print_line)+'}')\n",
    "foo.write('\\n')\n",
    "foo.write(r'\\tabletypesize{\\scriptsize}')\n",
    "foo.write('\\n')\n",
    "foo.write(r'\\tablecaption{Line Detection Summary}')\n",
    "foo.write('\\n')\n",
    "foo.write(r'\\tablewidth{0pt}')\n",
    "foo.write('\\n')\n",
    "foo.write(r'\\setlength\\tabcolsep{3pt}')\n",
    "foo.write('\\n')\n",
    "foo.write(r'\\label{line_detection}')\n",
    "foo.write('\\n')\n",
    "foo.write(r'\\tablehead{')\n",
    "foo.write('\\n')\n",
    "\n",
    "foo.write('\\t \\colhead{Source} & \\n')\n",
    "# the vertical column header for each line\n",
    "for line in line_list_dum:\n",
    "    if line != line_list_dum[-1]:\n",
    "        foo.write('\\t \\colhead{\\multicolumn{1}{X{1in}}{'+linename_typeset(line)+'}} & \\n')\n",
    "    else:\n",
    "        foo.write('\\t \\colhead{\\multicolumn{1}{X{1in}}{'+linename_typeset(line)+'}} } \\n')\n",
    "foo.write('\\startdata \\n')\n",
    "\n",
    "for o in obj_list:\n",
    "    write_str = obj_typeset[o]\n",
    "    for i, l in enumerate(line_list_dum):\n",
    "        if fitting['SNR'][(fitting['Object'] == o) & (fitting['Line'] == l)] >= snr_threshold:\n",
    "            write_str = write_str+' & Y '\n",
    "        else:\n",
    "#             write_str = write_str+r' & \\nodata '\n",
    "            write_str = write_str+r' & \\nodata '\n",
    "        \n",
    "    foo.write(write_str+r' \\\\')\n",
    "    foo.write('\\n')\n",
    "\n",
    "foo.write(r'\\enddata')\n",
    "foo.write('\\n')\n",
    "foo.write(r'\\end{deluxetable*}')\n",
    "foo.write('\\n')\n",
    "foo.write(r'\\end{turnpage}')\n",
    "foo.write('\\n')\n",
    "\n",
    "foo.close()"
   ]
  },
  {
   "cell_type": "markdown",
   "metadata": {
    "collapsed": true
   },
   "source": [
    "### Investigate the HCO+ detection"
   ]
  },
  {
   "cell_type": "code",
   "execution_count": 15,
   "metadata": {
    "collapsed": false
   },
   "outputs": [
    {
     "name": "stdout",
     "output_type": "stream",
     "text": [
      "HCO+6-5 ['L1551-IRS5' 'RCrA-IRS7B' 'RCrA-IRS7C' 'TMR1']\n",
      "HCO+7-6 ['GSS30-IRS1' 'L1014' 'RCrA-IRS7B' 'RCrA-IRS7C']\n",
      "HCO+8-7 ['RCrA-IRS7B' 'RCrA-IRS7C']\n",
      "HCO+9-8 ['L723-MM']\n",
      "No detection of  HCO+10-9\n",
      "No detection of  HCO+11-10\n",
      "No detection of  HCO+12-11\n",
      "No detection of  HCO+13-12\n",
      "No detection of  HCO+14-13\n",
      "No detection of  HCO+15-14\n",
      "No detection of  HCO+16-15\n"
     ]
    }
   ],
   "source": [
    "fitting = ascii.read(archive_dir+'CDF_archive_v2_lines.txt')\n",
    "# take only the SPIRE part\n",
    "# and take only the central spaxel\n",
    "# fitting = fitting[(fitting['ObsWL(um)'] >= 200) & (fitting['Pixel_No.'] == 'c') & (fitting['Validity'] == 1)]\n",
    "fitting = fitting[(fitting['ObsWL(um)'] >= 200) & (fitting['Pixel_No.'] == 'c')]\n",
    "\n",
    "# sort the object list and the line list\n",
    "obj_list = np.sort(list(set(fitting['Object'])))\n",
    "line_list = np.array(['HCO+6-5', 'HCO+7-6', 'HCO+8-7', 'HCO+9-8', 'HCO+10-9',\n",
    "                      'HCO+11-10', 'HCO+12-11', 'HCO+13-12', 'HCO+14-13', 'HCO+15-14',\n",
    "                      'HCO+16-15'])\n",
    "print_line = []\n",
    "no_detection = []\n",
    "for line in line_list:\n",
    "    if len(fitting['Object'][(fitting['Line'] == line) & (fitting['SNR'] >= snr_threshold)]) == 0:\n",
    "        print('No detection of ', line)\n",
    "        no_detection.append(line)\n",
    "    else:\n",
    "        print(line, np.sort(fitting['Object'][(fitting['Line'] == line) & (fitting['SNR'] >= snr_threshold)].data))\n",
    "        print_line.append(line)"
   ]
  },
  {
   "cell_type": "code",
   "execution_count": 16,
   "metadata": {
    "collapsed": false
   },
   "outputs": [
    {
     "data": {
      "text/html": [
       "&lt;Table length=4&gt;\n",
       "<table id=\"table4747516056\" class=\"table-striped table-bordered table-condensed\">\n",
       "<thead><tr><th>Object</th><th>Line</th><th>LabWL(um)</th><th>ObsWL(um)</th><th>Sig_Cen(um)</th><th>Str(W/cm2)</th><th>Sig_str(W/cm2)</th><th>FWHM(um)</th><th>Sig_FWHM(um)</th><th>Base(W/cm2/um)</th><th>Noise(W/cm2/um)</th><th>SNR</th><th>E_u(K)</th><th>A(s-1)</th><th>g</th><th>RA(deg)</th><th>Dec(deg)</th><th>Pixel_No.</th><th>Blend</th><th>Validity</th></tr></thead>\n",
       "<thead><tr><th>str10</th><th>str17</th><th>float64</th><th>float64</th><th>float64</th><th>float64</th><th>float64</th><th>float64</th><th>float64</th><th>float64</th><th>float64</th><th>float64</th><th>float64</th><th>float64</th><th>int64</th><th>float64</th><th>float64</th><th>str5</th><th>str14</th><th>int64</th></tr></thead>\n",
       "<tr><td>L1551-IRS5</td><td>HCO+6-5</td><td>560.30914</td><td>559.40273</td><td>0.15239</td><td>1.889802e-21</td><td>1.620752e-22</td><td>2.95765</td><td>-999.0</td><td>1.628046e-20</td><td>1.372836e-22</td><td>4.374304</td><td>89.88</td><td>0.012711</td><td>13</td><td>67.8924</td><td>18.1353</td><td>c</td><td>x</td><td>0</td></tr>\n",
       "<tr><td>RCrA-IRS7B</td><td>HCO+6-5</td><td>560.30914</td><td>560.30529</td><td>0.11462</td><td>1.569623e-20</td><td>2.398688e-21</td><td>2.33568</td><td>0.26982</td><td>3.390715e-20</td><td>1.220148e-21</td><td>5.176389</td><td>89.88</td><td>0.012711</td><td>13</td><td>285.485</td><td>-36.9571</td><td>c</td><td>x</td><td>1</td></tr>\n",
       "<tr><td>RCrA-IRS7C</td><td>HCO+6-5</td><td>560.30914</td><td>560.33904</td><td>0.10811</td><td>1.886006e-20</td><td>2.800482e-21</td><td>2.26733</td><td>0.2545</td><td>3.300223e-20</td><td>1.445754e-21</td><td>5.407458</td><td>89.88</td><td>0.012711</td><td>13</td><td>285.481</td><td>-36.954</td><td>c</td><td>x</td><td>1</td></tr>\n",
       "<tr><td>TMR1</td><td>HCO+6-5</td><td>560.30914</td><td>559.68232</td><td>0.15571</td><td>1.906138e-21</td><td>1.670425e-22</td><td>2.95765</td><td>-999.0</td><td>3.392748e-21</td><td>1.414204e-22</td><td>4.283057</td><td>89.88</td><td>0.012711</td><td>13</td><td>69.8075</td><td>25.8899</td><td>c</td><td>x</td><td>0</td></tr>\n",
       "</table>"
      ],
      "text/plain": [
       "<Table length=4>\n",
       "  Object     Line  LabWL(um) ObsWL(um) ... Dec(deg) Pixel_No. Blend Validity\n",
       "  str10     str17   float64   float64  ... float64     str5   str14  int64  \n",
       "---------- ------- --------- --------- ... -------- --------- ----- --------\n",
       "L1551-IRS5 HCO+6-5 560.30914 559.40273 ...  18.1353         c     x        0\n",
       "RCrA-IRS7B HCO+6-5 560.30914 560.30529 ... -36.9571         c     x        1\n",
       "RCrA-IRS7C HCO+6-5 560.30914 560.33904 ...  -36.954         c     x        1\n",
       "      TMR1 HCO+6-5 560.30914 559.68232 ...  25.8899         c     x        0"
      ]
     },
     "execution_count": 16,
     "metadata": {},
     "output_type": "execute_result"
    }
   ],
   "source": [
    "fitting[(fitting['Line'] == 'HCO+6-5')*((fitting['Object'] == 'L1551-IRS5')+\\\n",
    "                                        (fitting['Object'] == 'RCrA-IRS7B')+\\\n",
    "                                        (fitting['Object'] == 'RCrA-IRS7C')+\\\n",
    "                                        (fitting['Object'] == 'TMR1'))]"
   ]
  },
  {
   "cell_type": "code",
   "execution_count": 17,
   "metadata": {
    "collapsed": false
   },
   "outputs": [
    {
     "data": {
      "text/html": [
       "&lt;Table length=4&gt;\n",
       "<table id=\"table4747517736\" class=\"table-striped table-bordered table-condensed\">\n",
       "<thead><tr><th>Object</th><th>Line</th><th>LabWL(um)</th><th>ObsWL(um)</th><th>Sig_Cen(um)</th><th>Str(W/cm2)</th><th>Sig_str(W/cm2)</th><th>FWHM(um)</th><th>Sig_FWHM(um)</th><th>Base(W/cm2/um)</th><th>Noise(W/cm2/um)</th><th>SNR</th><th>E_u(K)</th><th>A(s-1)</th><th>g</th><th>RA(deg)</th><th>Dec(deg)</th><th>Pixel_No.</th><th>Blend</th><th>Validity</th></tr></thead>\n",
       "<thead><tr><th>str10</th><th>str17</th><th>float64</th><th>float64</th><th>float64</th><th>float64</th><th>float64</th><th>float64</th><th>float64</th><th>float64</th><th>float64</th><th>float64</th><th>float64</th><th>float64</th><th>int64</th><th>float64</th><th>float64</th><th>str5</th><th>str14</th><th>int64</th></tr></thead>\n",
       "<tr><td>GSS30-IRS1</td><td>HCO+7-6</td><td>480.28812</td><td>479.33108</td><td>0.06668</td><td>6.194104e-21</td><td>7.291031e-22</td><td>1.76407</td><td>0.15697</td><td>2.932941e-20</td><td>4.988419e-22</td><td>6.615433</td><td>119.84</td><td>0.020402</td><td>15</td><td>246.589</td><td>-24.3846</td><td>c</td><td>x</td><td>1</td></tr>\n",
       "<tr><td>L1014</td><td>HCO+7-6</td><td>480.28812</td><td>480.74398</td><td>0.10484</td><td>2.33165e-21</td><td>1.872407e-22</td><td>2.17318</td><td>-999.0</td><td>5.15464e-21</td><td>2.152976e-22</td><td>4.683681</td><td>119.84</td><td>0.020402</td><td>15</td><td>321.032</td><td>49.9864</td><td>c</td><td>Red</td><td>0</td></tr>\n",
       "<tr><td>RCrA-IRS7B</td><td>HCO+7-6</td><td>480.28812</td><td>480.13789</td><td>0.04023</td><td>1.621694e-20</td><td>1.340652e-21</td><td>1.51532</td><td>0.0947</td><td>6.929451e-20</td><td>9.880209e-22</td><td>10.180231</td><td>119.84</td><td>0.020402</td><td>15</td><td>285.485</td><td>-36.9571</td><td>c</td><td>x</td><td>1</td></tr>\n",
       "<tr><td>RCrA-IRS7C</td><td>HCO+7-6</td><td>480.28812</td><td>480.10714</td><td>0.03701</td><td>2.339361e-20</td><td>1.622397e-21</td><td>1.66198</td><td>0.08713</td><td>6.880403e-20</td><td>1.141759e-21</td><td>11.586593</td><td>119.84</td><td>0.020402</td><td>15</td><td>285.481</td><td>-36.954</td><td>c</td><td>Red</td><td>1</td></tr>\n",
       "</table>"
      ],
      "text/plain": [
       "<Table length=4>\n",
       "  Object     Line  LabWL(um) ObsWL(um) ... Dec(deg) Pixel_No. Blend Validity\n",
       "  str10     str17   float64   float64  ... float64     str5   str14  int64  \n",
       "---------- ------- --------- --------- ... -------- --------- ----- --------\n",
       "GSS30-IRS1 HCO+7-6 480.28812 479.33108 ... -24.3846         c     x        1\n",
       "     L1014 HCO+7-6 480.28812 480.74398 ...  49.9864         c   Red        0\n",
       "RCrA-IRS7B HCO+7-6 480.28812 480.13789 ... -36.9571         c     x        1\n",
       "RCrA-IRS7C HCO+7-6 480.28812 480.10714 ...  -36.954         c   Red        1"
      ]
     },
     "execution_count": 17,
     "metadata": {},
     "output_type": "execute_result"
    }
   ],
   "source": [
    "fitting[(fitting['Line'] == 'HCO+7-6')*((fitting['Object'] == 'GSS30-IRS1')+\\\n",
    "                                        (fitting['Object'] == 'RCrA-IRS7B')+\\\n",
    "                                        (fitting['Object'] == 'RCrA-IRS7C')+\\\n",
    "                                        (fitting['Object'] == 'L1014'))]"
   ]
  },
  {
   "cell_type": "code",
   "execution_count": 18,
   "metadata": {
    "collapsed": false
   },
   "outputs": [
    {
     "data": {
      "text/html": [
       "&lt;Table length=1&gt;\n",
       "<table id=\"table4747517288\" class=\"table-striped table-bordered table-condensed\">\n",
       "<thead><tr><th>Object</th><th>Line</th><th>LabWL(um)</th><th>ObsWL(um)</th><th>Sig_Cen(um)</th><th>Str(W/cm2)</th><th>Sig_str(W/cm2)</th><th>FWHM(um)</th><th>Sig_FWHM(um)</th><th>Base(W/cm2/um)</th><th>Noise(W/cm2/um)</th><th>SNR</th><th>E_u(K)</th><th>A(s-1)</th><th>g</th><th>RA(deg)</th><th>Dec(deg)</th><th>Pixel_No.</th><th>Blend</th><th>Validity</th></tr></thead>\n",
       "<thead><tr><th>str10</th><th>str17</th><th>float64</th><th>float64</th><th>float64</th><th>float64</th><th>float64</th><th>float64</th><th>float64</th><th>float64</th><th>float64</th><th>float64</th><th>float64</th><th>float64</th><th>int64</th><th>float64</th><th>float64</th><th>str5</th><th>str14</th><th>int64</th></tr></thead>\n",
       "<tr><td>L723-MM</td><td>HCO+9-8</td><td>373.60196</td><td>372.74257</td><td>-999.0</td><td>2.977187e-21</td><td>2.768134e-22</td><td>1.31495</td><td>-999.0</td><td>1.8864e-20</td><td>5.277457e-22</td><td>4.032088</td><td>192.58</td><td>0.044006</td><td>19</td><td>289.474</td><td>19.2062</td><td>c</td><td>x</td><td>0</td></tr>\n",
       "</table>"
      ],
      "text/plain": [
       "<Table length=1>\n",
       " Object   Line  LabWL(um) ObsWL(um) ... Dec(deg) Pixel_No. Blend Validity\n",
       " str10   str17   float64   float64  ... float64     str5   str14  int64  \n",
       "------- ------- --------- --------- ... -------- --------- ----- --------\n",
       "L723-MM HCO+9-8 373.60196 372.74257 ...  19.2062         c     x        0"
      ]
     },
     "execution_count": 18,
     "metadata": {},
     "output_type": "execute_result"
    }
   ],
   "source": [
    "fitting[(fitting['Line'] == 'HCO+9-8')*((fitting['Object'] == 'L723-MM'))]"
   ]
  },
  {
   "cell_type": "code",
   "execution_count": null,
   "metadata": {
    "collapsed": true
   },
   "outputs": [],
   "source": []
  }
 ],
 "metadata": {
  "kernelspec": {
   "display_name": "Python 2",
   "language": "python",
   "name": "python2"
  },
  "language_info": {
   "codemirror_mode": {
    "name": "ipython",
    "version": 2
   },
   "file_extension": ".py",
   "mimetype": "text/x-python",
   "name": "python",
   "nbconvert_exporter": "python",
   "pygments_lexer": "ipython2",
   "version": "2.7.11"
  }
 },
 "nbformat": 4,
 "nbformat_minor": 1
}
