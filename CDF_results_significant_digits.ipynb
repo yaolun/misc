{
 "cells": [
  {
   "cell_type": "code",
   "execution_count": 87,
   "metadata": {
    "collapsed": true
   },
   "outputs": [],
   "source": [
    "from pprint import pprint\n",
    "import numpy as np\n",
    "filename = '/Users/yaolun/data/CDF_archive/CDF_archive_lines.txt'\n",
    "fitting = open(filename,'r').readlines()\n",
    "hdr = fitting[0].split()"
   ]
  },
  {
   "cell_type": "code",
   "execution_count": 91,
   "metadata": {
    "collapsed": false
   },
   "outputs": [
    {
     "name": "stdout",
     "output_type": "stream",
     "text": [
      "20\n",
      "19\n"
     ]
    }
   ],
   "source": [
    "print len(fitting[232750].split())\n",
    "print len(fitting[232751].split())"
   ]
  },
  {
   "cell_type": "code",
   "execution_count": 29,
   "metadata": {
    "collapsed": true
   },
   "outputs": [],
   "source": [
    "foo = open('/Users/yaolun/data/CDF_archive/CDF_archive_lines_simplified.txt','w').readlines()"
   ]
  },
  {
   "cell_type": "code",
   "execution_count": 86,
   "metadata": {
    "collapsed": false
   },
   "outputs": [
    {
     "name": "stdout",
     "output_type": "stream",
     "text": [
      "54.9862175\n",
      "             54.\n",
      "55.00604654\n",
      "             55.\n",
      "0.01824175471\n",
      "              0.\n",
      "0.03897858372\n",
      "              0.\n",
      "1.335111912\n",
      "              1.\n",
      "6457.23\n",
      "           6457.\n",
      "0.006556\n",
      "              0.\n",
      "73.94528711\n",
      "             73.\n",
      "30.55697535\n",
      "             30.\n",
      "['ABAur' 'CO48-47' '             54.' '             55.' '              0.'\n",
      " '-1.796083592e-21' '1.392293809e-21' '              0.' '-998.0000000'\n",
      " '3.922671740e-20' '3.243703784e-20' '              1.' '           6457.'\n",
      " '              0.' '97' '             73.' '             30.' '1' 'x' '1']\n",
      "55.13237762\n",
      "             55\n",
      "55.12514326\n",
      "             55\n",
      "0.008200935949\n",
      "              0\n",
      "0.03898802341\n",
      "              0\n",
      "2.549665964\n",
      "              2\n",
      "1274.2\n",
      "           1274\n",
      "1.897\n",
      "              1\n",
      "73.94528198\n",
      "             73\n",
      "30.55697632\n",
      "             30\n",
      "['ABAur' 'o-H2O8_27-7_16' '             55' '             55'\n",
      " '              0' '3.357882554e-21' '1.178694439e-21' '              0'\n",
      " '-998.0000000' '5.324243183e-20' '3.174748781e-20' '              2'\n",
      " '           1274' '              1' '51' '             73'\n",
      " '             30' '1' 'x' '1']\n"
     ]
    }
   ],
   "source": [
    "float_ind = [2,3,4,7,11,12,13,15,16]\n",
    "scinot_ind = [5,6,9,10]\n",
    "int_ind = [8,14,17,19]\n",
    "# print np.array(fitting[1].split())[float_ind]\n",
    "# print np.array(fitting[1].split())[int_ind]\n",
    "# print np.array(fitting[1].split())[scinot_ind]\n",
    "foo.write(\"\\t\".join(hdr))\n",
    "# for i in range(1, len(fitting)):\n",
    "for i in range(1,3):\n",
    "    row = np.array(fitting[i].split())\n",
    "    for t in float_ind:\n",
    "        print float(row[t])\n",
    "        row[t] = str(\"{:20.4f}\".format(float(row[t])))\n",
    "        print row[t]\n",
    "    print row\n",
    "#     print row[float_ind].astype('float')\n",
    "#     print \"{:20.4f}\".format(row[float_ind].astype(\"float\")[0])"
   ]
  },
  {
   "cell_type": "code",
   "execution_count": null,
   "metadata": {
    "collapsed": true
   },
   "outputs": [],
   "source": []
  }
 ],
 "metadata": {
  "kernelspec": {
   "display_name": "Python 2",
   "language": "python",
   "name": "python2"
  },
  "language_info": {
   "codemirror_mode": {
    "name": "ipython",
    "version": 2
   },
   "file_extension": ".py",
   "mimetype": "text/x-python",
   "name": "python",
   "nbconvert_exporter": "python",
   "pygments_lexer": "ipython2",
   "version": "2.7.11"
  }
 },
 "nbformat": 4,
 "nbformat_minor": 0
}
