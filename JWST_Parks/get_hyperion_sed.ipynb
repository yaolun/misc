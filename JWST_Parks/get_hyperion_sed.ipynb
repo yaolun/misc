{
 "cells": [
  {
   "cell_type": "code",
   "execution_count": 6,
   "metadata": {
    "collapsed": true
   },
   "outputs": [],
   "source": [
    "from hyperion.model import ModelOutput\n",
    "import numpy as np\n",
    "import astropy.constants as const\n",
    "pc = const.pc.cgs.value"
   ]
  },
  {
   "cell_type": "code",
   "execution_count": 9,
   "metadata": {
    "collapsed": false
   },
   "outputs": [],
   "source": [
    "filename = '/Users/yaolun/bhr71/hyperion/controlled/model144.rtout'\n",
    "obs_dir = '/Users/yaolun/bhr71/best_calibrated/'\n",
    "outdir = '/Users/yaolun/test/'\n",
    "\n",
    "# Apertures\n",
    "wl_aper, aper_arcsec = np.genfromtxt(obs_dir+'aperture.txt', skip_header=1, dtype=float).T\n",
    "aper_reduced = list(set(aper_arcsec))\n",
    "\n",
    "# Read in model\n",
    "m = ModelOutput(filename)\n",
    "for aper in aper_reduced:\n",
    "    sed_dum = m.get_sed(group=1+aper_reduced.index(aper), \n",
    "                        inclination=0,aperture=-1,distance=200.0*pc, uncertainties=True)\n",
    "\n",
    "    foo = open(outdir+'bhr71_sed_'+str(aper)+'.txt','w')\n",
    "    foo.write('%12s \\t %12s \\t %12s \\n' % ('wave','vSv','sigma_vSv'))\n",
    "    for i in range(0, len(sed_dum.wav)):\n",
    "        foo.write('%12g \\t %12g \\t %12g \\n' % (sed_dum.wav[i], sed_dum.val[i], sed_dum.unc[i]))\n",
    "    foo.close()\n"
   ]
  },
  {
   "cell_type": "code",
   "execution_count": null,
   "metadata": {
    "collapsed": true
   },
   "outputs": [],
   "source": []
  }
 ],
 "metadata": {
  "kernelspec": {
   "display_name": "Python 2",
   "language": "python",
   "name": "python2"
  },
  "language_info": {
   "codemirror_mode": {
    "name": "ipython",
    "version": 2
   },
   "file_extension": ".py",
   "mimetype": "text/x-python",
   "name": "python",
   "nbconvert_exporter": "python",
   "pygments_lexer": "ipython2",
   "version": "2.7.11"
  }
 },
 "nbformat": 4,
 "nbformat_minor": 0
}
