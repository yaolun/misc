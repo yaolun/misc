{
 "cells": [
  {
   "cell_type": "code",
   "execution_count": 1,
   "metadata": {
    "collapsed": true
   },
   "outputs": [],
   "source": [
    "# This is a python 3 script"
   ]
  },
  {
   "cell_type": "code",
   "execution_count": 2,
   "metadata": {
    "collapsed": false
   },
   "outputs": [
    {
     "name": "stdout",
     "output_type": "stream",
     "text": [
      "GSS30-IRS1 [1.0265305523852155, 1.1967031154239371, 1.6525284879700768]\n",
      "RCrA-IRS5A [1.0630328106306945, 1.1315603623722159, 1.3696372720817391]\n",
      "WL12 [1.0658349639604883, 1.1795182951208503, 1.5544868365162248]\n",
      "L1157 [0.88814655673490295, 1.0238192013210212, 1.2499526279539201]\n",
      "B1-a [0.96930624346651972, 1.1511839311917937, 1.5630237070177919]\n",
      "L1455-IRS3 [0.96288513101165973, 1.0754205476633589, 1.1663323990719603]\n",
      "RCrA-IRS7C [1.0583199216274193, 1.1882984142806348, 1.610635391778519]\n",
      "RCrA-IRS7B [1.1350205745981607, 1.2433990122014991, 1.6502607947801953]\n",
      "TMC1 [0.85637697588957395, 1.0621488350593302, 1.4117465104117266]\n",
      "B1-c [0.94115926331937272, 1.026415385086562, 1.3611805371906085]\n",
      "L1551-IRS5 [0.96001505768336226, 1.0445727449209452, 1.3347461641114415]\n",
      "BHR71 [0.88019845186446033, 1.0159638235903434, 1.2623573713064893]\n",
      "DKCha [0.87783200402997597, 1.0273250965542062, 1.3918963895200682]\n",
      "L1014 [0.91807657310684054, 1.040351275983455, 1.1958665580424235]\n",
      "TMC1A [0.94460787807967617, 1.0420226283357954, 1.3749834497770099]\n",
      "B335 [0.88363504542325433, 1.0065122718856132, 1.2533310320357669]\n",
      "TMR1 [0.94235164320248399, 1.0617324557254593, 1.3939596201306372]\n",
      "VLA1623 [0.91562970336392535, 1.0821918144831322, 1.4525335761346103]\n",
      "RNO91 [0.93901761527574812, 1.0543941168322819, 1.4147008970728523]\n",
      "IRAS15398 [1.0838336129581385, 1.0245774255849729, 1.2464048156553602]\n",
      "IRAS03245 [0.89624226922552985, 1.0127835451056681, 1.380996502500532]\n",
      "IRAS03301 [1.0965378679634776, 1.2590598438488538, 1.4963857756134014]\n",
      "L723-MM [0.89016302404844672, 1.0224031707928181, 1.3182309966998627]\n",
      "Ced110 [0.92626166345228256, 1.0727497378647437, 1.4113554686786101]\n",
      "L483 [0.94309280026942899, 1.0603767017831596, 1.3243151460120357]\n",
      "25\n"
     ]
    },
    {
     "data": {
      "image/png": "[encoded data removed]",
      "text/plain": [
       "<matplotlib.figure.Figure at 0x2ba3de21bb00>"
      ]
     },
     "metadata": {},
     "output_type": "display_data"
    }
   ],
   "source": [
    "%matplotlib inline\n",
    "import os\n",
    "from glob import glob\n",
    "from astropy.io import ascii\n",
    "import numpy as np\n",
    "import matplotlib.pyplot as plt\n",
    "\n",
    "# archive_dir = '/Users/yaolun/data/CDF_archive_v2/'\n",
    "archive_dir = '/home/bettyjo/yaolun/CDF_archive_v2/'\n",
    "band = [250, 350, 500]\n",
    "\n",
    "fig = plt.figure()\n",
    "ax = fig.add_subplot(111)\n",
    "colors = ['b','k','r']\n",
    "\n",
    "path_list = glob(archive_dir+'*/')\n",
    "obj_list = []\n",
    "for path in path_list:\n",
    "# this is for directories cleaning\n",
    "#     if os.path.exists(path+'data'):\n",
    "#         os.rmdir(path+'data')\n",
    "#     if not os.path.exists(path+'spire/data/'+os.path.basename(path[:-1])+'_spire_corrected.txt'):\n",
    "#         continue\n",
    "#     file_dum = glob(path+'spire/data/*spire_sect.txt')\n",
    "#     obsid_dum = os.path.basename(file_dum[0])[:10]\n",
    "#     if os.path.exists(path+'spire/data/'+obsid_dum+'spire_sect.txt'):\n",
    "#         os.remove(path+'spire/data/'+obsid_dum+'_spire_sect.txt')\n",
    "#         os.rename(path+'spire/data/'+obsid_dum+'spire_sect.txt', path+'spire/data/'+obsid_dum+'_spire_sect.txt')\n",
    "    \n",
    "    # photometry compare with spectroscopy - SPIRE\n",
    "    if not os.path.exists(path+'spire/data/'+os.path.basename(path[:-1])+'_spire_phot.txt'):\n",
    "        continue\n",
    "    spec_dum = ascii.read(path+'spire/data/'+os.path.basename(path[:-1])+'_spire_corrected.txt')\n",
    "    phot_dum = ascii.read(path+'spire/data/'+os.path.basename(path[:-1])+'_spire_phot.txt', data_start=4)\n",
    "    \n",
    "    obj_list.append(os.path.basename(path[:-1]))\n",
    "    \n",
    "    ratio = []\n",
    "    for b in band:\n",
    "        spec_flux = np.mean(spec_dum['Flux_Density(Jy)'][(spec_dum['Wavelength(um)'] >= b-10) & (spec_dum['Wavelength(um)'] <= b+10)])\n",
    "        ratio.append(np.mean(phot_dum['flux(Jy)'][phot_dum['wavelength(um)'] == b])/spec_flux)\n",
    "        ax.plot(len(obj_list), ratio[-1], 'o', color=colors[band.index(b)])\n",
    "        \n",
    "    print(os.path.basename(path[:-1]), ratio)\n",
    "\n",
    "ax.axhline(1.15, color='k', linestyle='--')\n",
    "ax.axhline(0.85, color='k', linestyle='--')\n",
    "ax.axhline(1.5, color='Gray', linestyle='--')\n",
    "ax.set_ylim([0.7, 1.7])\n",
    "    \n",
    "plt.xticks(list(range(1,len(obj_list)+1)), [obj for obj in obj_list], rotation='vertical')\n",
    "\n",
    "print(len(obj_list))"
   ]
  },
  {
   "cell_type": "code",
   "execution_count": 14,
   "metadata": {
    "collapsed": false
   },
   "outputs": [
    {
     "name": "stderr",
     "output_type": "stream",
     "text": [
      "/home/bettyjo/yaolun/anaconda/envs/astroconda3/lib/python3.5/site-packages/numpy/core/_methods.py:59: RuntimeWarning: Mean of empty slice.\n",
      "  warnings.warn(\"Mean of empty slice.\", RuntimeWarning)\n",
      "/home/bettyjo/yaolun/anaconda/envs/astroconda3/lib/python3.5/site-packages/numpy/core/_methods.py:70: RuntimeWarning: invalid value encountered in double_scalars\n",
      "  ret = ret.dtype.type(ret / rcount)\n",
      "/home/bettyjo/yaolun/anaconda/envs/astroconda3/lib/python3.5/site-packages/numpy/core/_methods.py:59: RuntimeWarning: Mean of empty slice.\n",
      "  warnings.warn(\"Mean of empty slice.\", RuntimeWarning)\n",
      "/home/bettyjo/yaolun/anaconda/envs/astroconda3/lib/python3.5/site-packages/numpy/core/_methods.py:70: RuntimeWarning: invalid value encountered in double_scalars\n",
      "  ret = ret.dtype.type(ret / rcount)\n"
     ]
    },
    {
     "name": "stdout",
     "output_type": "stream",
     "text": [
      "GSS30-IRS1 [nan, 0.7862812859909365, 0.71228651100572959]\n",
      "RCrA-IRS5A [0.31752220005044274, 0.92860372734826435, 0.80617979389040062]\n",
      "WL12 [0.6214817525378018, nan, 0.36976740885735887]\n"
     ]
    },
    {
     "name": "stderr",
     "output_type": "stream",
     "text": [
      "/home/bettyjo/yaolun/anaconda/envs/astroconda3/lib/python3.5/site-packages/numpy/core/_methods.py:59: RuntimeWarning: Mean of empty slice.\n",
      "  warnings.warn(\"Mean of empty slice.\", RuntimeWarning)\n",
      "/home/bettyjo/yaolun/anaconda/envs/astroconda3/lib/python3.5/site-packages/numpy/core/_methods.py:70: RuntimeWarning: invalid value encountered in double_scalars\n",
      "  ret = ret.dtype.type(ret / rcount)\n",
      "/home/bettyjo/yaolun/anaconda/envs/astroconda3/lib/python3.5/site-packages/numpy/core/_methods.py:59: RuntimeWarning: Mean of empty slice.\n",
      "  warnings.warn(\"Mean of empty slice.\", RuntimeWarning)\n",
      "/home/bettyjo/yaolun/anaconda/envs/astroconda3/lib/python3.5/site-packages/numpy/core/_methods.py:70: RuntimeWarning: invalid value encountered in double_scalars\n",
      "  ret = ret.dtype.type(ret / rcount)\n",
      "/home/bettyjo/yaolun/anaconda/envs/astroconda3/lib/python3.5/site-packages/numpy/core/_methods.py:59: RuntimeWarning: Mean of empty slice.\n",
      "  warnings.warn(\"Mean of empty slice.\", RuntimeWarning)\n",
      "/home/bettyjo/yaolun/anaconda/envs/astroconda3/lib/python3.5/site-packages/numpy/core/_methods.py:70: RuntimeWarning: invalid value encountered in double_scalars\n",
      "  ret = ret.dtype.type(ret / rcount)\n"
     ]
    },
    {
     "name": "stdout",
     "output_type": "stream",
     "text": [
      "L1157 [nan, 1.101397825686083, 1.4164365195071578]\n",
      "B1-a [nan, 0.48376602185025691, 0.46149990313262984]\n",
      "L1455-IRS3 [nan, 0.48825599437997341, 1.9750521927064404]\n",
      "RCrA-IRS7C [1.2301682836730579, 1.1512909875511461, 1.0564555403126548]\n",
      "RCrA-IRS7B [nan, 1.0549011954366656, 1.0938197184662115]\n",
      "No photometry for TMC1\n",
      "B1-c [0.83874944673999829, nan, 0.95195179262710961]\n"
     ]
    },
    {
     "name": "stderr",
     "output_type": "stream",
     "text": [
      "/home/bettyjo/yaolun/anaconda/envs/astroconda3/lib/python3.5/site-packages/numpy/core/_methods.py:59: RuntimeWarning: Mean of empty slice.\n",
      "  warnings.warn(\"Mean of empty slice.\", RuntimeWarning)\n",
      "/home/bettyjo/yaolun/anaconda/envs/astroconda3/lib/python3.5/site-packages/numpy/core/_methods.py:70: RuntimeWarning: invalid value encountered in double_scalars\n",
      "  ret = ret.dtype.type(ret / rcount)\n",
      "/home/bettyjo/yaolun/anaconda/envs/astroconda3/lib/python3.5/site-packages/numpy/core/_methods.py:59: RuntimeWarning: Mean of empty slice.\n",
      "  warnings.warn(\"Mean of empty slice.\", RuntimeWarning)\n",
      "/home/bettyjo/yaolun/anaconda/envs/astroconda3/lib/python3.5/site-packages/numpy/core/_methods.py:70: RuntimeWarning: invalid value encountered in double_scalars\n",
      "  ret = ret.dtype.type(ret / rcount)\n"
     ]
    },
    {
     "name": "stdout",
     "output_type": "stream",
     "text": [
      "No photometry for L1551-IRS5\n",
      "BHR71 [1.0838518003687172, 1.1068874675341562, 1.132819239889183]\n",
      "DKCha [nan, 0.97180429404401625, 1.1236196813500037]\n"
     ]
    },
    {
     "name": "stderr",
     "output_type": "stream",
     "text": [
      "/home/bettyjo/yaolun/anaconda/envs/astroconda3/lib/python3.5/site-packages/numpy/core/_methods.py:59: RuntimeWarning: Mean of empty slice.\n",
      "  warnings.warn(\"Mean of empty slice.\", RuntimeWarning)\n",
      "/home/bettyjo/yaolun/anaconda/envs/astroconda3/lib/python3.5/site-packages/numpy/core/_methods.py:70: RuntimeWarning: invalid value encountered in double_scalars\n",
      "  ret = ret.dtype.type(ret / rcount)\n",
      "/home/bettyjo/yaolun/anaconda/envs/astroconda3/lib/python3.5/site-packages/numpy/core/_methods.py:59: RuntimeWarning: Mean of empty slice.\n",
      "  warnings.warn(\"Mean of empty slice.\", RuntimeWarning)\n",
      "/home/bettyjo/yaolun/anaconda/envs/astroconda3/lib/python3.5/site-packages/numpy/core/_methods.py:70: RuntimeWarning: invalid value encountered in double_scalars\n",
      "  ret = ret.dtype.type(ret / rcount)\n",
      "/home/bettyjo/yaolun/anaconda/envs/astroconda3/lib/python3.5/site-packages/numpy/core/_methods.py:59: RuntimeWarning: Mean of empty slice.\n",
      "  warnings.warn(\"Mean of empty slice.\", RuntimeWarning)\n",
      "/home/bettyjo/yaolun/anaconda/envs/astroconda3/lib/python3.5/site-packages/numpy/core/_methods.py:70: RuntimeWarning: invalid value encountered in double_scalars\n",
      "  ret = ret.dtype.type(ret / rcount)\n"
     ]
    },
    {
     "name": "stdout",
     "output_type": "stream",
     "text": [
      "L1014 [nan, 0.63315785490797372, 0.99266720322972479]\n",
      "No photometry for TMC1A\n",
      "B335 [nan, 0.98650852418451318, 1.1698963063151173]\n",
      "TMR1 [nan, 1.0542309876340372, 1.1108543116977037]\n",
      "14\n"
     ]
    },
    {
     "name": "stderr",
     "output_type": "stream",
     "text": [
      "/home/bettyjo/yaolun/anaconda/envs/astroconda3/lib/python3.5/site-packages/numpy/core/_methods.py:59: RuntimeWarning: Mean of empty slice.\n",
      "  warnings.warn(\"Mean of empty slice.\", RuntimeWarning)\n",
      "/home/bettyjo/yaolun/anaconda/envs/astroconda3/lib/python3.5/site-packages/numpy/core/_methods.py:70: RuntimeWarning: invalid value encountered in double_scalars\n",
      "  ret = ret.dtype.type(ret / rcount)\n"
     ]
    },
    {
     "data": {
      "image/png": "[encoded data removed]",
      "text/plain": [
       "<matplotlib.figure.Figure at 0x2ba3cc241128>"
      ]
     },
     "metadata": {},
     "output_type": "display_data"
    }
   ],
   "source": [
    "%matplotlib inline\n",
    "import os\n",
    "from glob import glob\n",
    "from astropy.io import ascii\n",
    "import numpy as np\n",
    "import matplotlib.pyplot as plt\n",
    "\n",
    "# archive_dir = '/Users/yaolun/data/CDF_archive_v2/'\n",
    "archive_dir = '/home/bettyjo/yaolun/CDF_archive_v2/'\n",
    "band = [70., 100., 160.]\n",
    "\n",
    "fig = plt.figure()\n",
    "ax = fig.add_subplot(111)\n",
    "colors = ['b','k','r']\n",
    "\n",
    "path_list = glob(archive_dir+'*/')\n",
    "obj_list = []\n",
    "for path in path_list:\n",
    "    # photometry compare with spectroscopy - PACS\n",
    "    if not os.path.exists(path+'pacs/data/'+os.path.basename(path[:-1])+'_pacs_phot.txt'):\n",
    "        continue\n",
    "    spec_dum = ascii.read(path+'pacs/data/'+os.path.basename(path[:-1])+'_pacs_weighted.txt')\n",
    "    try:\n",
    "        phot_dum = ascii.read(path+'pacs/data/'+os.path.basename(path[:-1])+'_pacs_phot.txt', data_start=4)\n",
    "    except IndexError:\n",
    "        print('No photometry for', os.path.basename(path[:-1]))\n",
    "        continue\n",
    "        \n",
    "    \n",
    "    obj_list.append(os.path.basename(path[:-1]))\n",
    "    \n",
    "    ratio = []\n",
    "    for b in band:\n",
    "        spec_flux = np.nanmean(spec_dum['Flux_Density(Jy)'][(spec_dum['Wavelength(um)'] >= b-10) & (spec_dum['Wavelength(um)'] <= b+10)])\n",
    "        ratio.append(np.mean(phot_dum['flux(Jy)'][phot_dum['wavelength(um)'] == b])/spec_flux)\n",
    "        ax.plot(len(obj_list), ratio[-1], 'o', color=colors[band.index(b)])\n",
    "        \n",
    "    print(os.path.basename(path[:-1]), ratio)\n",
    "\n",
    "ax.axhline(1.20, color='k', linestyle='--')\n",
    "ax.axhline(0.80, color='k', linestyle='--')\n",
    "# ax.axhline(1.5, color='Gray', linestyle='--')\n",
    "# ax.set_ylim([0.7, 1.7])\n",
    "    \n",
    "plt.xticks(list(range(1,len(obj_list)+1)), [obj for obj in obj_list], rotation='vertical')\n",
    "\n",
    "print(len(obj_list))"
   ]
  },
  {
   "cell_type": "code",
   "execution_count": null,
   "metadata": {
    "collapsed": true
   },
   "outputs": [],
   "source": []
  }
 ],
 "metadata": {
  "anaconda-cloud": {},
  "kernelspec": {
   "display_name": "Python [conda env:astroconda3]",
   "language": "python",
   "name": "conda-env-astroconda3-py"
  },
  "language_info": {
   "codemirror_mode": {
    "name": "ipython",
    "version": 3
   },
   "file_extension": ".py",
   "mimetype": "text/x-python",
   "name": "python",
   "nbconvert_exporter": "python",
   "pygments_lexer": "ipython3",
   "version": "3.5.2"
  }
 },
 "nbformat": 4,
 "nbformat_minor": 1
}
