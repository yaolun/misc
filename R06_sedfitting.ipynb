{
 "cells": [
  {
   "cell_type": "code",
   "execution_count": 3,
   "metadata": {
    "collapsed": true
   },
   "outputs": [],
   "source": [
    "from astropy import units as u\n",
    "from sedfitter import fit\n",
    "from sedfitter.extinction import Extinction\n",
    "import os"
   ]
  },
  {
   "cell_type": "code",
   "execution_count": 4,
   "metadata": {
    "collapsed": false
   },
   "outputs": [],
   "source": [
    "# path to models\n",
    "model_dir = '/Users/yaolun/data/models_r06/'\n",
    "\n",
    "# Read in extinction\n",
    "dust_path = '/Users/yaolun/Google Drive/dust_model/Weingartner_Draine/kext_albedo_WD_MW_5.5A_30_D03.ext'\n",
    "extinction = Extinction.from_file(dust_path, columns=[0,1], wav_unit=u.micron, chi_unit=u.cm**2/u.g)"
   ]
  },
  {
   "cell_type": "code",
   "execution_count": 15,
   "metadata": {
    "collapsed": false
   },
   "outputs": [],
   "source": [
    "# set up the filters as the extraction of spectro-photometric fluxes\n",
    "def filter_hyperion(wave):\n",
    "    from sedfitter.filter import Filter\n",
    "    import numpy as np\n",
    "    import astropy.constants as const\n",
    "    c = const.c.cgs.value\n",
    "    \n",
    "    if (wave < 50.) & (wave >= 5.):\n",
    "        res = 60.\n",
    "    elif wave < 5.:\n",
    "        res = 10.\n",
    "    else:\n",
    "        res = 1000.\n",
    "    \n",
    "    wave_min = wave*(1-1./res)\n",
    "    wave_max = wave*(1+1./res)\n",
    "    \n",
    "    if wave not in [70, 100, 160, 250, 350, 500]:\n",
    "        f = Filter()\n",
    "        f.name = str(wave)+'um'\n",
    "        f.central_wavelength = wave*u.micron\n",
    "        f.nu = (np.linspace(wave_min, wave_max, 100) * u.micron).to(u.Hz, equivalencies=u.spectral())\n",
    "        f.response = np.ones_like(f.nu.value)\n",
    "        f.normalize()\n",
    "    # herschel filters\n",
    "    else:\n",
    "        import sys\n",
    "        sys.path.append('/Users/yaolun/programs/misc/hyperion/')\n",
    "        from phot_filter import phot_filter\n",
    "        \n",
    "        if wave == 70:\n",
    "            fil_name = 'Herschel PACS 70um'\n",
    "            name = 'P1'\n",
    "        elif wave == 100:\n",
    "            fil_name = 'Herschel PACS 100um'\n",
    "            name = 'P2'\n",
    "        elif wave == 160:\n",
    "            fil_name = 'Herschel PACS 160um'\n",
    "            name = 'P3'\n",
    "        elif wave == 250:\n",
    "            fil_name = 'Herschel SPIRE 250um'\n",
    "            name = 'S1'\n",
    "        elif wave == 350:\n",
    "            fil_name = 'Herschel SPIRE 350um'\n",
    "            name = 'S2'\n",
    "        elif wave == 500:\n",
    "            fil_name = 'Herschel SPIRE 500um'\n",
    "            name = 'S3'\n",
    "        \n",
    "        print fil_name\n",
    "        \n",
    "        filter_func = phot_filter(fil_name, '/Users/yaolun/misc/hyperion/')\n",
    "        \n",
    "        f = Filter()\n",
    "        f.name = name\n",
    "        f.central_wavelength = wave * u.micron\n",
    "        f.nu = (filter_func['wave'] * u.micron).to(u.Hz, equivalencies=u.spectral())\n",
    "        f.response = filter_func['transmission']\n",
    "    return f"
   ]
  },
  {
   "cell_type": "code",
   "execution_count": 11,
   "metadata": {
    "collapsed": false
   },
   "outputs": [],
   "source": [
    "# monochromatic convolution on models\n",
    "from sedfitter import convolve\n",
    "mono_wav = [8.5, 9, 9.7, 10, 10.5, 11, 16, 20, 35]\n",
    "mono_filters = []\n",
    "\n",
    "for iwav in mono_wav:\n",
    "    filter_dum = filter_hyperion(iwav)\n",
    "    if not os.path.exists(model_dir+'/convolved/'+filter_dum.name+'.fits'):\n",
    "        mono_filters.append(filter_dum)"
   ]
  },
  {
   "cell_type": "code",
   "execution_count": 16,
   "metadata": {
    "collapsed": false
   },
   "outputs": [
    {
     "name": "stdout",
     "output_type": "stream",
     "text": [
      "Herschel PACS 70um\n"
     ]
    },
    {
     "ename": "TypeError",
     "evalue": "phot_filter() takes exactly 1 argument (2 given)",
     "output_type": "error",
     "traceback": [
      "\u001b[0;31m---------------------------------------------------------------------------\u001b[0m",
      "\u001b[0;31mTypeError\u001b[0m                                 Traceback (most recent call last)",
      "\u001b[0;32m<ipython-input-16-afb24140bd2f>\u001b[0m in \u001b[0;36m<module>\u001b[0;34m()\u001b[0m\n\u001b[1;32m      4\u001b[0m \u001b[0;34m\u001b[0m\u001b[0m\n\u001b[1;32m      5\u001b[0m \u001b[0;32mfor\u001b[0m \u001b[0miwav\u001b[0m \u001b[0;32min\u001b[0m \u001b[0mherschel_wave\u001b[0m\u001b[0;34m:\u001b[0m\u001b[0;34m\u001b[0m\u001b[0m\n\u001b[0;32m----> 6\u001b[0;31m     \u001b[0mfilter_dum\u001b[0m \u001b[0;34m=\u001b[0m \u001b[0mfilter_hyperion\u001b[0m\u001b[0;34m(\u001b[0m\u001b[0miwav\u001b[0m\u001b[0;34m)\u001b[0m\u001b[0;34m\u001b[0m\u001b[0m\n\u001b[0m\u001b[1;32m      7\u001b[0m     \u001b[0;32mif\u001b[0m \u001b[0;32mnot\u001b[0m \u001b[0mos\u001b[0m\u001b[0;34m.\u001b[0m\u001b[0mpath\u001b[0m\u001b[0;34m.\u001b[0m\u001b[0mexists\u001b[0m\u001b[0;34m(\u001b[0m\u001b[0mmodel_dir\u001b[0m\u001b[0;34m+\u001b[0m\u001b[0;34m'/convolved/'\u001b[0m\u001b[0;34m+\u001b[0m\u001b[0mfilter_dum\u001b[0m\u001b[0;34m.\u001b[0m\u001b[0mname\u001b[0m\u001b[0;34m+\u001b[0m\u001b[0;34m'.fits'\u001b[0m\u001b[0;34m)\u001b[0m\u001b[0;34m:\u001b[0m\u001b[0;34m\u001b[0m\u001b[0m\n\u001b[1;32m      8\u001b[0m         \u001b[0mherschel_filters\u001b[0m\u001b[0;34m.\u001b[0m\u001b[0mappend\u001b[0m\u001b[0;34m(\u001b[0m\u001b[0mfilter_dum\u001b[0m\u001b[0;34m)\u001b[0m\u001b[0;34m\u001b[0m\u001b[0m\n",
      "\u001b[0;32m<ipython-input-15-41a5f1973c94>\u001b[0m in \u001b[0;36mfilter_hyperion\u001b[0;34m(wave)\u001b[0m\n\u001b[1;32m     50\u001b[0m         \u001b[0;32mprint\u001b[0m \u001b[0mfil_name\u001b[0m\u001b[0;34m\u001b[0m\u001b[0m\n\u001b[1;32m     51\u001b[0m \u001b[0;34m\u001b[0m\u001b[0m\n\u001b[0;32m---> 52\u001b[0;31m         \u001b[0mfilter_func\u001b[0m \u001b[0;34m=\u001b[0m \u001b[0mphot_filter\u001b[0m\u001b[0;34m(\u001b[0m\u001b[0mfil_name\u001b[0m\u001b[0;34m,\u001b[0m \u001b[0;34m'/Users/yaolun/misc/hyperion/'\u001b[0m\u001b[0;34m)\u001b[0m\u001b[0;34m\u001b[0m\u001b[0m\n\u001b[0m\u001b[1;32m     53\u001b[0m \u001b[0;34m\u001b[0m\u001b[0m\n\u001b[1;32m     54\u001b[0m         \u001b[0mf\u001b[0m \u001b[0;34m=\u001b[0m \u001b[0mFilter\u001b[0m\u001b[0;34m(\u001b[0m\u001b[0;34m)\u001b[0m\u001b[0;34m\u001b[0m\u001b[0m\n",
      "\u001b[0;31mTypeError\u001b[0m: phot_filter() takes exactly 1 argument (2 given)"
     ]
    }
   ],
   "source": [
    "# Herschel filters convolution on models\n",
    "herschel_wave = [70, 100, 160, 250, 350, 500]\n",
    "herschel_filters = []\n",
    "\n",
    "for iwav in herschel_wave:\n",
    "    filter_dum = filter_hyperion(iwav)\n",
    "    if not os.path.exists(model_dir+'/convolved/'+filter_dum.name+'.fits'):\n",
    "        herschel_filters.append(filter_dum)"
   ]
  },
  {
   "cell_type": "code",
   "execution_count": 12,
   "metadata": {
    "collapsed": false
   },
   "outputs": [
    {
     "name": "stdout",
     "output_type": "stream",
     "text": [
      "INFO: 200710 SEDs found in /Users/yaolun/data/models_r06/ [sedfitter.convolve.convolve]\n",
      "INFO: Rebinning filters [sedfitter.convolve.convolve]\n"
     ]
    }
   ],
   "source": [
    "convolve.convolve_model_dir(model_dir,mono_filters)"
   ]
  },
  {
   "cell_type": "code",
   "execution_count": 20,
   "metadata": {
    "collapsed": false
   },
   "outputs": [
    {
     "name": "stdout",
     "output_type": "stream",
     "text": [
      " ------------------------------------------------------------\n",
      "  => Model parameters\n",
      " ------------------------------------------------------------\n",
      "\n",
      "   Models              :  YSO models\n",
      "   Log[d] stepping     :  0.01\n",
      "   Number of distances :  9\n",
      "\n",
      " ------------------------------------------------------------\n",
      "  => Reading in convolved fluxes\n",
      " ------------------------------------------------------------\n",
      "\n",
      "   Reading /Users/yaolun/data/models_r06//convolved/I3.fits\n",
      "   Reading /Users/yaolun/data/models_r06//convolved/I4.fits\n",
      "   Reading /Users/yaolun/data/models_r06//convolved/8.5um.fits\n",
      " ------------------------------------------------------------\n",
      "  => Fitting parameters\n",
      " ------------------------------------------------------------\n",
      "\n",
      "   Minimum A_V      :     0.000 mag\n",
      "   Maximum A_V      :    10.000 mag\n",
      "   Minimum distance :   180.000 pc\n",
      "   Maximum distance :   220.000 pc\n",
      "\n",
      " ------------------------------------------------------------\n",
      "  => Output parameters\n",
      " ------------------------------------------------------------\n",
      "\n",
      "   File   : outputfit.info\n",
      "   Format : F\n",
      "   Number : 6\n",
      "\n",
      " ------------------------------------------------------------\n",
      "  => Data format parameters\n",
      " ------------------------------------------------------------\n",
      "\n",
      "   Number of filters :  3\n",
      "\n",
      "\n",
      "     Filter    Wavelength    Aperture (\")   \n",
      "    ----------------------------------------\n",
      "          I3        5.73       7.20        \n",
      "          I4        7.87       7.20        \n",
      "       8.5um        8.50       7.20        \n",
      "\n",
      "Delete file outputfit.info? [y/[n]] y\n",
      "\n",
      "   # Sources    CPU time (sec)    Sources/sec  \n",
      " ----------------------------------------------\n",
      "          2              0.7           3.08\n"
     ]
    }
   ],
   "source": [
    "# Define filters and apertures\n",
    "filters = ['I3','I4','8.5um','9um','9.7um','10um','10.5um','11um','16um','20um','M1','35um','']\n",
    "apertures = [7.2, 7.2, 7.2] * u.arcsec\n",
    "\n",
    "fit('/Users/yaolun/bhr71/best_calibrated/bhr71_data_for_sedfitter_test.txt', filters, apertures, model_dir,\n",
    "    'outputfit.info', extinction_law=extinction, distance_range=[180, 220] * u.pc, av_range=[0, 10])"
   ]
  },
  {
   "cell_type": "code",
   "execution_count": null,
   "metadata": {
    "collapsed": true
   },
   "outputs": [],
   "source": []
  }
 ],
 "metadata": {
  "kernelspec": {
   "display_name": "Python 2",
   "language": "python",
   "name": "python2"
  },
  "language_info": {
   "codemirror_mode": {
    "name": "ipython",
    "version": 2
   },
   "file_extension": ".py",
   "mimetype": "text/x-python",
   "name": "python",
   "nbconvert_exporter": "python",
   "pygments_lexer": "ipython2",
   "version": "2.7.11"
  }
 },
 "nbformat": 4,
 "nbformat_minor": 0
}
