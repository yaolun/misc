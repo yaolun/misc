{
 "cells": [
  {
   "cell_type": "code",
   "execution_count": 78,
   "metadata": {
    "collapsed": false
   },
   "outputs": [],
   "source": [
    "%matplotlib inline\n",
    "import matplotlib.pyplot as plt\n",
    "from astropy import units as u\n",
    "from sedfitter import fit\n",
    "from sedfitter.extinction import Extinction\n",
    "import os"
   ]
  },
  {
   "cell_type": "code",
   "execution_count": 79,
   "metadata": {
    "collapsed": false
   },
   "outputs": [],
   "source": [
    "# path to models\n",
    "model_dir = '/Users/yaolun/data/models_r06/'\n",
    "\n",
    "# Read in extinction\n",
    "dust_path = '/Users/yaolun/Google Drive/dust_model/Weingartner_Draine/kext_albedo_WD_MW_5.5A_30_D03.ext'\n",
    "extinction = Extinction.from_file(dust_path, columns=[0,1], wav_unit=u.micron, chi_unit=u.cm**2/u.g)\n",
    "\n",
    "dust_path = '/Users/yaolun/Google Drive/dust_model/kmh94.par'\n",
    "extinction = Extinction.from_file(dust_path, columns=[0, 3],\n",
    "                                  wav_unit=u.micron, chi_unit=u.cm**2 / u.g)\n"
   ]
  },
  {
   "cell_type": "code",
   "execution_count": 80,
   "metadata": {
    "collapsed": false
   },
   "outputs": [],
   "source": [
    "# set up the filters as the extraction of spectro-photometric fluxes\n",
    "def filter_hyperion(wave):\n",
    "    from sedfitter.filter import Filter\n",
    "    import numpy as np\n",
    "    import astropy.constants as const\n",
    "    c = const.c.cgs.value\n",
    "    \n",
    "    if (wave < 50.) & (wave >= 5.):\n",
    "        res = 60.\n",
    "    elif wave < 5.:\n",
    "        res = 10.\n",
    "    else:\n",
    "        res = 1000.\n",
    "    \n",
    "    wave_min = wave*(1-1./res)\n",
    "    wave_max = wave*(1+1./res)\n",
    "    \n",
    "    if wave not in [70, 100, 160, 250, 350, 500]:\n",
    "        f = Filter()\n",
    "        f.name = str(wave)+'um'\n",
    "        f.central_wavelength = wave*u.micron\n",
    "        f.nu = (np.linspace(wave_min, wave_max, 100) * u.micron).to(u.Hz, equivalencies=u.spectral())\n",
    "        f.response = np.ones_like(f.nu.value)\n",
    "        f.normalize()\n",
    "    # herschel filters\n",
    "    else:\n",
    "        import sys\n",
    "        sys.path.append('/Users/yaolun/programs/misc/hyperion/')\n",
    "        from phot_filter import phot_filter\n",
    "        \n",
    "        if wave == 70:\n",
    "            fil_name = 'Herschel PACS 70um'\n",
    "            name = 'P1'\n",
    "        elif wave == 100:\n",
    "            fil_name = 'Herschel PACS 100um'\n",
    "            name = 'P2'\n",
    "        elif wave == 160:\n",
    "            fil_name = 'Herschel PACS 160um'\n",
    "            name = 'P3'\n",
    "        elif wave == 250:\n",
    "            fil_name = 'Herschel SPIRE 250um'\n",
    "            name = 'S1'\n",
    "        elif wave == 350:\n",
    "            fil_name = 'Herschel SPIRE 350um'\n",
    "            name = 'S2'\n",
    "        elif wave == 500:\n",
    "            fil_name = 'Herschel SPIRE 500um'\n",
    "            name = 'S3'\n",
    "        \n",
    "        print fil_name\n",
    "        \n",
    "        filter_func = phot_filter(fil_name, '/Users/yaolun/misc/hyperion/')\n",
    "        \n",
    "        f = Filter()\n",
    "        f.name = name\n",
    "        f.central_wavelength = wave * u.micron\n",
    "        f.nu = (filter_func['wave'] * u.micron).to(u.Hz, equivalencies=u.spectral())\n",
    "        f.response = filter_func['transmission']\n",
    "    return f"
   ]
  },
  {
   "cell_type": "code",
   "execution_count": null,
   "metadata": {
    "collapsed": false
   },
   "outputs": [],
   "source": [
    "# monochromatic convolution on models\n",
    "from sedfitter import convolve\n",
    "mono_wav = [8.5, 9, 9.7, 10, 10.5, 11, 16, 20, 35]\n",
    "mono_filters = []\n",
    "\n",
    "for iwav in mono_wav:\n",
    "    filter_dum = filter_hyperion(iwav)\n",
    "    if not os.path.exists(model_dir+'/convolved/'+filter_dum.name+'.fits'):\n",
    "        mono_filters.append(filter_dum)"
   ]
  },
  {
   "cell_type": "code",
   "execution_count": null,
   "metadata": {
    "collapsed": false
   },
   "outputs": [],
   "source": [
    "# Herschel filters convolution on models\n",
    "herschel_wave = [70, 100, 160, 250, 350, 500]\n",
    "herschel_filters = []\n",
    "\n",
    "for iwav in herschel_wave:\n",
    "    filter_dum = filter_hyperion(iwav)\n",
    "    if not os.path.exists(model_dir+'/convolved/'+filter_dum.name+'.fits'):\n",
    "        herschel_filters.append(filter_dum)"
   ]
  },
  {
   "cell_type": "code",
   "execution_count": null,
   "metadata": {
    "collapsed": false
   },
   "outputs": [],
   "source": [
    "convolve.convolve_model_dir(model_dir,mono_filters)"
   ]
  },
  {
   "cell_type": "markdown",
   "metadata": {},
   "source": [
    "## Try to fit the SED without invoking any additional convolution"
   ]
  },
  {
   "cell_type": "markdown",
   "metadata": {},
   "source": [
    "### Read in the test data"
   ]
  },
  {
   "cell_type": "code",
   "execution_count": 95,
   "metadata": {
    "collapsed": false
   },
   "outputs": [
    {
     "name": "stdout",
     "output_type": "stream",
     "text": [
      " ------------------------------------------------------------\n",
      "  => Model parameters\n",
      " ------------------------------------------------------------\n",
      "\n",
      "   Models              :  YSO models\n",
      "   Log[d] stepping     :  0.01\n",
      "   Number of distances :  48\n",
      "\n",
      " ------------------------------------------------------------\n",
      "  => Reading in convolved fluxes\n",
      " ------------------------------------------------------------\n",
      "\n",
      "   Reading /Users/yaolun/data/models_r06//convolved/I3.fits\n",
      "   Reading /Users/yaolun/data/models_r06//convolved/I4.fits\n",
      "   Reading /Users/yaolun/data/models_r06//convolved/8.5um.fits\n",
      "   Reading /Users/yaolun/data/models_r06//convolved/9um.fits\n",
      "   Reading /Users/yaolun/data/models_r06//convolved/9.7um.fits\n",
      "   Reading /Users/yaolun/data/models_r06//convolved/10um.fits\n",
      "   Reading /Users/yaolun/data/models_r06//convolved/10.5um.fits\n",
      "   Reading /Users/yaolun/data/models_r06//convolved/11um.fits\n",
      "   Reading /Users/yaolun/data/models_r06//convolved/16um.fits\n",
      "   Reading /Users/yaolun/data/models_r06//convolved/20um.fits\n",
      "   Reading /Users/yaolun/data/models_r06//convolved/M1.fits\n",
      "   Reading /Users/yaolun/data/models_r06//convolved/35um.fits\n",
      "   Reading /Users/yaolun/data/models_r06//convolved/P1.fits\n",
      "   Reading /Users/yaolun/data/models_r06//convolved/P2.fits\n",
      "   Reading /Users/yaolun/data/models_r06//convolved/P3.fits\n",
      "   Reading /Users/yaolun/data/models_r06//convolved/HS1.fits\n",
      "   Reading /Users/yaolun/data/models_r06//convolved/HS2.fits\n",
      "   Reading /Users/yaolun/data/models_r06//convolved/HS3.fits\n",
      " ------------------------------------------------------------\n",
      "  => Fitting parameters\n",
      " ------------------------------------------------------------\n",
      "\n",
      "   Minimum A_V      :     0.000 mag\n",
      "   Maximum A_V      :    20.000 mag\n",
      "   Minimum distance :   100.000 pc\n",
      "   Maximum distance :   300.000 pc\n",
      "\n",
      " ------------------------------------------------------------\n",
      "  => Output parameters\n",
      " ------------------------------------------------------------\n",
      "\n",
      "   File   : output.fitinfo\n",
      "   Format : F\n",
      "   Number : 6\n",
      "\n",
      " ------------------------------------------------------------\n",
      "  => Data format parameters\n",
      " ------------------------------------------------------------\n",
      "\n",
      "   Number of filters :  18\n",
      "\n",
      "\n",
      "     Filter    Wavelength    Aperture (\")   \n",
      "    ----------------------------------------\n",
      "          I3        5.73       7.20        \n",
      "          I4        7.87       7.20        \n",
      "       8.5um        8.50       7.20        \n",
      "         9um        9.00       7.20        \n",
      "       9.7um        9.70       7.20        \n",
      "        10um       10.00       7.20        \n",
      "       10.5um       10.50       7.20        \n",
      "        11um       11.00       7.20        \n",
      "        16um       16.00      20.40        \n",
      "        20um       20.00      20.40        \n",
      "          M1       23.68      20.40        \n",
      "        35um       35.00      20.40        \n",
      "          P1       70.00      31.80        \n",
      "          P2      100.00      31.80        \n",
      "          P3      160.00      31.80        \n",
      "         HS1      250.00      35.40        \n",
      "         HS2      350.00      47.90        \n",
      "         HS3      500.00      46.00        \n",
      "\n",
      "Delete file output.fitinfo? [y/[n]] y\n",
      "\n",
      "   # Sources    CPU time (sec)    Sources/sec  \n",
      " ----------------------------------------------\n",
      "          1             23.5           0.04\n",
      "          2             23.5           0.09\n"
     ]
    }
   ],
   "source": [
    "# Define filters and apertures\n",
    "filters = ['I3','I4','8.5um','9um','9.7um',\n",
    "           '10um','10.5um','11um','16um','20um',\n",
    "           'M1','35um','P1','P2','P3',\n",
    "           'HS1','HS2','HS3']\n",
    "apertures = [7.2, 7.2, 7.2, 7.2, 7.2,\n",
    "             7.2, 7.2, 7.2, 20.4, 20.4,\n",
    "             20.4, 20.4, 31.8, 31.8, 31.8,\n",
    "             35.4, 47.9, 46.0] * u.arcsec\n",
    "\n",
    "fit('/Users/yaolun/bhr71/best_calibrated/bhr71_data_for_sedfitter_test.txt', filters, apertures, model_dir,\n",
    "    'output.fitinfo', extinction_law=extinction, distance_range=[100, 300] * u.pc, av_range=[0, 20])"
   ]
  },
  {
   "cell_type": "code",
   "execution_count": 88,
   "metadata": {
    "collapsed": false
   },
   "outputs": [],
   "source": [
    "from sedfitter import write_parameters, write_parameter_ranges\n",
    "\n",
    "# Write out all models with a delta chi^2-chi_best^2 per datapoint < 3\n",
    "write_parameters('output.fitinfo', 'parameters.txt',\n",
    "                 select_format=('F', 3.))\n"
   ]
  },
  {
   "cell_type": "code",
   "execution_count": 90,
   "metadata": {
    "collapsed": false
   },
   "outputs": [
    {
     "name": "stdout",
     "output_type": "stream",
     "text": [
      "Delete directory plots_seds? [y/[n]] y\n",
      "\n"
     ]
    }
   ],
   "source": [
    "from sedfitter import plot\n",
    "plot('output.fitinfo', 'plots_seds')"
   ]
  },
  {
   "cell_type": "code",
   "execution_count": null,
   "metadata": {
    "collapsed": true
   },
   "outputs": [],
   "source": [
    "params"
   ]
  }
 ],
 "metadata": {
  "kernelspec": {
   "display_name": "Python 2",
   "language": "python",
   "name": "python2"
  },
  "language_info": {
   "codemirror_mode": {
    "name": "ipython",
    "version": 2
   },
   "file_extension": ".py",
   "mimetype": "text/x-python",
   "name": "python",
   "nbconvert_exporter": "python",
   "pygments_lexer": "ipython2",
   "version": "2.7.11"
  }
 },
 "nbformat": 4,
 "nbformat_minor": 0
}
