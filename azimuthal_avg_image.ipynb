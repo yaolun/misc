{
 "cells": [
  {
   "cell_type": "code",
   "execution_count": 67,
   "metadata": {
    "collapsed": false
   },
   "outputs": [],
   "source": [
    "%matplotlib inline\n",
    "import numpy as np\n",
    "from astropy.io import ascii, fits\n",
    "import matplotlib.pyplot as plt\n",
    "from photutils import aperture_photometry as ap\n",
    "from photutils import CircularAperture, CircularAnnulus\n",
    "from astropy import units as u\n",
    "from astropy.coordinates import SkyCoord\n",
    "from astropy import wcs\n",
    "from hyperion.model import ModelOutput\n",
    "import astropy.constants as const\n",
    "\n",
    "pc = const.pc.cgs.value\n",
    "AU = const.au.cgs.value"
   ]
  },
  {
   "cell_type": "markdown",
   "metadata": {},
   "source": [
    "## Calculate the radial intensity profile by taking the difference between apertues"
   ]
  },
  {
   "cell_type": "code",
   "execution_count": 93,
   "metadata": {
    "collapsed": false
   },
   "outputs": [
    {
     "name": "stdout",
     "output_type": "stream",
     "text": [
      "10.0 4.45800914796\n",
      "20.0 2.36702011777\n",
      "30.0 1.083804783\n",
      "40.0 0.647448026682\n",
      "50.0 0.47568876684\n",
      "60.0 0.385635745263\n",
      "70.0 0.339015508109\n",
      "80.0 0.308392777611\n",
      "90.0 0.284202992123\n",
      "100.0 0.262175891828\n",
      "110.0 0.243428433608\n",
      "120.0 0.228935603329\n",
      "130.0 0.219104291839\n",
      "140.0 0.211620014312\n",
      "150.0 0.204559853469\n",
      "160.0 0.197207059431\n",
      "170.0 0.190255806671\n",
      "180.0 0.184039527126\n"
     ]
    }
   ],
   "source": [
    "# Read in data and set up coversions\n",
    "im_hdu = fits.open('/Users/yaolun/bhr71/data/photometry/herschel_photometry/'+\n",
    "               '1342226633/level2/extdPMW/hspirepmw1342226633_20pxmp_1431669350070.fits')\n",
    "im = im_hdu[1].data\n",
    "w = wcs.WCS(im_hdu[1].header)\n",
    "\n",
    "coord = SkyCoord('12 01 36.3 -65 08 53.0', unit=(u.hourangle, u.deg))\n",
    "pixcoord = w.wcs_world2pix(coord.ra.degree, coord.dec.degree, 1)\n",
    "pix2arcsec = abs(im_hdu[1].header['CDELT1'])*3600.\n",
    "# convert intensity unit from MJy/sr to Jy/pixel\n",
    "factor = 1e6/4.25e10*abs(im_hdu[1].header['CDELT1']*im_hdu[1].header['CDELT2'])*3600**2\n",
    "\n",
    "# radial grid in arcsec\n",
    "annulus_width = 10\n",
    "r = np.arange(10, 200, annulus_width, dtype=float)\n",
    "I = np.empty_like(r[:-1])\n",
    "\n",
    "# iteration\n",
    "for ir in range(len(r)-1):\n",
    "    aperture = CircularAnnulus((pixcoord[0],pixcoord[1]), r_in=r[ir]/pix2arcsec, r_out=r[ir+1]/pix2arcsec)\n",
    "#     print aperture.r_in\n",
    "    phot = ap(im, aperture)\n",
    "    I[ir] = phot['aperture_sum'].data * factor / aperture.area()\n",
    "    print r[ir], I[ir]"
   ]
  },
  {
   "cell_type": "code",
   "execution_count": 94,
   "metadata": {
    "collapsed": false
   },
   "outputs": [
    {
     "name": "stdout",
     "output_type": "stream",
     "text": [
      "[ 1.          0.53095901  0.24311408  0.14523255  0.1067043   0.08650403\n",
      "  0.07604639  0.06917724  0.0637511   0.05881008  0.05460474  0.05135378\n",
      "  0.04914846  0.04746962  0.04588592  0.04423658  0.0426773   0.0412829 ]\n"
     ]
    }
   ],
   "source": [
    "print I/I.max()"
   ]
  },
  {
   "cell_type": "code",
   "execution_count": 96,
   "metadata": {
    "collapsed": false
   },
   "outputs": [
    {
     "data": {
      "text/plain": [
       "<matplotlib.text.Text at 0x11379a990>"
      ]
     },
     "execution_count": 96,
     "metadata": {},
     "output_type": "execute_result"
    },
    {
     "data": {
      "image/png": "[encoded data removed]",
      "text/plain": [
       "<matplotlib.figure.Figure at 0x113003ed0>"
      ]
     },
     "metadata": {},
     "output_type": "display_data"
    }
   ],
   "source": [
    "fig = plt.figure(figsize=(8,6))\n",
    "ax = fig.add_subplot(111)\n",
    "\n",
    "i, = ax.plot(np.log10(r[:-1]), np.log10(I/I.max()), 'o-', mec='None', markersize=10)\n",
    "\n",
    "ax.legend([i], [r'$\\rm{500\\,\\mu m}$'], fontsize=16, numpoints=1, loc='upper right')\n",
    "[ax.spines[axis].set_linewidth(1.5) for axis in ['top','bottom','left','right']]\n",
    "ax.minorticks_on()\n",
    "ax.tick_params('both',labelsize=18,width=1.5,which='major',pad=10,length=5)\n",
    "ax.tick_params('both',labelsize=18,width=1.5,which='minor',pad=10,length=2.5)\n",
    "ax.set_xlabel('Radius [arcsec]', fontsize=18)\n",
    "ax.set_ylabel(r'$\\rm{I\\,/\\,I_{max}}$', fontsize=18)"
   ]
  },
  {
   "cell_type": "markdown",
   "metadata": {
    "collapsed": true
   },
   "source": [
    "## Do the same thing for simulations"
   ]
  },
  {
   "cell_type": "code",
   "execution_count": 97,
   "metadata": {
    "collapsed": false
   },
   "outputs": [],
   "source": [
    "# read in from RTout\n",
    "rtout = ModelOutput('/Users/yaolun/bhr71/hyperion/model9.rtout')\n",
    "# setting up parameters\n",
    "dstar = 200.\n",
    "group = 8\n",
    "wave = 500.0\n",
    "\n",
    "im = rtout.get_image(group=group, inclination=0, distance=dstar*pc, units='Jy')\n",
    "\n",
    "# Find the closest wavelength\n",
    "iwav = np.argmin(np.abs(wave - im.wav))\n",
    "# avoid zero when log, and flip the image\n",
    "val = im.val[::-1, :, iwav]\n",
    "\n",
    "w = np.degrees(max(rtout.get_quantities().r_wall) / im.distance) * 3600\n",
    "npix = len(val[:,0])\n",
    "pix2arcsec = 2*w/npix"
   ]
  },
  {
   "cell_type": "code",
   "execution_count": 98,
   "metadata": {
    "collapsed": false
   },
   "outputs": [
    {
     "name": "stdout",
     "output_type": "stream",
     "text": [
      "10.0 0.0281436143124\n",
      "20.0 0.0104700841846\n",
      "30.0 0.00529501227527\n",
      "40.0 0.00312053421118\n",
      "50.0 0.00202953414461\n",
      "60.0 0.0013743020377\n",
      "70.0 0.000993473349476\n",
      "80.0 0.000730044350939\n",
      "90.0 0.000544757839826\n",
      "100.0 0.000422078056381\n",
      "110.0 0.000327208990358\n",
      "120.0 0.000253674173475\n",
      "130.0 0.00019753487939\n",
      "140.0 0.000156650714813\n",
      "150.0 0.000122280136117\n",
      "160.0 9.30661722117e-05\n",
      "170.0 6.86836165923e-05\n",
      "180.0 4.59905615077e-05\n"
     ]
    }
   ],
   "source": [
    "# radial grid in arcsec\n",
    "annulus_width = 10\n",
    "r = np.arange(10, 200, annulus_width, dtype=float)\n",
    "I_sim = np.empty_like(r[:-1])\n",
    "\n",
    "# iteration\n",
    "for ir in range(len(r)-1):\n",
    "    aperture = CircularAnnulus((npix/2.+0.5, npix/2.+0.5), r_in=r[ir]/pix2arcsec, r_out=r[ir+1]/pix2arcsec)\n",
    "#     print aperture.r_in\n",
    "    phot = ap(val, aperture)\n",
    "    I_sim[ir] = phot['aperture_sum'].data / aperture.area()\n",
    "    print r[ir], I_sim[ir]"
   ]
  },
  {
   "cell_type": "code",
   "execution_count": 99,
   "metadata": {
    "collapsed": false
   },
   "outputs": [
    {
     "name": "stdout",
     "output_type": "stream",
     "text": [
      "[ 0.         -0.4294297  -0.7255129  -0.95515092 -1.14198351 -1.31129768\n",
      " -1.45222365 -1.58603063 -1.71317638 -1.8239871  -1.93455464 -2.04510362\n",
      " -2.15373608 -2.25444749 -2.36202396 -2.48058802 -2.61252672 -2.78671116]\n",
      "[ 0.         -0.27493901 -0.61418989 -0.83793604 -0.97181806 -1.06296367\n",
      " -1.11892139 -1.16003676 -1.19551231 -1.2305482  -1.26276965 -1.28942762\n",
      " -1.30849007 -1.32358422 -1.33832055 -1.3542185  -1.36980303 -1.38422985]\n",
      "[ 1.          1.30103     1.47712125  1.60205999  1.69897     1.77815125\n",
      "  1.84509804  1.90308999  1.95424251  2.          2.04139269  2.07918125\n",
      "  2.11394335  2.14612804  2.17609126  2.20411998  2.23044892  2.25527251]\n"
     ]
    }
   ],
   "source": [
    "print np.log10(I_sim/I_sim.max())\n",
    "print np.log10(I/I.max())\n",
    "print np.log10(r[:-1])"
   ]
  },
  {
   "cell_type": "code",
   "execution_count": 102,
   "metadata": {
    "collapsed": false
   },
   "outputs": [
    {
     "data": {
      "text/plain": [
       "<matplotlib.text.Text at 0x113a6c210>"
      ]
     },
     "execution_count": 102,
     "metadata": {},
     "output_type": "execute_result"
    },
    {
     "data": {
      "image/png": "[encoded data removed]",
      "text/plain": [
       "<matplotlib.figure.Figure at 0x114438dd0>"
      ]
     },
     "metadata": {},
     "output_type": "display_data"
    }
   ],
   "source": [
    "fig = plt.figure(figsize=(8,6))\n",
    "ax = fig.add_subplot(111)\n",
    "\n",
    "i_sim, = ax.plot(np.log10(r[:-1]*dstar), np.log10(I_sim/I_sim.max()), 'o-', mec='None', markersize=10)\n",
    "i, = ax.plot(np.log10(r[:-1]*dstar), np.log10(I/I.max()), 'o-', mec='None', markersize=10)\n",
    "\n",
    "ax.legend([i, i_sim], [r'$\\rm{500\\,\\mu m}$', r'$\\rm{simulation}$'], fontsize=16, numpoints=1, loc='upper right')\n",
    "[ax.spines[axis].set_linewidth(1.5) for axis in ['top','bottom','left','right']]\n",
    "ax.minorticks_on()\n",
    "ax.tick_params('both',labelsize=18,width=1.5,which='major',pad=10,length=5)\n",
    "ax.tick_params('both',labelsize=18,width=1.5,which='minor',pad=10,length=2.5)\n",
    "ax.set_xlabel('log(Radius) [AU]', fontsize=18)\n",
    "ax.set_ylabel(r'$\\rm{log(I\\,/\\,I_{max})}$', fontsize=18)"
   ]
  },
  {
   "cell_type": "code",
   "execution_count": null,
   "metadata": {
    "collapsed": true
   },
   "outputs": [],
   "source": []
  }
 ],
 "metadata": {
  "kernelspec": {
   "display_name": "Python 2",
   "language": "python",
   "name": "python2"
  },
  "language_info": {
   "codemirror_mode": {
    "name": "ipython",
    "version": 2
   },
   "file_extension": ".py",
   "mimetype": "text/x-python",
   "name": "python",
   "nbconvert_exporter": "python",
   "pygments_lexer": "ipython2",
   "version": "2.7.11"
  }
 },
 "nbformat": 4,
 "nbformat_minor": 0
}
