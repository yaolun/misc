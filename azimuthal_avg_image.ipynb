{
 "cells": [
  {
   "cell_type": "code",
   "execution_count": 67,
   "metadata": {
    "collapsed": false
   },
   "outputs": [],
   "source": [
    "%matplotlib inline\n",
    "import numpy as np\n",
    "from astropy.io import ascii, fits\n",
    "import matplotlib.pyplot as plt\n",
    "from photutils import aperture_photometry as ap\n",
    "from photutils import CircularAperture, CircularAnnulus\n",
    "from astropy import units as u\n",
    "from astropy.coordinates import SkyCoord\n",
    "from astropy import wcs\n",
    "from hyperion.model import ModelOutput\n",
    "import astropy.constants as const\n",
    "\n",
    "pc = const.pc.cgs.value\n",
    "AU = const.au.cgs.value"
   ]
  },
  {
   "cell_type": "markdown",
   "metadata": {},
   "source": [
    "## Calculate the radial intensity profile by taking the difference between apertues"
   ]
  },
  {
   "cell_type": "code",
   "execution_count": 132,
   "metadata": {
    "collapsed": false
   },
   "outputs": [
    {
     "name": "stdout",
     "output_type": "stream",
     "text": [
      "10.0 0.000275207239662 8.46386081799e-09\n",
      "20.0 5.46950764115e-05 6.61575126019e-09\n",
      "30.0 1.83792395803e-05 5.67517174507e-09\n",
      "40.0 8.65093185943e-06 5.10023199935e-09\n",
      "50.0 4.01847259082e-06 4.72214868112e-09\n",
      "60.0 2.28887451702e-06 4.45648824324e-09\n",
      "70.0 1.58257336373e-06 4.26679744423e-09\n",
      "80.0 9.89278083671e-07 4.14293385385e-09\n",
      "90.0 5.54426907943e-07 4.07072342772e-09\n",
      "100.0 3.85591312457e-07 4.05202949793e-09\n",
      "110.0 2.77638666547e-07 4.07635222247e-09\n",
      "120.0 1.67220111817e-07 4.161046882e-09\n",
      "130.0 8.55447728128e-08 4.32197753407e-09\n",
      "140.0 4.03031712427e-08 4.58593159024e-09\n",
      "150.0 -1.59778373438e-08 4.98980917502e-09\n",
      "160.0 -7.17371944022e-09 5.59612455277e-09\n",
      "170.0 -3.27541681788e-08 6.65469585201e-09\n",
      "180.0 -3.18053084403e-08 1.59887760691e-08\n"
     ]
    }
   ],
   "source": [
    "# Read in data and set up coversions\n",
    "# 500 um\n",
    "im_hdu = fits.open('/Users/yaolun/bhr71/data/photometry/herschel_photometry/'+\n",
    "               '1342226633/level2/extdPLW/hspireplw1342226633_20pxmp_1431669349619.fits')\n",
    "# 160 um\n",
    "im_hdu = fits.open('/Users/yaolun/bhr71/data/photometry/herschel_photometry/'+\n",
    "               '1342224922/level2/HPPPMAPR/hpacs1342224922_20hpppmapr_00_1431606963820.fits')\n",
    "im = im_hdu[1].data\n",
    "im_err = im_hdu[5].data\n",
    "w = wcs.WCS(im_hdu[1].header)\n",
    "\n",
    "coord = SkyCoord('12 01 36.3 -65 08 53.0', unit=(u.hourangle, u.deg))\n",
    "pixcoord = w.wcs_world2pix(coord.ra.degree, coord.dec.degree, 1)\n",
    "pix2arcsec = abs(im_hdu[1].header['CDELT1'])*3600.\n",
    "# convert intensity unit from MJy/sr to Jy/pixel\n",
    "factor = 1e6/4.25e10*abs(im_hdu[1].header['CDELT1']*im_hdu[1].header['CDELT2'])*3600**2\n",
    "\n",
    "# radial grid in arcsec\n",
    "annulus_width = 10\n",
    "r = np.arange(10, 200, annulus_width, dtype=float)\n",
    "I = np.empty_like(r[:-1])\n",
    "I_err = np.empty_like(r[:-1])\n",
    "\n",
    "# iteration\n",
    "for ir in range(len(r)-1):\n",
    "    aperture = CircularAnnulus((pixcoord[0],pixcoord[1]), r_in=r[ir]/pix2arcsec, r_out=r[ir+1]/pix2arcsec)\n",
    "#     print aperture.r_in\n",
    "    phot = ap(im, aperture, error=im_err)\n",
    "    I[ir] = phot['aperture_sum'].data * factor / aperture.area()\n",
    "    I_err[ir] = phot['aperture_sum_err'].data * factor / aperture.area()\n",
    "    print r[ir], I[ir] , I_err[ir]"
   ]
  },
  {
   "cell_type": "code",
   "execution_count": 135,
   "metadata": {
    "collapsed": false
   },
   "outputs": [
    {
     "name": "stdout",
     "output_type": "stream",
     "text": [
      "[  1.33563039e-05   5.25277722e-05   1.34081463e-04   2.55966637e-04\n",
      "   5.10044315e-04   8.44758645e-04   1.16933161e-03   1.81495612e-03\n",
      "   3.17703590e-03   4.54001912e-03   6.33005079e-03   1.06745652e-02\n",
      "   2.14055603e-02   4.68017057e-02              nan              nan\n",
      "              nan              nan]\n",
      "[  1.33567147e-05   5.25341262e-05   1.34122871e-04   2.56117589e-04\n",
      "   5.10644025e-04   8.46405012e-04   1.17248852e-03   1.82257282e-03\n",
      "   3.20044855e-03   4.58798131e-03   6.42368070e-03   1.09435620e-02\n",
      "   2.25155456e-02   5.24613320e-02              nan              nan\n",
      "              nan              nan]\n"
     ]
    },
    {
     "name": "stderr",
     "output_type": "stream",
     "text": [
      "/Users/yaolun/anaconda/lib/python2.7/site-packages/ipykernel/__main__.py:4: RuntimeWarning: invalid value encountered in log10\n",
      "/Users/yaolun/anaconda/lib/python2.7/site-packages/ipykernel/__main__.py:5: RuntimeWarning: invalid value encountered in log10\n",
      "/Users/yaolun/anaconda/lib/python2.7/site-packages/ipykernel/__main__.py:11: RuntimeWarning: invalid value encountered in log10\n"
     ]
    },
    {
     "data": {
      "text/plain": [
       "<matplotlib.text.Text at 0x116cc3810>"
      ]
     },
     "execution_count": 135,
     "metadata": {},
     "output_type": "execute_result"
    },
    {
     "data": {
      "image/png": "[encoded data removed]",
      "text/plain": [
       "<matplotlib.figure.Figure at 0x115d733d0>"
      ]
     },
     "metadata": {},
     "output_type": "display_data"
    }
   ],
   "source": [
    "fig = plt.figure(figsize=(8,6))\n",
    "ax = fig.add_subplot(111)\n",
    "\n",
    "I_hi = np.log10((I+I_err)/I.max())-np.log10(I/I.max())\n",
    "I_low = np.log10(I/I.max())-np.log10((I-I_err)/I.max())\n",
    "\n",
    "i = ax.errorbar(np.log10(r[:-1]*dstar), np.log10(I/I.max()),\n",
    "                yerr=(I_low, I_hi), marker='o', linestyle='-', mec='None', markersize=10)\n",
    "\n",
    "ax.legend([i], [r'$\\rm{500\\,\\mu m}$'], fontsize=16, numpoints=1, loc='upper right')\n",
    "[ax.spines[axis].set_linewidth(1.5) for axis in ['top','bottom','left','right']]\n",
    "ax.minorticks_on()\n",
    "ax.tick_params('both',labelsize=18,width=1.5,which='major',pad=10,length=5)\n",
    "ax.tick_params('both',labelsize=18,width=1.5,which='minor',pad=10,length=2.5)\n",
    "ax.set_xlabel('Radius [arcsec]', fontsize=18)\n",
    "ax.set_ylabel(r'$\\rm{I\\,/\\,I_{max}}$', fontsize=18)"
   ]
  },
  {
   "cell_type": "markdown",
   "metadata": {
    "collapsed": true
   },
   "source": [
    "## Do the same thing for simulations"
   ]
  },
  {
   "cell_type": "code",
   "execution_count": 155,
   "metadata": {
    "collapsed": false
   },
   "outputs": [],
   "source": [
    "# read in from RTout\n",
    "rtout = ModelOutput('/Users/yaolun/bhr71/hyperion/model9.rtout')\n",
    "# setting up parameters\n",
    "dstar = 200.\n",
    "group = 8\n",
    "wave = 500.0\n",
    "\n",
    "im = rtout.get_image(group=group, inclination=0, distance=dstar*pc, units='Jy', uncertainties=True)\n",
    "\n",
    "# Find the closest wavelength\n",
    "iwav = np.argmin(np.abs(wave - im.wav))\n",
    "# avoid zero when log, and flip the image\n",
    "val = im.val[::-1, :, iwav]\n",
    "unc = im.unc[::-1, :, iwav]\n",
    "\n",
    "w = np.degrees(max(rtout.get_quantities().r_wall) / im.distance) * 3600\n",
    "npix = len(val[:,0])\n",
    "pix2arcsec = 2*w/npix"
   ]
  },
  {
   "cell_type": "code",
   "execution_count": 157,
   "metadata": {
    "collapsed": false
   },
   "outputs": [
    {
     "name": "stdout",
     "output_type": "stream",
     "text": [
      "10.0 0.0281436143124 0.000226083458947\n",
      "20.0 0.0104700841846 8.5348204352e-05\n",
      "30.0 0.00529501227527 4.34756641317e-05\n",
      "40.0 0.00312053421118 2.59845356703e-05\n",
      "50.0 0.00202953414461 1.71376716235e-05\n",
      "60.0 0.0013743020377 1.18964766607e-05\n",
      "70.0 0.000993473349476 8.78295008292e-06\n",
      "80.0 0.000730044350939 6.63291808717e-06\n",
      "90.0 0.000544757839826 5.13336212581e-06\n",
      "100.0 0.000422078056381 4.10844297714e-06\n",
      "110.0 0.000327208990358 3.31831540213e-06\n",
      "120.0 0.000253674173475 2.71155673192e-06\n",
      "130.0 0.00019753487939 2.24019857485e-06\n",
      "140.0 0.000156650714813 1.88795690614e-06\n",
      "150.0 0.000122280136117 1.58874916058e-06\n",
      "160.0 9.30661722117e-05 1.31597015553e-06\n",
      "170.0 6.86836165923e-05 1.05674560776e-06\n",
      "180.0 4.59905615077e-05 7.86012669279e-07\n"
     ]
    }
   ],
   "source": [
    "# radial grid in arcsec\n",
    "annulus_width = 10\n",
    "r = np.arange(10, 200, annulus_width, dtype=float)\n",
    "I_sim = np.empty_like(r[:-1])\n",
    "I_sim_err = np.empty_like(r[:-1])\n",
    "\n",
    "# iteration\n",
    "for ir in range(len(r)-1):\n",
    "    aperture = CircularAnnulus((npix/2.+0.5, npix/2.+0.5), r_in=r[ir]/pix2arcsec, r_out=r[ir+1]/pix2arcsec)\n",
    "#     print aperture.r_in\n",
    "    phot = ap(val, aperture, error=unc)\n",
    "    I_sim[ir] = phot['aperture_sum'].data / aperture.area()\n",
    "    I_sim_err[ir] = phot['aperture_sum_err'].data / aperture.area()\n",
    "    print r[ir], I_sim[ir], I_sim_err[ir]"
   ]
  },
  {
   "cell_type": "code",
   "execution_count": 149,
   "metadata": {
    "collapsed": false
   },
   "outputs": [
    {
     "name": "stdout",
     "output_type": "stream",
     "text": [
      "[   0.                  -inf -312.11573236 -312.11573048 -312.11573048\n",
      " -312.11573047 -312.11573046 -312.11573056 -312.11573046 -312.11573045\n",
      " -312.1172745  -312.10307305 -312.09885982 -312.09922984 -312.12237438\n",
      " -312.12235404 -312.1181858  -306.35191286]\n",
      "[ 0.         -0.70171162 -1.17533232 -1.50259696 -1.83559884 -2.08003787\n",
      " -2.240296   -2.44434147 -2.69581555 -2.85353261 -2.9961799  -3.21637134\n",
      " -3.50746638 -3.83432063         nan         nan         nan         nan]\n",
      "[ 1.          1.30103     1.47712125  1.60205999  1.69897     1.77815125\n",
      "  1.84509804  1.90308999  1.95424251  2.          2.04139269  2.07918125\n",
      "  2.11394335  2.14612804  2.17609126  2.20411998  2.23044892  2.25527251]\n"
     ]
    },
    {
     "name": "stderr",
     "output_type": "stream",
     "text": [
      "/Users/yaolun/anaconda/lib/python2.7/site-packages/ipykernel/__main__.py:1: RuntimeWarning: divide by zero encountered in log10\n",
      "  if __name__ == '__main__':\n",
      "/Users/yaolun/anaconda/lib/python2.7/site-packages/ipykernel/__main__.py:2: RuntimeWarning: invalid value encountered in log10\n",
      "  from ipykernel import kernelapp as app\n"
     ]
    }
   ],
   "source": [
    "print np.log10(I_sim/I_sim.max())\n",
    "print np.log10(I/I.max())\n",
    "print np.log10(r[:-1])"
   ]
  },
  {
   "cell_type": "code",
   "execution_count": 109,
   "metadata": {
    "collapsed": false
   },
   "outputs": [
    {
     "data": {
      "text/plain": [
       "<matplotlib.text.Text at 0x1159cb5d0>"
      ]
     },
     "execution_count": 109,
     "metadata": {},
     "output_type": "execute_result"
    },
    {
     "data": {
      "image/png": "[encoded data removed]",
      "text/plain": [
       "<matplotlib.figure.Figure at 0x1155a5850>"
      ]
     },
     "metadata": {},
     "output_type": "display_data"
    }
   ],
   "source": [
    "fig = plt.figure(figsize=(8,6))\n",
    "ax = fig.add_subplot(111)\n",
    "\n",
    "i_sim, = ax.plot(np.log10(r[:-1]*dstar), np.log10(I_sim/I_sim.max()), 'o-', mec='None', markersize=10)\n",
    "i, = ax.plot(np.log10(r[:-1]*dstar), np.log10(I/I.max()), 'o-', mec='None', markersize=10)\n",
    "\n",
    "ax.legend([i, i_sim], [r'$\\rm{500\\,\\mu m}$', r'$\\rm{simulation}$'], fontsize=16, numpoints=1, loc='upper right')\n",
    "[ax.spines[axis].set_linewidth(1.5) for axis in ['top','bottom','left','right']]\n",
    "ax.minorticks_on()\n",
    "ax.tick_params('both',labelsize=18,width=1.5,which='major',pad=10,length=5)\n",
    "ax.tick_params('both',labelsize=18,width=1.5,which='minor',pad=10,length=2.5)\n",
    "ax.set_xlabel('log(Radius) [AU]', fontsize=18)\n",
    "ax.set_ylabel(r'$\\rm{log(I\\,/\\,I_{max})}$', fontsize=18)"
   ]
  },
  {
   "cell_type": "code",
   "execution_count": 159,
   "metadata": {
    "collapsed": false
   },
   "outputs": [
    {
     "name": "stdout",
     "output_type": "stream",
     "text": [
      "fasdfsa.txt\n"
     ]
    }
   ],
   "source": [
    "import os\n",
    "print os.path.basename('/Users/yaolun/fasdfsa.txt')"
   ]
  },
  {
   "cell_type": "code",
   "execution_count": null,
   "metadata": {
    "collapsed": true
   },
   "outputs": [],
   "source": []
  }
 ],
 "metadata": {
  "kernelspec": {
   "display_name": "Python 2",
   "language": "python",
   "name": "python2"
  },
  "language_info": {
   "codemirror_mode": {
    "name": "ipython",
    "version": 2
   },
   "file_extension": ".py",
   "mimetype": "text/x-python",
   "name": "python",
   "nbconvert_exporter": "python",
   "pygments_lexer": "ipython2",
   "version": "2.7.11"
  }
 },
 "nbformat": 4,
 "nbformat_minor": 0
}
