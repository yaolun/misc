{
 "cells": [
  {
   "cell_type": "code",
   "execution_count": 67,
   "metadata": {
    "collapsed": false
   },
   "outputs": [],
   "source": [
    "%matplotlib inline\n",
    "import numpy as np\n",
    "from astropy.io import ascii, fits\n",
    "import matplotlib.pyplot as plt\n",
    "from photutils import aperture_photometry as ap\n",
    "from photutils import CircularAperture, CircularAnnulus\n",
    "from astropy import units as u\n",
    "from astropy.coordinates import SkyCoord\n",
    "from astropy import wcs\n",
    "from hyperion.model import ModelOutput\n",
    "import astropy.constants as const\n",
    "\n",
    "pc = const.pc.cgs.value\n",
    "AU = const.au.cgs.value"
   ]
  },
  {
   "cell_type": "markdown",
   "metadata": {},
   "source": [
    "## Calculate the radial intensity profile by taking the difference between apertues"
   ]
  },
  {
   "cell_type": "code",
   "execution_count": 103,
   "metadata": {
    "collapsed": false
   },
   "outputs": [
    {
     "name": "stdout",
     "output_type": "stream",
     "text": [
      "10.0 2.47951831719\n",
      "20.0 1.80781725589\n",
      "30.0 1.17608385102\n",
      "40.0 0.754192242162\n",
      "50.0 0.530199632018\n",
      "60.0 0.409669559252\n",
      "70.0 0.345632529506\n",
      "80.0 0.301087285762\n",
      "90.0 0.269075211585\n",
      "100.0 0.245701311302\n",
      "110.0 0.227802590813\n",
      "120.0 0.213444908963\n",
      "130.0 0.200633418161\n",
      "140.0 0.19048998236\n",
      "150.0 0.182346630851\n",
      "160.0 0.174598830205\n",
      "170.0 0.167550742959\n",
      "180.0 0.161275484818\n"
     ]
    }
   ],
   "source": [
    "# Read in data and set up coversions\n",
    "im_hdu = fits.open('/Users/yaolun/bhr71/data/photometry/herschel_photometry/'+\n",
    "               '1342226633/level2/extdPLW/hspireplw1342226633_20pxmp_1431669349619.fits')\n",
    "im = im_hdu[1].data\n",
    "w = wcs.WCS(im_hdu[1].header)\n",
    "\n",
    "coord = SkyCoord('12 01 36.3 -65 08 53.0', unit=(u.hourangle, u.deg))\n",
    "pixcoord = w.wcs_world2pix(coord.ra.degree, coord.dec.degree, 1)\n",
    "pix2arcsec = abs(im_hdu[1].header['CDELT1'])*3600.\n",
    "# convert intensity unit from MJy/sr to Jy/pixel\n",
    "factor = 1e6/4.25e10*abs(im_hdu[1].header['CDELT1']*im_hdu[1].header['CDELT2'])*3600**2\n",
    "\n",
    "# radial grid in arcsec\n",
    "annulus_width = 10\n",
    "r = np.arange(10, 200, annulus_width, dtype=float)\n",
    "I = np.empty_like(r[:-1])\n",
    "\n",
    "# iteration\n",
    "for ir in range(len(r)-1):\n",
    "    aperture = CircularAnnulus((pixcoord[0],pixcoord[1]), r_in=r[ir]/pix2arcsec, r_out=r[ir+1]/pix2arcsec)\n",
    "#     print aperture.r_in\n",
    "    phot = ap(im, aperture)\n",
    "    I[ir] = phot['aperture_sum'].data * factor / aperture.area()\n",
    "    print r[ir], I[ir]"
   ]
  },
  {
   "cell_type": "code",
   "execution_count": 104,
   "metadata": {
    "collapsed": false
   },
   "outputs": [
    {
     "name": "stdout",
     "output_type": "stream",
     "text": [
      "[ 1.          0.72910018  0.47431948  0.30416885  0.21383171  0.16522143\n",
      "  0.13939503  0.12142975  0.10851915  0.09909236  0.09187373  0.08608322\n",
      "  0.08091629  0.0768254   0.07354115  0.07041643  0.06757391  0.06504307]\n"
     ]
    }
   ],
   "source": [
    "print I/I.max()"
   ]
  },
  {
   "cell_type": "code",
   "execution_count": 105,
   "metadata": {
    "collapsed": false
   },
   "outputs": [
    {
     "data": {
      "text/plain": [
       "<matplotlib.text.Text at 0x112fb6fd0>"
      ]
     },
     "execution_count": 105,
     "metadata": {},
     "output_type": "execute_result"
    },
    {
     "data": {
      "image/png": "[encoded data removed]",
      "text/plain": [
       "<matplotlib.figure.Figure at 0x113adfd50>"
      ]
     },
     "metadata": {},
     "output_type": "display_data"
    }
   ],
   "source": [
    "fig = plt.figure(figsize=(8,6))\n",
    "ax = fig.add_subplot(111)\n",
    "\n",
    "i, = ax.plot(np.log10(r[:-1]), np.log10(I/I.max()), 'o-', mec='None', markersize=10)\n",
    "\n",
    "ax.legend([i], [r'$\\rm{500\\,\\mu m}$'], fontsize=16, numpoints=1, loc='upper right')\n",
    "[ax.spines[axis].set_linewidth(1.5) for axis in ['top','bottom','left','right']]\n",
    "ax.minorticks_on()\n",
    "ax.tick_params('both',labelsize=18,width=1.5,which='major',pad=10,length=5)\n",
    "ax.tick_params('both',labelsize=18,width=1.5,which='minor',pad=10,length=2.5)\n",
    "ax.set_xlabel('Radius [arcsec]', fontsize=18)\n",
    "ax.set_ylabel(r'$\\rm{I\\,/\\,I_{max}}$', fontsize=18)"
   ]
  },
  {
   "cell_type": "markdown",
   "metadata": {
    "collapsed": true
   },
   "source": [
    "## Do the same thing for simulations"
   ]
  },
  {
   "cell_type": "code",
   "execution_count": 106,
   "metadata": {
    "collapsed": false
   },
   "outputs": [],
   "source": [
    "# read in from RTout\n",
    "rtout = ModelOutput('/Users/yaolun/bhr71/hyperion/model9.rtout')\n",
    "# setting up parameters\n",
    "dstar = 200.\n",
    "group = 8\n",
    "wave = 500.0\n",
    "\n",
    "im = rtout.get_image(group=group, inclination=0, distance=dstar*pc, units='Jy')\n",
    "\n",
    "# Find the closest wavelength\n",
    "iwav = np.argmin(np.abs(wave - im.wav))\n",
    "# avoid zero when log, and flip the image\n",
    "val = im.val[::-1, :, iwav]\n",
    "\n",
    "w = np.degrees(max(rtout.get_quantities().r_wall) / im.distance) * 3600\n",
    "npix = len(val[:,0])\n",
    "pix2arcsec = 2*w/npix"
   ]
  },
  {
   "cell_type": "code",
   "execution_count": 107,
   "metadata": {
    "collapsed": false
   },
   "outputs": [
    {
     "name": "stdout",
     "output_type": "stream",
     "text": [
      "10.0 0.0281436143124\n",
      "20.0 0.0104700841846\n",
      "30.0 0.00529501227527\n",
      "40.0 0.00312053421118\n",
      "50.0 0.00202953414461\n",
      "60.0 0.0013743020377\n",
      "70.0 0.000993473349476\n",
      "80.0 0.000730044350939\n",
      "90.0 0.000544757839826\n",
      "100.0 0.000422078056381\n",
      "110.0 0.000327208990358\n",
      "120.0 0.000253674173475\n",
      "130.0 0.00019753487939\n",
      "140.0 0.000156650714813\n",
      "150.0 0.000122280136117\n",
      "160.0 9.30661722117e-05\n",
      "170.0 6.86836165923e-05\n",
      "180.0 4.59905615077e-05\n"
     ]
    }
   ],
   "source": [
    "# radial grid in arcsec\n",
    "annulus_width = 10\n",
    "r = np.arange(10, 200, annulus_width, dtype=float)\n",
    "I_sim = np.empty_like(r[:-1])\n",
    "\n",
    "# iteration\n",
    "for ir in range(len(r)-1):\n",
    "    aperture = CircularAnnulus((npix/2.+0.5, npix/2.+0.5), r_in=r[ir]/pix2arcsec, r_out=r[ir+1]/pix2arcsec)\n",
    "#     print aperture.r_in\n",
    "    phot = ap(val, aperture)\n",
    "    I_sim[ir] = phot['aperture_sum'].data / aperture.area()\n",
    "    print r[ir], I_sim[ir]"
   ]
  },
  {
   "cell_type": "code",
   "execution_count": 108,
   "metadata": {
    "collapsed": false
   },
   "outputs": [
    {
     "name": "stdout",
     "output_type": "stream",
     "text": [
      "[ 0.         -0.4294297  -0.7255129  -0.95515092 -1.14198351 -1.31129768\n",
      " -1.45222365 -1.58603063 -1.71317638 -1.8239871  -1.93455464 -2.04510362\n",
      " -2.15373608 -2.25444749 -2.36202396 -2.48058802 -2.61252672 -2.78671116]\n",
      "[ 0.         -0.13721279 -0.32392903 -0.51688526 -0.6699279  -0.78193363\n",
      " -0.85575271 -0.9156749  -0.96449363 -1.00395985 -1.03680866 -1.06508152\n",
      " -1.09196405 -1.11449518 -1.13346958 -1.15232599 -1.17022096 -1.18679896]\n",
      "[ 1.          1.30103     1.47712125  1.60205999  1.69897     1.77815125\n",
      "  1.84509804  1.90308999  1.95424251  2.          2.04139269  2.07918125\n",
      "  2.11394335  2.14612804  2.17609126  2.20411998  2.23044892  2.25527251]\n"
     ]
    }
   ],
   "source": [
    "print np.log10(I_sim/I_sim.max())\n",
    "print np.log10(I/I.max())\n",
    "print np.log10(r[:-1])"
   ]
  },
  {
   "cell_type": "code",
   "execution_count": 109,
   "metadata": {
    "collapsed": false
   },
   "outputs": [
    {
     "data": {
      "text/plain": [
       "<matplotlib.text.Text at 0x1159cb5d0>"
      ]
     },
     "execution_count": 109,
     "metadata": {},
     "output_type": "execute_result"
    },
    {
     "data": {
      "image/png": "[encoded data removed]",
      "text/plain": [
       "<matplotlib.figure.Figure at 0x1155a5850>"
      ]
     },
     "metadata": {},
     "output_type": "display_data"
    }
   ],
   "source": [
    "fig = plt.figure(figsize=(8,6))\n",
    "ax = fig.add_subplot(111)\n",
    "\n",
    "i_sim, = ax.plot(np.log10(r[:-1]*dstar), np.log10(I_sim/I_sim.max()), 'o-', mec='None', markersize=10)\n",
    "i, = ax.plot(np.log10(r[:-1]*dstar), np.log10(I/I.max()), 'o-', mec='None', markersize=10)\n",
    "\n",
    "ax.legend([i, i_sim], [r'$\\rm{500\\,\\mu m}$', r'$\\rm{simulation}$'], fontsize=16, numpoints=1, loc='upper right')\n",
    "[ax.spines[axis].set_linewidth(1.5) for axis in ['top','bottom','left','right']]\n",
    "ax.minorticks_on()\n",
    "ax.tick_params('both',labelsize=18,width=1.5,which='major',pad=10,length=5)\n",
    "ax.tick_params('both',labelsize=18,width=1.5,which='minor',pad=10,length=2.5)\n",
    "ax.set_xlabel('log(Radius) [AU]', fontsize=18)\n",
    "ax.set_ylabel(r'$\\rm{log(I\\,/\\,I_{max})}$', fontsize=18)"
   ]
  },
  {
   "cell_type": "code",
   "execution_count": null,
   "metadata": {
    "collapsed": true
   },
   "outputs": [],
   "source": []
  }
 ],
 "metadata": {
  "kernelspec": {
   "display_name": "Python 2",
   "language": "python",
   "name": "python2"
  },
  "language_info": {
   "codemirror_mode": {
    "name": "ipython",
    "version": 2
   },
   "file_extension": ".py",
   "mimetype": "text/x-python",
   "name": "python",
   "nbconvert_exporter": "python",
   "pygments_lexer": "ipython2",
   "version": "2.7.11"
  }
 },
 "nbformat": 4,
 "nbformat_minor": 0
}
