{
 "cells": [
  {
   "cell_type": "code",
   "execution_count": 67,
   "metadata": {
    "collapsed": false
   },
   "outputs": [],
   "source": [
    "%matplotlib inline\n",
    "import numpy as np\n",
    "from astropy.io import ascii, fits\n",
    "import matplotlib.pyplot as plt\n",
    "from photutils import aperture_photometry as ap\n",
    "from photutils import CircularAperture, CircularAnnulus\n",
    "from astropy import units as u\n",
    "from astropy.coordinates import SkyCoord\n",
    "from astropy import wcs\n",
    "from hyperion.model import ModelOutput\n",
    "import astropy.constants as const\n",
    "\n",
    "pc = const.pc.cgs.value\n",
    "AU = const.au.cgs.value"
   ]
  },
  {
   "cell_type": "markdown",
   "metadata": {},
   "source": [
    "## Calculate the radial intensity profile by taking the difference between apertues"
   ]
  },
  {
   "cell_type": "code",
   "execution_count": 50,
   "metadata": {
    "collapsed": false
   },
   "outputs": [
    {
     "name": "stdout",
     "output_type": "stream",
     "text": [
      "0.0 5.88765296356\n",
      "10.0 4.45800914796\n",
      "20.0 2.36702011777\n",
      "30.0 1.083804783\n",
      "40.0 0.647448026682\n",
      "50.0 0.47568876684\n",
      "60.0 0.385635745263\n",
      "70.0 0.339015508109\n",
      "80.0 0.308392777611\n",
      "90.0 0.284202992123\n",
      "100.0 0.262175891828\n",
      "110.0 0.243428433608\n",
      "120.0 0.228935603329\n",
      "130.0 0.219104291839\n",
      "140.0 0.211620014312\n",
      "150.0 0.204559853469\n",
      "160.0 0.197207059431\n",
      "170.0 0.190255806671\n",
      "180.0 0.184039527126\n"
     ]
    },
    {
     "name": "stderr",
     "output_type": "stream",
     "text": [
      "Exception ZeroDivisionError: 'float division' in 'photutils.geometry.core.area_arc' ignored\n",
      "Exception ZeroDivisionError: 'float division' in 'photutils.geometry.core.area_arc' ignored\n",
      "Exception ZeroDivisionError: 'float division' in 'photutils.geometry.core.area_arc' ignored\n",
      "Exception ZeroDivisionError: 'float division' in 'photutils.geometry.core.area_arc' ignored\n"
     ]
    }
   ],
   "source": [
    "# Read in data and set up coversions\n",
    "im_hdu = fits.open('/Users/yaolun/bhr71/data/photometry/herschel_photometry/'+\n",
    "               '1342226633/level2/extdPMW/hspirepmw1342226633_20pxmp_1431669350070.fits')\n",
    "im = im_hdu[1].data\n",
    "w = wcs.WCS(im_hdu[1].header)\n",
    "\n",
    "coord = SkyCoord('12 01 36.3 -65 08 53.0', unit=(u.hourangle, u.deg))\n",
    "pixcoord = w.wcs_world2pix(coord.ra.degree, coord.dec.degree, 1)\n",
    "pix2arcsec = abs(im_hdu[1].header['CDELT1'])*3600.\n",
    "# convert intensity unit from MJy/sr to Jy/pixel\n",
    "factor = 1e6/4.25e10*abs(im_hdu[1].header['CDELT1']*im_hdu[1].header['CDELT2'])*3600**2\n",
    "\n",
    "# radial grid in arcsec\n",
    "annulus_width = 10\n",
    "r = np.arange(0, 200, annulus_width, dtype=float)\n",
    "I = np.empty_like(r[:-1])\n",
    "\n",
    "# iteration\n",
    "for ir in range(len(r)-1):\n",
    "    aperture = CircularAnnulus((pixcoord[0],pixcoord[1]), r_in=r[ir]/pix2arcsec, r_out=r[ir+1]/pix2arcsec)\n",
    "#     print aperture.r_in\n",
    "    phot = ap(im, aperture)\n",
    "    I[ir] = phot['aperture_sum'].data * factor / aperture.area()\n",
    "    print r[ir], I[ir]"
   ]
  },
  {
   "cell_type": "code",
   "execution_count": 51,
   "metadata": {
    "collapsed": false
   },
   "outputs": [
    {
     "name": "stdout",
     "output_type": "stream",
     "text": [
      "[ 1.          0.75717933  0.40203119  0.18408096  0.10996708  0.08079429\n",
      "  0.06549906  0.05758076  0.05237958  0.04827102  0.04452978  0.04134558\n",
      "  0.03888402  0.0372142   0.03594302  0.03474387  0.03349502  0.03231437\n",
      "  0.03125856]\n"
     ]
    }
   ],
   "source": [
    "print I/I.max()"
   ]
  },
  {
   "cell_type": "code",
   "execution_count": 54,
   "metadata": {
    "collapsed": false
   },
   "outputs": [
    {
     "name": "stderr",
     "output_type": "stream",
     "text": [
      "/Users/yaolun/anaconda/lib/python2.7/site-packages/ipykernel/__main__.py:4: RuntimeWarning: divide by zero encountered in log10\n"
     ]
    },
    {
     "data": {
      "text/plain": [
       "<matplotlib.text.Text at 0x111eae510>"
      ]
     },
     "execution_count": 54,
     "metadata": {},
     "output_type": "execute_result"
    },
    {
     "data": {
      "image/png": "[encoded data removed]",
      "text/plain": [
       "<matplotlib.figure.Figure at 0x111a7e310>"
      ]
     },
     "metadata": {},
     "output_type": "display_data"
    }
   ],
   "source": [
    "fig = plt.figure(figsize=(8,6))\n",
    "ax = fig.add_subplot(111)\n",
    "\n",
    "i, = ax.plot(np.log10(r[:-1]), np.log10(I/I.max()), 'o-', mec='None', markersize=10)\n",
    "\n",
    "ax.legend([i], [r'$\\rm{500\\,\\mu m}$'], fontsize=16, numpoints=1, loc='upper right')\n",
    "[ax.spines[axis].set_linewidth(1.5) for axis in ['top','bottom','left','right']]\n",
    "ax.minorticks_on()\n",
    "ax.tick_params('both',labelsize=18,width=1.5,which='major',pad=10,length=5)\n",
    "ax.tick_params('both',labelsize=18,width=1.5,which='minor',pad=10,length=2.5)\n",
    "ax.set_xlabel('Radius [arcsec]', fontsize=18)\n",
    "ax.set_ylabel(r'$\\rm{I\\,/\\,I_{max}}$', fontsize=18)"
   ]
  },
  {
   "cell_type": "markdown",
   "metadata": {
    "collapsed": true
   },
   "source": [
    "## Do the same thing for simulations"
   ]
  },
  {
   "cell_type": "code",
   "execution_count": 60,
   "metadata": {
    "collapsed": false
   },
   "outputs": [],
   "source": [
    "# read in from RTout\n",
    "rtout = ModelOutput('/Users/yaolun/bhr71/hyperion/model31.rtout')\n",
    "# setting up parameters\n",
    "dstar = 200.\n",
    "group = 8\n",
    "im = rtout.get_image(group=group, inclination=0, distance=dstar*pc, units='Jy')\n",
    "\n",
    "w = np.degrees(max(rtout.get_quantities().r_wall) / im.distance) * 3600\n",
    "npix = len(im.val[:,0])\n",
    "pix2arcsec = 2*w/npix"
   ]
  },
  {
   "cell_type": "code",
   "execution_count": 68,
   "metadata": {
    "collapsed": false
   },
   "outputs": [
    {
     "name": "stdout",
     "output_type": "stream",
     "text": [
      "0.665079805285 300 99.7619707927 19952.3941584\n"
     ]
    }
   ],
   "source": [
    "print pix2arcsec, npix, w, max(rtout.get_quantities().r_wall)/AU"
   ]
  },
  {
   "cell_type": "code",
   "execution_count": null,
   "metadata": {
    "collapsed": true
   },
   "outputs": [],
   "source": []
  }
 ],
 "metadata": {
  "kernelspec": {
   "display_name": "Python 2",
   "language": "python",
   "name": "python2"
  },
  "language_info": {
   "codemirror_mode": {
    "name": "ipython",
    "version": 2
   },
   "file_extension": ".py",
   "mimetype": "text/x-python",
   "name": "python",
   "nbconvert_exporter": "python",
   "pygments_lexer": "ipython2",
   "version": "2.7.11"
  }
 },
 "nbformat": 4,
 "nbformat_minor": 0
}
