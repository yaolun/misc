{
 "cells": [
  {
   "cell_type": "code",
   "execution_count": 1,
   "metadata": {
    "collapsed": true
   },
   "outputs": [],
   "source": [
    "%matplotlib inline"
   ]
  },
  {
   "cell_type": "code",
<<<<<<< HEAD
   "execution_count": 2,
=======
   "execution_count": 7,
>>>>>>> 4a1f843a4da19ab60e52b722ee1b39e328e13ea2
   "metadata": {
    "collapsed": true
   },
   "outputs": [],
   "source": [
    "import matplotlib.pyplot as plt\n",
    "from astropy.io import ascii\n",
<<<<<<< HEAD
    "import numpy as np"
=======
    "import numpy as np\n",
    "import astropy.constants as const"
>>>>>>> 4a1f843a4da19ab60e52b722ee1b39e328e13ea2
   ]
  },
  {
   "cell_type": "code",
<<<<<<< HEAD
   "execution_count": 3,
=======
   "execution_count": 8,
   "metadata": {
    "collapsed": true
   },
   "outputs": [],
   "source": [
    "c = const.c.cgs.value"
   ]
  },
  {
   "cell_type": "code",
   "execution_count": 4,
   "metadata": {
    "collapsed": false
   },
   "outputs": [],
   "source": [
    "mytable = ascii.read('/Users/yaolun/test/radmc3d_apertest/dustkappa_oh5_extended.inp',data_start=2,header_start=None,\\\n",
    "                    names=['wave','abs','scat','g'])"
   ]
  },
  {
   "cell_type": "code",
   "execution_count": 6,
   "metadata": {
    "collapsed": false
   },
   "outputs": [],
   "source": [
    "emmatable = ascii.read('/Users/yaolun/Downloads/dustopac_1.inp', header_start=None, names=['nu','abs'])"
   ]
  },
  {
   "cell_type": "code",
   "execution_count": 13,
   "metadata": {
    "collapsed": true
   },
   "outputs": [],
   "source": [
    "hyperion_table = ascii.read('/Users/yaolun/programs/misc/oh5_hyperion.txt', header_start=None,names=['nu','albedo','chi','g'])"
   ]
  },
  {
   "cell_type": "code",
   "execution_count": 23,
>>>>>>> 4a1f843a4da19ab60e52b722ee1b39e328e13ea2
   "metadata": {
    "collapsed": false
   },
   "outputs": [
    {
<<<<<<< HEAD
     "ename": "IOError",
     "evalue": "[Errno 2] No such file or directory: '/Users/yaolun/test/radmc3d_apertest/dustkappa_oh5_extended.inp'",
     "output_type": "error",
     "traceback": [
      "\u001b[1;31m---------------------------------------------------------------------------\u001b[0m",
      "\u001b[1;31mIOError\u001b[0m                                   Traceback (most recent call last)",
      "\u001b[1;32m<ipython-input-3-5e0462870f74>\u001b[0m in \u001b[0;36m<module>\u001b[1;34m()\u001b[0m\n\u001b[1;32m----> 1\u001b[1;33m \u001b[0mmytable\u001b[0m \u001b[1;33m=\u001b[0m \u001b[0mascii\u001b[0m\u001b[1;33m.\u001b[0m\u001b[0mread\u001b[0m\u001b[1;33m(\u001b[0m\u001b[1;34m'/Users/yaolun/test/radmc3d_apertest/dustkappa_oh5_extended.inp'\u001b[0m\u001b[1;33m,\u001b[0m\u001b[0mdata_start\u001b[0m\u001b[1;33m=\u001b[0m\u001b[1;36m2\u001b[0m\u001b[1;33m,\u001b[0m\u001b[0mheader_start\u001b[0m\u001b[1;33m=\u001b[0m\u001b[0mNone\u001b[0m\u001b[1;33m,\u001b[0m                    \u001b[0mnames\u001b[0m\u001b[1;33m=\u001b[0m\u001b[1;33m[\u001b[0m\u001b[1;34m'wave'\u001b[0m\u001b[1;33m,\u001b[0m\u001b[1;34m'abs'\u001b[0m\u001b[1;33m,\u001b[0m\u001b[1;34m'scat'\u001b[0m\u001b[1;33m,\u001b[0m\u001b[1;34m'g'\u001b[0m\u001b[1;33m]\u001b[0m\u001b[1;33m)\u001b[0m\u001b[1;33m\u001b[0m\u001b[0m\n\u001b[0m",
      "\u001b[1;32m/home/bettyjo/yaolun/anaconda/lib/python2.7/site-packages/astropy/io/ascii/ui.pyc\u001b[0m in \u001b[0;36mread\u001b[1;34m(table, guess, **kwargs)\u001b[0m\n\u001b[0;32m    203\u001b[0m         \u001b[0mguess\u001b[0m \u001b[1;33m=\u001b[0m \u001b[0m_GUESS\u001b[0m\u001b[1;33m\u001b[0m\u001b[0m\n\u001b[0;32m    204\u001b[0m     \u001b[1;32mif\u001b[0m \u001b[0mguess\u001b[0m\u001b[1;33m:\u001b[0m\u001b[1;33m\u001b[0m\u001b[0m\n\u001b[1;32m--> 205\u001b[1;33m         \u001b[0mdat\u001b[0m \u001b[1;33m=\u001b[0m \u001b[0m_guess\u001b[0m\u001b[1;33m(\u001b[0m\u001b[0mtable\u001b[0m\u001b[1;33m,\u001b[0m \u001b[0mnew_kwargs\u001b[0m\u001b[1;33m,\u001b[0m \u001b[0mformat\u001b[0m\u001b[1;33m,\u001b[0m \u001b[0mfast_reader_param\u001b[0m\u001b[1;33m)\u001b[0m\u001b[1;33m\u001b[0m\u001b[0m\n\u001b[0m\u001b[0;32m    206\u001b[0m     \u001b[1;32melse\u001b[0m\u001b[1;33m:\u001b[0m\u001b[1;33m\u001b[0m\u001b[0m\n\u001b[0;32m    207\u001b[0m         \u001b[0mreader\u001b[0m \u001b[1;33m=\u001b[0m \u001b[0mget_reader\u001b[0m\u001b[1;33m(\u001b[0m\u001b[1;33m**\u001b[0m\u001b[0mnew_kwargs\u001b[0m\u001b[1;33m)\u001b[0m\u001b[1;33m\u001b[0m\u001b[0m\n",
      "\u001b[1;32m/home/bettyjo/yaolun/anaconda/lib/python2.7/site-packages/astropy/io/ascii/ui.pyc\u001b[0m in \u001b[0;36m_guess\u001b[1;34m(table, read_kwargs, format, fast_reader)\u001b[0m\n\u001b[0;32m    281\u001b[0m             \u001b[0mreader\u001b[0m \u001b[1;33m=\u001b[0m \u001b[0mget_reader\u001b[0m\u001b[1;33m(\u001b[0m\u001b[1;33m**\u001b[0m\u001b[0mguess_kwargs\u001b[0m\u001b[1;33m)\u001b[0m\u001b[1;33m\u001b[0m\u001b[0m\n\u001b[0;32m    282\u001b[0m             \u001b[0mreader\u001b[0m\u001b[1;33m.\u001b[0m\u001b[0mguessing\u001b[0m \u001b[1;33m=\u001b[0m \u001b[0mTrue\u001b[0m\u001b[1;33m\u001b[0m\u001b[0m\n\u001b[1;32m--> 283\u001b[1;33m             \u001b[1;32mreturn\u001b[0m \u001b[0mreader\u001b[0m\u001b[1;33m.\u001b[0m\u001b[0mread\u001b[0m\u001b[1;33m(\u001b[0m\u001b[0mtable\u001b[0m\u001b[1;33m)\u001b[0m\u001b[1;33m\u001b[0m\u001b[0m\n\u001b[0m\u001b[0;32m    284\u001b[0m \u001b[1;33m\u001b[0m\u001b[0m\n\u001b[0;32m    285\u001b[0m         except (core.InconsistentTableError, ValueError, TypeError, AttributeError,\n",
      "\u001b[1;32m/home/bettyjo/yaolun/anaconda/lib/python2.7/site-packages/astropy/io/ascii/core.pyc\u001b[0m in \u001b[0;36mread\u001b[1;34m(self, table)\u001b[0m\n\u001b[0;32m   1003\u001b[0m \u001b[1;33m\u001b[0m\u001b[0m\n\u001b[0;32m   1004\u001b[0m         \u001b[1;31m# Get a list of the lines (rows) in the table\u001b[0m\u001b[1;33m\u001b[0m\u001b[1;33m\u001b[0m\u001b[0m\n\u001b[1;32m-> 1005\u001b[1;33m         \u001b[0mself\u001b[0m\u001b[1;33m.\u001b[0m\u001b[0mlines\u001b[0m \u001b[1;33m=\u001b[0m \u001b[0mself\u001b[0m\u001b[1;33m.\u001b[0m\u001b[0minputter\u001b[0m\u001b[1;33m.\u001b[0m\u001b[0mget_lines\u001b[0m\u001b[1;33m(\u001b[0m\u001b[0mtable\u001b[0m\u001b[1;33m)\u001b[0m\u001b[1;33m\u001b[0m\u001b[0m\n\u001b[0m\u001b[0;32m   1006\u001b[0m \u001b[1;33m\u001b[0m\u001b[0m\n\u001b[0;32m   1007\u001b[0m         \u001b[1;31m# Set self.data.data_lines to a slice of lines contain the data rows\u001b[0m\u001b[1;33m\u001b[0m\u001b[1;33m\u001b[0m\u001b[0m\n",
      "\u001b[1;32m/home/bettyjo/yaolun/anaconda/lib/python2.7/site-packages/astropy/io/ascii/core.pyc\u001b[0m in \u001b[0;36mget_lines\u001b[1;34m(self, table)\u001b[0m\n\u001b[0;32m    181\u001b[0m             if (hasattr(table, 'read') or\n\u001b[0;32m    182\u001b[0m                     ('\\n' not in table + '' and '\\r' not in table + '')):\n\u001b[1;32m--> 183\u001b[1;33m                 \u001b[1;32mwith\u001b[0m \u001b[0mget_readable_fileobj\u001b[0m\u001b[1;33m(\u001b[0m\u001b[0mtable\u001b[0m\u001b[1;33m)\u001b[0m \u001b[1;32mas\u001b[0m \u001b[0mfile_obj\u001b[0m\u001b[1;33m:\u001b[0m\u001b[1;33m\u001b[0m\u001b[0m\n\u001b[0m\u001b[0;32m    184\u001b[0m                     \u001b[0mtable\u001b[0m \u001b[1;33m=\u001b[0m \u001b[0mfile_obj\u001b[0m\u001b[1;33m.\u001b[0m\u001b[0mread\u001b[0m\u001b[1;33m(\u001b[0m\u001b[1;33m)\u001b[0m\u001b[1;33m\u001b[0m\u001b[0m\n\u001b[0;32m    185\u001b[0m             \u001b[0mlines\u001b[0m \u001b[1;33m=\u001b[0m \u001b[0mtable\u001b[0m\u001b[1;33m.\u001b[0m\u001b[0msplitlines\u001b[0m\u001b[1;33m(\u001b[0m\u001b[1;33m)\u001b[0m\u001b[1;33m\u001b[0m\u001b[0m\n",
      "\u001b[1;32m/home/bettyjo/yaolun/anaconda/lib/python2.7/contextlib.pyc\u001b[0m in \u001b[0;36m__enter__\u001b[1;34m(self)\u001b[0m\n\u001b[0;32m     15\u001b[0m     \u001b[1;32mdef\u001b[0m \u001b[0m__enter__\u001b[0m\u001b[1;33m(\u001b[0m\u001b[0mself\u001b[0m\u001b[1;33m)\u001b[0m\u001b[1;33m:\u001b[0m\u001b[1;33m\u001b[0m\u001b[0m\n\u001b[0;32m     16\u001b[0m         \u001b[1;32mtry\u001b[0m\u001b[1;33m:\u001b[0m\u001b[1;33m\u001b[0m\u001b[0m\n\u001b[1;32m---> 17\u001b[1;33m             \u001b[1;32mreturn\u001b[0m \u001b[0mself\u001b[0m\u001b[1;33m.\u001b[0m\u001b[0mgen\u001b[0m\u001b[1;33m.\u001b[0m\u001b[0mnext\u001b[0m\u001b[1;33m(\u001b[0m\u001b[1;33m)\u001b[0m\u001b[1;33m\u001b[0m\u001b[0m\n\u001b[0m\u001b[0;32m     18\u001b[0m         \u001b[1;32mexcept\u001b[0m \u001b[0mStopIteration\u001b[0m\u001b[1;33m:\u001b[0m\u001b[1;33m\u001b[0m\u001b[0m\n\u001b[0;32m     19\u001b[0m             \u001b[1;32mraise\u001b[0m \u001b[0mRuntimeError\u001b[0m\u001b[1;33m(\u001b[0m\u001b[1;34m\"generator didn't yield\"\u001b[0m\u001b[1;33m)\u001b[0m\u001b[1;33m\u001b[0m\u001b[0m\n",
      "\u001b[1;32m/home/bettyjo/yaolun/anaconda/lib/python2.7/site-packages/astropy/utils/data.pyc\u001b[0m in \u001b[0;36mget_readable_fileobj\u001b[1;34m(name_or_obj, encoding, cache, show_progress, remote_timeout)\u001b[0m\n\u001b[0;32m    197\u001b[0m             \u001b[0mfileobj\u001b[0m \u001b[1;33m=\u001b[0m \u001b[0mio\u001b[0m\u001b[1;33m.\u001b[0m\u001b[0mFileIO\u001b[0m\u001b[1;33m(\u001b[0m\u001b[0mname_or_obj\u001b[0m\u001b[1;33m,\u001b[0m \u001b[1;34m'r'\u001b[0m\u001b[1;33m)\u001b[0m\u001b[1;33m\u001b[0m\u001b[0m\n\u001b[0;32m    198\u001b[0m         \u001b[1;32melif\u001b[0m \u001b[0msix\u001b[0m\u001b[1;33m.\u001b[0m\u001b[0mPY2\u001b[0m\u001b[1;33m:\u001b[0m\u001b[1;33m\u001b[0m\u001b[0m\n\u001b[1;32m--> 199\u001b[1;33m             \u001b[0mfileobj\u001b[0m \u001b[1;33m=\u001b[0m \u001b[0mopen\u001b[0m\u001b[1;33m(\u001b[0m\u001b[0mname_or_obj\u001b[0m\u001b[1;33m,\u001b[0m \u001b[1;34m'rb'\u001b[0m\u001b[1;33m)\u001b[0m\u001b[1;33m\u001b[0m\u001b[0m\n\u001b[0m\u001b[0;32m    200\u001b[0m         \u001b[0mclose_fds\u001b[0m\u001b[1;33m.\u001b[0m\u001b[0mappend\u001b[0m\u001b[1;33m(\u001b[0m\u001b[0mfileobj\u001b[0m\u001b[1;33m)\u001b[0m\u001b[1;33m\u001b[0m\u001b[0m\n\u001b[0;32m    201\u001b[0m     \u001b[1;32melse\u001b[0m\u001b[1;33m:\u001b[0m\u001b[1;33m\u001b[0m\u001b[0m\n",
      "\u001b[1;31mIOError\u001b[0m: [Errno 2] No such file or directory: '/Users/yaolun/test/radmc3d_apertest/dustkappa_oh5_extended.inp'"
=======
     "name": "stdout",
     "output_type": "stream",
     "text": [
      "  abs   \n",
      "--------\n",
      "0.158421\n",
      " 0.21258\n",
      "  0.2368\n",
      "0.414036\n",
      "0.899013\n",
      "1.370121\n",
      "2.570035\n",
      "5.039672\n",
      "10.09998\n",
      "21.70531\n",
      "     ...\n",
      "17742.34\n",
      "21058.37\n",
      "25217.44\n",
      "31081.31\n",
      "36902.56\n",
      " 41486.8\n",
      "44168.73\n",
      "45863.13\n",
      "62089.86\n",
      "75634.66\n",
      "83804.16\n",
      "Length = 82 rows\n"
>>>>>>> 4a1f843a4da19ab60e52b722ee1b39e328e13ea2
     ]
    }
   ],
   "source": [
<<<<<<< HEAD
    "mytable = ascii.read('/home/bettyjo/yaolun/ramdc_simulation/dustkappa_oh5_extended.inp',data_start=2,header_start=None,\\\n",
    "                    names=['wave','abs','scat','g'])"
=======
    "print mytable['abs']"
   ]
  },
  {
   "cell_type": "code",
   "execution_count": 27,
   "metadata": {
    "collapsed": false
   },
   "outputs": [
    {
     "data": {
      "text/plain": [
       "[<matplotlib.lines.Line2D at 0x109024910>]"
      ]
     },
     "execution_count": 27,
     "metadata": {},
     "output_type": "execute_result"
    },
    {
     "data": {
      "image/png": [
       "iVBORw0KGgoAAAANSUhEUgAAAd4AAAFvCAYAAADkCKoTAAAABHNCSVQICAgIfAhkiAAAAAlwSFlz\n",
       "AAALEgAACxIB0t1+/AAAIABJREFUeJzt3XeYVdX1xvHvS1FULBi7YkWxBhVrbGAjsVfssQRNDKYp\n",
       "P6MxRmISY2KPNSomKhq72FCwgMbEElSwG0s0WGKi2FCQtn5/7IsMw8xwZ+6959zyfp6H55k559y9\n",
       "F2Myi73P3msrIjAzM7NsdMo7ADMzs0bixGtmZpYhJ14zM7MMOfGamZllyInXzMwsQ068ZmZmGSo5\n",
       "8UraRNJBknqWIyAzM7N61qWUD0s6HOgVEaeWKR4zM7O6po4W0JC0MnBnRGxY3pDMzMzqVylTzQcB\n",
       "H0r6maRRklYvV1BmZmb1qpSp5tWASyPiFkmvAScBx8y+Kcm1KM3MrOFEhNq6X0ri/aTJ168Ah7e3\n",
       "c0skDY2IoXnHUe38cyqOf07F88+qOP45Fa+YQWcpU80PAhsVvu4BTCihLTMzs4bQ4cQbEaOBBSUd\n",
       "BmwJ/L5sUZmZmdWpkrYTRcSQcgXS4MbmHUCNGJt3ADVibN4B1JCxeQdQI8bmHUA96fB2ovk2LIXf\n",
       "8ZqZWSMpJve5ZKSZmVmGnHjNzMwy5MRrZmaWISdeMzOzDDnxmpmZZciJ18zMLENOvGZmZhly4jUz\n",
       "M8uQE6+ZmVmGnHjNzMwy5MRrZmaWISdeMzOzDDnxmpmZZciJ18zMLENOvGZmZhly4s2T1Alpb6TO\n",
       "eYdiZmbZcOLNVwBDgG/nHYiZmWVDEVGZhqWICFWk8XoibQ7cBvQmYnLe4ZiZWccVk/s84s1bxBPA\n",
       "WODEnCMxM7MMeMRbDaSVgWeADYmYmHc4ZmbWMR7x1oqIfwOXAmfkHYqZmVWWR7zVQuoO/BPYk4h/\n",
       "5B2OmZm1n0e8tSQtrDoVuADJ/13MzOqUf8FXlz+R/psclXcgZmZWGZ5qrjZSH+B+YH0i/pt3OGZm\n",
       "Vrxicp8TbzWSzgaWIcKFNczMaojf8dauocB2SNvPdVVaGcn/mDEzq2FOvNUoLbT6AXAp0mJIByP9\n",
       "FXgLGJBvcGZmVgpPNVczaQSwM/A30j7fPkB3Ik7INS4zM2tRMbmvS1bBWIccAXyNiNcBkN4FLssz\n",
       "IDMzK41HvLVE6gJ8AKzlFc9mZtXHi6vqTcQM4GFg+/k9amZm1alsiVep5KFV3gPAjnkHYWZmHVNS\n",
       "4pX0C0mvSnoBcOLNxgPATt5WZGZWmzq8uErSIkA3YP2I+LJ8Idl8vEz677YG8FrOsZiZWTuVMuJd\n",
       "C9gIeEfSkWWKx+YnrYbzdLOZWY0qeVWzpLWBB4G+EfGfJtcD+GWTR8dGxNiSOrNEOox0fOB+eYdi\n",
       "ZtbIJPUD+jW5dFomtZolXQBcHxFPNLnm7USVIq0APEeq5zwz73DMzCyp6HYiSQs2+XZB4MWOttVo\n",
       "JJYuqYGId4H3gQ3LEpCZmWWmlHe8v5Z0k6RDgeER8Vm5gqpnEgLukbhOYpkSmvJ7XjOzGuTKVTmQ\n",
       "WAQ4jVQS8hTg6gimtbORPYAfELFT2QM0M7MO8Xm8VU6iD3Aeacr4LuBm4P4I5r89S1oMeAdYjojP\n",
       "KxmnmZkVxyUjq1wEEyLYHtgAGAecCPxH4lqJPSW6tfHhTwuf6Z9JsGZmVhYe8VYZieWBfYD9SPuk\n",
       "R5JGwvdFMKXZwycCqxAxOOs4zcxsXp5qrnESywJ7k5LwJsA9wMkR/LvwwPqkKerVqdR/SDMzK5qn\n",
       "mmtcBO9HcFkEOwJrkspFPiVxVGF19Auk8pG984zTzMyK5xFvjZH4OnA1aWHV0YGGAq8QcW6ugZmZ\n",
       "mUe89SiCZ4HNgaeB8Rfww8kB38o5LDMzK5JHvDVMYpPF+Xj4eyy/xrFcuuaf44g3847JzKyRecRb\n",
       "5yIY9wlLbPgmq747me5PS+wj0TnvuMzMrHUe8dYD6YTXWX3rXry+OrA68AzwFOnUqFERTM81PjOz\n",
       "BuHtRI1CWhe4F1hVxBLAxsCmwO5AL+B64M8RTMgvSDOz+ufE2ygkAf8CdiXihblv0Qv4Nqku9H+A\n",
       "K4AbIvChFmZmZebE20ikS4GJwAhg/cKft4BriZhWePc7ABhEKjN5KykJPxmBi2+YmZWBE28jkb5J\n",
       "Ki/5GvA8qbjG5qTCG78BriZienqU5Ugj4KOBz4DLgOs8CjYzK40Tb6ORus5Ork2ubQUMBdYA9ifi\n",
       "qTm36ATsAHwP2B64EfhjBM9kFbKZWT1x4rU5pP2Ai4E9iXh83tusABwFHAO8RxoF3xjBF5nGaWZW\n",
       "w5x4bW7SLsCfgf2IeKTlR+hMqoT1XWBL4E/AxRG8mVGUZmY1ywU0bG4RI4GDgFuQdmz5EWZGcHcE\n",
       "uwObAQLGSdwu0b9wOIOZmXWQR7yNSNqGtKr5O0TcNf/HWQQ4FPghMAv4A2kxlqehzcya8FSztU7a\n",
       "lHSW7w+JuKm4jyDSIqwfAlsBV5Gmod+qWJxmZjXEU83Wuoh/ADsD5yMdWdxHiAgejGBP0jR0F+Bp\n",
       "T0ObmRXPI95GJ/UG7gd+R8TF7f843ZkzDT0TuBAY7mloM2tEnmq24kirAg8BFxFxbseamGca2quh\n",
       "zazheKrZihPxJrAd8D2kn3WsiXmmoWevhr5bYneJLuUL2MysdnnEa3NIy5OOErwZGEqJ/+OQWBgY\n",
       "SNoT3BMYBgyL4N+lhmpmVo084rX2iXgP6AfsAxxXenN8EcGfI9gS2AVYEnimMArew6NgM2tEHvHa\n",
       "vKTVgceBXYgYV96m5xoFrwScR6oP/Xk5+zEzy4NHvNYxEW8Ag4EbkRYvb9NzjYL3IpWl/JfEzyWW\n",
       "KGdfZmbVyInXWhZxMzAKuBKpIjMXETwVwf6khV29gNclfiuxbCX6MzOrBk681pbjSQnxe5XsJIKX\n",
       "IjgC6AssBrwk8QeJlSvZr5lZHpx4rXURU0nvY3+JtF3lu+PNCAYD6wFTSQuxhkmsVem+zcyy4sRr\n",
       "bYt4FTgQuBlp42y65L0ITgTWBP4N/E3iBomvZ9G/mVklOfHa/EU8RFqFfA9SZqPPCCZF8EtgdWAc\n",
       "MEriVok+WcVgZlZuTrxWnIjbgVOA0Ug9s+2azyI4G1gDeBS4T+I2iQ2zjMPMrBxKTryS+kq6tBzB\n",
       "WJWLuAq4CHgAaaXsu+eLCM4jJeBHgJESt0iskXUsZmYdVVLilbQEqdJRt7JEY9Uv4mzgSuCRwuEK\n",
       "OYTAFxGcT0rATwNPSJwlUdY9x2ZmlVDqiHdf4NZyBGI1JOIs4FzgYaQ18wuDKRGcAawP9ABekTjW\n",
       "pSjNrJp1+BeUpP2A20n7Llt7ZmiTb8dGxNiO9mdVJuIipCnAWKRdiRifXyj8BxhUWHR1PnC4xEAf\n",
       "xmBmlSapH2nmt/jPdLRWs6S7genAwsDawPkRcV6T+67V3AikgaT3vn8CTici15rLEp2AIcAJwFER\n",
       "3JNnPGbWWIrJfSUfkiBpFWBoRBzZ3s6tTkjLkqaetwKOI+LunCNCYmvgL8Bw4NQIZuQckpk1AB+S\n",
       "YNmIeJ+IQ4CjgXORRiKtl29IPApsXPjzkMQKecZjZjZbyYk3It5qPtq1BhVxP2mh02hgDNJlhdFw\n",
       "TuHwP+BbwP3AOImKl700M5sfj3itvCKmEXE+6b3/58BLSBfkuPVoVgS/Ao4AbpQYIlGeVyBSH9Ii\n",
       "QzOzojnxWmVETCLiBGAD0oEHTyH9BakfUub7viMYDWwOHADcLLW+Gr8o0ibAGNIJTmZmRXPitcqK\n",
       "eIeInwKrkeotnwV8gPQo0plIByJtjLRo5UPhLWBr4APgSYl1OtLOYbr24il0ewAYCmRewcvMalvJ\n",
       "q5pbbdirmq01UnfS6HNr0jvhtUgnEU0ijSJHAqOJ+LByIXAU8Ftg38JCrGI/uOWHLPnXQVz5+Rj6\n",
       "/+hjelwOLETEzErFama1I5PtRKV0bvYVqRNpVLwTaUFUf1I5yLOAkVTgf6gSO5O2Gx0bUUQFNmlB\n",
       "4N3duKvbPew2FFg/0DeBDYl4r9zxmVntceK12pWS3D7AycBM4AzgtnKPLCU2Au4Gzozgwvk8vM5M\n",
       "Ot3dhZnLkirVXBVoBnAMEePKGZeZ1Sbv47XaFfElEX8B+gC/IFWiegbpm0hl+wddBM+QCn8Mlvh9\n",
       "ofJVa9b8lMXeASYCzwNrzqDzu/g9r5m1gxOvVbeIIOIuYEvgVFIt5vuRNipfF7xJSr5bA1dKdG7l\n",
       "0V4T6fkRMDGCqcBrb7PSFGDFcsViZvXPiddqQ0rAd5C2J90CjES6GWnD8jTPh8DOwCrAcImuLTy2\n",
       "5vOs/wVpxAvwzPOs3xknXjNrBydeqy0R04m4DOgFPEZKwHcifQOptZFqkU0zGdiNdOLWTRILNnuk\n",
       "1xNsHsxJvOOfZuPF8FSzmbWDzy212pROQToX6RLgO8CVwEpI/yAl5NdJJ2ctCnQvfH8vEf9pu1mm\n",
       "SOxNOmBhhMQ+EUwp3F7z73zjU/jquMHx49nwSChTJSwzawge8Vpti5hKxMVErEvajnQOEKTtSOsB\n",
       "PUjHV36LVL5yHNJphVXTrTTJNFKFq0nAPRLdC88vP4E+PZgz4p3wCr1XC494zawdvJ3IGofUlTmL\n",
       "tJ4tlLRs43E6k0bSqz7H+sevzws3iQDYPYKXARbXJ29/RI8enYjuldhrbGa1xduJzJpK74cfIY1m\n",
       "90f6ZtuPMxMYBLx9NkOu+g/Lfggsx5wRL5+y+PiZdBaweAUjN7M64sRrjSdiEnAYcBXScm0/ykzg\n",
       "yPV5nlvYry9wQASfN3lkwiSW/ByvbDazIjnxWmOKeBgYBlxdKFfZxqPM+AnnPbEHdw6NYGSz2xMm\n",
       "0jPwe14zK5ITrzWyX5JWPc/3aL/OzFpjZSY+1cKt8a+y5kJ4xGtmRXLitcYVMQM4BPgZ0pLzeXpN\n",
       "4NUWrr8+kZ6d3mC1PmWPr9ykrkhbIpV2FrGZlcSJ1xpbxL+AO4FjW31G6kZaVPXWvB9nZjemPvJP\n",
       "1tqhYjG2g0R/iVWaXFgI6Vik24H/AbcC5+YVn5k58ZoBnA0cV0iwLVkN+HdhhDyPrfjbDUBviaUq\n",
       "FWA7PAS8KfFziS2v4+Bh/6bnaTcy8FXSucdrA7sgbZpvmGaNy4nXLOJ54BnSSueWrAm81trH+/L0\n",
       "c+vxwkekGs8lla0sReFkpc9JxUKWBi5ZgGlbjGbnpw/kxkNE9CbiU9JRixfOb1GZmVWGC2iYAUj9\n",
       "gUuBdYmY1eze8cAqRPyolc8uE/BiJ+I54O8RnFLpcFsOg17AAxGs2uTiQ8DvRCwDfA/YOpCAvwF/\n",
       "JOLPOYRqVrdcQMOseGOBycDuLdxrbWHVbB8IFt2J0d8GDpU4oALxFWMj4Nlm19YGXgKuJx3+sHvh\n",
       "HxY/AM5AcuEPs4w58ZoBhXKPZwH/18LdXrQx1VxIZO+OZsACwF7AuRK/kTI/hGQHYMxX36Wkujjw\n",
       "dqEQyM+AMyQ6EzEOuAf4RcYxmjU8J16zOW4FVkTastn1+Y14Ad4BVozgGWBjoC/wsMTq5Q9zXhIC\n",
       "BgCjm1zuDbzSZOr8buBj4KjC96cAhyGtl0WMZpY48ZrNllYtn0k6bjCNVtvYStTM2xSqV0XwPrAL\n",
       "cBvwpMTgwsKnSuoFdAVebHJtHUiHORTiCuD7pFFvTyL+CwwFLkHyegyzjDjxms3tCuAz0glGMJ+t\n",
       "RE28Q5PqVRHMiuAcYGvgUNLod+MKxDvbAGB0IbnONvv97lcieBb4A3BFYZT8R2ARWl/RbWZl5sRr\n",
       "1lSalj0c+C7S1hQ3zQxNRrxzN8fLpOR7DTBS4iqJ7mWMeLb9SYVAmlqbJiPeJs4kbTc6ioiZpNXO\n",
       "v0PqUYG4zKwZJ16z5iLeA44BhgOb0NbCqjnmGvHO3RwzI7iC9M61K3CPxCJlihaJ1UjTys0PcGgx\n",
       "8UYwHTgCOFNi/cJCq9uA3zRpczGJQyRuk3hQ8rGHZuXixGvWkog7SYnsZEoY8c7dJJ+QRtNvAHdJ\n",
       "LFxqmAXfBm6IYNpXV6SupGnyFmOP4DnS4RAjJJYEfg7sjbSZxNdJ74oPIo2iXwNuyGGVtlldcuI1\n",
       "a90QYDzQ0qlEzbU64m0qglnAIGAiMLZQ9AIAiVUlOrLC+ADgumbX1gDeJmJqG7FcC4wAbhLxGXDi\n",
       "pyz6l0X59EHg+Ah2i+DPwHFAF+CcDsRmZs048Zq1JuILYDMiHivi6feAZZHmWzKysKf2SOBa4DGJ\n",
       "kyRuA8YB90mMK6yEnu8ZvxLLk1Zdj2t2q7X3u839lFRmcnInZp52B3uu8CLrvhLolibxTie9Qx4g\n",
       "cWgRbZpZG5x4zdpSbE3ViGnAJGDZ4h5nVgQXAv2ATUmHG6xa+PMzYEtgvMQEie8UViC3pD/wcCGZ\n",
       "N1VU4i28f94T6BF02uUcTlhnJd6ZSZP3vYXnPgYOBs6Rivs7mlnLOlyrWakqzi+B9YDREXFWs/uu\n",
       "1WyNRRoHfJ+IJ8vTHJ1JCfgy4DHguAi+bPbMFcBzEfyh2YevBh4hYlgHOl4KeAL4JRHXNOvvt0Cv\n",
       "CPZvd7tmDaDStZpXj4gfAzsX/pg1uqLe886XJKS9Iv27+FFS8u0BPCqx2+wTkCSWAXYkjZabK3aq\n",
       "eV4RH5BqVp+N9I1md38JbCCxb4faNrOOJ96IeKbw5VakogNmje410lm3pc70DABuBw4BiOAz0jvW\n",
       "C0mFPd6QGA/8E3gUeGGuT6f+O554U6cvAkcDVzc9pziCqaT305dIrNLh9s0aWEnHAkpajVTvdQug\n",
       "b0R82eSep5qtsUhLAI8A1xHxuw620Ym0ivpBYCDQm4gpcz/ChsDCwJMRzFtRS1oeeJaIpTsUw9xt\n",
       "3QK8RMSpc19mCOkfA9s2n/42a2TF5L6ynMcraRhwaaSN+F91TpqWmm1sRIwtuTOzaiatQDrr9nQi\n",
       "/tSBzx8AnABsDtwMPEXEb9vZxvbAUCK2bXf/87a1AjAB2K4wCi5cRqSiG29H8IOS+zGrUZL6kRZJ\n",
       "znZaVon3HODXEfFRk2se8VpjknqTzvc9GrgXWBlYC5hGxJg2Pjf7kINjiXgAqRfwOLBu4UCDYvv/\n",
       "PrAhEcd09K/QrL3BwIGk5DtrzmWWIG1j+nkEN5SlL7MaV9HFVZKGShomaRdgZNOka9bQIl4B9iTt\n",
       "051MSsJDgFuQ1mrjk0cCbxHxQKGd10hlK09rZwSlvd+d12XAAoX4vlLYYrQ/cKHE2mXpSeqCtEXT\n",
       "98pm9aYsI94WG/aI1xpdOnTgy0IhDpBOAdYhYt4iFNJCpPKO+8y1HUn6GimJbkNEcclUGg2cR8S9\n",
       "Jf4NmrbZB7gf2ICI9+e+xSDgx8DmEXzegbYXIv1DZXfgm4CA33X4PblZjjJ7x9vRzs0airQYaeXz\n",
       "dkS81OzeT4HNidinhc8NAbYlYo8i+5lYeP5fpYbcrN3fAH2A3ZsWFim87/0T6QCIQ5sdTTi/NgXc\n",
       "CixFKnt5N2nr1APAas0XlplVOydes2ojnQT0IeKgJte2BW4BtiJi3kMN0rTrS8ARRDw8n/aXAN4F\n",
       "Fi0c+Vc+0gLA34FhRFw69y0WJm1tujaC89rR5sGkSl19abIrAmkE8AARF5UhcrPMOPGaVRupO/A6\n",
       "sAMRzyOtCfwVOIyI+9v43MGk6dwtmi5wauG5k0gLqw4sa9xz2u9NSrDzTH0X9vU+Thr1PlhEW8uT\n",
       "DqHYhYinmt3bjLSqe81COU6zmlDpylVm1l4Rk4GzgNMK72/vAU5tM+kmN5D+/zqw1SekRUlH/Z1e\n",
       "nmBbkBaO/Ry4rjACbnKLt0j1nK+TWLXNdtIU8+XAH+dJuqmxJ0kFQg4pS9xmVcQjXrOsSQuTRr3v\n",
       "A/cT8X9Ffq4fcBVpgda8RSukk0mLnw4uW6wtxyHgDtKir582P0hC4kekFdDfiOCLVto4HPgJ6fSn\n",
       "lke06e97OenvW95pc7MK8VSzWbWSBgHbAYe3OXU87+fuAh4i4rxm1xclJfN5F25VgrQMaZvUROAn\n",
       "LRTX+DNpC9LB8yy2ShXvngB2ImJCG32IVIzkfCJuKu9fwKwynHjN6o20Linh9abp3vk02l2fiOym\n",
       "ZlPBj++Tpp6vJ51mNCndYiHSu+uRwNAIZhU+swRpgdYlRS2cknYFzgA29qjXaoHf8ZrVmzSyvBkY\n",
       "i7QfUqfCNqWfAL/KOJbpRFwArEsa3b6JdB/S9wMtRdqbuyMwSmLFwjvhW4HR7VitPBL4GPhRBf4G\n",
       "ZrnwiNes1qQp2N1II83FSKcTfZnpaLfluBYlHRG6J7AL8NwUuv1hCT7eYDpdBz/L159fnxc+B/Zu\n",
       "1+hVWoM0Nb110UVEzHLiqWazepYS8I6k6d4TW9wDnJc0Db0/aSTe4x1WeG0SS/brx9hbJ/G1wYVy\n",
       "k+1pbzBwGGmvs6ecrWo58ZpZvtI/DrYC9h3Fzhd9k1FDgENJhys8QCoM8hZpkdYHX70LnredToXn\n",
       "7yPi91mEbtYRTrxmVnUkupNWdPcHegGrAD2BRUkJ+FfANS2shl6VlLC3bbqK2qyaOPGaWc2Q6AZs\n",
       "BFwIfAYMiuD1Zg99FxgEbEnEjMyDNJsPr2o2s5oRwdQIHgM2J51j/IDEMs0eu5y0yrm4oiNmVcgj\n",
       "XjOrShK/ArYHdohgapMbq5CmnPsT8XxO4Zm1yFPNZlazJDqRalRPAw6b652vdDTwXdKU8/R8IjSb\n",
       "l6eazaxmFVY4HwGsBZzS7PaVwIfAiRmHZVYyj3jNrKpJLE8qoDEkgpua3OgJPE06YvHZnMIzm4tH\n",
       "vGZW8yJ4D9gDuFhiiyY3JgJDgBuQFskpPLN284jXzGqCxK6kYxEHRDC+cFHA1cAMIo7KMTwzwCNe\n",
       "M6sjEdwDDAbulVivcDFIJTO3RDosx/DMitYl7wDMzIoVwS0SCwKjJfpH8E8iJiMdADyI9A8fpGDV\n",
       "ziNeM6spEVwHnEoqsLF64eKzpJXPNyF1yzE8s/ly4jWzmhPBVcCZwIMSPQuXrwDeBw7ILTCzIjjx\n",
       "mllNiuASUl3nBySWLbzvvQA4Lt/IzNrmxGtmNSuCc4HrSe98e5BqPH8NabN8IzNrnROvmdW600ln\n",
       "9d4rYmHgUtLqZ7Oq5MRrZjWtUMN5CPAccMd9DLgO2ANp6XwjM2uZC2iYWV2Q6AwMB7pPp8uHXZj5\n",
       "MhFn5h2XNRYX0DCzhhHBTODbALtyz3IB30PqnHNYZvNw4jWzuhHBdGDgaAZ0e41eC82k0655x2TW\n",
       "nBOvmdWVCKYAe5zPjz9/mbXPzzses+aceM2s7kTw6Zusus3yvLfytnrkt3nHY9aUE6+Z1aV7Ytd3\n",
       "ZtHp6t2563sSx+Qdj9lsHV7VLGkx4DJgc+CRiDiy2X2vajazfElfn06XUQsxZdZMuvwoglvyDsnq\n",
       "W6VXNe8EHAmsDfSVtGkJbZmZlV/Es12ZMfEmBp4BXCKxdd4hmZWSeO+MiC8jYjrwIvBhmWIyMyun\n",
       "Yftwe3/gMOAWid55B2SNrcOJt5BwUTqC6+2IeKNsUZmZlc8NwI6BngFOBu6VWDbnmKyBdSlDGwOB\n",
       "X7R0Q9LQJt+OjYixZejPzKx4EZ8gjQAOi+AciVWAuyX6RfB53uFZbZPUD+jXrs+UUjJS0q7AExHx\n",
       "gaSeETGxyT0vrjKz6iBtA1wOrCsC4CpgKWDvCGbkGZrVl4ourpJ0EOkUkDGSXgRcIcbMqtWjpN93\n",
       "WxYOVTgG6ArcINEt18is4fiQBDNrDNIQYEsi9k3fsiBwNbACsFcEk/IMz+qDD0kwM5vjYqAP6RUZ\n",
       "EXwJHAw8CTwqsXKewVnjcOI1s8YQMQX4HnAxUvd0iVkRDCG9//2bRJ88Q7TG4KlmM2ss0jXA/4g4\n",
       "Ye7LDAQuAg6IYEwusVnNKyb3OfGaWWORlgaeB75FxNNz36IfcBMwKII7c4jOapzf8ZqZNRfxP+Cn\n",
       "wOVIXea+xVjSDo3LJQ7OITprAE68ZtaIrgY+An6HNNfoJIJ/ADsAv5c4No/grL6Vo3KVmVltiQik\n",
       "A4BHgP8Cv5v7Ni9IbAvcL7F4BGfmEabVJydeM2tMEZOQBgCPIn1IxJVz3+YNiW1IyXcJ4ORC8Q2z\n",
       "knhxlZk1Nmkt4GHgOGAkqaJVF+BzIr6UWAq4FxgHDI5gVm6xWtXzqmYzs2JIGwP3AYsCM4BZwPNE\n",
       "bJVusxhwJ/AOcEQE0/MK1aqbE6+ZWUdInUlJdhsiXk2XWIi01QhgYART8grPqpe3E5mZdUTETOBW\n",
       "YP85l5gC7AN8thlPjD1AN/bIKzyrbU68ZmYtuxE4oOmFCKa/TO/jxtJvo70Y8bzEIjnFZjXMidfM\n",
       "rGV/A5ZGWrvpxd78c1A3pt6zLY90P4GznyxMQZsVze94zcxaI/2BVNf5V4XvFwDeAHb/hMWmixi3\n",
       "FyOeHsP220cwNc9QrTr4Ha+ZWWluBAY2+X4g8E8inlk8Pnm+K9MP+wsH9VmRt++QWCCnGK3GOPGa\n",
       "mbXuMaAH0rqF0pInAOfMvrlQTLl5SSZdMoK9NuzEzJskuuYWqdUMJ14zs9ZEzAJuJo10+wPdSMU0\n",
       "vtKVGSdvzNOv/paT1wRullgw+0Ctlvgdr5lZW6QtgKuAfwEjiLiihWdWC3iyH2PHP8J204B9/c63\n",
       "MbmAhplZqdIU85uk0e4qRLScUKXDZ6Ehi/PJi5NZtAewVwRfZBeoVQMnXjOzcpBOAqYQcUEbzwi4\n",
       "eQad/92VGUsBPYHdI5icUZRWBZx4zcyyJH0NmDCFbkcuzJQDgd7ALhF8mnNklhFvJzIzy1LEh8Dh\n",
       "CzF1+BS6/RF4FhhdOFbQDHDiNTMrr4gHgUHd+PKu6XT5M/A48IDEkvkGZtXCidfMrNwi7gK+04WZ\n",
       "d0+ny/XAWOBBia/lG5hVAydeM7NKiLgbOKoLM++aTpcbgVHAGImlc47MctYl7wDMzOpWxN1Ig7ow\n",
       "865pdN1+AaZPJyXfHSJ4P+/wLB9OvGZmlRRxF9KQrswYFWgbETOAsRLbR/Be3uFZ9px4zcwqLWI4\n",
       "Ug/g/kLyncmc5PtO3uFZtpx4zcyyEHFhIfmODnRQk5Fv/wjezjs8y44XV5mZZedXwOXAmECr9WH8\n",
       "9cDDEqvkHJdlyInXzCwrEUHERaSKVp+NZ6PjbmPvV7rz2cMSq+UdnmXDidfMLGsRHxExBNh0b0Z8\n",
       "+i4rLDFvl7+HAAAPvUlEQVSYi/6xot5ZK+/QrPJKrtUsaQPghUjnVja97lrNZmbFkDb7Nz2v+4KF\n",
       "V3mXFY7bnjFXUKlC+lZRFa/VrHRO5WN4kZaZWcdFPLkyE9e6nb3/uALvXjyZRcYhbZt3WFYZ5Rjx\n",
       "/gvoHRHTml33iNfMrJ26aepRhzL87IsZ/MWCTHsO+B3wsEfAtcGnE5mZ1Zip0e2qYQz60WJ82mkc\n",
       "ff8BXAI8h/R9pEXzjs9K5xGvmVkVkjgYOHsBvtzuS7qtBAwGtgduAi4n4ulcA7QWFZP7KvpuVtLQ\n",
       "Jt+OjYixlezPzKxeRHC9xCLTWHCUiK0i2A9pReBI4Hak/5L2BN9AxGf5Rtu4JPUD+rXrM2Ua8a4d\n",
       "EV82u+4Rr5lZiSROAQYC20XwceFiZ2AAcDTpl/7NpCT8lN8F5yuLVc2bAEsDO5XSjpmZteoM4GHg\n",
       "TomFAIiYScRIIvYG1gPeIiXfV5DOQeqP1DW3iK1NJY94W23YI14zs7KQ6AQMBxYG9otgRgsPCdgI\n",
       "2L3wZ3XgAeA+YBQRPowhA8XkPideM7MaILEAcBfwNjAogrZ/eUvLk6ajv0malXwXuJ+UjB8hYnJF\n",
       "A25QTrxmZnVEojvwIPBgBD9rxwe7AJsAOwA7ApsCT5MS8WhgHBEzyx5wA3LiNTOrMxJLAY8Cl0Vw\n",
       "fgcbWRjYBti58GdFUkIfRZqWnlieaBuPE6+ZWR2SWJmUfE+O4LoyNLgCaTp6ACkRvw/cQ5rafoyI\n",
       "ed8pW4uceM3M6pTEesBDwBER3FvGhjsDfYHdgD2AlYCRpCQ8iohPy9ZXHXLiNTOrYxJbAncCu0Xw\n",
       "RIU66cmcldJbAY8DtwG3EvG/ivRZw5x4zczqnMQuwFVA/wheqnBni5KmpPcDdiEl4RuA24n4pKJ9\n",
       "1wgnXjOzBiBxGPBrYOsIslkYJS0C7AocBPQnLcwaTpqOntbWR+uZE6+ZWYOQOIFUx3nrr0pLZtf5\n",
       "ksD+wKHAWqQR+GVEvJVpHFXAxwKamTWOc0n7ckdIdMu054hJRPyRiG1I25S6AU8j3YG0Xaax1ACP\n",
       "eM3M6kShtOQNQAAHRTArx2AWAQ4GTgb+CZxExPjc4smIR7xmZg2kkGi/DSwHnJ1zMJ8TcQWwNnA3\n",
       "cC/SdUgr5RpXFXDiNTOrIxFMBfYCBkgcn3c8REwj4iJgTeB10hT0gTlHlStPNZuZ1SGJnsDfgSER\n",
       "3Jh3PF9Jx8kOB54CBhOR7UKwCvNUs5lZgypsK9oVuFCiX87hzBExDtgY+AiYgPT1nCPKnEe8ZmZ1\n",
       "TGJ74C/ADhE8n3c8c5EOAC4EDiTiobzDKQePeM3MGlwEDwE/BkZKVNfCpogbgQOAGxrpvW+XvAMw\n",
       "M7PKiuAvhaR7r8Q2mRfYaEvEGKQdgJFIyxJxQd4hVZqnms3MGoCEgPOBPsCACL7MOaS5SSsDY4Ez\n",
       "ibg852g6zCUjzczsKxKdgRuBGcDBuRbYaIm0BvAIcHxhGrrm+B2vmZl9JYKZpHrKywOXFypdVY+I\n",
       "14FvAX9A+lbe4VRKdf3QzcysogoFNnYlHWZwZRUm32dJBUCuQdoq73Aqobp+4GZmVnERTCadp7s6\n",
       "MKwwBV09Ih4DDgNuQVol73DKzYnXzKwBFZLvrsAqwFVVmHzvA34P3IHUPe9wysmLq8zMGpjEwsBd\n",
       "wLvAEYX3wNVBEjAMWAwYSER1LQZrgRdXmZlZmyL4AtiddKLRNVIV1XdII8NjgRWAU3OOpmyceM3M\n",
       "Glwh+e4BLE31Jd8vgX2A7yDtlnc45eCpZjMzA0BiIeB24GPg0Ahm5BzSHNLWwC3AxkS8m3c4rfFU\n",
       "s5mZFS2CKaStPIsD10t0zTmkOSIeBS4BhiNV10KwdnLiNTOzrxT2+e4NLAL8paqSL/wG6AycmHcg\n",
       "pfBUs5mZzUNiQeBWYBpwYATTcg4pkVYCngL2JOLxvMNpzlPNZmbWIYVDFPYlnWJ3c+H9b/4i3ga+\n",
       "C1xfq/t7nXjNzKxFheS7H/A5MFqiR84hJREjSIcpnJF3KB3hxGtmZq0qTDEfCowDHimc61sNjgf2\n",
       "rcV6zh1OvJK6SDpd0l6STlaqMGJmZnWmcHzg8cA1wN8k1sk5JIiYBPwAuAqpOqbBi1TKiPdo4O1I\n",
       "Q/5JwP7lCcnMzKpNBBHBWaQKUmMktsw7JiJuAyYAp+UdSnuUkng3B8YXvp5AKrZtZmZ1LIJrgCOB\n",
       "O6Sq+L3/A+BIpL55B1KsUsqCLQd8Vvh6MrBs8wckDW3y7diIGFtCf2ZmVgUiuFdid1LyPTmCP+UY\n",
       "zPtIJwBXIm1KRKbVtiT1A/q16zMd3ccr6Trggoh4UtIWwHERcWiT+97Ha2ZWxyR6A/cBlwNnRlCZ\n",
       "whDzD0TAg8DtRFyYSwxzQqnoPt5RQJ/C118vfG9mZg0igleArYCDgV9L5DPYSiPIwcAvkJbPJYZ2\n",
       "KCXxXgusLGl/YCVgeHlCMjOzWhHBu8D2pNONhuYYyEvAFcDZucVQJJeMNDOzkkksA4wBbozg9JyC\n",
       "WAR4ATiKiIfyCcElI83MLAMR/Jc08j1I4pScgvgc+BFwCdICucRQBCdeMzMriwjeJyXfwyROyimM\n",
       "O4FXgZ/k1P98earZzMzKSmIFYCxwRaHoRtYB9AIeBzYg4r1su/ZUs5mZZayw4Ko/8F2J43MI4DXg\n",
       "SuDMzPsugke8ZmZWERI9SSPfCyM4P+POFwVeBvYh4onsuvWI18zMchLBRNI73x9J/CDjzj8DTgYu\n",
       "RKqqXFdVwZiZWX2J4C3StPMJEt/PuPvhwCzg2xn32yZPNZuZWcVJrE7a5/ubCC7PsOPNgBFA78Io\n",
       "uMLdearZzMyqQARvkKadfy4xKMOOnwTuh9y2N83DI14zM8uMxJqkke+pmZ1qJK0IPAtsTMRble3K\n",
       "I14zM6siEbwK7EA6VOHwjDp9B7gQ+G0m/c2HR7xmZpY5iXVIR/mdGJHBITupjvMrwH5EPF65bjzi\n",
       "NTOzKhTBS8COwO8lDs6gw8+BnwPnFc7vzY0Tr5mZ5SKCF4GdgXMkDsygy2uABYADMuirVZ5qNjOz\n",
       "XElsAIwGfhjBzRXubDvgamBtIqaWv3lPNZuZWZWL4Dngm8CFEvtWuLOHgQmQcSWtJjziNTOzqiCx\n",
       "IXAfcGwEt1ewo7WBv5JGvR+Wt+n55z4nXjMzqxoSGwP3AsdEcEcFO7oYmE7Ej8vbrBOvmZnVGIm+\n",
       "wEhgUAR3VaiTZYAXgS0KxwiWqVm/4zUzsxoTwVPAbsAwiV0r1Ml/gXPJoaiGR7xmZlaVJDYH7gIO\n",
       "j+DeCnSwMOnM3gOJ+Ht5mvSI18zMalQETwB7AFdLDKhAB18ApwAXZHlmrxOvmZlVrQgeB/YCrq1I\n",
       "8oXrgGnAURVou0WeajYzs6on8Q3SubqHRHB/mRvfiLSSeh0iPiqtKa9qNjOzOiGxDXAbMDCCMWVu\n",
       "/FJgBhElFdZw4jUzs7oi0Q+4Cdg3gr+WseGvQaF2dMSEjjfjxVVmZlZHIhgLHAzcWph+LlfDHwK/\n",
       "AC6s9OlFTrxmZlZTIngA+DYwQmKzMjZ9JbAIcEgZ25yHp5rNzKwmSanIBvCtCJ4uU6NbkN4jr0PE\n",
       "J+3/uN/xmplZHStUtno5gtfL2Ogw4FMiftL+jzrxmpmZtY+0NPACsAMRz7Xvo15cZWZm1j4R/wNO\n",
       "Ay6uxEIrJ14zM7N5XU6FFlqVnHglbViOQMzMzKpGxExgMPB7pMXL2XRJiVfSbqQzE83MzOpLxOOk\n",
       "HHd6OZsteXGVpPciYvkWrntxlZmZ1TZpKVJFq52KqWjlxVVmZmaliPgA+DlwSbmODuxSjkZaI2lo\n",
       "k2/HRsTYSvZnZmZWAcOAQcDhwJ+a3pDUD+jXnsbmO9UsaQBwUgu3jomIVz3VbGZmdU/aBLib+Rwd\n",
       "mEkBDSdeMzNrCNIlAER8v/VHKvyOV9IuwBKS+pbSjpmZWQ04Bdi7MPrtMJeMNDMzK5Z0OHAcsEVh\n",
       "r2+z217VbGZmVk7XAFOAYzragEe8ZmZm7SGtD4wB1ifi/blv+XQiMzOz8pPOApYh4vC5LzvxmpmZ\n",
       "lZ/UHXgJOJSIh+dc9jteMzOz8ouYDPwAuBypW3s+6sRrZmbWEREjgOdIJSWL5qlmMzOzjpKWA54F\n",
       "diTiWU81m5mZVVLEf4CTgWFInYv5iBOvmZlZaa4CPgN+WMzDnmo2MzMrldQLeFzwNW8nMjMzy4LU\n",
       "W/CyE6+ZmVlGvLjKzMysyjjxmpmZZciJ18zMLENOvGZmZhly4jUzM8uQE6+ZmVmGnHjNzMwy5MRr\n",
       "ZmaWISdeMzOzDDnxmpmZZciJ18zMLENOvGZmZhly4jUzM8uQE6+ZmVmGnHjNzMwy5MRrZmaWISde\n",
       "MzOzDDnxmpmZZciJ18zMLENOvGZmZhly4jUzM8uQE28VkNQv7xhqgX9OxfHPqXj+WRXHP6fy6lDi\n",
       "ldRT0u2S3pL063IH1YD65R1AjeiXdwA1ol/eAdSQfnkHUCP65R1APenoiHcbYB/g68DRkpYuX0hm\n",
       "Zmb1q6OJ9+ZIPgFeAj4vY0xmZmZ1SxHR8Q9LywDfi4jTW7jX8YbNzMxqVESorfttJl5JA4CTWrh1\n",
       "DPAaMAi4MkrJ3mZmZg2kwyNeSQOBOyNiqqSeETGxvKGZmZnVn46uav4pcCbwD0mvkBZZmZmZ2XyU\n",
       "9I7Xyk/ShhExPu84rHZJ2gB4ISJm5R2Lmc2rogU0vN+3fSTtBozMO45qI6mLpNMl7SXpZEltLlxo\n",
       "ZJK2AB4DuuQdSzWTtJik6yW9LulPecdTrSQtLul8SfdL+r+846l2kvpKunR+z1W6cpX3+7ZDRNwN\n",
       "OKnM62jg7YgYAUwC9s85nqoVEY8D/8s7jhqwE3AksDbQV9KmOcdTrVaPiB8DOxf+WCskLUEqNNJt\n",
       "fs9WOvF6v6+Vw+bA7On3CcCuOcZi9eHOiPgyIqYDLwIf5h1QNYqIZwpfbgVckWcsNWBf4NZiHqxo\n",
       "4i38j3r2ft+HIuKLSvZndWs54LPC15OBZXOMxepAk99N3UizKW/kHFLVkrQacATwC0kL5hxOVZK0\n",
       "H3B7sc+X5T1QEft99wR+VY6+al1bP6uIeDXreGrEh8Ciha+7Ax/kGIvVl4HAL/IOoppFxL+AQZKG\n",
       "ARsA43IOqRodARwCLAysLeknEXFeaw+XJfFGxChgVEv3Cvt9r42I8H7ftn9W1qpRQB/gSdJ6Af/8\n",
       "5s9rBeZD0q7AyIj4wr+bivIx8HreQVSjiNgNQNIqwNC2ki5UflWz9/u2g6RdgCUk9c07lipzLbCy\n",
       "pP2BlYDhOcdTtSRtAixNWjxkrZB0EHApMEbSi3jdQIskDZU0rPC7aWREfJR3TPXA+3jNzMwyVOlV\n",
       "zWZmZtaEE6+ZmVmGnHjNzMwy5MRrZmaWISdeMzOzDDnxmpmZZciJ18zMLENOvGZmZhn6f1BJ0SF2\n",
       "YkMMAAAAAElFTkSuQmCC\n"
      ],
      "text/plain": [
       "<matplotlib.figure.Figure at 0x108ef0550>"
      ]
     },
     "metadata": {},
     "output_type": "display_data"
    }
   ],
   "source": [
    "fig = plt.figure(figsize=(8,6))\n",
    "ax = fig.add_subplot(111)\n",
    "\n",
    "ax.plot(np.log10(mytable['wave']), np.log10(mytable['abs']), color='b')\n",
    "# ax.plot(np.log10(c/hyperion_table['nu']*1e4),np.log10(hyperion_table['chi']), color='b')\n",
    "ax.plot(np.log10(c/emmatable['nu']*1e4), np.log10(emmatable['abs']), color='r')"
>>>>>>> 4a1f843a4da19ab60e52b722ee1b39e328e13ea2
   ]
  },
  {
   "cell_type": "code",
   "execution_count": null,
   "metadata": {
    "collapsed": true
   },
   "outputs": [],
   "source": []
  }
 ],
 "metadata": {
  "kernelspec": {
   "display_name": "Python 2",
   "language": "python",
   "name": "python2"
  },
  "language_info": {
   "codemirror_mode": {
    "name": "ipython",
    "version": 2
   },
   "file_extension": ".py",
   "mimetype": "text/x-python",
   "name": "python",
   "nbconvert_exporter": "python",
   "pygments_lexer": "ipython2",
   "version": "2.7.9"
  }
 },
 "nbformat": 4,
 "nbformat_minor": 0
}
